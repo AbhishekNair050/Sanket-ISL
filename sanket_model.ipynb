{
 "cells": [
  {
   "cell_type": "markdown",
   "metadata": {},
   "source": [
    "## Loading of Dataset"
   ]
  },
  {
   "cell_type": "code",
   "execution_count": 1,
   "metadata": {
    "_cell_guid": "b1076dfc-b9ad-4769-8c92-a6c4dae69d19",
    "_uuid": "8f2839f25d086af736a60e9eeb907d3b93b6e0e5",
    "execution": {
     "iopub.execute_input": "2024-11-03T07:30:21.780786Z",
     "iopub.status.busy": "2024-11-03T07:30:21.780222Z",
     "iopub.status.idle": "2024-11-03T07:30:26.306542Z",
     "shell.execute_reply": "2024-11-03T07:30:26.305650Z",
     "shell.execute_reply.started": "2024-11-03T07:30:21.780749Z"
    },
    "trusted": true
   },
   "outputs": [],
   "source": [
    "import numpy as np\n",
    "dataset= np.load('/kaggle/input/data-preprocessing/final_pose_landmarks_dataset.npy')\n",
    "labels = np.load('/kaggle/input/data-preprocessing/final_pose_landmarks_labels.npy')"
   ]
  },
  {
   "cell_type": "markdown",
   "metadata": {},
   "source": [
    "## Label Encoding"
   ]
  },
  {
   "cell_type": "code",
   "execution_count": 2,
   "metadata": {
    "execution": {
     "iopub.execute_input": "2024-11-03T07:30:26.308792Z",
     "iopub.status.busy": "2024-11-03T07:30:26.308399Z",
     "iopub.status.idle": "2024-11-03T07:30:28.178846Z",
     "shell.execute_reply": "2024-11-03T07:30:28.177850Z",
     "shell.execute_reply.started": "2024-11-03T07:30:26.308750Z"
    },
    "trusted": true
   },
   "outputs": [],
   "source": [
    "from sklearn.preprocessing import LabelEncoder\n",
    "label_encoder = LabelEncoder()\n",
    "labels = label_encoder.fit_transform(labels)"
   ]
  },
  {
   "cell_type": "code",
   "execution_count": 3,
   "metadata": {
    "execution": {
     "iopub.execute_input": "2024-11-03T07:30:28.180849Z",
     "iopub.status.busy": "2024-11-03T07:30:28.180424Z",
     "iopub.status.idle": "2024-11-03T07:30:28.185780Z",
     "shell.execute_reply": "2024-11-03T07:30:28.184735Z",
     "shell.execute_reply.started": "2024-11-03T07:30:28.180813Z"
    },
    "trusted": true
   },
   "outputs": [],
   "source": [
    "import pickle\n",
    "with open('label_encoder.pkl', 'wb') as file:\n",
    "    pickle.dump(label_encoder, file)"
   ]
  },
  {
   "cell_type": "markdown",
   "metadata": {},
   "source": [
    "## Data Augmentation"
   ]
  },
  {
   "cell_type": "code",
   "execution_count": 4,
   "metadata": {
    "execution": {
     "iopub.execute_input": "2024-11-03T07:30:28.188846Z",
     "iopub.status.busy": "2024-11-03T07:30:28.188464Z",
     "iopub.status.idle": "2024-11-03T07:30:46.033508Z",
     "shell.execute_reply": "2024-11-03T07:30:46.032720Z",
     "shell.execute_reply.started": "2024-11-03T07:30:28.188804Z"
    },
    "trusted": true
   },
   "outputs": [],
   "source": [
    "import numpy as np\n",
    "from sklearn.model_selection import train_test_split\n",
    "from tensorflow.keras.models import Model\n",
    "from tensorflow.keras.layers import Input, LSTM, Dropout, Dense, Attention, Concatenate, RepeatVector, BatchNormalization\n",
    "from tensorflow.keras.optimizers import Adam\n",
    "from tensorflow.keras.callbacks import ModelCheckpoint, ReduceLROnPlateau\n",
    "from sklearn.preprocessing import LabelEncoder\n",
    "import random"
   ]
  },
  {
   "cell_type": "code",
   "execution_count": 5,
   "metadata": {
    "execution": {
     "iopub.execute_input": "2024-11-03T07:30:46.035257Z",
     "iopub.status.busy": "2024-11-03T07:30:46.034711Z",
     "iopub.status.idle": "2024-11-03T07:30:46.177381Z",
     "shell.execute_reply": "2024-11-03T07:30:46.176555Z",
     "shell.execute_reply.started": "2024-11-03T07:30:46.035221Z"
    },
    "trusted": true
   },
   "outputs": [],
   "source": [
    "x_data = np.array(dataset, dtype=np.float32)\n",
    "\n",
    "label_encoder = LabelEncoder()\n",
    "labels = label_encoder.fit_transform(labels)\n",
    "\n",
    "y_data = np.array(labels, dtype=np.int32)\n",
    "\n",
    "def augment_landmarks(data, noise_factor=0.05, scale_factor=0.1, translation_factor=0.1, rotation_angle=10):\n",
    "    augmented_data = []\n",
    "    for sample in data:\n",
    "        noisy_sample = sample + np.random.normal(loc=0.0, scale=noise_factor, size=sample.shape)\n",
    "        scale = 1 + random.uniform(-scale_factor, scale_factor)\n",
    "        scaled_sample = noisy_sample * scale\n",
    "\n",
    "        translation = np.random.uniform(-translation_factor, translation_factor, size=(1, sample.shape[1]))\n",
    "        translated_sample = scaled_sample + translation\n",
    "        angle_rad = np.radians(random.uniform(-rotation_angle, rotation_angle))\n",
    "        rotation_matrix = np.array([[np.cos(angle_rad), -np.sin(angle_rad)],\n",
    "                                    [np.sin(angle_rad), np.cos(angle_rad)]])\n",
    "        \n",
    "        if translated_sample.shape[1] == 3:  \n",
    "            rotated_sample = np.copy(translated_sample)\n",
    "            rotated_sample[:, :2] = np.dot(translated_sample[:, :2], rotation_matrix)\n",
    "        else:\n",
    "            rotated_sample = np.dot(translated_sample, rotation_matrix)\n",
    "\n",
    "        augmented_data.append(rotated_sample)\n",
    "    \n",
    "    return np.array(augmented_data)"
   ]
  },
  {
   "cell_type": "code",
   "execution_count": 6,
   "metadata": {
    "execution": {
     "iopub.execute_input": "2024-11-03T07:30:46.178975Z",
     "iopub.status.busy": "2024-11-03T07:30:46.178609Z",
     "iopub.status.idle": "2024-11-03T07:30:50.780050Z",
     "shell.execute_reply": "2024-11-03T07:30:50.779149Z",
     "shell.execute_reply.started": "2024-11-03T07:30:46.178930Z"
    },
    "trusted": true
   },
   "outputs": [
    {
     "name": "stdout",
     "output_type": "stream",
     "text": [
      "Original x_data shape: (229949, 111, 3)\n",
      "Augmented x_data shape: (68984, 111, 3)\n",
      "Final x_data_augmented shape: (298933, 111, 3)\n",
      "Final y_data_augmented shape: (298933,)\n"
     ]
    }
   ],
   "source": [
    "total_samples = len(x_data)\n",
    "num_augmented_samples = int(0.3 * total_samples)\n",
    "selected_indices = np.random.choice(total_samples, num_augmented_samples, replace=False)\n",
    "\n",
    "augmented_samples = augment_landmarks(x_data[selected_indices])\n",
    "\n",
    "x_data_augmented = np.concatenate([x_data, augmented_samples], axis=0)\n",
    "y_data_augmented = np.concatenate([y_data, y_data[selected_indices]], axis=0)\n",
    "\n",
    "print(\"Original x_data shape:\", x_data.shape)\n",
    "print(\"Augmented x_data shape:\", augmented_samples.shape)\n",
    "print(\"Final x_data_augmented shape:\", x_data_augmented.shape)\n",
    "print(\"Final y_data_augmented shape:\", y_data_augmented.shape)"
   ]
  },
  {
   "cell_type": "markdown",
   "metadata": {},
   "source": [
    "## Train - Test Split"
   ]
  },
  {
   "cell_type": "code",
   "execution_count": 7,
   "metadata": {
    "execution": {
     "iopub.execute_input": "2024-11-03T07:30:50.782110Z",
     "iopub.status.busy": "2024-11-03T07:30:50.781448Z",
     "iopub.status.idle": "2024-11-03T07:30:51.160531Z",
     "shell.execute_reply": "2024-11-03T07:30:51.159640Z",
     "shell.execute_reply.started": "2024-11-03T07:30:50.782056Z"
    },
    "trusted": true
   },
   "outputs": [
    {
     "name": "stdout",
     "output_type": "stream",
     "text": [
      "Number of CLasses - words : 262\n"
     ]
    }
   ],
   "source": [
    "x_train, x_temp, y_train, y_temp = train_test_split(x_data_augmented, y_data_augmented, test_size=0.3, random_state=42)\n",
    "x_val, x_test, y_val, y_test = train_test_split(x_temp, y_temp, test_size=0.5, random_state=42)\n",
    "\n",
    "num_classes = len(np.unique(y_data))\n",
    "print(\"Number of CLasses - words :\",num_classes)"
   ]
  },
  {
   "cell_type": "markdown",
   "metadata": {},
   "source": [
    "## Model Architecture"
   ]
  },
  {
   "cell_type": "code",
   "execution_count": 8,
   "metadata": {
    "execution": {
     "iopub.execute_input": "2024-11-03T07:30:51.162024Z",
     "iopub.status.busy": "2024-11-03T07:30:51.161735Z",
     "iopub.status.idle": "2024-11-03T07:30:53.028204Z",
     "shell.execute_reply": "2024-11-03T07:30:53.027418Z",
     "shell.execute_reply.started": "2024-11-03T07:30:51.161991Z"
    },
    "trusted": true
   },
   "outputs": [],
   "source": [
    "from tensorflow.keras.layers import Input, Conv1D, MaxPooling1D, Bidirectional, LSTM, Dropout, BatchNormalization, Dense\n",
    "input_layer = Input(shape=(x_train.shape[1], x_train.shape[2]))\n",
    "\n",
    "x = Conv1D(filters=128, kernel_size=3, padding='same', activation='relu')(input_layer)\n",
    "x = MaxPooling1D(pool_size=2)(x)\n",
    "x = BatchNormalization()(x)\n",
    "\n",
    "x = Conv1D(filters=256, kernel_size=3, padding='same', activation='relu')(x)\n",
    "x = MaxPooling1D(pool_size=2)(x)\n",
    "x = BatchNormalization()(x)\n",
    "\n",
    "x = Conv1D(filters=512, kernel_size=3, padding='same', activation='relu')(x)\n",
    "x = MaxPooling1D(pool_size=2)(x)\n",
    "x = BatchNormalization()(x)\n",
    "\n",
    "x = Bidirectional(LSTM(256, return_sequences=True))(x)\n",
    "x = Dropout(0.3)(x)\n",
    "x = BatchNormalization()(x)\n",
    "\n",
    "x = Bidirectional(LSTM(256))(x)\n",
    "x = Dropout(0.3)(x)\n",
    "x = BatchNormalization()(x)\n",
    "\n",
    "x = Dense(512, activation='relu')(x)\n",
    "x = Dropout(0.3)(x)\n",
    "x = BatchNormalization()(x)\n",
    "\n",
    "x = Dense(256, activation='relu')(x)\n",
    "x = Dropout(0.3)(x)\n",
    "x = BatchNormalization()(x)\n",
    "\n",
    "output = Dense(num_classes, activation='softmax')(x)\n",
    "\n",
    "model = Model(inputs=input_layer, outputs=output)"
   ]
  },
  {
   "cell_type": "code",
   "execution_count": 9,
   "metadata": {
    "execution": {
     "iopub.execute_input": "2024-11-03T07:30:53.029656Z",
     "iopub.status.busy": "2024-11-03T07:30:53.029327Z",
     "iopub.status.idle": "2024-11-03T07:30:53.075125Z",
     "shell.execute_reply": "2024-11-03T07:30:53.074298Z",
     "shell.execute_reply.started": "2024-11-03T07:30:53.029623Z"
    },
    "trusted": true
   },
   "outputs": [
    {
     "data": {
      "text/html": [
       "<pre style=\"white-space:pre;overflow-x:auto;line-height:normal;font-family:Menlo,'DejaVu Sans Mono',consolas,'Courier New',monospace\"><span style=\"font-weight: bold\">Model: \"functional_1\"</span>\n",
       "</pre>\n"
      ],
      "text/plain": [
       "\u001b[1mModel: \"functional_1\"\u001b[0m\n"
      ]
     },
     "metadata": {},
     "output_type": "display_data"
    },
    {
     "data": {
      "text/html": [
       "<pre style=\"white-space:pre;overflow-x:auto;line-height:normal;font-family:Menlo,'DejaVu Sans Mono',consolas,'Courier New',monospace\">┏━━━━━━━━━━━━━━━━━━━━━━━━━━━━━━━━━┳━━━━━━━━━━━━━━━━━━━━━━━━┳━━━━━━━━━━━━━━━┓\n",
       "┃<span style=\"font-weight: bold\"> Layer (type)                    </span>┃<span style=\"font-weight: bold\"> Output Shape           </span>┃<span style=\"font-weight: bold\">       Param # </span>┃\n",
       "┡━━━━━━━━━━━━━━━━━━━━━━━━━━━━━━━━━╇━━━━━━━━━━━━━━━━━━━━━━━━╇━━━━━━━━━━━━━━━┩\n",
       "│ input_layer (<span style=\"color: #0087ff; text-decoration-color: #0087ff\">InputLayer</span>)        │ (<span style=\"color: #00d7ff; text-decoration-color: #00d7ff\">None</span>, <span style=\"color: #00af00; text-decoration-color: #00af00\">111</span>, <span style=\"color: #00af00; text-decoration-color: #00af00\">3</span>)         │             <span style=\"color: #00af00; text-decoration-color: #00af00\">0</span> │\n",
       "├─────────────────────────────────┼────────────────────────┼───────────────┤\n",
       "│ conv1d (<span style=\"color: #0087ff; text-decoration-color: #0087ff\">Conv1D</span>)                 │ (<span style=\"color: #00d7ff; text-decoration-color: #00d7ff\">None</span>, <span style=\"color: #00af00; text-decoration-color: #00af00\">111</span>, <span style=\"color: #00af00; text-decoration-color: #00af00\">128</span>)       │         <span style=\"color: #00af00; text-decoration-color: #00af00\">1,280</span> │\n",
       "├─────────────────────────────────┼────────────────────────┼───────────────┤\n",
       "│ max_pooling1d (<span style=\"color: #0087ff; text-decoration-color: #0087ff\">MaxPooling1D</span>)    │ (<span style=\"color: #00d7ff; text-decoration-color: #00d7ff\">None</span>, <span style=\"color: #00af00; text-decoration-color: #00af00\">55</span>, <span style=\"color: #00af00; text-decoration-color: #00af00\">128</span>)        │             <span style=\"color: #00af00; text-decoration-color: #00af00\">0</span> │\n",
       "├─────────────────────────────────┼────────────────────────┼───────────────┤\n",
       "│ batch_normalization             │ (<span style=\"color: #00d7ff; text-decoration-color: #00d7ff\">None</span>, <span style=\"color: #00af00; text-decoration-color: #00af00\">55</span>, <span style=\"color: #00af00; text-decoration-color: #00af00\">128</span>)        │           <span style=\"color: #00af00; text-decoration-color: #00af00\">512</span> │\n",
       "│ (<span style=\"color: #0087ff; text-decoration-color: #0087ff\">BatchNormalization</span>)            │                        │               │\n",
       "├─────────────────────────────────┼────────────────────────┼───────────────┤\n",
       "│ conv1d_1 (<span style=\"color: #0087ff; text-decoration-color: #0087ff\">Conv1D</span>)               │ (<span style=\"color: #00d7ff; text-decoration-color: #00d7ff\">None</span>, <span style=\"color: #00af00; text-decoration-color: #00af00\">55</span>, <span style=\"color: #00af00; text-decoration-color: #00af00\">256</span>)        │        <span style=\"color: #00af00; text-decoration-color: #00af00\">98,560</span> │\n",
       "├─────────────────────────────────┼────────────────────────┼───────────────┤\n",
       "│ max_pooling1d_1 (<span style=\"color: #0087ff; text-decoration-color: #0087ff\">MaxPooling1D</span>)  │ (<span style=\"color: #00d7ff; text-decoration-color: #00d7ff\">None</span>, <span style=\"color: #00af00; text-decoration-color: #00af00\">27</span>, <span style=\"color: #00af00; text-decoration-color: #00af00\">256</span>)        │             <span style=\"color: #00af00; text-decoration-color: #00af00\">0</span> │\n",
       "├─────────────────────────────────┼────────────────────────┼───────────────┤\n",
       "│ batch_normalization_1           │ (<span style=\"color: #00d7ff; text-decoration-color: #00d7ff\">None</span>, <span style=\"color: #00af00; text-decoration-color: #00af00\">27</span>, <span style=\"color: #00af00; text-decoration-color: #00af00\">256</span>)        │         <span style=\"color: #00af00; text-decoration-color: #00af00\">1,024</span> │\n",
       "│ (<span style=\"color: #0087ff; text-decoration-color: #0087ff\">BatchNormalization</span>)            │                        │               │\n",
       "├─────────────────────────────────┼────────────────────────┼───────────────┤\n",
       "│ conv1d_2 (<span style=\"color: #0087ff; text-decoration-color: #0087ff\">Conv1D</span>)               │ (<span style=\"color: #00d7ff; text-decoration-color: #00d7ff\">None</span>, <span style=\"color: #00af00; text-decoration-color: #00af00\">27</span>, <span style=\"color: #00af00; text-decoration-color: #00af00\">512</span>)        │       <span style=\"color: #00af00; text-decoration-color: #00af00\">393,728</span> │\n",
       "├─────────────────────────────────┼────────────────────────┼───────────────┤\n",
       "│ max_pooling1d_2 (<span style=\"color: #0087ff; text-decoration-color: #0087ff\">MaxPooling1D</span>)  │ (<span style=\"color: #00d7ff; text-decoration-color: #00d7ff\">None</span>, <span style=\"color: #00af00; text-decoration-color: #00af00\">13</span>, <span style=\"color: #00af00; text-decoration-color: #00af00\">512</span>)        │             <span style=\"color: #00af00; text-decoration-color: #00af00\">0</span> │\n",
       "├─────────────────────────────────┼────────────────────────┼───────────────┤\n",
       "│ batch_normalization_2           │ (<span style=\"color: #00d7ff; text-decoration-color: #00d7ff\">None</span>, <span style=\"color: #00af00; text-decoration-color: #00af00\">13</span>, <span style=\"color: #00af00; text-decoration-color: #00af00\">512</span>)        │         <span style=\"color: #00af00; text-decoration-color: #00af00\">2,048</span> │\n",
       "│ (<span style=\"color: #0087ff; text-decoration-color: #0087ff\">BatchNormalization</span>)            │                        │               │\n",
       "├─────────────────────────────────┼────────────────────────┼───────────────┤\n",
       "│ bidirectional (<span style=\"color: #0087ff; text-decoration-color: #0087ff\">Bidirectional</span>)   │ (<span style=\"color: #00d7ff; text-decoration-color: #00d7ff\">None</span>, <span style=\"color: #00af00; text-decoration-color: #00af00\">13</span>, <span style=\"color: #00af00; text-decoration-color: #00af00\">512</span>)        │     <span style=\"color: #00af00; text-decoration-color: #00af00\">1,574,912</span> │\n",
       "├─────────────────────────────────┼────────────────────────┼───────────────┤\n",
       "│ dropout (<span style=\"color: #0087ff; text-decoration-color: #0087ff\">Dropout</span>)               │ (<span style=\"color: #00d7ff; text-decoration-color: #00d7ff\">None</span>, <span style=\"color: #00af00; text-decoration-color: #00af00\">13</span>, <span style=\"color: #00af00; text-decoration-color: #00af00\">512</span>)        │             <span style=\"color: #00af00; text-decoration-color: #00af00\">0</span> │\n",
       "├─────────────────────────────────┼────────────────────────┼───────────────┤\n",
       "│ batch_normalization_3           │ (<span style=\"color: #00d7ff; text-decoration-color: #00d7ff\">None</span>, <span style=\"color: #00af00; text-decoration-color: #00af00\">13</span>, <span style=\"color: #00af00; text-decoration-color: #00af00\">512</span>)        │         <span style=\"color: #00af00; text-decoration-color: #00af00\">2,048</span> │\n",
       "│ (<span style=\"color: #0087ff; text-decoration-color: #0087ff\">BatchNormalization</span>)            │                        │               │\n",
       "├─────────────────────────────────┼────────────────────────┼───────────────┤\n",
       "│ bidirectional_1 (<span style=\"color: #0087ff; text-decoration-color: #0087ff\">Bidirectional</span>) │ (<span style=\"color: #00d7ff; text-decoration-color: #00d7ff\">None</span>, <span style=\"color: #00af00; text-decoration-color: #00af00\">512</span>)            │     <span style=\"color: #00af00; text-decoration-color: #00af00\">1,574,912</span> │\n",
       "├─────────────────────────────────┼────────────────────────┼───────────────┤\n",
       "│ dropout_1 (<span style=\"color: #0087ff; text-decoration-color: #0087ff\">Dropout</span>)             │ (<span style=\"color: #00d7ff; text-decoration-color: #00d7ff\">None</span>, <span style=\"color: #00af00; text-decoration-color: #00af00\">512</span>)            │             <span style=\"color: #00af00; text-decoration-color: #00af00\">0</span> │\n",
       "├─────────────────────────────────┼────────────────────────┼───────────────┤\n",
       "│ batch_normalization_4           │ (<span style=\"color: #00d7ff; text-decoration-color: #00d7ff\">None</span>, <span style=\"color: #00af00; text-decoration-color: #00af00\">512</span>)            │         <span style=\"color: #00af00; text-decoration-color: #00af00\">2,048</span> │\n",
       "│ (<span style=\"color: #0087ff; text-decoration-color: #0087ff\">BatchNormalization</span>)            │                        │               │\n",
       "├─────────────────────────────────┼────────────────────────┼───────────────┤\n",
       "│ dense (<span style=\"color: #0087ff; text-decoration-color: #0087ff\">Dense</span>)                   │ (<span style=\"color: #00d7ff; text-decoration-color: #00d7ff\">None</span>, <span style=\"color: #00af00; text-decoration-color: #00af00\">512</span>)            │       <span style=\"color: #00af00; text-decoration-color: #00af00\">262,656</span> │\n",
       "├─────────────────────────────────┼────────────────────────┼───────────────┤\n",
       "│ dropout_2 (<span style=\"color: #0087ff; text-decoration-color: #0087ff\">Dropout</span>)             │ (<span style=\"color: #00d7ff; text-decoration-color: #00d7ff\">None</span>, <span style=\"color: #00af00; text-decoration-color: #00af00\">512</span>)            │             <span style=\"color: #00af00; text-decoration-color: #00af00\">0</span> │\n",
       "├─────────────────────────────────┼────────────────────────┼───────────────┤\n",
       "│ batch_normalization_5           │ (<span style=\"color: #00d7ff; text-decoration-color: #00d7ff\">None</span>, <span style=\"color: #00af00; text-decoration-color: #00af00\">512</span>)            │         <span style=\"color: #00af00; text-decoration-color: #00af00\">2,048</span> │\n",
       "│ (<span style=\"color: #0087ff; text-decoration-color: #0087ff\">BatchNormalization</span>)            │                        │               │\n",
       "├─────────────────────────────────┼────────────────────────┼───────────────┤\n",
       "│ dense_1 (<span style=\"color: #0087ff; text-decoration-color: #0087ff\">Dense</span>)                 │ (<span style=\"color: #00d7ff; text-decoration-color: #00d7ff\">None</span>, <span style=\"color: #00af00; text-decoration-color: #00af00\">256</span>)            │       <span style=\"color: #00af00; text-decoration-color: #00af00\">131,328</span> │\n",
       "├─────────────────────────────────┼────────────────────────┼───────────────┤\n",
       "│ dropout_3 (<span style=\"color: #0087ff; text-decoration-color: #0087ff\">Dropout</span>)             │ (<span style=\"color: #00d7ff; text-decoration-color: #00d7ff\">None</span>, <span style=\"color: #00af00; text-decoration-color: #00af00\">256</span>)            │             <span style=\"color: #00af00; text-decoration-color: #00af00\">0</span> │\n",
       "├─────────────────────────────────┼────────────────────────┼───────────────┤\n",
       "│ batch_normalization_6           │ (<span style=\"color: #00d7ff; text-decoration-color: #00d7ff\">None</span>, <span style=\"color: #00af00; text-decoration-color: #00af00\">256</span>)            │         <span style=\"color: #00af00; text-decoration-color: #00af00\">1,024</span> │\n",
       "│ (<span style=\"color: #0087ff; text-decoration-color: #0087ff\">BatchNormalization</span>)            │                        │               │\n",
       "├─────────────────────────────────┼────────────────────────┼───────────────┤\n",
       "│ dense_2 (<span style=\"color: #0087ff; text-decoration-color: #0087ff\">Dense</span>)                 │ (<span style=\"color: #00d7ff; text-decoration-color: #00d7ff\">None</span>, <span style=\"color: #00af00; text-decoration-color: #00af00\">262</span>)            │        <span style=\"color: #00af00; text-decoration-color: #00af00\">67,334</span> │\n",
       "└─────────────────────────────────┴────────────────────────┴───────────────┘\n",
       "</pre>\n"
      ],
      "text/plain": [
       "┏━━━━━━━━━━━━━━━━━━━━━━━━━━━━━━━━━┳━━━━━━━━━━━━━━━━━━━━━━━━┳━━━━━━━━━━━━━━━┓\n",
       "┃\u001b[1m \u001b[0m\u001b[1mLayer (type)                   \u001b[0m\u001b[1m \u001b[0m┃\u001b[1m \u001b[0m\u001b[1mOutput Shape          \u001b[0m\u001b[1m \u001b[0m┃\u001b[1m \u001b[0m\u001b[1m      Param #\u001b[0m\u001b[1m \u001b[0m┃\n",
       "┡━━━━━━━━━━━━━━━━━━━━━━━━━━━━━━━━━╇━━━━━━━━━━━━━━━━━━━━━━━━╇━━━━━━━━━━━━━━━┩\n",
       "│ input_layer (\u001b[38;5;33mInputLayer\u001b[0m)        │ (\u001b[38;5;45mNone\u001b[0m, \u001b[38;5;34m111\u001b[0m, \u001b[38;5;34m3\u001b[0m)         │             \u001b[38;5;34m0\u001b[0m │\n",
       "├─────────────────────────────────┼────────────────────────┼───────────────┤\n",
       "│ conv1d (\u001b[38;5;33mConv1D\u001b[0m)                 │ (\u001b[38;5;45mNone\u001b[0m, \u001b[38;5;34m111\u001b[0m, \u001b[38;5;34m128\u001b[0m)       │         \u001b[38;5;34m1,280\u001b[0m │\n",
       "├─────────────────────────────────┼────────────────────────┼───────────────┤\n",
       "│ max_pooling1d (\u001b[38;5;33mMaxPooling1D\u001b[0m)    │ (\u001b[38;5;45mNone\u001b[0m, \u001b[38;5;34m55\u001b[0m, \u001b[38;5;34m128\u001b[0m)        │             \u001b[38;5;34m0\u001b[0m │\n",
       "├─────────────────────────────────┼────────────────────────┼───────────────┤\n",
       "│ batch_normalization             │ (\u001b[38;5;45mNone\u001b[0m, \u001b[38;5;34m55\u001b[0m, \u001b[38;5;34m128\u001b[0m)        │           \u001b[38;5;34m512\u001b[0m │\n",
       "│ (\u001b[38;5;33mBatchNormalization\u001b[0m)            │                        │               │\n",
       "├─────────────────────────────────┼────────────────────────┼───────────────┤\n",
       "│ conv1d_1 (\u001b[38;5;33mConv1D\u001b[0m)               │ (\u001b[38;5;45mNone\u001b[0m, \u001b[38;5;34m55\u001b[0m, \u001b[38;5;34m256\u001b[0m)        │        \u001b[38;5;34m98,560\u001b[0m │\n",
       "├─────────────────────────────────┼────────────────────────┼───────────────┤\n",
       "│ max_pooling1d_1 (\u001b[38;5;33mMaxPooling1D\u001b[0m)  │ (\u001b[38;5;45mNone\u001b[0m, \u001b[38;5;34m27\u001b[0m, \u001b[38;5;34m256\u001b[0m)        │             \u001b[38;5;34m0\u001b[0m │\n",
       "├─────────────────────────────────┼────────────────────────┼───────────────┤\n",
       "│ batch_normalization_1           │ (\u001b[38;5;45mNone\u001b[0m, \u001b[38;5;34m27\u001b[0m, \u001b[38;5;34m256\u001b[0m)        │         \u001b[38;5;34m1,024\u001b[0m │\n",
       "│ (\u001b[38;5;33mBatchNormalization\u001b[0m)            │                        │               │\n",
       "├─────────────────────────────────┼────────────────────────┼───────────────┤\n",
       "│ conv1d_2 (\u001b[38;5;33mConv1D\u001b[0m)               │ (\u001b[38;5;45mNone\u001b[0m, \u001b[38;5;34m27\u001b[0m, \u001b[38;5;34m512\u001b[0m)        │       \u001b[38;5;34m393,728\u001b[0m │\n",
       "├─────────────────────────────────┼────────────────────────┼───────────────┤\n",
       "│ max_pooling1d_2 (\u001b[38;5;33mMaxPooling1D\u001b[0m)  │ (\u001b[38;5;45mNone\u001b[0m, \u001b[38;5;34m13\u001b[0m, \u001b[38;5;34m512\u001b[0m)        │             \u001b[38;5;34m0\u001b[0m │\n",
       "├─────────────────────────────────┼────────────────────────┼───────────────┤\n",
       "│ batch_normalization_2           │ (\u001b[38;5;45mNone\u001b[0m, \u001b[38;5;34m13\u001b[0m, \u001b[38;5;34m512\u001b[0m)        │         \u001b[38;5;34m2,048\u001b[0m │\n",
       "│ (\u001b[38;5;33mBatchNormalization\u001b[0m)            │                        │               │\n",
       "├─────────────────────────────────┼────────────────────────┼───────────────┤\n",
       "│ bidirectional (\u001b[38;5;33mBidirectional\u001b[0m)   │ (\u001b[38;5;45mNone\u001b[0m, \u001b[38;5;34m13\u001b[0m, \u001b[38;5;34m512\u001b[0m)        │     \u001b[38;5;34m1,574,912\u001b[0m │\n",
       "├─────────────────────────────────┼────────────────────────┼───────────────┤\n",
       "│ dropout (\u001b[38;5;33mDropout\u001b[0m)               │ (\u001b[38;5;45mNone\u001b[0m, \u001b[38;5;34m13\u001b[0m, \u001b[38;5;34m512\u001b[0m)        │             \u001b[38;5;34m0\u001b[0m │\n",
       "├─────────────────────────────────┼────────────────────────┼───────────────┤\n",
       "│ batch_normalization_3           │ (\u001b[38;5;45mNone\u001b[0m, \u001b[38;5;34m13\u001b[0m, \u001b[38;5;34m512\u001b[0m)        │         \u001b[38;5;34m2,048\u001b[0m │\n",
       "│ (\u001b[38;5;33mBatchNormalization\u001b[0m)            │                        │               │\n",
       "├─────────────────────────────────┼────────────────────────┼───────────────┤\n",
       "│ bidirectional_1 (\u001b[38;5;33mBidirectional\u001b[0m) │ (\u001b[38;5;45mNone\u001b[0m, \u001b[38;5;34m512\u001b[0m)            │     \u001b[38;5;34m1,574,912\u001b[0m │\n",
       "├─────────────────────────────────┼────────────────────────┼───────────────┤\n",
       "│ dropout_1 (\u001b[38;5;33mDropout\u001b[0m)             │ (\u001b[38;5;45mNone\u001b[0m, \u001b[38;5;34m512\u001b[0m)            │             \u001b[38;5;34m0\u001b[0m │\n",
       "├─────────────────────────────────┼────────────────────────┼───────────────┤\n",
       "│ batch_normalization_4           │ (\u001b[38;5;45mNone\u001b[0m, \u001b[38;5;34m512\u001b[0m)            │         \u001b[38;5;34m2,048\u001b[0m │\n",
       "│ (\u001b[38;5;33mBatchNormalization\u001b[0m)            │                        │               │\n",
       "├─────────────────────────────────┼────────────────────────┼───────────────┤\n",
       "│ dense (\u001b[38;5;33mDense\u001b[0m)                   │ (\u001b[38;5;45mNone\u001b[0m, \u001b[38;5;34m512\u001b[0m)            │       \u001b[38;5;34m262,656\u001b[0m │\n",
       "├─────────────────────────────────┼────────────────────────┼───────────────┤\n",
       "│ dropout_2 (\u001b[38;5;33mDropout\u001b[0m)             │ (\u001b[38;5;45mNone\u001b[0m, \u001b[38;5;34m512\u001b[0m)            │             \u001b[38;5;34m0\u001b[0m │\n",
       "├─────────────────────────────────┼────────────────────────┼───────────────┤\n",
       "│ batch_normalization_5           │ (\u001b[38;5;45mNone\u001b[0m, \u001b[38;5;34m512\u001b[0m)            │         \u001b[38;5;34m2,048\u001b[0m │\n",
       "│ (\u001b[38;5;33mBatchNormalization\u001b[0m)            │                        │               │\n",
       "├─────────────────────────────────┼────────────────────────┼───────────────┤\n",
       "│ dense_1 (\u001b[38;5;33mDense\u001b[0m)                 │ (\u001b[38;5;45mNone\u001b[0m, \u001b[38;5;34m256\u001b[0m)            │       \u001b[38;5;34m131,328\u001b[0m │\n",
       "├─────────────────────────────────┼────────────────────────┼───────────────┤\n",
       "│ dropout_3 (\u001b[38;5;33mDropout\u001b[0m)             │ (\u001b[38;5;45mNone\u001b[0m, \u001b[38;5;34m256\u001b[0m)            │             \u001b[38;5;34m0\u001b[0m │\n",
       "├─────────────────────────────────┼────────────────────────┼───────────────┤\n",
       "│ batch_normalization_6           │ (\u001b[38;5;45mNone\u001b[0m, \u001b[38;5;34m256\u001b[0m)            │         \u001b[38;5;34m1,024\u001b[0m │\n",
       "│ (\u001b[38;5;33mBatchNormalization\u001b[0m)            │                        │               │\n",
       "├─────────────────────────────────┼────────────────────────┼───────────────┤\n",
       "│ dense_2 (\u001b[38;5;33mDense\u001b[0m)                 │ (\u001b[38;5;45mNone\u001b[0m, \u001b[38;5;34m262\u001b[0m)            │        \u001b[38;5;34m67,334\u001b[0m │\n",
       "└─────────────────────────────────┴────────────────────────┴───────────────┘\n"
      ]
     },
     "metadata": {},
     "output_type": "display_data"
    },
    {
     "data": {
      "text/html": [
       "<pre style=\"white-space:pre;overflow-x:auto;line-height:normal;font-family:Menlo,'DejaVu Sans Mono',consolas,'Courier New',monospace\"><span style=\"font-weight: bold\"> Total params: </span><span style=\"color: #00af00; text-decoration-color: #00af00\">4,115,462</span> (15.70 MB)\n",
       "</pre>\n"
      ],
      "text/plain": [
       "\u001b[1m Total params: \u001b[0m\u001b[38;5;34m4,115,462\u001b[0m (15.70 MB)\n"
      ]
     },
     "metadata": {},
     "output_type": "display_data"
    },
    {
     "data": {
      "text/html": [
       "<pre style=\"white-space:pre;overflow-x:auto;line-height:normal;font-family:Menlo,'DejaVu Sans Mono',consolas,'Courier New',monospace\"><span style=\"font-weight: bold\"> Trainable params: </span><span style=\"color: #00af00; text-decoration-color: #00af00\">4,110,086</span> (15.68 MB)\n",
       "</pre>\n"
      ],
      "text/plain": [
       "\u001b[1m Trainable params: \u001b[0m\u001b[38;5;34m4,110,086\u001b[0m (15.68 MB)\n"
      ]
     },
     "metadata": {},
     "output_type": "display_data"
    },
    {
     "data": {
      "text/html": [
       "<pre style=\"white-space:pre;overflow-x:auto;line-height:normal;font-family:Menlo,'DejaVu Sans Mono',consolas,'Courier New',monospace\"><span style=\"font-weight: bold\"> Non-trainable params: </span><span style=\"color: #00af00; text-decoration-color: #00af00\">5,376</span> (21.00 KB)\n",
       "</pre>\n"
      ],
      "text/plain": [
       "\u001b[1m Non-trainable params: \u001b[0m\u001b[38;5;34m5,376\u001b[0m (21.00 KB)\n"
      ]
     },
     "metadata": {},
     "output_type": "display_data"
    },
    {
     "name": "stdout",
     "output_type": "stream",
     "text": [
      "None\n"
     ]
    }
   ],
   "source": [
    "optimizer = Adam(learning_rate=0.0001)\n",
    "model.compile(optimizer=optimizer, loss='sparse_categorical_crossentropy', metrics=['accuracy'])\n",
    "\n",
    "print(model.summary())"
   ]
  },
  {
   "cell_type": "code",
   "execution_count": 10,
   "metadata": {
    "execution": {
     "iopub.execute_input": "2024-11-03T07:30:53.078172Z",
     "iopub.status.busy": "2024-11-03T07:30:53.077854Z",
     "iopub.status.idle": "2024-11-03T07:30:53.083369Z",
     "shell.execute_reply": "2024-11-03T07:30:53.082521Z",
     "shell.execute_reply.started": "2024-11-03T07:30:53.078139Z"
    },
    "trusted": true
   },
   "outputs": [],
   "source": [
    "from tensorflow.keras.callbacks import ModelCheckpoint, ReduceLROnPlateau, EarlyStopping\n",
    "checkpoint = ModelCheckpoint('best_model.keras', monitor='val_loss', save_best_only=True, mode='min', verbose=1)\n",
    "reduce_lr = ReduceLROnPlateau(monitor='val_loss', factor=0.5, patience=8, min_lr=1e-6, verbose=1)\n",
    "early_stopping = EarlyStopping(monitor='val_loss', patience=40, verbose=1)"
   ]
  },
  {
   "cell_type": "code",
   "execution_count": 11,
   "metadata": {
    "execution": {
     "iopub.execute_input": "2024-11-03T07:30:53.084914Z",
     "iopub.status.busy": "2024-11-03T07:30:53.084551Z",
     "iopub.status.idle": "2024-11-03T08:32:32.854380Z",
     "shell.execute_reply": "2024-11-03T08:32:32.853540Z",
     "shell.execute_reply.started": "2024-11-03T07:30:53.084872Z"
    },
    "trusted": true
   },
   "outputs": [
    {
     "name": "stdout",
     "output_type": "stream",
     "text": [
      "Epoch 1/100\n",
      "\u001b[1m1635/1635\u001b[0m \u001b[32m━━━━━━━━━━━━━━━━━━━━\u001b[0m\u001b[37m\u001b[0m \u001b[1m0s\u001b[0m 28ms/step - accuracy: 0.0188 - loss: 5.4823\n",
      "Epoch 1: val_loss improved from inf to 4.30961, saving model to best_model.keras\n",
      "\u001b[1m1635/1635\u001b[0m \u001b[32m━━━━━━━━━━━━━━━━━━━━\u001b[0m\u001b[37m\u001b[0m \u001b[1m60s\u001b[0m 30ms/step - accuracy: 0.0188 - loss: 5.4821 - val_accuracy: 0.0807 - val_loss: 4.3096 - learning_rate: 1.0000e-04\n",
      "Epoch 2/100\n",
      "\u001b[1m1635/1635\u001b[0m \u001b[32m━━━━━━━━━━━━━━━━━━━━\u001b[0m\u001b[37m\u001b[0m \u001b[1m0s\u001b[0m 27ms/step - accuracy: 0.0700 - loss: 4.3396\n",
      "Epoch 2: val_loss improved from 4.30961 to 3.94947, saving model to best_model.keras\n",
      "\u001b[1m1635/1635\u001b[0m \u001b[32m━━━━━━━━━━━━━━━━━━━━\u001b[0m\u001b[37m\u001b[0m \u001b[1m76s\u001b[0m 29ms/step - accuracy: 0.0700 - loss: 4.3395 - val_accuracy: 0.1209 - val_loss: 3.9495 - learning_rate: 1.0000e-04\n",
      "Epoch 3/100\n",
      "\u001b[1m1635/1635\u001b[0m \u001b[32m━━━━━━━━━━━━━━━━━━━━\u001b[0m\u001b[37m\u001b[0m \u001b[1m0s\u001b[0m 27ms/step - accuracy: 0.1258 - loss: 3.6815\n",
      "Epoch 3: val_loss improved from 3.94947 to 3.09650, saving model to best_model.keras\n",
      "\u001b[1m1635/1635\u001b[0m \u001b[32m━━━━━━━━━━━━━━━━━━━━\u001b[0m\u001b[37m\u001b[0m \u001b[1m48s\u001b[0m 29ms/step - accuracy: 0.1258 - loss: 3.6814 - val_accuracy: 0.2277 - val_loss: 3.0965 - learning_rate: 1.0000e-04\n",
      "Epoch 4/100\n",
      "\u001b[1m1635/1635\u001b[0m \u001b[32m━━━━━━━━━━━━━━━━━━━━\u001b[0m\u001b[37m\u001b[0m \u001b[1m0s\u001b[0m 27ms/step - accuracy: 0.1866 - loss: 3.2345\n",
      "Epoch 4: val_loss improved from 3.09650 to 2.69992, saving model to best_model.keras\n",
      "\u001b[1m1635/1635\u001b[0m \u001b[32m━━━━━━━━━━━━━━━━━━━━\u001b[0m\u001b[37m\u001b[0m \u001b[1m48s\u001b[0m 29ms/step - accuracy: 0.1866 - loss: 3.2345 - val_accuracy: 0.3017 - val_loss: 2.6999 - learning_rate: 1.0000e-04\n",
      "Epoch 5/100\n",
      "\u001b[1m1635/1635\u001b[0m \u001b[32m━━━━━━━━━━━━━━━━━━━━\u001b[0m\u001b[37m\u001b[0m \u001b[1m0s\u001b[0m 27ms/step - accuracy: 0.2371 - loss: 2.9454\n",
      "Epoch 5: val_loss improved from 2.69992 to 2.46271, saving model to best_model.keras\n",
      "\u001b[1m1635/1635\u001b[0m \u001b[32m━━━━━━━━━━━━━━━━━━━━\u001b[0m\u001b[37m\u001b[0m \u001b[1m48s\u001b[0m 30ms/step - accuracy: 0.2371 - loss: 2.9453 - val_accuracy: 0.3483 - val_loss: 2.4627 - learning_rate: 1.0000e-04\n",
      "Epoch 6/100\n",
      "\u001b[1m1635/1635\u001b[0m \u001b[32m━━━━━━━━━━━━━━━━━━━━\u001b[0m\u001b[37m\u001b[0m \u001b[1m0s\u001b[0m 28ms/step - accuracy: 0.2863 - loss: 2.7135\n",
      "Epoch 6: val_loss improved from 2.46271 to 2.40073, saving model to best_model.keras\n",
      "\u001b[1m1635/1635\u001b[0m \u001b[32m━━━━━━━━━━━━━━━━━━━━\u001b[0m\u001b[37m\u001b[0m \u001b[1m48s\u001b[0m 30ms/step - accuracy: 0.2863 - loss: 2.7134 - val_accuracy: 0.3603 - val_loss: 2.4007 - learning_rate: 1.0000e-04\n",
      "Epoch 7/100\n",
      "\u001b[1m1635/1635\u001b[0m \u001b[32m━━━━━━━━━━━━━━━━━━━━\u001b[0m\u001b[37m\u001b[0m \u001b[1m0s\u001b[0m 27ms/step - accuracy: 0.3217 - loss: 2.5417\n",
      "Epoch 7: val_loss improved from 2.40073 to 2.23153, saving model to best_model.keras\n",
      "\u001b[1m1635/1635\u001b[0m \u001b[32m━━━━━━━━━━━━━━━━━━━━\u001b[0m\u001b[37m\u001b[0m \u001b[1m48s\u001b[0m 29ms/step - accuracy: 0.3217 - loss: 2.5417 - val_accuracy: 0.4030 - val_loss: 2.2315 - learning_rate: 1.0000e-04\n",
      "Epoch 8/100\n",
      "\u001b[1m1635/1635\u001b[0m \u001b[32m━━━━━━━━━━━━━━━━━━━━\u001b[0m\u001b[37m\u001b[0m \u001b[1m0s\u001b[0m 27ms/step - accuracy: 0.3579 - loss: 2.3921\n",
      "Epoch 8: val_loss improved from 2.23153 to 2.10594, saving model to best_model.keras\n",
      "\u001b[1m1635/1635\u001b[0m \u001b[32m━━━━━━━━━━━━━━━━━━━━\u001b[0m\u001b[37m\u001b[0m \u001b[1m48s\u001b[0m 29ms/step - accuracy: 0.3579 - loss: 2.3921 - val_accuracy: 0.4285 - val_loss: 2.1059 - learning_rate: 1.0000e-04\n",
      "Epoch 9/100\n",
      "\u001b[1m1635/1635\u001b[0m \u001b[32m━━━━━━━━━━━━━━━━━━━━\u001b[0m\u001b[37m\u001b[0m \u001b[1m0s\u001b[0m 27ms/step - accuracy: 0.3850 - loss: 2.2730\n",
      "Epoch 9: val_loss improved from 2.10594 to 2.07836, saving model to best_model.keras\n",
      "\u001b[1m1635/1635\u001b[0m \u001b[32m━━━━━━━━━━━━━━━━━━━━\u001b[0m\u001b[37m\u001b[0m \u001b[1m48s\u001b[0m 29ms/step - accuracy: 0.3850 - loss: 2.2730 - val_accuracy: 0.4389 - val_loss: 2.0784 - learning_rate: 1.0000e-04\n",
      "Epoch 10/100\n",
      "\u001b[1m1635/1635\u001b[0m \u001b[32m━━━━━━━━━━━━━━━━━━━━\u001b[0m\u001b[37m\u001b[0m \u001b[1m0s\u001b[0m 27ms/step - accuracy: 0.4096 - loss: 2.1610\n",
      "Epoch 10: val_loss improved from 2.07836 to 1.97296, saving model to best_model.keras\n",
      "\u001b[1m1635/1635\u001b[0m \u001b[32m━━━━━━━━━━━━━━━━━━━━\u001b[0m\u001b[37m\u001b[0m \u001b[1m48s\u001b[0m 29ms/step - accuracy: 0.4096 - loss: 2.1610 - val_accuracy: 0.4620 - val_loss: 1.9730 - learning_rate: 1.0000e-04\n",
      "Epoch 11/100\n",
      "\u001b[1m1635/1635\u001b[0m \u001b[32m━━━━━━━━━━━━━━━━━━━━\u001b[0m\u001b[37m\u001b[0m \u001b[1m0s\u001b[0m 28ms/step - accuracy: 0.4328 - loss: 2.0731\n",
      "Epoch 11: val_loss improved from 1.97296 to 1.88119, saving model to best_model.keras\n",
      "\u001b[1m1635/1635\u001b[0m \u001b[32m━━━━━━━━━━━━━━━━━━━━\u001b[0m\u001b[37m\u001b[0m \u001b[1m49s\u001b[0m 30ms/step - accuracy: 0.4328 - loss: 2.0731 - val_accuracy: 0.4897 - val_loss: 1.8812 - learning_rate: 1.0000e-04\n",
      "Epoch 12/100\n",
      "\u001b[1m1635/1635\u001b[0m \u001b[32m━━━━━━━━━━━━━━━━━━━━\u001b[0m\u001b[37m\u001b[0m \u001b[1m0s\u001b[0m 28ms/step - accuracy: 0.4545 - loss: 1.9917\n",
      "Epoch 12: val_loss did not improve from 1.88119\n",
      "\u001b[1m1635/1635\u001b[0m \u001b[32m━━━━━━━━━━━━━━━━━━━━\u001b[0m\u001b[37m\u001b[0m \u001b[1m48s\u001b[0m 29ms/step - accuracy: 0.4545 - loss: 1.9917 - val_accuracy: 0.4823 - val_loss: 1.8992 - learning_rate: 1.0000e-04\n",
      "Epoch 13/100\n",
      "\u001b[1m1635/1635\u001b[0m \u001b[32m━━━━━━━━━━━━━━━━━━━━\u001b[0m\u001b[37m\u001b[0m \u001b[1m0s\u001b[0m 28ms/step - accuracy: 0.4737 - loss: 1.9086\n",
      "Epoch 13: val_loss improved from 1.88119 to 1.72018, saving model to best_model.keras\n",
      "\u001b[1m1635/1635\u001b[0m \u001b[32m━━━━━━━━━━━━━━━━━━━━\u001b[0m\u001b[37m\u001b[0m \u001b[1m48s\u001b[0m 30ms/step - accuracy: 0.4737 - loss: 1.9086 - val_accuracy: 0.5335 - val_loss: 1.7202 - learning_rate: 1.0000e-04\n",
      "Epoch 14/100\n",
      "\u001b[1m1635/1635\u001b[0m \u001b[32m━━━━━━━━━━━━━━━━━━━━\u001b[0m\u001b[37m\u001b[0m \u001b[1m0s\u001b[0m 28ms/step - accuracy: 0.4906 - loss: 1.8438\n",
      "Epoch 14: val_loss improved from 1.72018 to 1.67037, saving model to best_model.keras\n",
      "\u001b[1m1635/1635\u001b[0m \u001b[32m━━━━━━━━━━━━━━━━━━━━\u001b[0m\u001b[37m\u001b[0m \u001b[1m48s\u001b[0m 30ms/step - accuracy: 0.4906 - loss: 1.8438 - val_accuracy: 0.5475 - val_loss: 1.6704 - learning_rate: 1.0000e-04\n",
      "Epoch 15/100\n",
      "\u001b[1m1635/1635\u001b[0m \u001b[32m━━━━━━━━━━━━━━━━━━━━\u001b[0m\u001b[37m\u001b[0m \u001b[1m0s\u001b[0m 28ms/step - accuracy: 0.5062 - loss: 1.7819\n",
      "Epoch 15: val_loss improved from 1.67037 to 1.63942, saving model to best_model.keras\n",
      "\u001b[1m1635/1635\u001b[0m \u001b[32m━━━━━━━━━━━━━━━━━━━━\u001b[0m\u001b[37m\u001b[0m \u001b[1m48s\u001b[0m 30ms/step - accuracy: 0.5062 - loss: 1.7819 - val_accuracy: 0.5562 - val_loss: 1.6394 - learning_rate: 1.0000e-04\n",
      "Epoch 16/100\n",
      "\u001b[1m1635/1635\u001b[0m \u001b[32m━━━━━━━━━━━━━━━━━━━━\u001b[0m\u001b[37m\u001b[0m \u001b[1m0s\u001b[0m 28ms/step - accuracy: 0.5226 - loss: 1.7194\n",
      "Epoch 16: val_loss did not improve from 1.63942\n",
      "\u001b[1m1635/1635\u001b[0m \u001b[32m━━━━━━━━━━━━━━━━━━━━\u001b[0m\u001b[37m\u001b[0m \u001b[1m48s\u001b[0m 29ms/step - accuracy: 0.5226 - loss: 1.7194 - val_accuracy: 0.5462 - val_loss: 1.6782 - learning_rate: 1.0000e-04\n",
      "Epoch 17/100\n",
      "\u001b[1m1635/1635\u001b[0m \u001b[32m━━━━━━━━━━━━━━━━━━━━\u001b[0m\u001b[37m\u001b[0m \u001b[1m0s\u001b[0m 27ms/step - accuracy: 0.5404 - loss: 1.6551\n",
      "Epoch 17: val_loss improved from 1.63942 to 1.57565, saving model to best_model.keras\n",
      "\u001b[1m1635/1635\u001b[0m \u001b[32m━━━━━━━━━━━━━━━━━━━━\u001b[0m\u001b[37m\u001b[0m \u001b[1m48s\u001b[0m 29ms/step - accuracy: 0.5404 - loss: 1.6551 - val_accuracy: 0.5745 - val_loss: 1.5756 - learning_rate: 1.0000e-04\n",
      "Epoch 18/100\n",
      "\u001b[1m1635/1635\u001b[0m \u001b[32m━━━━━━━━━━━━━━━━━━━━\u001b[0m\u001b[37m\u001b[0m \u001b[1m0s\u001b[0m 28ms/step - accuracy: 0.5493 - loss: 1.6203\n",
      "Epoch 18: val_loss did not improve from 1.57565\n",
      "\u001b[1m1635/1635\u001b[0m \u001b[32m━━━━━━━━━━━━━━━━━━━━\u001b[0m\u001b[37m\u001b[0m \u001b[1m48s\u001b[0m 29ms/step - accuracy: 0.5493 - loss: 1.6203 - val_accuracy: 0.5777 - val_loss: 1.5794 - learning_rate: 1.0000e-04\n",
      "Epoch 19/100\n",
      "\u001b[1m1635/1635\u001b[0m \u001b[32m━━━━━━━━━━━━━━━━━━━━\u001b[0m\u001b[37m\u001b[0m \u001b[1m0s\u001b[0m 28ms/step - accuracy: 0.5647 - loss: 1.5600\n",
      "Epoch 19: val_loss did not improve from 1.57565\n",
      "\u001b[1m1635/1635\u001b[0m \u001b[32m━━━━━━━━━━━━━━━━━━━━\u001b[0m\u001b[37m\u001b[0m \u001b[1m48s\u001b[0m 29ms/step - accuracy: 0.5647 - loss: 1.5600 - val_accuracy: 0.5680 - val_loss: 1.6278 - learning_rate: 1.0000e-04\n",
      "Epoch 20/100\n",
      "\u001b[1m1635/1635\u001b[0m \u001b[32m━━━━━━━━━━━━━━━━━━━━\u001b[0m\u001b[37m\u001b[0m \u001b[1m0s\u001b[0m 28ms/step - accuracy: 0.5743 - loss: 1.5190\n",
      "Epoch 20: val_loss did not improve from 1.57565\n",
      "\u001b[1m1635/1635\u001b[0m \u001b[32m━━━━━━━━━━━━━━━━━━━━\u001b[0m\u001b[37m\u001b[0m \u001b[1m48s\u001b[0m 29ms/step - accuracy: 0.5743 - loss: 1.5190 - val_accuracy: 0.5672 - val_loss: 1.6231 - learning_rate: 1.0000e-04\n",
      "Epoch 21/100\n",
      "\u001b[1m1635/1635\u001b[0m \u001b[32m━━━━━━━━━━━━━━━━━━━━\u001b[0m\u001b[37m\u001b[0m \u001b[1m0s\u001b[0m 28ms/step - accuracy: 0.5854 - loss: 1.4727\n",
      "Epoch 21: val_loss improved from 1.57565 to 1.48243, saving model to best_model.keras\n",
      "\u001b[1m1635/1635\u001b[0m \u001b[32m━━━━━━━━━━━━━━━━━━━━\u001b[0m\u001b[37m\u001b[0m \u001b[1m48s\u001b[0m 30ms/step - accuracy: 0.5854 - loss: 1.4727 - val_accuracy: 0.6126 - val_loss: 1.4824 - learning_rate: 1.0000e-04\n",
      "Epoch 22/100\n",
      "\u001b[1m1635/1635\u001b[0m \u001b[32m━━━━━━━━━━━━━━━━━━━━\u001b[0m\u001b[37m\u001b[0m \u001b[1m0s\u001b[0m 28ms/step - accuracy: 0.5973 - loss: 1.4307\n",
      "Epoch 22: val_loss did not improve from 1.48243\n",
      "\u001b[1m1635/1635\u001b[0m \u001b[32m━━━━━━━━━━━━━━━━━━━━\u001b[0m\u001b[37m\u001b[0m \u001b[1m48s\u001b[0m 29ms/step - accuracy: 0.5973 - loss: 1.4307 - val_accuracy: 0.5144 - val_loss: 1.8798 - learning_rate: 1.0000e-04\n",
      "Epoch 23/100\n",
      "\u001b[1m1635/1635\u001b[0m \u001b[32m━━━━━━━━━━━━━━━━━━━━\u001b[0m\u001b[37m\u001b[0m \u001b[1m0s\u001b[0m 28ms/step - accuracy: 0.6085 - loss: 1.3912\n",
      "Epoch 23: val_loss did not improve from 1.48243\n",
      "\u001b[1m1635/1635\u001b[0m \u001b[32m━━━━━━━━━━━━━━━━━━━━\u001b[0m\u001b[37m\u001b[0m \u001b[1m48s\u001b[0m 29ms/step - accuracy: 0.6085 - loss: 1.3912 - val_accuracy: 0.6092 - val_loss: 1.5066 - learning_rate: 1.0000e-04\n",
      "Epoch 24/100\n",
      "\u001b[1m1635/1635\u001b[0m \u001b[32m━━━━━━━━━━━━━━━━━━━━\u001b[0m\u001b[37m\u001b[0m \u001b[1m0s\u001b[0m 28ms/step - accuracy: 0.6167 - loss: 1.3558\n",
      "Epoch 24: val_loss improved from 1.48243 to 1.45847, saving model to best_model.keras\n",
      "\u001b[1m1635/1635\u001b[0m \u001b[32m━━━━━━━━━━━━━━━━━━━━\u001b[0m\u001b[37m\u001b[0m \u001b[1m48s\u001b[0m 30ms/step - accuracy: 0.6167 - loss: 1.3558 - val_accuracy: 0.6229 - val_loss: 1.4585 - learning_rate: 1.0000e-04\n",
      "Epoch 25/100\n",
      "\u001b[1m1635/1635\u001b[0m \u001b[32m━━━━━━━━━━━━━━━━━━━━\u001b[0m\u001b[37m\u001b[0m \u001b[1m0s\u001b[0m 28ms/step - accuracy: 0.6270 - loss: 1.3154\n",
      "Epoch 25: val_loss did not improve from 1.45847\n",
      "\u001b[1m1635/1635\u001b[0m \u001b[32m━━━━━━━━━━━━━━━━━━━━\u001b[0m\u001b[37m\u001b[0m \u001b[1m48s\u001b[0m 29ms/step - accuracy: 0.6270 - loss: 1.3154 - val_accuracy: 0.6095 - val_loss: 1.5310 - learning_rate: 1.0000e-04\n",
      "Epoch 26/100\n",
      "\u001b[1m1635/1635\u001b[0m \u001b[32m━━━━━━━━━━━━━━━━━━━━\u001b[0m\u001b[37m\u001b[0m \u001b[1m0s\u001b[0m 28ms/step - accuracy: 0.6347 - loss: 1.2844\n",
      "Epoch 26: val_loss improved from 1.45847 to 1.43446, saving model to best_model.keras\n",
      "\u001b[1m1635/1635\u001b[0m \u001b[32m━━━━━━━━━━━━━━━━━━━━\u001b[0m\u001b[37m\u001b[0m \u001b[1m48s\u001b[0m 30ms/step - accuracy: 0.6347 - loss: 1.2844 - val_accuracy: 0.6378 - val_loss: 1.4345 - learning_rate: 1.0000e-04\n",
      "Epoch 27/100\n",
      "\u001b[1m1635/1635\u001b[0m \u001b[32m━━━━━━━━━━━━━━━━━━━━\u001b[0m\u001b[37m\u001b[0m \u001b[1m0s\u001b[0m 28ms/step - accuracy: 0.6435 - loss: 1.2458\n",
      "Epoch 27: val_loss did not improve from 1.43446\n",
      "\u001b[1m1635/1635\u001b[0m \u001b[32m━━━━━━━━━━━━━━━━━━━━\u001b[0m\u001b[37m\u001b[0m \u001b[1m48s\u001b[0m 29ms/step - accuracy: 0.6435 - loss: 1.2458 - val_accuracy: 0.6283 - val_loss: 1.4775 - learning_rate: 1.0000e-04\n",
      "Epoch 28/100\n",
      "\u001b[1m1635/1635\u001b[0m \u001b[32m━━━━━━━━━━━━━━━━━━━━\u001b[0m\u001b[37m\u001b[0m \u001b[1m0s\u001b[0m 28ms/step - accuracy: 0.6565 - loss: 1.2004\n",
      "Epoch 28: val_loss did not improve from 1.43446\n",
      "\u001b[1m1635/1635\u001b[0m \u001b[32m━━━━━━━━━━━━━━━━━━━━\u001b[0m\u001b[37m\u001b[0m \u001b[1m48s\u001b[0m 29ms/step - accuracy: 0.6565 - loss: 1.2004 - val_accuracy: 0.6445 - val_loss: 1.4402 - learning_rate: 1.0000e-04\n",
      "Epoch 29/100\n",
      "\u001b[1m1635/1635\u001b[0m \u001b[32m━━━━━━━━━━━━━━━━━━━━\u001b[0m\u001b[37m\u001b[0m \u001b[1m0s\u001b[0m 28ms/step - accuracy: 0.6647 - loss: 1.1669\n",
      "Epoch 29: val_loss did not improve from 1.43446\n",
      "\u001b[1m1635/1635\u001b[0m \u001b[32m━━━━━━━━━━━━━━━━━━━━\u001b[0m\u001b[37m\u001b[0m \u001b[1m48s\u001b[0m 29ms/step - accuracy: 0.6647 - loss: 1.1669 - val_accuracy: 0.6294 - val_loss: 1.4964 - learning_rate: 1.0000e-04\n",
      "Epoch 30/100\n",
      "\u001b[1m1635/1635\u001b[0m \u001b[32m━━━━━━━━━━━━━━━━━━━━\u001b[0m\u001b[37m\u001b[0m \u001b[1m0s\u001b[0m 28ms/step - accuracy: 0.6723 - loss: 1.1430\n",
      "Epoch 30: val_loss did not improve from 1.43446\n",
      "\u001b[1m1635/1635\u001b[0m \u001b[32m━━━━━━━━━━━━━━━━━━━━\u001b[0m\u001b[37m\u001b[0m \u001b[1m49s\u001b[0m 30ms/step - accuracy: 0.6723 - loss: 1.1430 - val_accuracy: 0.6543 - val_loss: 1.4359 - learning_rate: 1.0000e-04\n",
      "Epoch 31/100\n",
      "\u001b[1m1635/1635\u001b[0m \u001b[32m━━━━━━━━━━━━━━━━━━━━\u001b[0m\u001b[37m\u001b[0m \u001b[1m0s\u001b[0m 28ms/step - accuracy: 0.6771 - loss: 1.1191\n",
      "Epoch 31: val_loss improved from 1.43446 to 1.41443, saving model to best_model.keras\n",
      "\u001b[1m1635/1635\u001b[0m \u001b[32m━━━━━━━━━━━━━━━━━━━━\u001b[0m\u001b[37m\u001b[0m \u001b[1m49s\u001b[0m 30ms/step - accuracy: 0.6771 - loss: 1.1191 - val_accuracy: 0.6601 - val_loss: 1.4144 - learning_rate: 1.0000e-04\n",
      "Epoch 32/100\n",
      "\u001b[1m1635/1635\u001b[0m \u001b[32m━━━━━━━━━━━━━━━━━━━━\u001b[0m\u001b[37m\u001b[0m \u001b[1m0s\u001b[0m 28ms/step - accuracy: 0.6868 - loss: 1.0882\n",
      "Epoch 32: val_loss did not improve from 1.41443\n",
      "\u001b[1m1635/1635\u001b[0m \u001b[32m━━━━━━━━━━━━━━━━━━━━\u001b[0m\u001b[37m\u001b[0m \u001b[1m49s\u001b[0m 30ms/step - accuracy: 0.6868 - loss: 1.0882 - val_accuracy: 0.6649 - val_loss: 1.4159 - learning_rate: 1.0000e-04\n",
      "Epoch 33/100\n",
      "\u001b[1m1635/1635\u001b[0m \u001b[32m━━━━━━━━━━━━━━━━━━━━\u001b[0m\u001b[37m\u001b[0m \u001b[1m0s\u001b[0m 28ms/step - accuracy: 0.6969 - loss: 1.0485\n",
      "Epoch 33: val_loss did not improve from 1.41443\n",
      "\u001b[1m1635/1635\u001b[0m \u001b[32m━━━━━━━━━━━━━━━━━━━━\u001b[0m\u001b[37m\u001b[0m \u001b[1m49s\u001b[0m 30ms/step - accuracy: 0.6969 - loss: 1.0485 - val_accuracy: 0.6566 - val_loss: 1.4478 - learning_rate: 1.0000e-04\n",
      "Epoch 34/100\n",
      "\u001b[1m1635/1635\u001b[0m \u001b[32m━━━━━━━━━━━━━━━━━━━━\u001b[0m\u001b[37m\u001b[0m \u001b[1m0s\u001b[0m 28ms/step - accuracy: 0.7042 - loss: 1.0199\n",
      "Epoch 34: val_loss improved from 1.41443 to 1.39915, saving model to best_model.keras\n",
      "\u001b[1m1635/1635\u001b[0m \u001b[32m━━━━━━━━━━━━━━━━━━━━\u001b[0m\u001b[37m\u001b[0m \u001b[1m49s\u001b[0m 30ms/step - accuracy: 0.7042 - loss: 1.0199 - val_accuracy: 0.6750 - val_loss: 1.3992 - learning_rate: 1.0000e-04\n",
      "Epoch 35/100\n",
      "\u001b[1m1635/1635\u001b[0m \u001b[32m━━━━━━━━━━━━━━━━━━━━\u001b[0m\u001b[37m\u001b[0m \u001b[1m0s\u001b[0m 28ms/step - accuracy: 0.7097 - loss: 1.0000\n",
      "Epoch 35: val_loss did not improve from 1.39915\n",
      "\u001b[1m1635/1635\u001b[0m \u001b[32m━━━━━━━━━━━━━━━━━━━━\u001b[0m\u001b[37m\u001b[0m \u001b[1m49s\u001b[0m 30ms/step - accuracy: 0.7097 - loss: 1.0000 - val_accuracy: 0.6600 - val_loss: 1.4627 - learning_rate: 1.0000e-04\n",
      "Epoch 36/100\n",
      "\u001b[1m1635/1635\u001b[0m \u001b[32m━━━━━━━━━━━━━━━━━━━━\u001b[0m\u001b[37m\u001b[0m \u001b[1m0s\u001b[0m 28ms/step - accuracy: 0.7168 - loss: 0.9718\n",
      "Epoch 36: val_loss did not improve from 1.39915\n",
      "\u001b[1m1635/1635\u001b[0m \u001b[32m━━━━━━━━━━━━━━━━━━━━\u001b[0m\u001b[37m\u001b[0m \u001b[1m49s\u001b[0m 30ms/step - accuracy: 0.7168 - loss: 0.9718 - val_accuracy: 0.6715 - val_loss: 1.4520 - learning_rate: 1.0000e-04\n",
      "Epoch 37/100\n",
      "\u001b[1m1635/1635\u001b[0m \u001b[32m━━━━━━━━━━━━━━━━━━━━\u001b[0m\u001b[37m\u001b[0m \u001b[1m0s\u001b[0m 28ms/step - accuracy: 0.7267 - loss: 0.9343\n",
      "Epoch 37: val_loss did not improve from 1.39915\n",
      "\u001b[1m1635/1635\u001b[0m \u001b[32m━━━━━━━━━━━━━━━━━━━━\u001b[0m\u001b[37m\u001b[0m \u001b[1m49s\u001b[0m 30ms/step - accuracy: 0.7267 - loss: 0.9343 - val_accuracy: 0.6771 - val_loss: 1.4302 - learning_rate: 1.0000e-04\n",
      "Epoch 38/100\n",
      "\u001b[1m1635/1635\u001b[0m \u001b[32m━━━━━━━━━━━━━━━━━━━━\u001b[0m\u001b[37m\u001b[0m \u001b[1m0s\u001b[0m 28ms/step - accuracy: 0.7305 - loss: 0.9188\n",
      "Epoch 38: val_loss did not improve from 1.39915\n",
      "\u001b[1m1635/1635\u001b[0m \u001b[32m━━━━━━━━━━━━━━━━━━━━\u001b[0m\u001b[37m\u001b[0m \u001b[1m49s\u001b[0m 30ms/step - accuracy: 0.7305 - loss: 0.9188 - val_accuracy: 0.6750 - val_loss: 1.4466 - learning_rate: 1.0000e-04\n",
      "Epoch 39/100\n",
      "\u001b[1m1635/1635\u001b[0m \u001b[32m━━━━━━━━━━━━━━━━━━━━\u001b[0m\u001b[37m\u001b[0m \u001b[1m0s\u001b[0m 28ms/step - accuracy: 0.7367 - loss: 0.8983\n",
      "Epoch 39: val_loss did not improve from 1.39915\n",
      "\u001b[1m1635/1635\u001b[0m \u001b[32m━━━━━━━━━━━━━━━━━━━━\u001b[0m\u001b[37m\u001b[0m \u001b[1m82s\u001b[0m 30ms/step - accuracy: 0.7367 - loss: 0.8983 - val_accuracy: 0.6788 - val_loss: 1.4583 - learning_rate: 1.0000e-04\n",
      "Epoch 40/100\n",
      "\u001b[1m1635/1635\u001b[0m \u001b[32m━━━━━━━━━━━━━━━━━━━━\u001b[0m\u001b[37m\u001b[0m \u001b[1m0s\u001b[0m 28ms/step - accuracy: 0.7434 - loss: 0.8711\n",
      "Epoch 40: val_loss did not improve from 1.39915\n",
      "\u001b[1m1635/1635\u001b[0m \u001b[32m━━━━━━━━━━━━━━━━━━━━\u001b[0m\u001b[37m\u001b[0m \u001b[1m49s\u001b[0m 30ms/step - accuracy: 0.7434 - loss: 0.8711 - val_accuracy: 0.6798 - val_loss: 1.4839 - learning_rate: 1.0000e-04\n",
      "Epoch 41/100\n",
      "\u001b[1m1635/1635\u001b[0m \u001b[32m━━━━━━━━━━━━━━━━━━━━\u001b[0m\u001b[37m\u001b[0m \u001b[1m0s\u001b[0m 28ms/step - accuracy: 0.7482 - loss: 0.8531\n",
      "Epoch 41: val_loss did not improve from 1.39915\n",
      "\u001b[1m1635/1635\u001b[0m \u001b[32m━━━━━━━━━━━━━━━━━━━━\u001b[0m\u001b[37m\u001b[0m \u001b[1m48s\u001b[0m 30ms/step - accuracy: 0.7482 - loss: 0.8531 - val_accuracy: 0.6690 - val_loss: 1.5384 - learning_rate: 1.0000e-04\n",
      "Epoch 42/100\n",
      "\u001b[1m1635/1635\u001b[0m \u001b[32m━━━━━━━━━━━━━━━━━━━━\u001b[0m\u001b[37m\u001b[0m \u001b[1m0s\u001b[0m 28ms/step - accuracy: 0.7552 - loss: 0.8295\n",
      "Epoch 42: val_loss did not improve from 1.39915\n",
      "\n",
      "Epoch 42: ReduceLROnPlateau reducing learning rate to 4.999999873689376e-05.\n",
      "\u001b[1m1635/1635\u001b[0m \u001b[32m━━━━━━━━━━━━━━━━━━━━\u001b[0m\u001b[37m\u001b[0m \u001b[1m48s\u001b[0m 30ms/step - accuracy: 0.7552 - loss: 0.8295 - val_accuracy: 0.6806 - val_loss: 1.5070 - learning_rate: 1.0000e-04\n",
      "Epoch 43/100\n",
      "\u001b[1m1635/1635\u001b[0m \u001b[32m━━━━━━━━━━━━━━━━━━━━\u001b[0m\u001b[37m\u001b[0m \u001b[1m0s\u001b[0m 28ms/step - accuracy: 0.7843 - loss: 0.7232\n",
      "Epoch 43: val_loss did not improve from 1.39915\n",
      "\u001b[1m1635/1635\u001b[0m \u001b[32m━━━━━━━━━━━━━━━━━━━━\u001b[0m\u001b[37m\u001b[0m \u001b[1m49s\u001b[0m 30ms/step - accuracy: 0.7843 - loss: 0.7232 - val_accuracy: 0.7077 - val_loss: 1.4595 - learning_rate: 5.0000e-05\n",
      "Epoch 44/100\n",
      "\u001b[1m1635/1635\u001b[0m \u001b[32m━━━━━━━━━━━━━━━━━━━━\u001b[0m\u001b[37m\u001b[0m \u001b[1m0s\u001b[0m 28ms/step - accuracy: 0.7984 - loss: 0.6743\n",
      "Epoch 44: val_loss did not improve from 1.39915\n",
      "\u001b[1m1635/1635\u001b[0m \u001b[32m━━━━━━━━━━━━━━━━━━━━\u001b[0m\u001b[37m\u001b[0m \u001b[1m49s\u001b[0m 30ms/step - accuracy: 0.7984 - loss: 0.6743 - val_accuracy: 0.7045 - val_loss: 1.5106 - learning_rate: 5.0000e-05\n",
      "Epoch 45/100\n",
      "\u001b[1m1635/1635\u001b[0m \u001b[32m━━━━━━━━━━━━━━━━━━━━\u001b[0m\u001b[37m\u001b[0m \u001b[1m0s\u001b[0m 28ms/step - accuracy: 0.8049 - loss: 0.6509\n",
      "Epoch 45: val_loss did not improve from 1.39915\n",
      "\u001b[1m1635/1635\u001b[0m \u001b[32m━━━━━━━━━━━━━━━━━━━━\u001b[0m\u001b[37m\u001b[0m \u001b[1m48s\u001b[0m 30ms/step - accuracy: 0.8049 - loss: 0.6509 - val_accuracy: 0.7035 - val_loss: 1.5297 - learning_rate: 5.0000e-05\n",
      "Epoch 46/100\n",
      "\u001b[1m1635/1635\u001b[0m \u001b[32m━━━━━━━━━━━━━━━━━━━━\u001b[0m\u001b[37m\u001b[0m \u001b[1m0s\u001b[0m 28ms/step - accuracy: 0.8093 - loss: 0.6356\n",
      "Epoch 46: val_loss did not improve from 1.39915\n",
      "\u001b[1m1635/1635\u001b[0m \u001b[32m━━━━━━━━━━━━━━━━━━━━\u001b[0m\u001b[37m\u001b[0m \u001b[1m49s\u001b[0m 30ms/step - accuracy: 0.8093 - loss: 0.6356 - val_accuracy: 0.7132 - val_loss: 1.5239 - learning_rate: 5.0000e-05\n",
      "Epoch 47/100\n",
      "\u001b[1m1635/1635\u001b[0m \u001b[32m━━━━━━━━━━━━━━━━━━━━\u001b[0m\u001b[37m\u001b[0m \u001b[1m0s\u001b[0m 28ms/step - accuracy: 0.8140 - loss: 0.6149\n",
      "Epoch 47: val_loss did not improve from 1.39915\n",
      "\u001b[1m1635/1635\u001b[0m \u001b[32m━━━━━━━━━━━━━━━━━━━━\u001b[0m\u001b[37m\u001b[0m \u001b[1m49s\u001b[0m 30ms/step - accuracy: 0.8140 - loss: 0.6149 - val_accuracy: 0.7076 - val_loss: 1.5644 - learning_rate: 5.0000e-05\n",
      "Epoch 48/100\n",
      "\u001b[1m1635/1635\u001b[0m \u001b[32m━━━━━━━━━━━━━━━━━━━━\u001b[0m\u001b[37m\u001b[0m \u001b[1m0s\u001b[0m 28ms/step - accuracy: 0.8199 - loss: 0.5987\n",
      "Epoch 48: val_loss did not improve from 1.39915\n",
      "\u001b[1m1635/1635\u001b[0m \u001b[32m━━━━━━━━━━━━━━━━━━━━\u001b[0m\u001b[37m\u001b[0m \u001b[1m49s\u001b[0m 30ms/step - accuracy: 0.8199 - loss: 0.5987 - val_accuracy: 0.7146 - val_loss: 1.5520 - learning_rate: 5.0000e-05\n",
      "Epoch 49/100\n",
      "\u001b[1m1635/1635\u001b[0m \u001b[32m━━━━━━━━━━━━━━━━━━━━\u001b[0m\u001b[37m\u001b[0m \u001b[1m0s\u001b[0m 28ms/step - accuracy: 0.8207 - loss: 0.5892\n",
      "Epoch 49: val_loss did not improve from 1.39915\n",
      "\u001b[1m1635/1635\u001b[0m \u001b[32m━━━━━━━━━━━━━━━━━━━━\u001b[0m\u001b[37m\u001b[0m \u001b[1m49s\u001b[0m 30ms/step - accuracy: 0.8207 - loss: 0.5892 - val_accuracy: 0.7054 - val_loss: 1.5976 - learning_rate: 5.0000e-05\n",
      "Epoch 50/100\n",
      "\u001b[1m1635/1635\u001b[0m \u001b[32m━━━━━━━━━━━━━━━━━━━━\u001b[0m\u001b[37m\u001b[0m \u001b[1m0s\u001b[0m 28ms/step - accuracy: 0.8280 - loss: 0.5687\n",
      "Epoch 50: val_loss did not improve from 1.39915\n",
      "\n",
      "Epoch 50: ReduceLROnPlateau reducing learning rate to 2.499999936844688e-05.\n",
      "\u001b[1m1635/1635\u001b[0m \u001b[32m━━━━━━━━━━━━━━━━━━━━\u001b[0m\u001b[37m\u001b[0m \u001b[1m49s\u001b[0m 30ms/step - accuracy: 0.8280 - loss: 0.5687 - val_accuracy: 0.7156 - val_loss: 1.5893 - learning_rate: 5.0000e-05\n",
      "Epoch 51/100\n",
      "\u001b[1m1635/1635\u001b[0m \u001b[32m━━━━━━━━━━━━━━━━━━━━\u001b[0m\u001b[37m\u001b[0m \u001b[1m0s\u001b[0m 28ms/step - accuracy: 0.8418 - loss: 0.5238\n",
      "Epoch 51: val_loss did not improve from 1.39915\n",
      "\u001b[1m1635/1635\u001b[0m \u001b[32m━━━━━━━━━━━━━━━━━━━━\u001b[0m\u001b[37m\u001b[0m \u001b[1m48s\u001b[0m 29ms/step - accuracy: 0.8418 - loss: 0.5238 - val_accuracy: 0.7240 - val_loss: 1.6029 - learning_rate: 2.5000e-05\n",
      "Epoch 52/100\n",
      "\u001b[1m1635/1635\u001b[0m \u001b[32m━━━━━━━━━━━━━━━━━━━━\u001b[0m\u001b[37m\u001b[0m \u001b[1m0s\u001b[0m 28ms/step - accuracy: 0.8493 - loss: 0.4945\n",
      "Epoch 52: val_loss did not improve from 1.39915\n",
      "\u001b[1m1635/1635\u001b[0m \u001b[32m━━━━━━━━━━━━━━━━━━━━\u001b[0m\u001b[37m\u001b[0m \u001b[1m49s\u001b[0m 30ms/step - accuracy: 0.8493 - loss: 0.4945 - val_accuracy: 0.7244 - val_loss: 1.6085 - learning_rate: 2.5000e-05\n",
      "Epoch 53/100\n",
      "\u001b[1m1635/1635\u001b[0m \u001b[32m━━━━━━━━━━━━━━━━━━━━\u001b[0m\u001b[37m\u001b[0m \u001b[1m0s\u001b[0m 28ms/step - accuracy: 0.8496 - loss: 0.4899\n",
      "Epoch 53: val_loss did not improve from 1.39915\n",
      "\u001b[1m1635/1635\u001b[0m \u001b[32m━━━━━━━━━━━━━━━━━━━━\u001b[0m\u001b[37m\u001b[0m \u001b[1m49s\u001b[0m 30ms/step - accuracy: 0.8496 - loss: 0.4899 - val_accuracy: 0.7248 - val_loss: 1.6208 - learning_rate: 2.5000e-05\n",
      "Epoch 54/100\n",
      "\u001b[1m1635/1635\u001b[0m \u001b[32m━━━━━━━━━━━━━━━━━━━━\u001b[0m\u001b[37m\u001b[0m \u001b[1m0s\u001b[0m 28ms/step - accuracy: 0.8546 - loss: 0.4770\n",
      "Epoch 54: val_loss did not improve from 1.39915\n",
      "\u001b[1m1635/1635\u001b[0m \u001b[32m━━━━━━━━━━━━━━━━━━━━\u001b[0m\u001b[37m\u001b[0m \u001b[1m50s\u001b[0m 30ms/step - accuracy: 0.8546 - loss: 0.4770 - val_accuracy: 0.7286 - val_loss: 1.6318 - learning_rate: 2.5000e-05\n",
      "Epoch 55/100\n",
      "\u001b[1m1635/1635\u001b[0m \u001b[32m━━━━━━━━━━━━━━━━━━━━\u001b[0m\u001b[37m\u001b[0m \u001b[1m0s\u001b[0m 28ms/step - accuracy: 0.8560 - loss: 0.4663\n",
      "Epoch 55: val_loss did not improve from 1.39915\n",
      "\u001b[1m1635/1635\u001b[0m \u001b[32m━━━━━━━━━━━━━━━━━━━━\u001b[0m\u001b[37m\u001b[0m \u001b[1m49s\u001b[0m 30ms/step - accuracy: 0.8560 - loss: 0.4663 - val_accuracy: 0.7272 - val_loss: 1.6533 - learning_rate: 2.5000e-05\n",
      "Epoch 56/100\n",
      "\u001b[1m1635/1635\u001b[0m \u001b[32m━━━━━━━━━━━━━━━━━━━━\u001b[0m\u001b[37m\u001b[0m \u001b[1m0s\u001b[0m 28ms/step - accuracy: 0.8575 - loss: 0.4621\n",
      "Epoch 56: val_loss did not improve from 1.39915\n",
      "\u001b[1m1635/1635\u001b[0m \u001b[32m━━━━━━━━━━━━━━━━━━━━\u001b[0m\u001b[37m\u001b[0m \u001b[1m49s\u001b[0m 30ms/step - accuracy: 0.8575 - loss: 0.4621 - val_accuracy: 0.7287 - val_loss: 1.6603 - learning_rate: 2.5000e-05\n",
      "Epoch 57/100\n",
      "\u001b[1m1635/1635\u001b[0m \u001b[32m━━━━━━━━━━━━━━━━━━━━\u001b[0m\u001b[37m\u001b[0m \u001b[1m0s\u001b[0m 28ms/step - accuracy: 0.8606 - loss: 0.4527\n",
      "Epoch 57: val_loss did not improve from 1.39915\n",
      "\u001b[1m1635/1635\u001b[0m \u001b[32m━━━━━━━━━━━━━━━━━━━━\u001b[0m\u001b[37m\u001b[0m \u001b[1m49s\u001b[0m 30ms/step - accuracy: 0.8606 - loss: 0.4527 - val_accuracy: 0.7286 - val_loss: 1.6694 - learning_rate: 2.5000e-05\n",
      "Epoch 58/100\n",
      "\u001b[1m1635/1635\u001b[0m \u001b[32m━━━━━━━━━━━━━━━━━━━━\u001b[0m\u001b[37m\u001b[0m \u001b[1m0s\u001b[0m 28ms/step - accuracy: 0.8618 - loss: 0.4474\n",
      "Epoch 58: val_loss did not improve from 1.39915\n",
      "\n",
      "Epoch 58: ReduceLROnPlateau reducing learning rate to 1.249999968422344e-05.\n",
      "\u001b[1m1635/1635\u001b[0m \u001b[32m━━━━━━━━━━━━━━━━━━━━\u001b[0m\u001b[37m\u001b[0m \u001b[1m49s\u001b[0m 30ms/step - accuracy: 0.8618 - loss: 0.4474 - val_accuracy: 0.7275 - val_loss: 1.6935 - learning_rate: 2.5000e-05\n",
      "Epoch 59/100\n",
      "\u001b[1m1635/1635\u001b[0m \u001b[32m━━━━━━━━━━━━━━━━━━━━\u001b[0m\u001b[37m\u001b[0m \u001b[1m0s\u001b[0m 28ms/step - accuracy: 0.8704 - loss: 0.4201\n",
      "Epoch 59: val_loss did not improve from 1.39915\n",
      "\u001b[1m1635/1635\u001b[0m \u001b[32m━━━━━━━━━━━━━━━━━━━━\u001b[0m\u001b[37m\u001b[0m \u001b[1m49s\u001b[0m 30ms/step - accuracy: 0.8704 - loss: 0.4201 - val_accuracy: 0.7340 - val_loss: 1.6790 - learning_rate: 1.2500e-05\n",
      "Epoch 60/100\n",
      "\u001b[1m1635/1635\u001b[0m \u001b[32m━━━━━━━━━━━━━━━━━━━━\u001b[0m\u001b[37m\u001b[0m \u001b[1m0s\u001b[0m 28ms/step - accuracy: 0.8753 - loss: 0.4048\n",
      "Epoch 60: val_loss did not improve from 1.39915\n",
      "\u001b[1m1635/1635\u001b[0m \u001b[32m━━━━━━━━━━━━━━━━━━━━\u001b[0m\u001b[37m\u001b[0m \u001b[1m49s\u001b[0m 30ms/step - accuracy: 0.8753 - loss: 0.4048 - val_accuracy: 0.7329 - val_loss: 1.6918 - learning_rate: 1.2500e-05\n",
      "Epoch 61/100\n",
      "\u001b[1m1635/1635\u001b[0m \u001b[32m━━━━━━━━━━━━━━━━━━━━\u001b[0m\u001b[37m\u001b[0m \u001b[1m0s\u001b[0m 28ms/step - accuracy: 0.8759 - loss: 0.4022\n",
      "Epoch 61: val_loss did not improve from 1.39915\n",
      "\u001b[1m1635/1635\u001b[0m \u001b[32m━━━━━━━━━━━━━━━━━━━━\u001b[0m\u001b[37m\u001b[0m \u001b[1m49s\u001b[0m 30ms/step - accuracy: 0.8759 - loss: 0.4022 - val_accuracy: 0.7354 - val_loss: 1.7070 - learning_rate: 1.2500e-05\n",
      "Epoch 62/100\n",
      "\u001b[1m1635/1635\u001b[0m \u001b[32m━━━━━━━━━━━━━━━━━━━━\u001b[0m\u001b[37m\u001b[0m \u001b[1m0s\u001b[0m 28ms/step - accuracy: 0.8772 - loss: 0.3960\n",
      "Epoch 62: val_loss did not improve from 1.39915\n",
      "\u001b[1m1635/1635\u001b[0m \u001b[32m━━━━━━━━━━━━━━━━━━━━\u001b[0m\u001b[37m\u001b[0m \u001b[1m49s\u001b[0m 30ms/step - accuracy: 0.8772 - loss: 0.3960 - val_accuracy: 0.7354 - val_loss: 1.7163 - learning_rate: 1.2500e-05\n",
      "Epoch 63/100\n",
      "\u001b[1m1635/1635\u001b[0m \u001b[32m━━━━━━━━━━━━━━━━━━━━\u001b[0m\u001b[37m\u001b[0m \u001b[1m0s\u001b[0m 28ms/step - accuracy: 0.8796 - loss: 0.3932\n",
      "Epoch 63: val_loss did not improve from 1.39915\n",
      "\u001b[1m1635/1635\u001b[0m \u001b[32m━━━━━━━━━━━━━━━━━━━━\u001b[0m\u001b[37m\u001b[0m \u001b[1m48s\u001b[0m 30ms/step - accuracy: 0.8796 - loss: 0.3932 - val_accuracy: 0.7361 - val_loss: 1.7226 - learning_rate: 1.2500e-05\n",
      "Epoch 64/100\n",
      "\u001b[1m1635/1635\u001b[0m \u001b[32m━━━━━━━━━━━━━━━━━━━━\u001b[0m\u001b[37m\u001b[0m \u001b[1m0s\u001b[0m 28ms/step - accuracy: 0.8809 - loss: 0.3883\n",
      "Epoch 64: val_loss did not improve from 1.39915\n",
      "\u001b[1m1635/1635\u001b[0m \u001b[32m━━━━━━━━━━━━━━━━━━━━\u001b[0m\u001b[37m\u001b[0m \u001b[1m49s\u001b[0m 30ms/step - accuracy: 0.8809 - loss: 0.3883 - val_accuracy: 0.7357 - val_loss: 1.7370 - learning_rate: 1.2500e-05\n",
      "Epoch 65/100\n",
      "\u001b[1m1635/1635\u001b[0m \u001b[32m━━━━━━━━━━━━━━━━━━━━\u001b[0m\u001b[37m\u001b[0m \u001b[1m0s\u001b[0m 28ms/step - accuracy: 0.8823 - loss: 0.3827\n",
      "Epoch 65: val_loss did not improve from 1.39915\n",
      "\u001b[1m1635/1635\u001b[0m \u001b[32m━━━━━━━━━━━━━━━━━━━━\u001b[0m\u001b[37m\u001b[0m \u001b[1m48s\u001b[0m 30ms/step - accuracy: 0.8823 - loss: 0.3827 - val_accuracy: 0.7352 - val_loss: 1.7366 - learning_rate: 1.2500e-05\n",
      "Epoch 66/100\n",
      "\u001b[1m1635/1635\u001b[0m \u001b[32m━━━━━━━━━━━━━━━━━━━━\u001b[0m\u001b[37m\u001b[0m \u001b[1m0s\u001b[0m 28ms/step - accuracy: 0.8822 - loss: 0.3799\n",
      "Epoch 66: val_loss did not improve from 1.39915\n",
      "\n",
      "Epoch 66: ReduceLROnPlateau reducing learning rate to 6.24999984211172e-06.\n",
      "\u001b[1m1635/1635\u001b[0m \u001b[32m━━━━━━━━━━━━━━━━━━━━\u001b[0m\u001b[37m\u001b[0m \u001b[1m49s\u001b[0m 30ms/step - accuracy: 0.8822 - loss: 0.3799 - val_accuracy: 0.7375 - val_loss: 1.7392 - learning_rate: 1.2500e-05\n",
      "Epoch 67/100\n",
      "\u001b[1m1635/1635\u001b[0m \u001b[32m━━━━━━━━━━━━━━━━━━━━\u001b[0m\u001b[37m\u001b[0m \u001b[1m0s\u001b[0m 28ms/step - accuracy: 0.8839 - loss: 0.3715\n",
      "Epoch 67: val_loss did not improve from 1.39915\n",
      "\u001b[1m1635/1635\u001b[0m \u001b[32m━━━━━━━━━━━━━━━━━━━━\u001b[0m\u001b[37m\u001b[0m \u001b[1m49s\u001b[0m 30ms/step - accuracy: 0.8839 - loss: 0.3715 - val_accuracy: 0.7385 - val_loss: 1.7410 - learning_rate: 6.2500e-06\n",
      "Epoch 68/100\n",
      "\u001b[1m1635/1635\u001b[0m \u001b[32m━━━━━━━━━━━━━━━━━━━━\u001b[0m\u001b[37m\u001b[0m \u001b[1m0s\u001b[0m 28ms/step - accuracy: 0.8870 - loss: 0.3656\n",
      "Epoch 68: val_loss did not improve from 1.39915\n",
      "\u001b[1m1635/1635\u001b[0m \u001b[32m━━━━━━━━━━━━━━━━━━━━\u001b[0m\u001b[37m\u001b[0m \u001b[1m48s\u001b[0m 30ms/step - accuracy: 0.8870 - loss: 0.3656 - val_accuracy: 0.7398 - val_loss: 1.7460 - learning_rate: 6.2500e-06\n",
      "Epoch 69/100\n",
      "\u001b[1m1635/1635\u001b[0m \u001b[32m━━━━━━━━━━━━━━━━━━━━\u001b[0m\u001b[37m\u001b[0m \u001b[1m0s\u001b[0m 28ms/step - accuracy: 0.8913 - loss: 0.3542\n",
      "Epoch 69: val_loss did not improve from 1.39915\n",
      "\u001b[1m1635/1635\u001b[0m \u001b[32m━━━━━━━━━━━━━━━━━━━━\u001b[0m\u001b[37m\u001b[0m \u001b[1m48s\u001b[0m 30ms/step - accuracy: 0.8913 - loss: 0.3542 - val_accuracy: 0.7390 - val_loss: 1.7510 - learning_rate: 6.2500e-06\n",
      "Epoch 70/100\n",
      "\u001b[1m1634/1635\u001b[0m \u001b[32m━━━━━━━━━━━━━━━━━━━\u001b[0m\u001b[37m━\u001b[0m \u001b[1m0s\u001b[0m 28ms/step - accuracy: 0.8892 - loss: 0.3598\n",
      "Epoch 70: val_loss did not improve from 1.39915\n",
      "\u001b[1m1635/1635\u001b[0m \u001b[32m━━━━━━━━━━━━━━━━━━━━\u001b[0m\u001b[37m\u001b[0m \u001b[1m49s\u001b[0m 30ms/step - accuracy: 0.8892 - loss: 0.3598 - val_accuracy: 0.7388 - val_loss: 1.7525 - learning_rate: 6.2500e-06\n",
      "Epoch 71/100\n",
      "\u001b[1m1635/1635\u001b[0m \u001b[32m━━━━━━━━━━━━━━━━━━━━\u001b[0m\u001b[37m\u001b[0m \u001b[1m0s\u001b[0m 28ms/step - accuracy: 0.8912 - loss: 0.3520\n",
      "Epoch 71: val_loss did not improve from 1.39915\n",
      "\u001b[1m1635/1635\u001b[0m \u001b[32m━━━━━━━━━━━━━━━━━━━━\u001b[0m\u001b[37m\u001b[0m \u001b[1m49s\u001b[0m 30ms/step - accuracy: 0.8912 - loss: 0.3520 - val_accuracy: 0.7402 - val_loss: 1.7600 - learning_rate: 6.2500e-06\n",
      "Epoch 72/100\n",
      "\u001b[1m1635/1635\u001b[0m \u001b[32m━━━━━━━━━━━━━━━━━━━━\u001b[0m\u001b[37m\u001b[0m \u001b[1m0s\u001b[0m 28ms/step - accuracy: 0.8889 - loss: 0.3556\n",
      "Epoch 72: val_loss did not improve from 1.39915\n",
      "\u001b[1m1635/1635\u001b[0m \u001b[32m━━━━━━━━━━━━━━━━━━━━\u001b[0m\u001b[37m\u001b[0m \u001b[1m50s\u001b[0m 30ms/step - accuracy: 0.8889 - loss: 0.3556 - val_accuracy: 0.7407 - val_loss: 1.7637 - learning_rate: 6.2500e-06\n",
      "Epoch 73/100\n",
      "\u001b[1m1635/1635\u001b[0m \u001b[32m━━━━━━━━━━━━━━━━━━━━\u001b[0m\u001b[37m\u001b[0m \u001b[1m0s\u001b[0m 29ms/step - accuracy: 0.8923 - loss: 0.3494\n",
      "Epoch 73: val_loss did not improve from 1.39915\n",
      "\u001b[1m1635/1635\u001b[0m \u001b[32m━━━━━━━━━━━━━━━━━━━━\u001b[0m\u001b[37m\u001b[0m \u001b[1m50s\u001b[0m 30ms/step - accuracy: 0.8923 - loss: 0.3494 - val_accuracy: 0.7392 - val_loss: 1.7789 - learning_rate: 6.2500e-06\n",
      "Epoch 74/100\n",
      "\u001b[1m1635/1635\u001b[0m \u001b[32m━━━━━━━━━━━━━━━━━━━━\u001b[0m\u001b[37m\u001b[0m \u001b[1m0s\u001b[0m 29ms/step - accuracy: 0.8918 - loss: 0.3509\n",
      "Epoch 74: val_loss did not improve from 1.39915\n",
      "\n",
      "Epoch 74: ReduceLROnPlateau reducing learning rate to 3.12499992105586e-06.\n",
      "\u001b[1m1635/1635\u001b[0m \u001b[32m━━━━━━━━━━━━━━━━━━━━\u001b[0m\u001b[37m\u001b[0m \u001b[1m51s\u001b[0m 31ms/step - accuracy: 0.8918 - loss: 0.3509 - val_accuracy: 0.7395 - val_loss: 1.7733 - learning_rate: 6.2500e-06\n",
      "Epoch 74: early stopping\n"
     ]
    }
   ],
   "source": [
    "epochs = 100\n",
    "batch_size = 128\n",
    "\n",
    "history = model.fit(x_train, y_train,\n",
    "                    validation_data=(x_test, y_test),  # Use test data as \"validation\" during training\n",
    "                    epochs=epochs,\n",
    "                    batch_size=batch_size,\n",
    "                    callbacks=[checkpoint, reduce_lr, early_stopping])"
   ]
  },
  {
   "cell_type": "markdown",
   "metadata": {},
   "source": [
    "## Results"
   ]
  },
  {
   "cell_type": "code",
   "execution_count": 12,
   "metadata": {
    "execution": {
     "iopub.execute_input": "2024-11-03T08:32:32.856337Z",
     "iopub.status.busy": "2024-11-03T08:32:32.856024Z",
     "iopub.status.idle": "2024-11-03T08:32:49.246052Z",
     "shell.execute_reply": "2024-11-03T08:32:49.245092Z",
     "shell.execute_reply.started": "2024-11-03T08:32:32.856304Z"
    },
    "trusted": true
   },
   "outputs": [
    {
     "name": "stdout",
     "output_type": "stream",
     "text": [
      "Validation Accuracy (Holdout): 0.7408, Validation Loss (Holdout): 1.7784\n",
      "Test Accuracy: 0.7395, Test Loss: 1.7733\n"
     ]
    }
   ],
   "source": [
    "val_loss, val_accuracy = model.evaluate(x_val, y_val, verbose=0)\n",
    "print(f\"Validation Accuracy (Holdout): {val_accuracy:.4f}, Validation Loss (Holdout): {val_loss:.4f}\")\n",
    "\n",
    "test_loss, test_accuracy = model.evaluate(x_test, y_test, verbose=0)\n",
    "print(f\"Test Accuracy: {test_accuracy:.4f}, Test Loss: {test_loss:.4f}\")"
   ]
  },
  {
   "cell_type": "code",
   "execution_count": 13,
   "metadata": {
    "execution": {
     "iopub.execute_input": "2024-11-03T08:32:49.247649Z",
     "iopub.status.busy": "2024-11-03T08:32:49.247299Z",
     "iopub.status.idle": "2024-11-03T08:32:49.435198Z",
     "shell.execute_reply": "2024-11-03T08:32:49.434233Z",
     "shell.execute_reply.started": "2024-11-03T08:32:49.247608Z"
    },
    "trusted": true
   },
   "outputs": [],
   "source": [
    "model.save(\"bestModel.h5\")"
   ]
  },
  {
   "cell_type": "code",
   "execution_count": 16,
   "metadata": {
    "execution": {
     "iopub.execute_input": "2024-11-03T08:35:39.040019Z",
     "iopub.status.busy": "2024-11-03T08:35:39.039640Z",
     "iopub.status.idle": "2024-11-03T08:35:39.626673Z",
     "shell.execute_reply": "2024-11-03T08:35:39.625734Z",
     "shell.execute_reply.started": "2024-11-03T08:35:39.039984Z"
    },
    "trusted": true
   },
   "outputs": [
    {
     "data": {
      "image/png": "[encoded data removed]",
      "text/plain": [
       "<Figure size 1200x400 with 2 Axes>"
      ]
     },
     "metadata": {},
     "output_type": "display_data"
    }
   ],
   "source": [
    "import matplotlib.pyplot as plt\n",
    "plt.figure(figsize=(12, 4))\n",
    "plt.subplot(1, 2, 1)\n",
    "plt.plot(history.history['accuracy'], label='Train Accuracy')\n",
    "plt.plot(history.history['val_accuracy'], label='Test Accuracy (used during training)')\n",
    "plt.title('Model Accuracy')\n",
    "plt.xlabel('Epoch')\n",
    "plt.ylabel('Accuracy')\n",
    "plt.legend()\n",
    "\n",
    "plt.subplot(1, 2, 2)\n",
    "plt.plot(history.history['loss'], label='Train Loss')\n",
    "plt.plot(history.history['val_loss'], label='Test Loss (used during training)')\n",
    "plt.title('Model Loss')\n",
    "plt.xlabel('Epoch')\n",
    "plt.ylabel('Loss')\n",
    "plt.legend()\n",
    "\n",
    "plt.tight_layout()\n",
    "plt.show()"
   ]
  },
  {
   "cell_type": "code",
   "execution_count": 30,
   "metadata": {
    "execution": {
     "iopub.execute_input": "2024-11-03T08:51:55.797198Z",
     "iopub.status.busy": "2024-11-03T08:51:55.796317Z",
     "iopub.status.idle": "2024-11-03T08:52:02.160976Z",
     "shell.execute_reply": "2024-11-03T08:52:02.160023Z",
     "shell.execute_reply.started": "2024-11-03T08:51:55.797152Z"
    },
    "trusted": true
   },
   "outputs": [
    {
     "name": "stdout",
     "output_type": "stream",
     "text": [
      "\u001b[1m1402/1402\u001b[0m \u001b[32m━━━━━━━━━━━━━━━━━━━━\u001b[0m\u001b[37m\u001b[0m \u001b[1m5s\u001b[0m 4ms/step\n",
      "Top-3 Accuracy on Validation Set: 0.8128\n"
     ]
    }
   ],
   "source": [
    "from tensorflow.keras.metrics import top_k_categorical_accuracy\n",
    "y_val_pred = model.predict(x_val)\n",
    "y_val_pred_classes = np.argmax(y_val_pred, axis=1)\n",
    "def top_k_accuracy(y_true, y_pred, k=5):\n",
    "    return top_k_categorical_accuracy(y_true, y_pred, k)\n",
    "\n",
    "top_5_accuracy = top_k_accuracy(np.eye(num_classes)[y_val], y_val_pred, k=3)\n",
    "print(f\"Top-3 Accuracy on Validation Set: {np.mean(top_5_accuracy):.4f}\")"
   ]
  },
  {
   "cell_type": "code",
   "execution_count": 20,
   "metadata": {
    "execution": {
     "iopub.execute_input": "2024-11-03T08:38:57.143726Z",
     "iopub.status.busy": "2024-11-03T08:38:57.143356Z",
     "iopub.status.idle": "2024-11-03T08:38:57.832275Z",
     "shell.execute_reply": "2024-11-03T08:38:57.831291Z",
     "shell.execute_reply.started": "2024-11-03T08:38:57.143691Z"
    },
    "trusted": true
   },
   "outputs": [
    {
     "data": {
      "image/png": "[encoded data removed]",
      "text/plain": [
       "<Figure size 1400x600 with 1 Axes>"
      ]
     },
     "metadata": {},
     "output_type": "display_data"
    }
   ],
   "source": [
    "from sklearn.metrics import f1_score\n",
    "\n",
    "f1_scores = f1_score(y_val, y_val_pred_classes, average=None)\n",
    "\n",
    "plt.figure(figsize=(14, 6))\n",
    "plt.bar(range(num_classes), f1_scores, color='skyblue')\n",
    "plt.title('F1 Scores for Each Class on Validation Set')\n",
    "plt.xlabel('Class')\n",
    "plt.ylabel('F1 Score')\n",
    "plt.show()"
   ]
  },
  {
   "cell_type": "code",
   "execution_count": 23,
   "metadata": {
    "execution": {
     "iopub.execute_input": "2024-11-03T08:39:46.817271Z",
     "iopub.status.busy": "2024-11-03T08:39:46.816901Z",
     "iopub.status.idle": "2024-11-03T08:39:47.482240Z",
     "shell.execute_reply": "2024-11-03T08:39:47.481128Z",
     "shell.execute_reply.started": "2024-11-03T08:39:46.817237Z"
    },
    "trusted": true
   },
   "outputs": [
    {
     "data": {
      "image/png": "[encoded data removed]",
      "text/plain": [
       "<Figure size 1400x600 with 1 Axes>"
      ]
     },
     "metadata": {},
     "output_type": "display_data"
    }
   ],
   "source": [
    "from sklearn.metrics import confusion_matrix\n",
    "conf_matrix = confusion_matrix(y_val, y_val_pred_classes)\n",
    "\n",
    "class_accuracy = np.diag(conf_matrix) / conf_matrix.sum(axis=1)\n",
    "\n",
    "plt.figure(figsize=(14, 6))\n",
    "plt.bar(range(num_classes), class_accuracy, color='lightcoral')\n",
    "plt.title('Per-Class Accuracy on Validation Set')\n",
    "plt.xlabel('Class')\n",
    "plt.ylabel('Accuracy')\n",
    "plt.show()"
   ]
  },
  {
   "cell_type": "code",
   "execution_count": 34,
   "metadata": {
    "execution": {
     "iopub.execute_input": "2024-11-03T08:53:29.122448Z",
     "iopub.status.busy": "2024-11-03T08:53:29.121672Z",
     "iopub.status.idle": "2024-11-03T08:53:29.260767Z",
     "shell.execute_reply": "2024-11-03T08:53:29.259869Z",
     "shell.execute_reply.started": "2024-11-03T08:53:29.122406Z"
    },
    "trusted": true
   },
   "outputs": [
    {
     "name": "stdout",
     "output_type": "stream",
     "text": [
      "Top 10 Misclassified Class Pairs with Labels:\n",
      "         True Class Predicted Class  Count\n",
      "66308  train ticket            Boat     21\n",
      "63363           she              he     19\n",
      "4214        Bicycle            Boat     18\n",
      "21940       Husband            Wife     17\n",
      "8045            Car           Truck     17\n",
      "6967        Brother          Sister     17\n",
      "58383       healthy           happy     17\n",
      "4720           Bird          Animal     16\n",
      "5949           Boat           Truck     15\n",
      "7888            Car             Bus     15\n"
     ]
    }
   ],
   "source": [
    "import joblib\n",
    "\n",
    "label_encoder = joblib.load('/kaggle/working/label_encoder.pkl')\n",
    "\n",
    "y_true_labels = label_encoder.inverse_transform(y_true)\n",
    "y_pred_labels = label_encoder.inverse_transform(y_pred_class)\n",
    "\n",
    "conf_matrix = confusion_matrix(y_true_labels, y_pred_labels)\n",
    "conf_matrix_df = pd.DataFrame(conf_matrix, index=label_encoder.classes_, columns=label_encoder.classes_)\n",
    "\n",
    "np.fill_diagonal(conf_matrix, 0)\n",
    "\n",
    "misclassified_counts = conf_matrix_df.stack().reset_index()\n",
    "misclassified_counts.columns = ['True Class', 'Predicted Class', 'Count']\n",
    "misclassified_counts = misclassified_counts[misclassified_counts['Count'] > 0]\n",
    "\n",
    "top_misclassified_pairs = misclassified_counts.sort_values(by='Count', ascending=False).head(10)\n",
    "\n",
    "print(\"Top 10 Misclassified Class Pairs with Labels:\")\n",
    "print(top_misclassified_pairs)"
   ]
  }
 ],
 "metadata": {
  "kaggle": {
   "accelerator": "gpu",
   "dataSources": [
    {
     "sourceId": 204792626,
     "sourceType": "kernelVersion"
    }
   ],
   "dockerImageVersionId": 30787,
   "isGpuEnabled": true,
   "isInternetEnabled": true,
   "language": "python",
   "sourceType": "notebook"
  },
  "kernelspec": {
   "display_name": "Python 3",
   "language": "python",
   "name": "python3"
  },
  "language_info": {
   "codemirror_mode": {
    "name": "ipython",
    "version": 3
   },
   "file_extension": ".py",
   "mimetype": "text/x-python",
   "name": "python",
   "nbconvert_exporter": "python",
   "pygments_lexer": "ipython3",
   "version": "3.10.14"
  }
 },
 "nbformat": 4,
 "nbformat_minor": 4
}
