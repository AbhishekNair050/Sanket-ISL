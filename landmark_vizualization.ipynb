{
 "cells": [
  {
   "cell_type": "code",
   "execution_count": null,
   "metadata": {},
   "outputs": [
    {
     "name": "stdout",
     "output_type": "stream",
     "text": [
      "111\n"
     ]
    }
   ],
   "source": [
    "import cv2\n",
    "import mediapipe as mp\n",
    "mp_hands = mp.solutions.hands\n",
    "mp_face_mesh = mp.solutions.face_mesh\n",
    "mp_pose = mp.solutions.pose\n",
    "hands = mp_hands.Hands(static_image_mode=False, \n",
    "                       max_num_hands=2, \n",
    "                       min_detection_confidence=0.5, \n",
    "                       min_tracking_confidence=0.5)\n",
    "face_mesh = mp_face_mesh.FaceMesh(static_image_mode=False, \n",
    "                                  max_num_faces=1, \n",
    "                                  min_detection_confidence=0.5, \n",
    "                                  min_tracking_confidence=0.5)\n",
    "pose = mp_pose.Pose(static_image_mode=False,\n",
    "                    min_detection_confidence=0.5,\n",
    "                    min_tracking_confidence=0.5)\n",
    "\n",
    "filtered_hand = list(range(21))\n",
    "filtered_pose = [0, 5, 6, 7, 8, 9, 10, 11, 12, 13, 14, 15, 16, 23, 24, 25, 26, 27, 28]\n",
    "filtered_face = [10, 152, 14, 7, 8, 144, 145, 146, 153, 154, 155, 158, 159, 160, 161, 163, 362, 385, 387, 388, 390, 398, 400, 402, 417, 419, 420, 421, 423, 424, 425, 426, 427, 428, 429, 430, 436, 437, 438, 439, 440, 441, 442, 443, 444, 445, 446, 447, 448, 449]\n",
    "# Constants for padding\n",
    "POSE_LANDMARKS = len(filtered_pose)\n",
    "FACE_LANDMARKS = len(filtered_face)\n",
    "HAND_LANDMARKS = len(filtered_hand)\n",
    "TOTAL_LANDMARKS = POSE_LANDMARKS + FACE_LANDMARKS + (2 * HAND_LANDMARKS)\n",
    "print(TOTAL_LANDMARKS)\n",
    "def extract_landmarks_from_video(video_path, output_path):\n",
    "    cap = cv2.VideoCapture(video_path)\n",
    "    frame_width = int(cap.get(cv2.CAP_PROP_FRAME_WIDTH))\n",
    "    frame_height = int(cap.get(cv2.CAP_PROP_FRAME_HEIGHT))\n",
    "    fps = int(cap.get(cv2.CAP_PROP_FPS))\n",
    "\n",
    "    out = cv2.VideoWriter(output_path, cv2.VideoWriter_fourcc(*'mp4v'), fps, (frame_width, frame_height))\n",
    "\n",
    "    while cap.isOpened():\n",
    "        ret, frame = cap.read()\n",
    "        if not ret:\n",
    "            break\n",
    "\n",
    "        image_rgb = cv2.cvtColor(frame, cv2.COLOR_BGR2RGB)\n",
    "\n",
    "        hand_results = hands.process(image_rgb)\n",
    "        face_results = face_mesh.process(image_rgb)\n",
    "        pose_results = pose.process(image_rgb)\n",
    "\n",
    "        if face_results.multi_face_landmarks:\n",
    "            for face_landmarks in face_results.multi_face_landmarks:\n",
    "                for id in filtered_face:\n",
    "                    landmark = face_landmarks.landmark[id]\n",
    "                    h, w, _ = frame.shape\n",
    "                    cx, cy = int(landmark.x * w), int(landmark.y * h)\n",
    "                    cv2.circle(frame, (cx, cy), 2, (255, 0, 0), -1) \n",
    "\n",
    "        if hand_results.multi_hand_landmarks:\n",
    "            for hand_landmarks in hand_results.multi_hand_landmarks:\n",
    "                for id in filtered_hand:\n",
    "                    landmark = hand_landmarks.landmark[id]\n",
    "                    h, w, _ = frame.shape\n",
    "                    cx, cy = int(landmark.x * w), int(landmark.y * h)\n",
    "                    cv2.circle(frame, (cx, cy), 2, (0, 255, 0), -1)  \n",
    "\n",
    "        if pose_results.pose_landmarks:\n",
    "            for id in filtered_pose:\n",
    "                landmark = pose_results.pose_landmarks.landmark[id]\n",
    "                h, w, _ = frame.shape\n",
    "                cx, cy = int(landmark.x * w), int(landmark.y * h)\n",
    "                cv2.circle(frame, (cx, cy), 2, (0, 0, 255), -1) \n",
    "\n",
    "        out.write(frame)\n",
    "\n",
    "    cap.release()\n",
    "    out.release()\n",
    "\n",
    "extract_landmarks_from_video('MVI_5177.MOV', 'output_video.mp4')\n"
   ]
  }
 ],
 "metadata": {
  "kernelspec": {
   "display_name": "Python 3",
   "language": "python",
   "name": "python3"
  },
  "language_info": {
   "codemirror_mode": {
    "name": "ipython",
    "version": 3
   },
   "file_extension": ".py",
   "mimetype": "text/x-python",
   "name": "python",
   "nbconvert_exporter": "python",
   "pygments_lexer": "ipython3",
   "version": "3.11.2"
  }
 },
 "nbformat": 4,
 "nbformat_minor": 2
}
