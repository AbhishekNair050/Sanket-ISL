{
 "cells": [
  {
   "cell_type": "code",
   "execution_count": 1,
   "id": "d11b8607",
   "metadata": {
    "execution": {
     "iopub.execute_input": "2024-11-02T08:26:21.172393Z",
     "iopub.status.busy": "2024-11-02T08:26:21.171963Z",
     "iopub.status.idle": "2024-11-02T08:26:51.960639Z",
     "shell.execute_reply": "2024-11-02T08:26:51.959350Z"
    },
    "papermill": {
     "duration": 30.796103,
     "end_time": "2024-11-02T08:26:51.963324",
     "exception": false,
     "start_time": "2024-11-02T08:26:21.167221",
     "status": "completed"
    },
    "tags": []
   },
   "outputs": [
    {
     "name": "stdout",
     "output_type": "stream",
     "text": [
      "\u001b[31mERROR: pip's dependency resolver does not currently take into account all the packages that are installed. This behaviour is the source of the following dependency conflicts.\r\n",
      "apache-beam 2.46.0 requires cloudpickle~=2.2.1, but you have cloudpickle 3.0.0 which is incompatible.\r\n",
      "apache-beam 2.46.0 requires dill<0.3.2,>=0.3.1.1, but you have dill 0.3.8 which is incompatible.\r\n",
      "apache-beam 2.46.0 requires numpy<1.25.0,>=1.14.3, but you have numpy 1.26.4 which is incompatible.\r\n",
      "apache-beam 2.46.0 requires protobuf<4,>3.12.2, but you have protobuf 4.25.5 which is incompatible.\r\n",
      "apache-beam 2.46.0 requires pyarrow<10.0.0,>=3.0.0, but you have pyarrow 17.0.0 which is incompatible.\r\n",
      "google-cloud-aiplatform 0.6.0a1 requires google-api-core[grpc]<2.0.0dev,>=1.22.2, but you have google-api-core 2.11.1 which is incompatible.\r\n",
      "google-cloud-automl 1.0.1 requires google-api-core[grpc]<2.0.0dev,>=1.14.0, but you have google-api-core 2.11.1 which is incompatible.\r\n",
      "google-cloud-bigquery 2.34.4 requires protobuf<4.0.0dev,>=3.12.0, but you have protobuf 4.25.5 which is incompatible.\r\n",
      "google-cloud-bigtable 1.7.3 requires protobuf<4.0.0dev, but you have protobuf 4.25.5 which is incompatible.\r\n",
      "google-cloud-datastore 1.15.5 requires protobuf<4.0.0dev, but you have protobuf 4.25.5 which is incompatible.\r\n",
      "google-cloud-vision 2.8.0 requires protobuf<4.0.0dev,>=3.19.0, but you have protobuf 4.25.5 which is incompatible.\r\n",
      "kfp 2.5.0 requires google-cloud-storage<3,>=2.2.1, but you have google-cloud-storage 1.44.0 which is incompatible.\r\n",
      "kfp 2.5.0 requires protobuf<4,>=3.13.0, but you have protobuf 4.25.5 which is incompatible.\r\n",
      "kfp-pipeline-spec 0.2.2 requires protobuf<4,>=3.13.0, but you have protobuf 4.25.5 which is incompatible.\r\n",
      "tensorflow-metadata 0.14.0 requires protobuf<4,>=3.7, but you have protobuf 4.25.5 which is incompatible.\r\n",
      "tensorflow-transform 0.14.0 requires protobuf<4,>=3.7, but you have protobuf 4.25.5 which is incompatible.\u001b[0m\u001b[31m\r\n",
      "\u001b[0m"
     ]
    }
   ],
   "source": [
    "!pip install -q mediapipe"
   ]
  },
  {
   "cell_type": "code",
   "execution_count": 2,
   "id": "1270e5c9",
   "metadata": {
    "execution": {
     "iopub.execute_input": "2024-11-02T08:26:51.970205Z",
     "iopub.status.busy": "2024-11-02T08:26:51.969652Z",
     "iopub.status.idle": "2024-11-02T08:27:07.144614Z",
     "shell.execute_reply": "2024-11-02T08:27:07.143686Z"
    },
    "papermill": {
     "duration": 15.181303,
     "end_time": "2024-11-02T08:27:07.147239",
     "exception": false,
     "start_time": "2024-11-02T08:26:51.965936",
     "status": "completed"
    },
    "tags": []
   },
   "outputs": [],
   "source": [
    "import mediapipe as mp\n",
    "import numpy as np\n",
    "import cv2\n",
    "from tqdm import tqdm\n",
    "import os\n",
    "import warnings\n",
    "warnings.filterwarnings(\"ignore\")"
   ]
  },
  {
   "cell_type": "code",
   "execution_count": null,
   "id": "818a38b4",
   "metadata": {
    "execution": {
     "iopub.execute_input": "2024-11-02T08:27:07.155247Z",
     "iopub.status.busy": "2024-11-02T08:27:07.153657Z",
     "iopub.status.idle": "2024-11-02T08:27:07.181442Z",
     "shell.execute_reply": "2024-11-02T08:27:07.180030Z"
    },
    "papermill": {
     "duration": 0.034345,
     "end_time": "2024-11-02T08:27:07.184163",
     "exception": false,
     "start_time": "2024-11-02T08:27:07.149818",
     "status": "completed"
    },
    "tags": []
   },
   "outputs": [],
   "source": [
    "import os\n",
    "import cv2\n",
    "import numpy as np\n",
    "import mediapipe as mp\n",
    "from tqdm import tqdm\n",
    "\n",
    "mp_pose = mp.solutions.pose\n",
    "mp_face_mesh = mp.solutions.face_mesh\n",
    "mp_hands = mp.solutions.hands\n",
    "\n",
    "COORDINATES = 3  # (x, y, z) for each landmark\n",
    "\n",
    "filtered_hand = list(range(21))\n",
    "\n",
    "filtered_pose = [0, 5, 6, 7, 8, 9, 10, 11, 12, 13, 14, 15, 16, 23, 24, 25, 26, 27, 28]\n",
    "\n",
    "filtered_face = [10, 152, 14, 7, 8, 144, 145, 146, 153, 154, 155, 158, 159, 160, 161, 163, 362, 385, 387, 388, 390, 398, 400, 402, 417, 419, 420, 421, 423, 424, 425, 426, 427, 428, 429, 430, 436, 437, 438, 439, 440, 441, 442, 443, 444, 445, 446, 447, 448, 449]\n",
    "\n",
    "POSE_LANDMARKS = len(filtered_pose)\n",
    "FACE_LANDMARKS = len(filtered_face)\n",
    "HAND_LANDMARKS = len(filtered_hand)\n",
    "TOTAL_LANDMARKS = POSE_LANDMARKS + FACE_LANDMARKS + (2 * HAND_LANDMARKS)\n",
    "\n",
    "def pad_landmarks(landmarks, max_landmarks):\n",
    "    \"\"\"Pad landmarks with zeros to ensure consistent shapes.\"\"\"\n",
    "    if landmarks.shape[0] < max_landmarks:\n",
    "        padding = np.zeros((max_landmarks - landmarks.shape[0], COORDINATES))\n",
    "        landmarks = np.vstack((landmarks, padding))\n",
    "    return landmarks\n",
    "\n",
    "def extract_pose_landmarks(frame, pose):\n",
    "    frame_rgb = cv2.cvtColor(frame, cv2.COLOR_BGR2RGB)\n",
    "    results = pose.process(frame_rgb)\n",
    "    if results.pose_landmarks:\n",
    "        landmarks = np.array([[lm.x, lm.y, lm.z] for i, lm in enumerate(results.pose_landmarks.landmark) if i in filtered_pose])\n",
    "        return pad_landmarks(landmarks, POSE_LANDMARKS)\n",
    "    return np.zeros((POSE_LANDMARKS, COORDINATES))\n",
    "\n",
    "def extract_face_landmarks(frame, face_mesh):\n",
    "    frame_rgb = cv2.cvtColor(frame, cv2.COLOR_BGR2RGB)\n",
    "    results = face_mesh.process(frame_rgb)\n",
    "    if results.multi_face_landmarks:\n",
    "        landmarks = np.array([[lm.x, lm.y, lm.z] for face_landmarks in results.multi_face_landmarks for i, lm in enumerate(face_landmarks.landmark) if i in filtered_face])\n",
    "        return pad_landmarks(landmarks, FACE_LANDMARKS)\n",
    "    return np.zeros((FACE_LANDMARKS, COORDINATES))\n",
    "\n",
    "def extract_hand_landmarks(frame, hands):\n",
    "    frame_rgb = cv2.cvtColor(frame, cv2.COLOR_BGR2RGB)\n",
    "    results = hands.process(frame_rgb)\n",
    "    if results.multi_hand_landmarks:\n",
    "        landmarks = []\n",
    "        for hand_landmarks in results.multi_hand_landmarks:\n",
    "            landmarks.extend([[lm.x, lm.y, lm.z] for i, lm in enumerate(hand_landmarks.landmark) if i in filtered_hand])\n",
    "        return pad_landmarks(np.array(landmarks), 2 * HAND_LANDMARKS)\n",
    "    return np.zeros((2 * HAND_LANDMARKS, COORDINATES))\n",
    "\n",
    "def process_videos(root_folder):\n",
    "    pose = mp_pose.Pose(static_image_mode=False, min_detection_confidence=0.5, min_tracking_confidence=0.5)\n",
    "    face_mesh = mp_face_mesh.FaceMesh(static_image_mode=False, \n",
    "                                  max_num_faces=1, \n",
    "                                  min_detection_confidence=0.5, \n",
    "                                  min_tracking_confidence=0.5)\n",
    "    hands = mp_hands.Hands(static_image_mode=False, min_detection_confidence=0.5, min_tracking_confidence=0.5)\n",
    "\n",
    "    all_datasets = []  \n",
    "    all_labels = [] \n",
    "    folder_count = 0\n",
    "    for folder in os.listdir(root_folder):\n",
    "        folder_path = os.path.join(root_folder, folder)\n",
    "        if os.path.isdir(folder_path):\n",
    "            folder_count += 1\n",
    "            for subfolder in os.listdir(folder_path):\n",
    "                subfolder_path = os.path.join(folder_path, subfolder)\n",
    "                if os.path.isdir(subfolder_path):\n",
    "                    for sign_folder in os.listdir(subfolder_path):\n",
    "                        sign_path = os.path.join(subfolder_path, sign_folder)\n",
    "                        if os.path.isdir(sign_path):\n",
    "                            video_files = [f for f in os.listdir(sign_path) if f.endswith('.MOV')]\n",
    "\n",
    "                            for filename in tqdm(video_files, desc=f\"Processing videos in {sign_folder}\"):\n",
    "                                filepath = os.path.join(sign_path, filename)\n",
    "                                cap = cv2.VideoCapture(filepath)\n",
    "\n",
    "                                while cap.isOpened():\n",
    "                                    ret, frame = cap.read()\n",
    "                                    if not ret:\n",
    "                                        break\n",
    "\n",
    "                                    pose_landmarks = extract_pose_landmarks(frame, pose)\n",
    "                                    face_landmarks = extract_face_landmarks(frame, face_mesh)\n",
    "                                    hand_landmarks = extract_hand_landmarks(frame, hands)\n",
    "                                \n",
    "\n",
    "                                    # Concatenate landmarks\n",
    "                                    landmarks = np.concatenate((pose_landmarks, face_landmarks, hand_landmarks), axis=0)\n",
    "                                    if landmarks.shape != (TOTAL_LANDMARKS, COORDINATES):\n",
    "                                        print(f\"Warning: Unexpected landmarks shape {landmarks.shape} for video {filename}\")\n",
    "                                        landmarks = np.zeros((TOTAL_LANDMARKS, COORDINATES))\n",
    "\n",
    "                                    # Append to dataset and labels\n",
    "                                    all_datasets.append(landmarks)\n",
    "                                    all_labels.append(sign_folder.split('.')[1].strip()) \n",
    "\n",
    "                                cap.release()\n",
    "\n",
    "            # Save backup every 7 folders\n",
    "            if folder_count % 7 == 0:\n",
    "                np.save(f'backup_{folder_count}_pose_landmarks_dataset.npy', np.array(all_datasets))\n",
    "                np.save(f'backup_{folder_count}_pose_landmarks_labels.npy', np.array(all_labels))\n",
    "\n",
    "    # Save final dataset and labels\n",
    "    np.save('final_pose_landmarks_dataset.npy', np.array(all_datasets))\n",
    "    np.save('final_pose_landmarks_labels.npy', np.array(all_labels))\n",
    "\n",
    "    # Cleanup\n",
    "    pose.close()\n",
    "    face_mesh.close()\n",
    "    hands.close()"
   ]
  },
  {
   "cell_type": "code",
   "execution_count": 4,
   "id": "97e8a85a",
   "metadata": {
    "execution": {
     "iopub.execute_input": "2024-11-02T08:27:07.191400Z",
     "iopub.status.busy": "2024-11-02T08:27:07.190370Z",
     "iopub.status.idle": "2024-11-02T15:46:03.472560Z",
     "shell.execute_reply": "2024-11-02T15:46:03.470834Z"
    },
    "papermill": {
     "duration": 26336.289103,
     "end_time": "2024-11-02T15:46:03.475772",
     "exception": false,
     "start_time": "2024-11-02T08:27:07.186669",
     "status": "completed"
    },
    "tags": []
   },
   "outputs": [
    {
     "name": "stderr",
     "output_type": "stream",
     "text": [
      "INFO: Created TensorFlow Lite XNNPACK delegate for CPU.\n",
      "WARNING: All log messages before absl::InitializeLog() is called are written to STDERR\n",
      "W0000 00:00:1730536027.231769      74 inference_feedback_manager.cc:114] Feedback manager requires a model with a single signature inference. Disabling support for feedback tensors.\n",
      "W0000 00:00:1730536027.260135      74 inference_feedback_manager.cc:114] Feedback manager requires a model with a single signature inference. Disabling support for feedback tensors.\n",
      "Processing videos in 87. hot:   0%|          | 0/21 [00:00<?, ?it/s]W0000 00:00:1730536027.297481      76 inference_feedback_manager.cc:114] Feedback manager requires a model with a single signature inference. Disabling support for feedback tensors.\n",
      "W0000 00:00:1730536027.335444      77 inference_feedback_manager.cc:114] Feedback manager requires a model with a single signature inference. Disabling support for feedback tensors.\n",
      "W0000 00:00:1730536027.372827      68 inference_feedback_manager.cc:114] Feedback manager requires a model with a single signature inference. Disabling support for feedback tensors.\n",
      "W0000 00:00:1730536027.459444      68 inference_feedback_manager.cc:114] Feedback manager requires a model with a single signature inference. Disabling support for feedback tensors.\n",
      "W0000 00:00:1730536027.521984      71 landmark_projection_calculator.cc:186] Using NORM_RECT without IMAGE_DIMENSIONS is only supported for the square ROI. Provide IMAGE_DIMENSIONS or use PROJECTION_MATRIX.\n",
      "Processing videos in 87. hot:  14%|█▍        | 3/21 [00:18<01:49,  6.09s/it]"
     ]
    },
    {
     "name": "stdout",
     "output_type": "stream",
     "text": [
      "Warning: Unexpected landmarks shape (132, 3) for video MVI_5136.MOV\n"
     ]
    },
    {
     "name": "stderr",
     "output_type": "stream",
     "text": [
      "Processing videos in 87. hot:  62%|██████▏   | 13/21 [01:26<00:53,  6.73s/it]"
     ]
    },
    {
     "name": "stdout",
     "output_type": "stream",
     "text": [
      "Warning: Unexpected landmarks shape (132, 3) for video MVI_9489.MOV\n",
      "Warning: Unexpected landmarks shape (132, 3) for video MVI_9489.MOV\n"
     ]
    },
    {
     "name": "stderr",
     "output_type": "stream",
     "text": [
      "Processing videos in 87. hot:  67%|██████▋   | 14/21 [01:33<00:47,  6.85s/it]"
     ]
    },
    {
     "name": "stdout",
     "output_type": "stream",
     "text": [
      "Warning: Unexpected landmarks shape (132, 3) for video MVI_9487.MOV\n"
     ]
    },
    {
     "name": "stderr",
     "output_type": "stream",
     "text": [
      "Processing videos in 87. hot: 100%|██████████| 21/21 [02:21<00:00,  6.76s/it]\n",
      "Processing videos in 89. warm: 100%|██████████| 21/21 [02:22<00:00,  6.79s/it]\n",
      "Processing videos in 90. cool: 100%|██████████| 21/21 [02:05<00:00,  5.99s/it]\n",
      "Processing videos in 91. new: 100%|██████████| 21/21 [02:02<00:00,  5.82s/it]\n",
      "Processing videos in 88. cold:  30%|███       | 6/20 [00:39<01:28,  6.30s/it]"
     ]
    },
    {
     "name": "stdout",
     "output_type": "stream",
     "text": [
      "Warning: Unexpected landmarks shape (132, 3) for video MVI_9491.MOV\n"
     ]
    },
    {
     "name": "stderr",
     "output_type": "stream",
     "text": [
      "Processing videos in 88. cold:  50%|█████     | 10/20 [01:06<01:03,  6.33s/it]"
     ]
    },
    {
     "name": "stdout",
     "output_type": "stream",
     "text": [
      "Warning: Unexpected landmarks shape (132, 3) for video MVI_9252.MOV\n"
     ]
    },
    {
     "name": "stderr",
     "output_type": "stream",
     "text": [
      "Processing videos in 88. cold: 100%|██████████| 20/20 [02:03<00:00,  6.18s/it]\n",
      "Processing videos in 46. Clothing:  95%|█████████▍| 18/19 [01:57<00:06,  6.65s/it]"
     ]
    },
    {
     "name": "stdout",
     "output_type": "stream",
     "text": [
      "Warning: Unexpected landmarks shape (132, 3) for video MVI_4016.MOV\n"
     ]
    },
    {
     "name": "stderr",
     "output_type": "stream",
     "text": [
      "Processing videos in 46. Clothing: 100%|██████████| 19/19 [02:03<00:00,  6.52s/it]\n",
      "Processing videos in 44. Shoes:   5%|▌         | 1/19 [00:08<02:32,  8.45s/it]"
     ]
    },
    {
     "name": "stdout",
     "output_type": "stream",
     "text": [
      "Warning: Unexpected landmarks shape (132, 3) for video MVI_5176.MOV\n"
     ]
    },
    {
     "name": "stderr",
     "output_type": "stream",
     "text": [
      "Processing videos in 44. Shoes:  11%|█         | 2/19 [00:15<02:08,  7.54s/it]"
     ]
    },
    {
     "name": "stdout",
     "output_type": "stream",
     "text": [
      "Warning: Unexpected landmarks shape (132, 3) for video MVI_4888.MOV\n"
     ]
    },
    {
     "name": "stderr",
     "output_type": "stream",
     "text": [
      "Processing videos in 44. Shoes:  21%|██        | 4/19 [00:34<02:16,  9.09s/it]"
     ]
    },
    {
     "name": "stdout",
     "output_type": "stream",
     "text": [
      "Warning: Unexpected landmarks shape (132, 3) for video MVI_5175.MOV\n"
     ]
    },
    {
     "name": "stderr",
     "output_type": "stream",
     "text": [
      "Processing videos in 44. Shoes:  32%|███▏      | 6/19 [00:49<01:45,  8.15s/it]"
     ]
    },
    {
     "name": "stdout",
     "output_type": "stream",
     "text": [
      "Warning: Unexpected landmarks shape (132, 3) for video MVI_4889.MOV\n",
      "Warning: Unexpected landmarks shape (132, 3) for video MVI_4889.MOV\n",
      "Warning: Unexpected landmarks shape (132, 3) for video MVI_4889.MOV\n",
      "Warning: Unexpected landmarks shape (132, 3) for video MVI_4889.MOV\n"
     ]
    },
    {
     "name": "stderr",
     "output_type": "stream",
     "text": [
      "Processing videos in 44. Shoes:  42%|████▏     | 8/19 [01:05<01:27,  7.96s/it]"
     ]
    },
    {
     "name": "stdout",
     "output_type": "stream",
     "text": [
      "Warning: Unexpected landmarks shape (132, 3) for video MVI_4887.MOV\n"
     ]
    },
    {
     "name": "stderr",
     "output_type": "stream",
     "text": [
      "Processing videos in 44. Shoes:  58%|█████▊    | 11/19 [01:28<01:02,  7.80s/it]"
     ]
    },
    {
     "name": "stdout",
     "output_type": "stream",
     "text": [
      "Warning: Unexpected landmarks shape (132, 3) for video MVI_3858.MOV\n",
      "Warning: Unexpected landmarks shape (132, 3) for video MVI_3858.MOV\n"
     ]
    },
    {
     "name": "stderr",
     "output_type": "stream",
     "text": [
      "Processing videos in 44. Shoes:  79%|███████▉  | 15/19 [02:04<00:33,  8.49s/it]"
     ]
    },
    {
     "name": "stdout",
     "output_type": "stream",
     "text": [
      "Warning: Unexpected landmarks shape (132, 3) for video MVI_4009.MOV\n",
      "Warning: Unexpected landmarks shape (132, 3) for video MVI_4009.MOV\n"
     ]
    },
    {
     "name": "stderr",
     "output_type": "stream",
     "text": [
      "Processing videos in 44. Shoes:  89%|████████▉ | 17/19 [02:20<00:16,  8.08s/it]"
     ]
    },
    {
     "name": "stdout",
     "output_type": "stream",
     "text": [
      "Warning: Unexpected landmarks shape (132, 3) for video MVI_4204.MOV\n"
     ]
    },
    {
     "name": "stderr",
     "output_type": "stream",
     "text": [
      "Processing videos in 44. Shoes:  95%|█████████▍| 18/19 [02:26<00:07,  7.54s/it]"
     ]
    },
    {
     "name": "stdout",
     "output_type": "stream",
     "text": [
      "Warning: Unexpected landmarks shape (132, 3) for video MVI_4204.MOV\n"
     ]
    },
    {
     "name": "stderr",
     "output_type": "stream",
     "text": [
      "Processing videos in 44. Shoes: 100%|██████████| 19/19 [02:34<00:00,  8.13s/it]\n",
      "Processing videos in 45. Pocket:   0%|          | 0/19 [00:00<?, ?it/s]"
     ]
    },
    {
     "name": "stdout",
     "output_type": "stream",
     "text": [
      "Warning: Unexpected landmarks shape (132, 3) for video MVI_4012.MOV\n"
     ]
    },
    {
     "name": "stderr",
     "output_type": "stream",
     "text": [
      "Processing videos in 45. Pocket: 100%|██████████| 19/19 [02:10<00:00,  6.87s/it]\n",
      "Processing videos in 43. Pant:   0%|          | 0/19 [00:00<?, ?it/s]"
     ]
    },
    {
     "name": "stdout",
     "output_type": "stream",
     "text": [
      "Warning: Unexpected landmarks shape (132, 3) for video MVI_5174.MOV\n"
     ]
    },
    {
     "name": "stderr",
     "output_type": "stream",
     "text": [
      "Processing videos in 43. Pant:  53%|█████▎    | 10/19 [01:05<00:57,  6.36s/it]"
     ]
    },
    {
     "name": "stdout",
     "output_type": "stream",
     "text": [
      "Warning: Unexpected landmarks shape (132, 3) for video MVI_3707.MOV\n"
     ]
    },
    {
     "name": "stderr",
     "output_type": "stream",
     "text": [
      "Processing videos in 43. Pant:  68%|██████▊   | 13/19 [01:24<00:37,  6.25s/it]"
     ]
    },
    {
     "name": "stdout",
     "output_type": "stream",
     "text": [
      "Warning: Unexpected landmarks shape (132, 3) for video MVI_4007.MOV\n"
     ]
    },
    {
     "name": "stderr",
     "output_type": "stream",
     "text": [
      "Processing videos in 43. Pant:  74%|███████▎  | 14/19 [01:31<00:32,  6.48s/it]"
     ]
    },
    {
     "name": "stdout",
     "output_type": "stream",
     "text": [
      "Warning: Unexpected landmarks shape (132, 3) for video MVI_3708.MOV\n"
     ]
    },
    {
     "name": "stderr",
     "output_type": "stream",
     "text": [
      "Processing videos in 43. Pant:  84%|████████▍ | 16/19 [01:43<00:18,  6.03s/it]"
     ]
    },
    {
     "name": "stdout",
     "output_type": "stream",
     "text": [
      "Warning: Unexpected landmarks shape (132, 3) for video MVI_4203.MOV\n"
     ]
    },
    {
     "name": "stderr",
     "output_type": "stream",
     "text": [
      "Processing videos in 43. Pant:  89%|████████▉ | 17/19 [01:49<00:11,  5.93s/it]"
     ]
    },
    {
     "name": "stdout",
     "output_type": "stream",
     "text": [
      "Warning: Unexpected landmarks shape (132, 3) for video MVI_5173.MOV\n"
     ]
    },
    {
     "name": "stderr",
     "output_type": "stream",
     "text": [
      "Processing videos in 43. Pant: 100%|██████████| 19/19 [02:01<00:00,  6.38s/it]\n",
      "Processing videos in 42. T-Shirt:   5%|▌         | 1/19 [00:08<02:34,  8.59s/it]"
     ]
    },
    {
     "name": "stdout",
     "output_type": "stream",
     "text": [
      "Warning: Unexpected landmarks shape (132, 3) for video MVI_3705.MOV\n"
     ]
    },
    {
     "name": "stderr",
     "output_type": "stream",
     "text": [
      "Processing videos in 42. T-Shirt:  42%|████▏     | 8/19 [01:14<01:43,  9.45s/it]"
     ]
    },
    {
     "name": "stdout",
     "output_type": "stream",
     "text": [
      "Warning: Unexpected landmarks shape (132, 3) for video MVI_5169.MOV\n"
     ]
    },
    {
     "name": "stderr",
     "output_type": "stream",
     "text": [
      "Processing videos in 42. T-Shirt:  95%|█████████▍| 18/19 [02:33<00:07,  7.66s/it]"
     ]
    },
    {
     "name": "stdout",
     "output_type": "stream",
     "text": [
      "Warning: Unexpected landmarks shape (132, 3) for video MVI_4202.MOV\n"
     ]
    },
    {
     "name": "stderr",
     "output_type": "stream",
     "text": [
      "Processing videos in 42. T-Shirt: 100%|██████████| 19/19 [02:39<00:00,  8.40s/it]\n",
      "Processing videos in 27. deep:  50%|█████     | 4/8 [00:29<00:29,  7.25s/it]"
     ]
    },
    {
     "name": "stdout",
     "output_type": "stream",
     "text": [
      "Warning: Unexpected landmarks shape (132, 3) for video MVI_9673.MOV\n"
     ]
    },
    {
     "name": "stderr",
     "output_type": "stream",
     "text": [
      "Processing videos in 27. deep:  62%|██████▎   | 5/8 [00:36<00:21,  7.31s/it]"
     ]
    },
    {
     "name": "stdout",
     "output_type": "stream",
     "text": [
      "Warning: Unexpected landmarks shape (132, 3) for video MVI_9671.MOV\n"
     ]
    },
    {
     "name": "stderr",
     "output_type": "stream",
     "text": [
      "Processing videos in 27. deep:  75%|███████▌  | 6/8 [00:44<00:15,  7.54s/it]"
     ]
    },
    {
     "name": "stdout",
     "output_type": "stream",
     "text": [
      "Warning: Unexpected landmarks shape (132, 3) for video MVI_9672.MOV\n"
     ]
    },
    {
     "name": "stderr",
     "output_type": "stream",
     "text": [
      "Processing videos in 27. deep:  88%|████████▊ | 7/8 [00:52<00:07,  7.76s/it]"
     ]
    },
    {
     "name": "stdout",
     "output_type": "stream",
     "text": [
      "Warning: Unexpected landmarks shape (132, 3) for video MVI_9800.MOV\n"
     ]
    },
    {
     "name": "stderr",
     "output_type": "stream",
     "text": [
      "Processing videos in 27. deep: 100%|██████████| 8/8 [01:00<00:00,  7.61s/it]\n",
      "Processing videos in 29. clean:  88%|████████▊ | 7/8 [00:49<00:06,  6.90s/it]"
     ]
    },
    {
     "name": "stdout",
     "output_type": "stream",
     "text": [
      "Warning: Unexpected landmarks shape (132, 3) for video MVI_9682.MOV\n"
     ]
    },
    {
     "name": "stderr",
     "output_type": "stream",
     "text": [
      "Processing videos in 29. clean: 100%|██████████| 8/8 [00:56<00:00,  7.11s/it]\n",
      "Processing videos in 30. dirty: 100%|██████████| 8/8 [00:59<00:00,  7.41s/it]\n",
      "Processing videos in 26. hard:  75%|███████▌  | 6/8 [00:44<00:14,  7.19s/it]"
     ]
    },
    {
     "name": "stdout",
     "output_type": "stream",
     "text": [
      "Warning: Unexpected landmarks shape (132, 3) for video MVI_9796.MOV\n"
     ]
    },
    {
     "name": "stderr",
     "output_type": "stream",
     "text": [
      "Processing videos in 26. hard: 100%|██████████| 8/8 [00:58<00:00,  7.27s/it]\n",
      "Processing videos in 25. soft:  25%|██▌       | 2/8 [00:13<00:40,  6.74s/it]"
     ]
    },
    {
     "name": "stdout",
     "output_type": "stream",
     "text": [
      "Warning: Unexpected landmarks shape (132, 3) for video MVI_9664.MOV\n"
     ]
    },
    {
     "name": "stderr",
     "output_type": "stream",
     "text": [
      "Processing videos in 25. soft:  50%|█████     | 4/8 [00:28<00:28,  7.15s/it]"
     ]
    },
    {
     "name": "stdout",
     "output_type": "stream",
     "text": [
      "Warning: Unexpected landmarks shape (132, 3) for video MVI_9791.MOV\n"
     ]
    },
    {
     "name": "stderr",
     "output_type": "stream",
     "text": [
      "Processing videos in 25. soft:  75%|███████▌  | 6/8 [00:41<00:13,  6.75s/it]"
     ]
    },
    {
     "name": "stdout",
     "output_type": "stream",
     "text": [
      "Warning: Unexpected landmarks shape (132, 3) for video MVI_9790.MOV\n"
     ]
    },
    {
     "name": "stderr",
     "output_type": "stream",
     "text": [
      "Processing videos in 25. soft:  88%|████████▊ | 7/8 [00:47<00:06,  6.71s/it]"
     ]
    },
    {
     "name": "stdout",
     "output_type": "stream",
     "text": [
      "Warning: Unexpected landmarks shape (132, 3) for video MVI_9789.MOV\n"
     ]
    },
    {
     "name": "stderr",
     "output_type": "stream",
     "text": [
      "Processing videos in 25. soft: 100%|██████████| 8/8 [00:53<00:00,  6.75s/it]\n",
      "Processing videos in 33. dead: 100%|██████████| 8/8 [00:47<00:00,  5.92s/it]\n",
      "Processing videos in 34. alive: 100%|██████████| 8/8 [00:47<00:00,  5.92s/it]\n",
      "Processing videos in 28. shallow:  38%|███▊      | 3/8 [00:35<00:59, 11.93s/it]"
     ]
    },
    {
     "name": "stdout",
     "output_type": "stream",
     "text": [
      "Warning: Unexpected landmarks shape (132, 3) for video MVI_9677.MOV\n",
      "Warning: Unexpected landmarks shape (132, 3) for video MVI_9677.MOV\n"
     ]
    },
    {
     "name": "stderr",
     "output_type": "stream",
     "text": [
      "Processing videos in 28. shallow: 100%|██████████| 8/8 [01:31<00:00, 11.41s/it]\n",
      "Processing videos in 24. low: 100%|██████████| 8/8 [00:53<00:00,  6.63s/it]\n",
      "Processing videos in 35. heavy:  25%|██▌       | 2/8 [00:14<00:42,  7.06s/it]"
     ]
    },
    {
     "name": "stdout",
     "output_type": "stream",
     "text": [
      "Warning: Unexpected landmarks shape (132, 3) for video MVI_9707.MOV\n"
     ]
    },
    {
     "name": "stderr",
     "output_type": "stream",
     "text": [
      "Processing videos in 35. heavy:  50%|█████     | 4/8 [00:28<00:28,  7.05s/it]"
     ]
    },
    {
     "name": "stdout",
     "output_type": "stream",
     "text": [
      "Warning: Unexpected landmarks shape (132, 3) for video MVI_9833.MOV\n"
     ]
    },
    {
     "name": "stderr",
     "output_type": "stream",
     "text": [
      "Processing videos in 35. heavy:  62%|██████▎   | 5/8 [00:35<00:21,  7.03s/it]"
     ]
    },
    {
     "name": "stdout",
     "output_type": "stream",
     "text": [
      "Warning: Unexpected landmarks shape (132, 3) for video MVI_9831.MOV\n"
     ]
    },
    {
     "name": "stderr",
     "output_type": "stream",
     "text": [
      "Processing videos in 35. heavy:  75%|███████▌  | 6/8 [00:42<00:14,  7.18s/it]"
     ]
    },
    {
     "name": "stdout",
     "output_type": "stream",
     "text": [
      "Warning: Unexpected landmarks shape (132, 3) for video MVI_9832.MOV\n"
     ]
    },
    {
     "name": "stderr",
     "output_type": "stream",
     "text": [
      "Processing videos in 35. heavy:  88%|████████▊ | 7/8 [00:50<00:07,  7.30s/it]"
     ]
    },
    {
     "name": "stdout",
     "output_type": "stream",
     "text": [
      "Warning: Unexpected landmarks shape (132, 3) for video MVI_9709.MOV\n"
     ]
    },
    {
     "name": "stderr",
     "output_type": "stream",
     "text": [
      "Processing videos in 35. heavy: 100%|██████████| 8/8 [00:57<00:00,  7.17s/it]\n",
      "Processing videos in 31. strong: 100%|██████████| 8/8 [00:51<00:00,  6.47s/it]\n",
      "Processing videos in 23. high:  25%|██▌       | 2/8 [00:13<00:41,  6.96s/it]"
     ]
    },
    {
     "name": "stdout",
     "output_type": "stream",
     "text": [
      "Warning: Unexpected landmarks shape (132, 3) for video MVI_9656.MOV\n",
      "Warning: Unexpected landmarks shape (132, 3) for video MVI_9656.MOV\n"
     ]
    },
    {
     "name": "stderr",
     "output_type": "stream",
     "text": [
      "Processing videos in 23. high:  50%|█████     | 4/8 [00:29<00:30,  7.56s/it]"
     ]
    },
    {
     "name": "stdout",
     "output_type": "stream",
     "text": [
      "Warning: Unexpected landmarks shape (132, 3) for video MVI_9655.MOV\n",
      "Warning: Unexpected landmarks shape (132, 3) for video MVI_9655.MOV\n",
      "Warning: Unexpected landmarks shape (132, 3) for video MVI_9655.MOV\n",
      "Warning: Unexpected landmarks shape (132, 3) for video MVI_9655.MOV\n"
     ]
    },
    {
     "name": "stderr",
     "output_type": "stream",
     "text": [
      "Processing videos in 23. high:  75%|███████▌  | 6/8 [00:45<00:15,  7.69s/it]"
     ]
    },
    {
     "name": "stdout",
     "output_type": "stream",
     "text": [
      "Warning: Unexpected landmarks shape (132, 3) for video MVI_9654.MOV\n"
     ]
    },
    {
     "name": "stderr",
     "output_type": "stream",
     "text": [
      "Processing videos in 23. high: 100%|██████████| 8/8 [00:59<00:00,  7.49s/it]\n",
      "Processing videos in 32. weak: 100%|██████████| 8/8 [00:54<00:00,  6.79s/it]\n",
      "Processing videos in 90. Secretary:   9%|▉         | 1/11 [00:08<01:29,  8.95s/it]"
     ]
    },
    {
     "name": "stdout",
     "output_type": "stream",
     "text": [
      "Warning: Unexpected landmarks shape (132, 3) for video MVI_4768.MOV\n"
     ]
    },
    {
     "name": "stderr",
     "output_type": "stream",
     "text": [
      "Processing videos in 90. Secretary:  27%|██▋       | 3/11 [00:24<01:04,  8.12s/it]"
     ]
    },
    {
     "name": "stdout",
     "output_type": "stream",
     "text": [
      "Warning: Unexpected landmarks shape (132, 3) for video MVI_5339.MOV\n"
     ]
    },
    {
     "name": "stderr",
     "output_type": "stream",
     "text": [
      "Processing videos in 90. Secretary:  91%|█████████ | 10/11 [01:22<00:08,  8.50s/it]"
     ]
    },
    {
     "name": "stdout",
     "output_type": "stream",
     "text": [
      "Warning: Unexpected landmarks shape (132, 3) for video MVI_5341.MOV\n"
     ]
    },
    {
     "name": "stderr",
     "output_type": "stream",
     "text": [
      "Processing videos in 90. Secretary: 100%|██████████| 11/11 [01:28<00:00,  8.09s/it]\n",
      "Processing videos in 88. Patient:  27%|██▋       | 3/11 [00:29<01:14,  9.29s/it]"
     ]
    },
    {
     "name": "stdout",
     "output_type": "stream",
     "text": [
      "Warning: Unexpected landmarks shape (132, 3) for video MVI_5329.MOV\n"
     ]
    },
    {
     "name": "stderr",
     "output_type": "stream",
     "text": [
      "Processing videos in 88. Patient: 100%|██████████| 11/11 [01:31<00:00,  8.35s/it]\n",
      "Processing videos in 86. Lawyer: 100%|██████████| 11/11 [01:11<00:00,  6.47s/it]\n",
      "Processing videos in 84. Teacher: 100%|██████████| 11/11 [01:17<00:00,  7.01s/it]\n",
      "Processing videos in 85. Student:   0%|          | 0/11 [00:00<?, ?it/s]"
     ]
    },
    {
     "name": "stdout",
     "output_type": "stream",
     "text": [
      "Warning: Unexpected landmarks shape (132, 3) for video MVI_4465.MOV\n"
     ]
    },
    {
     "name": "stderr",
     "output_type": "stream",
     "text": [
      "Processing videos in 85. Student:   9%|▉         | 1/11 [00:08<01:26,  8.68s/it]"
     ]
    },
    {
     "name": "stdout",
     "output_type": "stream",
     "text": [
      "Warning: Unexpected landmarks shape (132, 3) for video MVI_4464.MOV\n"
     ]
    },
    {
     "name": "stderr",
     "output_type": "stream",
     "text": [
      "Processing videos in 85. Student:  18%|█▊        | 2/11 [00:19<01:28,  9.86s/it]"
     ]
    },
    {
     "name": "stdout",
     "output_type": "stream",
     "text": [
      "Warning: Unexpected landmarks shape (132, 3) for video MVI_4463.MOV\n"
     ]
    },
    {
     "name": "stderr",
     "output_type": "stream",
     "text": [
      "Processing videos in 85. Student:  36%|███▋      | 4/11 [00:38<01:07,  9.60s/it]"
     ]
    },
    {
     "name": "stdout",
     "output_type": "stream",
     "text": [
      "Warning: Unexpected landmarks shape (132, 3) for video MVI_5315.MOV\n"
     ]
    },
    {
     "name": "stderr",
     "output_type": "stream",
     "text": [
      "Processing videos in 85. Student:  45%|████▌     | 5/11 [00:44<00:50,  8.47s/it]"
     ]
    },
    {
     "name": "stdout",
     "output_type": "stream",
     "text": [
      "Warning: Unexpected landmarks shape (132, 3) for video MVI_5317.MOV\n"
     ]
    },
    {
     "name": "stderr",
     "output_type": "stream",
     "text": [
      "Processing videos in 85. Student:  55%|█████▍    | 6/11 [00:51<00:39,  7.88s/it]"
     ]
    },
    {
     "name": "stdout",
     "output_type": "stream",
     "text": [
      "Warning: Unexpected landmarks shape (132, 3) for video MVI_4748.MOV\n"
     ]
    },
    {
     "name": "stderr",
     "output_type": "stream",
     "text": [
      "Processing videos in 85. Student:  73%|███████▎  | 8/11 [01:05<00:22,  7.46s/it]"
     ]
    },
    {
     "name": "stdout",
     "output_type": "stream",
     "text": [
      "Warning: Unexpected landmarks shape (132, 3) for video MVI_5316.MOV\n",
      "Warning: Unexpected landmarks shape (132, 3) for video MVI_5316.MOV\n",
      "Warning: Unexpected landmarks shape (132, 3) for video MVI_5316.MOV\n"
     ]
    },
    {
     "name": "stderr",
     "output_type": "stream",
     "text": [
      "Processing videos in 85. Student:  82%|████████▏ | 9/11 [01:12<00:14,  7.19s/it]"
     ]
    },
    {
     "name": "stdout",
     "output_type": "stream",
     "text": [
      "Warning: Unexpected landmarks shape (132, 3) for video MVI_5316.MOV\n",
      "Warning: Unexpected landmarks shape (132, 3) for video MVI_4749.MOV\n"
     ]
    },
    {
     "name": "stderr",
     "output_type": "stream",
     "text": [
      "Processing videos in 85. Student:  91%|█████████ | 10/11 [01:18<00:07,  7.02s/it]"
     ]
    },
    {
     "name": "stdout",
     "output_type": "stream",
     "text": [
      "Warning: Unexpected landmarks shape (132, 3) for video MVI_5314.MOV\n"
     ]
    },
    {
     "name": "stderr",
     "output_type": "stream",
     "text": [
      "Processing videos in 85. Student: 100%|██████████| 11/11 [01:25<00:00,  7.78s/it]\n",
      "Processing videos in 87. Doctor: 100%|██████████| 11/11 [01:11<00:00,  6.47s/it]\n",
      "Processing videos in 89. Waiter:  64%|██████▎   | 7/11 [01:00<00:33,  8.40s/it]"
     ]
    },
    {
     "name": "stdout",
     "output_type": "stream",
     "text": [
      "Warning: Unexpected landmarks shape (132, 3) for video MVI_4762.MOV\n"
     ]
    },
    {
     "name": "stderr",
     "output_type": "stream",
     "text": [
      "Processing videos in 89. Waiter: 100%|██████████| 11/11 [01:35<00:00,  8.73s/it]\n",
      "Processing videos in 91. Priest:  92%|█████████▏| 11/12 [01:18<00:06,  6.95s/it]"
     ]
    },
    {
     "name": "stdout",
     "output_type": "stream",
     "text": [
      "Warning: Unexpected landmarks shape (132, 3) for video MVI_5343.MOV\n"
     ]
    },
    {
     "name": "stderr",
     "output_type": "stream",
     "text": [
      "Processing videos in 91. Priest: 100%|██████████| 12/12 [01:25<00:00,  7.09s/it]\n",
      "Processing videos in 61. Summer: 100%|██████████| 11/11 [01:24<00:00,  7.67s/it]\n",
      "Processing videos in 63. Winter:   9%|▉         | 1/11 [00:05<00:58,  5.83s/it]"
     ]
    },
    {
     "name": "stdout",
     "output_type": "stream",
     "text": [
      "Warning: Unexpected landmarks shape (132, 3) for video MVI_5430.MOV\n",
      "Warning: Unexpected landmarks shape (132, 3) for video MVI_5430.MOV\n"
     ]
    },
    {
     "name": "stderr",
     "output_type": "stream",
     "text": [
      "Processing videos in 63. Winter:  18%|█▊        | 2/11 [00:11<00:53,  5.96s/it]"
     ]
    },
    {
     "name": "stdout",
     "output_type": "stream",
     "text": [
      "Warning: Unexpected landmarks shape (132, 3) for video MVI_5431.MOV\n",
      "Warning: Unexpected landmarks shape (132, 3) for video MVI_5431.MOV\n",
      "Warning: Unexpected landmarks shape (132, 3) for video MVI_5431.MOV\n"
     ]
    },
    {
     "name": "stderr",
     "output_type": "stream",
     "text": [
      "Processing videos in 63. Winter:  64%|██████▎   | 7/11 [00:41<00:23,  5.85s/it]"
     ]
    },
    {
     "name": "stdout",
     "output_type": "stream",
     "text": [
      "Warning: Unexpected landmarks shape (132, 3) for video MVI_5432.MOV\n",
      "Warning: Unexpected landmarks shape (132, 3) for video MVI_5432.MOV\n"
     ]
    },
    {
     "name": "stderr",
     "output_type": "stream",
     "text": [
      "Processing videos in 63. Winter: 100%|██████████| 11/11 [01:06<00:00,  6.06s/it]\n",
      "Processing videos in 65. Season:   0%|          | 0/11 [00:00<?, ?it/s]"
     ]
    },
    {
     "name": "stdout",
     "output_type": "stream",
     "text": [
      "Warning: Unexpected landmarks shape (132, 3) for video MVI_5439.MOV\n"
     ]
    },
    {
     "name": "stderr",
     "output_type": "stream",
     "text": [
      "Processing videos in 65. Season:  18%|█▊        | 2/11 [00:29<02:15, 15.06s/it]"
     ]
    },
    {
     "name": "stdout",
     "output_type": "stream",
     "text": [
      "Warning: Unexpected landmarks shape (132, 3) for video MVI_5004.MOV\n"
     ]
    },
    {
     "name": "stderr",
     "output_type": "stream",
     "text": [
      "Processing videos in 65. Season:  36%|███▋      | 4/11 [00:50<01:23, 11.97s/it]"
     ]
    },
    {
     "name": "stdout",
     "output_type": "stream",
     "text": [
      "Warning: Unexpected landmarks shape (132, 3) for video MVI_5002.MOV\n"
     ]
    },
    {
     "name": "stderr",
     "output_type": "stream",
     "text": [
      "Processing videos in 65. Season:  64%|██████▎   | 7/11 [01:28<00:50, 12.64s/it]"
     ]
    },
    {
     "name": "stdout",
     "output_type": "stream",
     "text": [
      "Warning: Unexpected landmarks shape (132, 3) for video MVI_5441.MOV\n"
     ]
    },
    {
     "name": "stderr",
     "output_type": "stream",
     "text": [
      "Processing videos in 65. Season: 100%|██████████| 11/11 [02:24<00:00, 13.14s/it]\n",
      "Processing videos in 64. Fall: 100%|██████████| 11/11 [01:09<00:00,  6.28s/it]\n",
      "Processing videos in Ex. Monsoon:   0%|          | 0/11 [00:00<?, ?it/s]"
     ]
    },
    {
     "name": "stdout",
     "output_type": "stream",
     "text": [
      "Warning: Unexpected landmarks shape (132, 3) for video MVI_5081.MOV\n",
      "Warning: Unexpected landmarks shape (132, 3) for video MVI_5081.MOV\n"
     ]
    },
    {
     "name": "stderr",
     "output_type": "stream",
     "text": [
      "Processing videos in Ex. Monsoon:  18%|█▊        | 2/11 [00:12<00:58,  6.50s/it]"
     ]
    },
    {
     "name": "stdout",
     "output_type": "stream",
     "text": [
      "Warning: Unexpected landmarks shape (132, 3) for video MVI_4674.MOV\n",
      "Warning: Unexpected landmarks shape (132, 3) for video MVI_4674.MOV\n"
     ]
    },
    {
     "name": "stderr",
     "output_type": "stream",
     "text": [
      "Processing videos in Ex. Monsoon:  45%|████▌     | 5/11 [00:32<00:38,  6.49s/it]"
     ]
    },
    {
     "name": "stdout",
     "output_type": "stream",
     "text": [
      "Warning: Unexpected landmarks shape (132, 3) for video MVI_5528.MOV\n"
     ]
    },
    {
     "name": "stderr",
     "output_type": "stream",
     "text": [
      "Processing videos in Ex. Monsoon:  55%|█████▍    | 6/11 [00:37<00:30,  6.08s/it]"
     ]
    },
    {
     "name": "stdout",
     "output_type": "stream",
     "text": [
      "Warning: Unexpected landmarks shape (132, 3) for video MVI_5080.MOV\n"
     ]
    },
    {
     "name": "stderr",
     "output_type": "stream",
     "text": [
      "Processing videos in Ex. Monsoon:  64%|██████▎   | 7/11 [00:42<00:23,  5.78s/it]"
     ]
    },
    {
     "name": "stdout",
     "output_type": "stream",
     "text": [
      "Warning: Unexpected landmarks shape (132, 3) for video MVI_5529.MOV\n"
     ]
    },
    {
     "name": "stderr",
     "output_type": "stream",
     "text": [
      "Processing videos in Ex. Monsoon:  73%|███████▎  | 8/11 [00:48<00:17,  5.69s/it]"
     ]
    },
    {
     "name": "stdout",
     "output_type": "stream",
     "text": [
      "Warning: Unexpected landmarks shape (132, 3) for video MVI_5530.MOV\n",
      "Warning: Unexpected landmarks shape (132, 3) for video MVI_5530.MOV\n"
     ]
    },
    {
     "name": "stderr",
     "output_type": "stream",
     "text": [
      "Processing videos in Ex. Monsoon:  91%|█████████ | 10/11 [00:59<00:05,  5.74s/it]"
     ]
    },
    {
     "name": "stdout",
     "output_type": "stream",
     "text": [
      "Warning: Unexpected landmarks shape (132, 3) for video MVI_4673.MOV\n"
     ]
    },
    {
     "name": "stderr",
     "output_type": "stream",
     "text": [
      "Processing videos in Ex. Monsoon: 100%|██████████| 11/11 [01:06<00:00,  6.06s/it]\n",
      "Processing videos in 62. Spring:  27%|██▋       | 3/11 [00:30<01:21, 10.19s/it]"
     ]
    },
    {
     "name": "stdout",
     "output_type": "stream",
     "text": [
      "Warning: Unexpected landmarks shape (132, 3) for video MVI_4572.MOV\n"
     ]
    },
    {
     "name": "stderr",
     "output_type": "stream",
     "text": [
      "Processing videos in 62. Spring:  55%|█████▍    | 6/11 [01:00<00:48,  9.76s/it]"
     ]
    },
    {
     "name": "stdout",
     "output_type": "stream",
     "text": [
      "Warning: Unexpected landmarks shape (132, 3) for video MVI_5427.MOV\n"
     ]
    },
    {
     "name": "stderr",
     "output_type": "stream",
     "text": [
      "Processing videos in 62. Spring:  64%|██████▎   | 7/11 [01:09<00:38,  9.72s/it]"
     ]
    },
    {
     "name": "stdout",
     "output_type": "stream",
     "text": [
      "Warning: Unexpected landmarks shape (132, 3) for video MVI_5428.MOV\n"
     ]
    },
    {
     "name": "stderr",
     "output_type": "stream",
     "text": [
      "Processing videos in 62. Spring: 100%|██████████| 11/11 [01:42<00:00,  9.29s/it]\n",
      "Processing videos in 95. bad: 100%|██████████| 21/21 [02:00<00:00,  5.72s/it]\n",
      "Processing videos in 92. old: 100%|██████████| 21/21 [02:09<00:00,  6.19s/it]\n",
      "Processing videos in 93. young: 100%|██████████| 21/21 [02:08<00:00,  6.12s/it]\n",
      "Processing videos in 94. good:  71%|███████▏  | 15/21 [01:27<00:36,  6.07s/it]"
     ]
    },
    {
     "name": "stdout",
     "output_type": "stream",
     "text": [
      "Warning: Unexpected landmarks shape (132, 3) for video MVI_9512.MOV\n"
     ]
    },
    {
     "name": "stderr",
     "output_type": "stream",
     "text": [
      "Processing videos in 94. good: 100%|██████████| 21/21 [02:06<00:00,  6.02s/it]\n",
      "Processing videos in 96. wet:  33%|███▎      | 7/21 [00:50<01:37,  6.96s/it]"
     ]
    },
    {
     "name": "stdout",
     "output_type": "stream",
     "text": [
      "Warning: Unexpected landmarks shape (132, 3) for video MVI_5166.MOV\n"
     ]
    },
    {
     "name": "stderr",
     "output_type": "stream",
     "text": [
      "Processing videos in 96. wet:  57%|█████▋    | 12/21 [01:27<01:05,  7.32s/it]"
     ]
    },
    {
     "name": "stdout",
     "output_type": "stream",
     "text": [
      "Warning: Unexpected landmarks shape (132, 3) for video MVI_9275.MOV\n"
     ]
    },
    {
     "name": "stderr",
     "output_type": "stream",
     "text": [
      "Processing videos in 96. wet: 100%|██████████| 21/21 [02:31<00:00,  7.20s/it]\n",
      "Processing videos in 69. Wednesday:   9%|▉         | 1/11 [00:06<01:01,  6.20s/it]"
     ]
    },
    {
     "name": "stdout",
     "output_type": "stream",
     "text": [
      "Warning: Unexpected landmarks shape (132, 3) for video MVI_4600.MOV\n"
     ]
    },
    {
     "name": "stderr",
     "output_type": "stream",
     "text": [
      "Processing videos in 69. Wednesday:  73%|███████▎  | 8/11 [00:49<00:18,  6.07s/it]"
     ]
    },
    {
     "name": "stdout",
     "output_type": "stream",
     "text": [
      "Warning: Unexpected landmarks shape (132, 3) for video MVI_5456.MOV\n"
     ]
    },
    {
     "name": "stderr",
     "output_type": "stream",
     "text": [
      "Processing videos in 69. Wednesday: 100%|██████████| 11/11 [01:07<00:00,  6.17s/it]\n",
      "Processing videos in 70. Thursday: 100%|██████████| 11/11 [01:10<00:00,  6.37s/it]\n",
      "Processing videos in 72. Saturday: 100%|██████████| 11/11 [01:05<00:00,  5.99s/it]\n",
      "Processing videos in 67. Monday:  45%|████▌     | 5/11 [00:29<00:35,  5.95s/it]"
     ]
    },
    {
     "name": "stdout",
     "output_type": "stream",
     "text": [
      "Warning: Unexpected landmarks shape (132, 3) for video MVI_4592.MOV\n",
      "Warning: Unexpected landmarks shape (132, 3) for video MVI_4592.MOV\n"
     ]
    },
    {
     "name": "stderr",
     "output_type": "stream",
     "text": [
      "Processing videos in 67. Monday:  91%|█████████ | 10/11 [01:02<00:06,  6.27s/it]"
     ]
    },
    {
     "name": "stdout",
     "output_type": "stream",
     "text": [
      "Warning: Unexpected landmarks shape (132, 3) for video MVI_5448.MOV\n"
     ]
    },
    {
     "name": "stderr",
     "output_type": "stream",
     "text": [
      "Processing videos in 67. Monday: 100%|██████████| 11/11 [01:08<00:00,  6.20s/it]\n",
      "Processing videos in 73. Today: 100%|██████████| 11/11 [01:00<00:00,  5.51s/it]\n",
      "Processing videos in 71. Friday: 100%|██████████| 11/11 [01:04<00:00,  5.89s/it]\n",
      "Processing videos in 66. Sunday:  64%|██████▎   | 7/11 [00:48<00:26,  6.61s/it]"
     ]
    },
    {
     "name": "stdout",
     "output_type": "stream",
     "text": [
      "Warning: Unexpected landmarks shape (132, 3) for video MVI_5444.MOV\n"
     ]
    },
    {
     "name": "stderr",
     "output_type": "stream",
     "text": [
      "Processing videos in 66. Sunday: 100%|██████████| 11/11 [01:14<00:00,  6.77s/it]\n",
      "Processing videos in 68. Tuesday: 100%|██████████| 11/11 [01:12<00:00,  6.57s/it]\n",
      "Processing videos in 66. Brother: 100%|██████████| 20/20 [02:18<00:00,  6.93s/it]\n",
      "Processing videos in 65. Woman: 100%|██████████| 19/19 [02:03<00:00,  6.52s/it]\n",
      "Processing videos in 63. Baby:  37%|███▋      | 7/19 [00:49<01:30,  7.56s/it]"
     ]
    },
    {
     "name": "stdout",
     "output_type": "stream",
     "text": [
      "Warning: Unexpected landmarks shape (132, 3) for video MVI_4068.MOV\n",
      "Warning: Unexpected landmarks shape (132, 3) for video MVI_4068.MOV\n"
     ]
    },
    {
     "name": "stderr",
     "output_type": "stream",
     "text": [
      "Processing videos in 63. Baby:  47%|████▋     | 9/19 [01:05<01:18,  7.87s/it]"
     ]
    },
    {
     "name": "stdout",
     "output_type": "stream",
     "text": [
      "Warning: Unexpected landmarks shape (132, 3) for video MVI_3919.MOV\n"
     ]
    },
    {
     "name": "stderr",
     "output_type": "stream",
     "text": [
      "Processing videos in 63. Baby:  68%|██████▊   | 13/19 [01:32<00:41,  6.89s/it]"
     ]
    },
    {
     "name": "stdout",
     "output_type": "stream",
     "text": [
      "Warning: Unexpected landmarks shape (132, 3) for video MVI_4066.MOV\n"
     ]
    },
    {
     "name": "stderr",
     "output_type": "stream",
     "text": [
      "Processing videos in 63. Baby: 100%|██████████| 19/19 [02:13<00:00,  7.01s/it]\n",
      "Processing videos in 64. Man:  16%|█▌        | 3/19 [00:19<01:44,  6.56s/it]"
     ]
    },
    {
     "name": "stdout",
     "output_type": "stream",
     "text": [
      "Warning: Unexpected landmarks shape (132, 3) for video MVI_3923.MOV\n"
     ]
    },
    {
     "name": "stderr",
     "output_type": "stream",
     "text": [
      "Processing videos in 64. Man:  63%|██████▎   | 12/19 [01:14<00:42,  6.01s/it]"
     ]
    },
    {
     "name": "stdout",
     "output_type": "stream",
     "text": [
      "Warning: Unexpected landmarks shape (132, 3) for video MVI_4069.MOV\n"
     ]
    },
    {
     "name": "stderr",
     "output_type": "stream",
     "text": [
      "Processing videos in 64. Man: 100%|██████████| 19/19 [01:59<00:00,  6.29s/it]\n",
      "Processing videos in 67. Sister: 100%|██████████| 19/19 [02:06<00:00,  6.67s/it]\n",
      "Processing videos in 92. Police:  18%|█▊        | 2/11 [00:14<01:06,  7.39s/it]"
     ]
    },
    {
     "name": "stdout",
     "output_type": "stream",
     "text": [
      "Warning: Unexpected landmarks shape (132, 3) for video MVI_5346.MOV\n",
      "Warning: Unexpected landmarks shape (132, 3) for video MVI_5346.MOV\n"
     ]
    },
    {
     "name": "stderr",
     "output_type": "stream",
     "text": [
      "Processing videos in 92. Police:  55%|█████▍    | 6/11 [00:41<00:33,  6.61s/it]"
     ]
    },
    {
     "name": "stdout",
     "output_type": "stream",
     "text": [
      "Warning: Unexpected landmarks shape (132, 3) for video MVI_5347.MOV\n",
      "Warning: Unexpected landmarks shape (132, 3) for video MVI_5347.MOV\n",
      "Warning: Unexpected landmarks shape (132, 3) for video MVI_5347.MOV\n"
     ]
    },
    {
     "name": "stderr",
     "output_type": "stream",
     "text": [
      "Processing videos in 92. Police:  64%|██████▎   | 7/11 [00:47<00:25,  6.36s/it]"
     ]
    },
    {
     "name": "stdout",
     "output_type": "stream",
     "text": [
      "Warning: Unexpected landmarks shape (132, 3) for video MVI_5349.MOV\n"
     ]
    },
    {
     "name": "stderr",
     "output_type": "stream",
     "text": [
      "Processing videos in 92. Police:  82%|████████▏ | 9/11 [00:59<00:12,  6.44s/it]"
     ]
    },
    {
     "name": "stdout",
     "output_type": "stream",
     "text": [
      "Warning: Unexpected landmarks shape (132, 3) for video MVI_5348.MOV\n",
      "Warning: Unexpected landmarks shape (132, 3) for video MVI_5348.MOV\n",
      "Warning: Unexpected landmarks shape (132, 3) for video MVI_5348.MOV\n"
     ]
    },
    {
     "name": "stderr",
     "output_type": "stream",
     "text": [
      "Processing videos in 92. Police: 100%|██████████| 11/11 [01:12<00:00,  6.57s/it]\n",
      "Processing videos in 94. Artist: 100%|██████████| 11/11 [01:26<00:00,  7.89s/it]\n",
      "Processing videos in 98. Actor:  36%|███▋      | 4/11 [00:34<00:59,  8.53s/it]"
     ]
    },
    {
     "name": "stdout",
     "output_type": "stream",
     "text": [
      "Warning: Unexpected landmarks shape (132, 3) for video MVI_4793.MOV\n"
     ]
    },
    {
     "name": "stderr",
     "output_type": "stream",
     "text": [
      "Processing videos in 98. Actor:  73%|███████▎  | 8/11 [01:07<00:24,  8.26s/it]"
     ]
    },
    {
     "name": "stdout",
     "output_type": "stream",
     "text": [
      "Warning: Unexpected landmarks shape (132, 3) for video MVI_5374.MOV\n",
      "Warning: Unexpected landmarks shape (132, 3) for video MVI_5374.MOV\n"
     ]
    },
    {
     "name": "stderr",
     "output_type": "stream",
     "text": [
      "Processing videos in 98. Actor: 100%|██████████| 11/11 [01:30<00:00,  8.26s/it]\n",
      "Processing videos in 96. Manager:   9%|▉         | 1/11 [00:08<01:28,  8.90s/it]"
     ]
    },
    {
     "name": "stdout",
     "output_type": "stream",
     "text": [
      "Warning: Unexpected landmarks shape (132, 3) for video MVI_5365.MOV\n",
      "Warning: Unexpected landmarks shape (132, 3) for video MVI_5365.MOV\n"
     ]
    },
    {
     "name": "stderr",
     "output_type": "stream",
     "text": [
      "Processing videos in 96. Manager:  18%|█▊        | 2/11 [00:21<01:39, 11.00s/it]"
     ]
    },
    {
     "name": "stdout",
     "output_type": "stream",
     "text": [
      "Warning: Unexpected landmarks shape (132, 3) for video MVI_4509.MOV\n"
     ]
    },
    {
     "name": "stderr",
     "output_type": "stream",
     "text": [
      "Processing videos in 96. Manager:  45%|████▌     | 5/11 [00:51<01:01, 10.23s/it]"
     ]
    },
    {
     "name": "stdout",
     "output_type": "stream",
     "text": [
      "Warning: Unexpected landmarks shape (132, 3) for video MVI_5362.MOV\n",
      "Warning: Unexpected landmarks shape (132, 3) for video MVI_5362.MOV\n",
      "Warning: Unexpected landmarks shape (132, 3) for video MVI_5362.MOV\n",
      "Warning: Unexpected landmarks shape (132, 3) for video MVI_5362.MOV\n"
     ]
    },
    {
     "name": "stderr",
     "output_type": "stream",
     "text": [
      "Processing videos in 96. Manager:  64%|██████▎   | 7/11 [01:13<00:41, 10.41s/it]"
     ]
    },
    {
     "name": "stdout",
     "output_type": "stream",
     "text": [
      "Warning: Unexpected landmarks shape (132, 3) for video MVI_5363.MOV\n",
      "Warning: Unexpected landmarks shape (132, 3) for video MVI_5363.MOV\n",
      "Warning: Unexpected landmarks shape (132, 3) for video MVI_5363.MOV\n",
      "Warning: Unexpected landmarks shape (132, 3) for video MVI_5363.MOV\n",
      "Warning: Unexpected landmarks shape (132, 3) for video MVI_5363.MOV\n"
     ]
    },
    {
     "name": "stderr",
     "output_type": "stream",
     "text": [
      "Processing videos in 96. Manager:  73%|███████▎  | 8/11 [01:24<00:31, 10.58s/it]"
     ]
    },
    {
     "name": "stdout",
     "output_type": "stream",
     "text": [
      "Warning: Unexpected landmarks shape (132, 3) for video MVI_4510.MOV\n"
     ]
    },
    {
     "name": "stderr",
     "output_type": "stream",
     "text": [
      "Processing videos in 96. Manager:  91%|█████████ | 10/11 [01:48<00:11, 11.27s/it]"
     ]
    },
    {
     "name": "stdout",
     "output_type": "stream",
     "text": [
      "Warning: Unexpected landmarks shape (132, 3) for video MVI_4785.MOV\n"
     ]
    },
    {
     "name": "stderr",
     "output_type": "stream",
     "text": [
      "Processing videos in 96. Manager: 100%|██████████| 11/11 [01:57<00:00, 10.65s/it]\n",
      "Processing videos in 93. Soldier: 100%|██████████| 11/11 [01:09<00:00,  6.34s/it]\n",
      "Processing videos in 97. Reporter:  55%|█████▍    | 6/11 [00:43<00:36,  7.20s/it]"
     ]
    },
    {
     "name": "stdout",
     "output_type": "stream",
     "text": [
      "Warning: Unexpected landmarks shape (132, 3) for video MVI_5369.MOV\n"
     ]
    },
    {
     "name": "stderr",
     "output_type": "stream",
     "text": [
      "Processing videos in 97. Reporter:  64%|██████▎   | 7/11 [00:50<00:28,  7.07s/it]"
     ]
    },
    {
     "name": "stdout",
     "output_type": "stream",
     "text": [
      "Warning: Unexpected landmarks shape (132, 3) for video MVI_4514.MOV\n"
     ]
    },
    {
     "name": "stderr",
     "output_type": "stream",
     "text": [
      "Processing videos in 97. Reporter: 100%|██████████| 11/11 [01:20<00:00,  7.33s/it]\n",
      "Processing videos in 99. Job: 100%|██████████| 11/11 [01:17<00:00,  7.04s/it]\n",
      "Processing videos in 95. Author:   9%|▉         | 1/11 [00:12<02:08, 12.83s/it]"
     ]
    },
    {
     "name": "stdout",
     "output_type": "stream",
     "text": [
      "Warning: Unexpected landmarks shape (132, 3) for video MVI_5359.MOV\n"
     ]
    },
    {
     "name": "stderr",
     "output_type": "stream",
     "text": [
      "Processing videos in 95. Author: 100%|██████████| 11/11 [02:20<00:00, 12.73s/it]\n",
      "Processing videos in 41. Shirt:   0%|          | 0/19 [00:00<?, ?it/s]"
     ]
    },
    {
     "name": "stdout",
     "output_type": "stream",
     "text": [
      "Warning: Unexpected landmarks shape (132, 3) for video MVI_5020.MOV\n"
     ]
    },
    {
     "name": "stderr",
     "output_type": "stream",
     "text": [
      "Processing videos in 41. Shirt:  26%|██▋       | 5/19 [00:45<02:15,  9.66s/it]"
     ]
    },
    {
     "name": "stdout",
     "output_type": "stream",
     "text": [
      "Warning: Unexpected landmarks shape (132, 3) for video MVI_5166.MOV\n"
     ]
    },
    {
     "name": "stderr",
     "output_type": "stream",
     "text": [
      "Processing videos in 41. Shirt:  37%|███▋      | 7/19 [01:00<01:43,  8.64s/it]"
     ]
    },
    {
     "name": "stdout",
     "output_type": "stream",
     "text": [
      "Warning: Unexpected landmarks shape (132, 3) for video MVI_4001.MOV\n"
     ]
    },
    {
     "name": "stderr",
     "output_type": "stream",
     "text": [
      "Processing videos in 41. Shirt:  42%|████▏     | 8/19 [01:08<01:31,  8.34s/it]"
     ]
    },
    {
     "name": "stdout",
     "output_type": "stream",
     "text": [
      "Warning: Unexpected landmarks shape (132, 3) for video MVI_4880.MOV\n"
     ]
    },
    {
     "name": "stderr",
     "output_type": "stream",
     "text": [
      "Processing videos in 41. Shirt:  68%|██████▊   | 13/19 [01:55<00:55,  9.17s/it]"
     ]
    },
    {
     "name": "stdout",
     "output_type": "stream",
     "text": [
      "Warning: Unexpected landmarks shape (132, 3) for video MVI_4201.MOV\n"
     ]
    },
    {
     "name": "stderr",
     "output_type": "stream",
     "text": [
      "Processing videos in 41. Shirt:  89%|████████▉ | 17/19 [02:31<00:18,  9.16s/it]"
     ]
    },
    {
     "name": "stdout",
     "output_type": "stream",
     "text": [
      "Warning: Unexpected landmarks shape (132, 3) for video MVI_3847.MOV\n"
     ]
    },
    {
     "name": "stderr",
     "output_type": "stream",
     "text": [
      "Processing videos in 41. Shirt: 100%|██████████| 19/19 [02:52<00:00,  9.06s/it]\n",
      "Processing videos in 39. Suit:   0%|          | 0/18 [00:00<?, ?it/s]"
     ]
    },
    {
     "name": "stdout",
     "output_type": "stream",
     "text": [
      "Warning: Unexpected landmarks shape (132, 3) for video MVI_3992.MOV\n",
      "Warning: Unexpected landmarks shape (132, 3) for video MVI_3992.MOV\n",
      "Warning: Unexpected landmarks shape (132, 3) for video MVI_3992.MOV\n",
      "Warning: Unexpected landmarks shape (132, 3) for video MVI_3992.MOV\n"
     ]
    },
    {
     "name": "stderr",
     "output_type": "stream",
     "text": [
      "Processing videos in 39. Suit:  11%|█         | 2/18 [00:16<02:11,  8.22s/it]"
     ]
    },
    {
     "name": "stdout",
     "output_type": "stream",
     "text": [
      "Warning: Unexpected landmarks shape (132, 3) for video MVI_3990.MOV\n",
      "Warning: Unexpected landmarks shape (132, 3) for video MVI_3990.MOV\n",
      "Warning: Unexpected landmarks shape (132, 3) for video MVI_3990.MOV\n"
     ]
    },
    {
     "name": "stderr",
     "output_type": "stream",
     "text": [
      "Processing videos in 39. Suit:  17%|█▋        | 3/18 [00:25<02:07,  8.48s/it]"
     ]
    },
    {
     "name": "stdout",
     "output_type": "stream",
     "text": [
      "Warning: Unexpected landmarks shape (132, 3) for video MVI_5160.MOV\n",
      "Warning: Unexpected landmarks shape (132, 3) for video MVI_5160.MOV\n",
      "Warning: Unexpected landmarks shape (132, 3) for video MVI_5160.MOV\n"
     ]
    },
    {
     "name": "stderr",
     "output_type": "stream",
     "text": [
      "Processing videos in 39. Suit:  28%|██▊       | 5/18 [00:42<01:47,  8.29s/it]"
     ]
    },
    {
     "name": "stdout",
     "output_type": "stream",
     "text": [
      "Warning: Unexpected landmarks shape (132, 3) for video MVI_4199.MOV\n"
     ]
    },
    {
     "name": "stderr",
     "output_type": "stream",
     "text": [
      "Processing videos in 39. Suit:  33%|███▎      | 6/18 [00:49<01:33,  7.78s/it]"
     ]
    },
    {
     "name": "stdout",
     "output_type": "stream",
     "text": [
      "Warning: Unexpected landmarks shape (132, 3) for video MVI_3843.MOV\n"
     ]
    },
    {
     "name": "stderr",
     "output_type": "stream",
     "text": [
      "Processing videos in 39. Suit:  50%|█████     | 9/18 [01:12<01:08,  7.58s/it]"
     ]
    },
    {
     "name": "stdout",
     "output_type": "stream",
     "text": [
      "Warning: Unexpected landmarks shape (132, 3) for video MVI_3841.MOV\n"
     ]
    },
    {
     "name": "stderr",
     "output_type": "stream",
     "text": [
      "Processing videos in 39. Suit:  61%|██████    | 11/18 [01:30<00:58,  8.35s/it]"
     ]
    },
    {
     "name": "stdout",
     "output_type": "stream",
     "text": [
      "Warning: Unexpected landmarks shape (132, 3) for video MVI_5161.MOV\n"
     ]
    },
    {
     "name": "stderr",
     "output_type": "stream",
     "text": [
      "Processing videos in 39. Suit:  67%|██████▋   | 12/18 [01:37<00:47,  7.92s/it]"
     ]
    },
    {
     "name": "stdout",
     "output_type": "stream",
     "text": [
      "Warning: Unexpected landmarks shape (132, 3) for video MVI_4872.MOV\n",
      "Warning: Unexpected landmarks shape (132, 3) for video MVI_4872.MOV\n",
      "Warning: Unexpected landmarks shape (132, 3) for video MVI_4872.MOV\n"
     ]
    },
    {
     "name": "stderr",
     "output_type": "stream",
     "text": [
      "Processing videos in 39. Suit:  78%|███████▊  | 14/18 [01:53<00:31,  7.89s/it]"
     ]
    },
    {
     "name": "stdout",
     "output_type": "stream",
     "text": [
      "Warning: Unexpected landmarks shape (132, 3) for video MVI_3698.MOV\n"
     ]
    },
    {
     "name": "stderr",
     "output_type": "stream",
     "text": [
      "Processing videos in 39. Suit:  83%|████████▎ | 15/18 [02:02<00:24,  8.31s/it]"
     ]
    },
    {
     "name": "stdout",
     "output_type": "stream",
     "text": [
      "Warning: Unexpected landmarks shape (132, 3) for video MVI_4873.MOV\n"
     ]
    },
    {
     "name": "stderr",
     "output_type": "stream",
     "text": [
      "Processing videos in 39. Suit: 100%|██████████| 18/18 [02:27<00:00,  8.17s/it]\n",
      "Processing videos in 37. Hat: 100%|██████████| 19/19 [02:17<00:00,  7.24s/it]\n",
      "Processing videos in 40. Skirt:   6%|▌         | 1/18 [00:05<01:35,  5.62s/it]"
     ]
    },
    {
     "name": "stdout",
     "output_type": "stream",
     "text": [
      "Warning: Unexpected landmarks shape (132, 3) for video MVI_5164.MOV\n",
      "Warning: Unexpected landmarks shape (132, 3) for video MVI_5164.MOV\n",
      "Warning: Unexpected landmarks shape (132, 3) for video MVI_5164.MOV\n"
     ]
    },
    {
     "name": "stderr",
     "output_type": "stream",
     "text": [
      "Processing videos in 40. Skirt:  11%|█         | 2/18 [00:10<01:25,  5.34s/it]"
     ]
    },
    {
     "name": "stdout",
     "output_type": "stream",
     "text": [
      "Warning: Unexpected landmarks shape (132, 3) for video MVI_4200.MOV\n"
     ]
    },
    {
     "name": "stderr",
     "output_type": "stream",
     "text": [
      "Processing videos in 40. Skirt:  17%|█▋        | 3/18 [00:15<01:17,  5.17s/it]"
     ]
    },
    {
     "name": "stdout",
     "output_type": "stream",
     "text": [
      "Warning: Unexpected landmarks shape (132, 3) for video MVI_4875.MOV\n",
      "Warning: Unexpected landmarks shape (132, 3) for video MVI_4875.MOV\n"
     ]
    },
    {
     "name": "stderr",
     "output_type": "stream",
     "text": [
      "Processing videos in 40. Skirt:  33%|███▎      | 6/18 [00:35<01:15,  6.25s/it]"
     ]
    },
    {
     "name": "stdout",
     "output_type": "stream",
     "text": [
      "Warning: Unexpected landmarks shape (132, 3) for video MVI_5163.MOV\n"
     ]
    },
    {
     "name": "stderr",
     "output_type": "stream",
     "text": [
      "Processing videos in 40. Skirt:  44%|████▍     | 8/18 [00:48<01:04,  6.49s/it]"
     ]
    },
    {
     "name": "stdout",
     "output_type": "stream",
     "text": [
      "Warning: Unexpected landmarks shape (132, 3) for video MVI_5016.MOV\n"
     ]
    },
    {
     "name": "stderr",
     "output_type": "stream",
     "text": [
      "Processing videos in 40. Skirt:  56%|█████▌    | 10/18 [00:59<00:47,  5.96s/it]"
     ]
    },
    {
     "name": "stdout",
     "output_type": "stream",
     "text": [
      "Warning: Unexpected landmarks shape (132, 3) for video MVI_4874.MOV\n",
      "Warning: Unexpected landmarks shape (132, 3) for video MVI_4874.MOV\n"
     ]
    },
    {
     "name": "stderr",
     "output_type": "stream",
     "text": [
      "Processing videos in 40. Skirt:  61%|██████    | 11/18 [01:07<00:44,  6.40s/it]"
     ]
    },
    {
     "name": "stdout",
     "output_type": "stream",
     "text": [
      "Warning: Unexpected landmarks shape (132, 3) for video MVI_3699.MOV\n",
      "Warning: Unexpected landmarks shape (132, 3) for video MVI_3699.MOV\n"
     ]
    },
    {
     "name": "stderr",
     "output_type": "stream",
     "text": [
      "Processing videos in 40. Skirt:  78%|███████▊  | 14/18 [01:28<00:27,  6.79s/it]"
     ]
    },
    {
     "name": "stdout",
     "output_type": "stream",
     "text": [
      "Warning: Unexpected landmarks shape (132, 3) for video MVI_4876.MOV\n",
      "Warning: Unexpected landmarks shape (132, 3) for video MVI_4876.MOV\n"
     ]
    },
    {
     "name": "stderr",
     "output_type": "stream",
     "text": [
      "Processing videos in 40. Skirt:  89%|████████▉ | 16/18 [01:43<00:14,  7.29s/it]"
     ]
    },
    {
     "name": "stdout",
     "output_type": "stream",
     "text": [
      "Warning: Unexpected landmarks shape (132, 3) for video MVI_3844.MOV\n",
      "Warning: Unexpected landmarks shape (132, 3) for video MVI_3844.MOV\n"
     ]
    },
    {
     "name": "stderr",
     "output_type": "stream",
     "text": [
      "Processing videos in 40. Skirt:  94%|█████████▍| 17/18 [01:50<00:07,  7.08s/it]"
     ]
    },
    {
     "name": "stdout",
     "output_type": "stream",
     "text": [
      "Warning: Unexpected landmarks shape (132, 3) for video MVI_5165.MOV\n",
      "Warning: Unexpected landmarks shape (132, 3) for video MVI_5165.MOV\n"
     ]
    },
    {
     "name": "stderr",
     "output_type": "stream",
     "text": [
      "Processing videos in 40. Skirt: 100%|██████████| 18/18 [01:55<00:00,  6.44s/it]\n",
      "Processing videos in 38. Dress:  26%|██▋       | 5/19 [00:30<01:27,  6.28s/it]"
     ]
    },
    {
     "name": "stdout",
     "output_type": "stream",
     "text": [
      "Warning: Unexpected landmarks shape (132, 3) for video MVI_3989.MOV\n"
     ]
    },
    {
     "name": "stderr",
     "output_type": "stream",
     "text": [
      "Processing videos in 38. Dress: 100%|██████████| 19/19 [02:02<00:00,  6.45s/it]\n",
      "Processing videos in 76. Neighbour:  11%|█         | 2/19 [00:15<02:09,  7.63s/it]"
     ]
    },
    {
     "name": "stdout",
     "output_type": "stream",
     "text": [
      "Warning: Unexpected landmarks shape (132, 3) for video MVI_4105.MOV\n"
     ]
    },
    {
     "name": "stderr",
     "output_type": "stream",
     "text": [
      "Processing videos in 76. Neighbour:  26%|██▋       | 5/19 [00:40<01:55,  8.21s/it]"
     ]
    },
    {
     "name": "stdout",
     "output_type": "stream",
     "text": [
      "Warning: Unexpected landmarks shape (132, 3) for video MVI_3811.MOV\n"
     ]
    },
    {
     "name": "stderr",
     "output_type": "stream",
     "text": [
      "Processing videos in 76. Neighbour:  37%|███▋      | 7/19 [00:56<01:39,  8.30s/it]"
     ]
    },
    {
     "name": "stdout",
     "output_type": "stream",
     "text": [
      "Warning: Unexpected landmarks shape (132, 3) for video MVI_3812.MOV\n"
     ]
    },
    {
     "name": "stderr",
     "output_type": "stream",
     "text": [
      "Processing videos in 76. Neighbour:  42%|████▏     | 8/19 [01:02<01:24,  7.65s/it]"
     ]
    },
    {
     "name": "stdout",
     "output_type": "stream",
     "text": [
      "Warning: Unexpected landmarks shape (132, 3) for video MVI_5129.MOV\n"
     ]
    },
    {
     "name": "stderr",
     "output_type": "stream",
     "text": [
      "Processing videos in 76. Neighbour:  74%|███████▎  | 14/19 [01:41<00:32,  6.58s/it]"
     ]
    },
    {
     "name": "stdout",
     "output_type": "stream",
     "text": [
      "Warning: Unexpected landmarks shape (132, 3) for video MVI_4107.MOV\n",
      "Warning: Unexpected landmarks shape (132, 3) for video MVI_4107.MOV\n"
     ]
    },
    {
     "name": "stderr",
     "output_type": "stream",
     "text": [
      "Processing videos in 76. Neighbour:  95%|█████████▍| 18/19 [02:09<00:06,  6.83s/it]"
     ]
    },
    {
     "name": "stdout",
     "output_type": "stream",
     "text": [
      "Warning: Unexpected landmarks shape (132, 3) for video MVI_4106.MOV\n"
     ]
    },
    {
     "name": "stderr",
     "output_type": "stream",
     "text": [
      "Processing videos in 76. Neighbour: 100%|██████████| 19/19 [02:16<00:00,  7.19s/it]\n",
      "Processing videos in 77. Boy: 100%|██████████| 20/20 [02:16<00:00,  6.81s/it]\n",
      "Processing videos in 75. President:  58%|█████▊    | 11/19 [01:20<00:55,  6.98s/it]"
     ]
    },
    {
     "name": "stdout",
     "output_type": "stream",
     "text": [
      "Warning: Unexpected landmarks shape (132, 3) for video MVI_5275.MOV\n"
     ]
    },
    {
     "name": "stderr",
     "output_type": "stream",
     "text": [
      "Processing videos in 75. President:  89%|████████▉ | 17/19 [02:01<00:14,  7.35s/it]"
     ]
    },
    {
     "name": "stdout",
     "output_type": "stream",
     "text": [
      "Warning: Unexpected landmarks shape (132, 3) for video MVI_4977.MOV\n"
     ]
    },
    {
     "name": "stderr",
     "output_type": "stream",
     "text": [
      "Processing videos in 75. President: 100%|██████████| 19/19 [02:14<00:00,  7.06s/it]\n",
      "Processing videos in 74. Queen: 100%|██████████| 19/19 [02:06<00:00,  6.65s/it]\n",
      "Processing videos in 78. Girl: 100%|██████████| 19/19 [02:04<00:00,  6.55s/it]\n",
      "Processing videos in 1. loud:  10%|▉         | 2/21 [00:15<02:28,  7.80s/it]"
     ]
    },
    {
     "name": "stdout",
     "output_type": "stream",
     "text": [
      "Warning: Unexpected landmarks shape (132, 3) for video MVI_9536.MOV\n"
     ]
    },
    {
     "name": "stderr",
     "output_type": "stream",
     "text": [
      "Processing videos in 1. loud:  62%|██████▏   | 13/21 [01:23<00:47,  6.00s/it]"
     ]
    },
    {
     "name": "stdout",
     "output_type": "stream",
     "text": [
      "Warning: Unexpected landmarks shape (132, 3) for video MVI_5178.MOV\n"
     ]
    },
    {
     "name": "stderr",
     "output_type": "stream",
     "text": [
      "Processing videos in 1. loud:  67%|██████▋   | 14/21 [01:30<00:44,  6.32s/it]"
     ]
    },
    {
     "name": "stdout",
     "output_type": "stream",
     "text": [
      "Warning: Unexpected landmarks shape (132, 3) for video MVI_9368.MOV\n"
     ]
    },
    {
     "name": "stderr",
     "output_type": "stream",
     "text": [
      "Processing videos in 1. loud:  71%|███████▏  | 15/21 [01:36<00:36,  6.10s/it]"
     ]
    },
    {
     "name": "stdout",
     "output_type": "stream",
     "text": [
      "Warning: Unexpected landmarks shape (132, 3) for video MVI_9291.MOV\n"
     ]
    },
    {
     "name": "stderr",
     "output_type": "stream",
     "text": [
      "Processing videos in 1. loud:  90%|█████████ | 19/21 [02:00<00:11,  5.87s/it]"
     ]
    },
    {
     "name": "stdout",
     "output_type": "stream",
     "text": [
      "Warning: Unexpected landmarks shape (132, 3) for video MVI_9370.MOV\n"
     ]
    },
    {
     "name": "stderr",
     "output_type": "stream",
     "text": [
      "Processing videos in 1. loud:  95%|█████████▌| 20/21 [02:05<00:05,  5.65s/it]"
     ]
    },
    {
     "name": "stdout",
     "output_type": "stream",
     "text": [
      "Warning: Unexpected landmarks shape (132, 3) for video MVI_9534.MOV\n"
     ]
    },
    {
     "name": "stderr",
     "output_type": "stream",
     "text": [
      "Processing videos in 1. loud: 100%|██████████| 21/21 [02:11<00:00,  6.26s/it]\n",
      "Processing videos in 3. happy:  14%|█▍        | 3/21 [00:17<01:46,  5.89s/it]"
     ]
    },
    {
     "name": "stdout",
     "output_type": "stream",
     "text": [
      "Warning: Unexpected landmarks shape (132, 3) for video MVI_5184.MOV\n",
      "Warning: Unexpected landmarks shape (132, 3) for video MVI_5184.MOV\n"
     ]
    },
    {
     "name": "stderr",
     "output_type": "stream",
     "text": [
      "Processing videos in 3. happy:  76%|███████▌  | 16/21 [01:36<00:28,  5.61s/it]"
     ]
    },
    {
     "name": "stdout",
     "output_type": "stream",
     "text": [
      "Warning: Unexpected landmarks shape (132, 3) for video MVI_5183.MOV\n"
     ]
    },
    {
     "name": "stderr",
     "output_type": "stream",
     "text": [
      "Processing videos in 3. happy:  81%|████████  | 17/21 [01:44<00:25,  6.34s/it]"
     ]
    },
    {
     "name": "stdout",
     "output_type": "stream",
     "text": [
      "Warning: Unexpected landmarks shape (132, 3) for video MVI_9540.MOV\n"
     ]
    },
    {
     "name": "stderr",
     "output_type": "stream",
     "text": [
      "Processing videos in 3. happy: 100%|██████████| 21/21 [02:09<00:00,  6.17s/it]\n",
      "Processing videos in 2. quiet: 100%|██████████| 21/21 [02:21<00:00,  6.73s/it]\n",
      "Processing videos in 7. Deaf:  50%|█████     | 4/8 [00:24<00:24,  6.12s/it]"
     ]
    },
    {
     "name": "stdout",
     "output_type": "stream",
     "text": [
      "Warning: Unexpected landmarks shape (132, 3) for video MVI_9582.MOV\n",
      "Warning: Unexpected landmarks shape (132, 3) for video MVI_9582.MOV\n"
     ]
    },
    {
     "name": "stderr",
     "output_type": "stream",
     "text": [
      "Processing videos in 7. Deaf: 100%|██████████| 8/8 [00:50<00:00,  6.35s/it]\n",
      "Processing videos in 8. Blind: 100%|██████████| 8/8 [00:51<00:00,  6.40s/it]\n",
      "Processing videos in 5. Beautiful: 100%|██████████| 8/8 [01:00<00:00,  7.60s/it]\n",
      "Processing videos in 4. sad: 100%|██████████| 8/8 [00:57<00:00,  7.21s/it]\n",
      "Processing videos in 6. Ugly: 100%|██████████| 8/8 [00:55<00:00,  6.90s/it]\n",
      "Processing videos in 56. Grey: 100%|██████████| 20/20 [02:23<00:00,  7.18s/it]\n",
      "Processing videos in 55. White:  79%|███████▉  | 15/19 [01:30<00:25,  6.25s/it]"
     ]
    },
    {
     "name": "stdout",
     "output_type": "stream",
     "text": [
      "Warning: Unexpected landmarks shape (132, 3) for video MVI_4044.MOV\n"
     ]
    },
    {
     "name": "stderr",
     "output_type": "stream",
     "text": [
      "Processing videos in 55. White: 100%|██████████| 19/19 [01:58<00:00,  6.23s/it]\n",
      "Processing videos in 57. Colour: 100%|██████████| 19/19 [01:54<00:00,  6.05s/it]\n",
      "Processing videos in 52. Pink: 100%|██████████| 19/19 [02:04<00:00,  6.56s/it]\n",
      "Processing videos in 53. Orange: 100%|██████████| 19/19 [02:00<00:00,  6.32s/it]\n",
      "Processing videos in 54. Black:  68%|██████▊   | 13/19 [01:18<00:35,  5.85s/it]"
     ]
    },
    {
     "name": "stdout",
     "output_type": "stream",
     "text": [
      "Warning: Unexpected landmarks shape (132, 3) for video MVI_4040.MOV\n"
     ]
    },
    {
     "name": "stderr",
     "output_type": "stream",
     "text": [
      "Processing videos in 54. Black: 100%|██████████| 19/19 [01:50<00:00,  5.84s/it]\n",
      "Processing videos in 29. Library:   5%|▌         | 1/20 [00:07<02:15,  7.13s/it]"
     ]
    },
    {
     "name": "stdout",
     "output_type": "stream",
     "text": [
      "Warning: Unexpected landmarks shape (132, 3) for video MVI_3667.MOV\n"
     ]
    },
    {
     "name": "stderr",
     "output_type": "stream",
     "text": [
      "Processing videos in 29. Library:  60%|██████    | 12/20 [01:33<00:58,  7.36s/it]"
     ]
    },
    {
     "name": "stdout",
     "output_type": "stream",
     "text": [
      "Warning: Unexpected landmarks shape (132, 3) for video MVI_3668.MOV\n"
     ]
    },
    {
     "name": "stderr",
     "output_type": "stream",
     "text": [
      "Processing videos in 29. Library:  80%|████████  | 16/20 [02:09<00:33,  8.26s/it]"
     ]
    },
    {
     "name": "stdout",
     "output_type": "stream",
     "text": [
      "Warning: Unexpected landmarks shape (132, 3) for video MVI_3312.MOV\n"
     ]
    },
    {
     "name": "stderr",
     "output_type": "stream",
     "text": [
      "Processing videos in 29. Library: 100%|██████████| 20/20 [02:41<00:00,  8.10s/it]\n",
      "Processing videos in 32. Market:  20%|██        | 4/20 [00:29<01:55,  7.25s/it]"
     ]
    },
    {
     "name": "stdout",
     "output_type": "stream",
     "text": [
      "Warning: Unexpected landmarks shape (132, 3) for video MVI_3570.MOV\n"
     ]
    },
    {
     "name": "stderr",
     "output_type": "stream",
     "text": [
      "Processing videos in 32. Market:  35%|███▌      | 7/20 [00:48<01:29,  6.88s/it]"
     ]
    },
    {
     "name": "stdout",
     "output_type": "stream",
     "text": [
      "Warning: Unexpected landmarks shape (132, 3) for video MVI_3326.MOV\n",
      "Warning: Unexpected landmarks shape (132, 3) for video MVI_3326.MOV\n",
      "Warning: Unexpected landmarks shape (132, 3) for video MVI_3326.MOV\n"
     ]
    },
    {
     "name": "stderr",
     "output_type": "stream",
     "text": [
      "Processing videos in 32. Market:  60%|██████    | 12/20 [01:20<00:49,  6.22s/it]"
     ]
    },
    {
     "name": "stdout",
     "output_type": "stream",
     "text": [
      "Warning: Unexpected landmarks shape (132, 3) for video MVI_3489.MOV\n"
     ]
    },
    {
     "name": "stderr",
     "output_type": "stream",
     "text": [
      "Processing videos in 32. Market:  65%|██████▌   | 13/20 [01:25<00:41,  5.86s/it]"
     ]
    },
    {
     "name": "stdout",
     "output_type": "stream",
     "text": [
      "Warning: Unexpected landmarks shape (132, 3) for video MVI_3491.MOV\n",
      "Warning: Unexpected landmarks shape (132, 3) for video MVI_3491.MOV\n"
     ]
    },
    {
     "name": "stderr",
     "output_type": "stream",
     "text": [
      "Processing videos in 32. Market:  95%|█████████▌| 19/20 [02:03<00:06,  6.42s/it]"
     ]
    },
    {
     "name": "stdout",
     "output_type": "stream",
     "text": [
      "Warning: Unexpected landmarks shape (132, 3) for video MVI_3325.MOV\n"
     ]
    },
    {
     "name": "stderr",
     "output_type": "stream",
     "text": [
      "Processing videos in 32. Market: 100%|██████████| 20/20 [02:10<00:00,  6.52s/it]\n",
      "Processing videos in 28. Store or Shop:  10%|█         | 2/20 [00:11<01:43,  5.77s/it]"
     ]
    },
    {
     "name": "stdout",
     "output_type": "stream",
     "text": [
      "Warning: Unexpected landmarks shape (132, 3) for video MVI_3472.MOV\n"
     ]
    },
    {
     "name": "stderr",
     "output_type": "stream",
     "text": [
      "Processing videos in 28. Store or Shop:  25%|██▌       | 5/20 [00:31<01:34,  6.29s/it]"
     ]
    },
    {
     "name": "stdout",
     "output_type": "stream",
     "text": [
      "Warning: Unexpected landmarks shape (132, 3) for video MVI_3474.MOV\n"
     ]
    },
    {
     "name": "stderr",
     "output_type": "stream",
     "text": [
      "Processing videos in 28. Store or Shop:  40%|████      | 8/20 [00:49<01:16,  6.42s/it]"
     ]
    },
    {
     "name": "stdout",
     "output_type": "stream",
     "text": [
      "Warning: Unexpected landmarks shape (132, 3) for video MVI_3310.MOV\n"
     ]
    },
    {
     "name": "stderr",
     "output_type": "stream",
     "text": [
      "Processing videos in 28. Store or Shop:  50%|█████     | 10/20 [01:03<01:05,  6.58s/it]"
     ]
    },
    {
     "name": "stdout",
     "output_type": "stream",
     "text": [
      "Warning: Unexpected landmarks shape (132, 3) for video MVI_3552.MOV\n"
     ]
    },
    {
     "name": "stderr",
     "output_type": "stream",
     "text": [
      "Processing videos in 28. Store or Shop:  75%|███████▌  | 15/20 [01:34<00:31,  6.39s/it]"
     ]
    },
    {
     "name": "stdout",
     "output_type": "stream",
     "text": [
      "Warning: Unexpected landmarks shape (132, 3) for video MVI_3384.MOV\n"
     ]
    },
    {
     "name": "stderr",
     "output_type": "stream",
     "text": [
      "Processing videos in 28. Store or Shop:  95%|█████████▌| 19/20 [01:57<00:05,  5.92s/it]"
     ]
    },
    {
     "name": "stdout",
     "output_type": "stream",
     "text": [
      "Warning: Unexpected landmarks shape (132, 3) for video MVI_3555.MOV\n",
      "Warning: Unexpected landmarks shape (132, 3) for video MVI_3475.MOV\n"
     ]
    },
    {
     "name": "stderr",
     "output_type": "stream",
     "text": [
      "Processing videos in 28. Store or Shop: 100%|██████████| 20/20 [02:02<00:00,  6.12s/it]\n",
      "Processing videos in 31. Temple:   5%|▌         | 1/20 [00:08<02:45,  8.70s/it]"
     ]
    },
    {
     "name": "stdout",
     "output_type": "stream",
     "text": [
      "Warning: Unexpected landmarks shape (132, 3) for video MVI_3644.MOV\n",
      "Warning: Unexpected landmarks shape (132, 3) for video MVI_3644.MOV\n"
     ]
    },
    {
     "name": "stderr",
     "output_type": "stream",
     "text": [
      "Processing videos in 31. Temple:  45%|████▌     | 9/20 [01:16<01:37,  8.89s/it]"
     ]
    },
    {
     "name": "stdout",
     "output_type": "stream",
     "text": [
      "Warning: Unexpected landmarks shape (132, 3) for video MVI_3645.MOV\n"
     ]
    },
    {
     "name": "stderr",
     "output_type": "stream",
     "text": [
      "Processing videos in 31. Temple:  50%|█████     | 10/20 [01:24<01:27,  8.77s/it]"
     ]
    },
    {
     "name": "stdout",
     "output_type": "stream",
     "text": [
      "Warning: Unexpected landmarks shape (132, 3) for video MVI_3643.MOV\n",
      "Warning: Unexpected landmarks shape (132, 3) for video MVI_3643.MOV\n"
     ]
    },
    {
     "name": "stderr",
     "output_type": "stream",
     "text": [
      "Processing videos in 31. Temple:  55%|█████▌    | 11/20 [01:32<01:16,  8.47s/it]"
     ]
    },
    {
     "name": "stdout",
     "output_type": "stream",
     "text": [
      "Warning: Unexpected landmarks shape (132, 3) for video MVI_3642.MOV\n",
      "Warning: Unexpected landmarks shape (132, 3) for video MVI_3642.MOV\n"
     ]
    },
    {
     "name": "stderr",
     "output_type": "stream",
     "text": [
      "Processing videos in 31. Temple:  70%|███████   | 14/20 [01:57<00:49,  8.27s/it]"
     ]
    },
    {
     "name": "stdout",
     "output_type": "stream",
     "text": [
      "Warning: Unexpected landmarks shape (132, 3) for video MVI_3322.MOV\n"
     ]
    },
    {
     "name": "stderr",
     "output_type": "stream",
     "text": [
      "Processing videos in 31. Temple:  75%|███████▌  | 15/20 [02:07<00:43,  8.69s/it]"
     ]
    },
    {
     "name": "stdout",
     "output_type": "stream",
     "text": [
      "Warning: Unexpected landmarks shape (132, 3) for video MVI_3320.MOV\n"
     ]
    },
    {
     "name": "stderr",
     "output_type": "stream",
     "text": [
      "Processing videos in 31. Temple: 100%|██████████| 20/20 [02:53<00:00,  8.67s/it]\n",
      "Processing videos in 30. Hospital:   0%|          | 0/20 [00:00<?, ?it/s]"
     ]
    },
    {
     "name": "stdout",
     "output_type": "stream",
     "text": [
      "Warning: Unexpected landmarks shape (132, 3) for video MVI_3562.MOV\n"
     ]
    },
    {
     "name": "stderr",
     "output_type": "stream",
     "text": [
      "Processing videos in 30. Hospital:   5%|▌         | 1/20 [00:06<02:10,  6.88s/it]"
     ]
    },
    {
     "name": "stdout",
     "output_type": "stream",
     "text": [
      "Warning: Unexpected landmarks shape (132, 3) for video MVI_3480.MOV\n"
     ]
    },
    {
     "name": "stderr",
     "output_type": "stream",
     "text": [
      "Processing videos in 30. Hospital:  55%|█████▌    | 11/20 [01:23<01:09,  7.72s/it]"
     ]
    },
    {
     "name": "stdout",
     "output_type": "stream",
     "text": [
      "Warning: Unexpected landmarks shape (132, 3) for video MVI_3400.MOV\n"
     ]
    },
    {
     "name": "stderr",
     "output_type": "stream",
     "text": [
      "Processing videos in 30. Hospital: 100%|██████████| 20/20 [02:31<00:00,  7.56s/it]\n",
      "Processing videos in 10. Plane: 100%|██████████| 19/19 [02:46<00:00,  8.77s/it]\n",
      "Processing videos in 13. Bicycle:  11%|█         | 2/18 [00:17<02:19,  8.70s/it]"
     ]
    },
    {
     "name": "stdout",
     "output_type": "stream",
     "text": [
      "Warning: Unexpected landmarks shape (132, 3) for video MVI_3216.MOV\n",
      "Warning: Unexpected landmarks shape (132, 3) for video MVI_3216.MOV\n"
     ]
    },
    {
     "name": "stderr",
     "output_type": "stream",
     "text": [
      "Processing videos in 13. Bicycle:  17%|█▋        | 3/18 [00:25<02:10,  8.69s/it]"
     ]
    },
    {
     "name": "stdout",
     "output_type": "stream",
     "text": [
      "Warning: Unexpected landmarks shape (132, 3) for video MVI_3246.MOV\n"
     ]
    },
    {
     "name": "stderr",
     "output_type": "stream",
     "text": [
      "Processing videos in 13. Bicycle:  22%|██▏       | 4/18 [00:34<02:00,  8.58s/it]"
     ]
    },
    {
     "name": "stdout",
     "output_type": "stream",
     "text": [
      "Warning: Unexpected landmarks shape (132, 3) for video MVI_4182.MOV\n"
     ]
    },
    {
     "name": "stderr",
     "output_type": "stream",
     "text": [
      "Processing videos in 13. Bicycle:  28%|██▊       | 5/18 [00:41<01:45,  8.11s/it]"
     ]
    },
    {
     "name": "stdout",
     "output_type": "stream",
     "text": [
      "Warning: Unexpected landmarks shape (132, 3) for video MVI_3217.MOV\n",
      "Warning: Unexpected landmarks shape (132, 3) for video MVI_3217.MOV\n"
     ]
    },
    {
     "name": "stderr",
     "output_type": "stream",
     "text": [
      "Processing videos in 13. Bicycle:  33%|███▎      | 6/18 [00:51<01:44,  8.71s/it]"
     ]
    },
    {
     "name": "stdout",
     "output_type": "stream",
     "text": [
      "Warning: Unexpected landmarks shape (132, 3) for video MVI_3215.MOV\n"
     ]
    },
    {
     "name": "stderr",
     "output_type": "stream",
     "text": [
      "Processing videos in 13. Bicycle:  39%|███▉      | 7/18 [00:59<01:33,  8.46s/it]"
     ]
    },
    {
     "name": "stdout",
     "output_type": "stream",
     "text": [
      "Warning: Unexpected landmarks shape (132, 3) for video MVI_3244.MOV\n"
     ]
    },
    {
     "name": "stderr",
     "output_type": "stream",
     "text": [
      "Processing videos in 13. Bicycle:  56%|█████▌    | 10/18 [01:26<01:09,  8.63s/it]"
     ]
    },
    {
     "name": "stdout",
     "output_type": "stream",
     "text": [
      "Warning: Unexpected landmarks shape (132, 3) for video MVI_4184.MOV\n"
     ]
    },
    {
     "name": "stderr",
     "output_type": "stream",
     "text": [
      "Processing videos in 13. Bicycle:  61%|██████    | 11/18 [01:33<00:58,  8.32s/it]"
     ]
    },
    {
     "name": "stdout",
     "output_type": "stream",
     "text": [
      "Warning: Unexpected landmarks shape (132, 3) for video MVI_3125.MOV\n",
      "Warning: Unexpected landmarks shape (132, 3) for video MVI_3125.MOV\n"
     ]
    },
    {
     "name": "stderr",
     "output_type": "stream",
     "text": [
      "Processing videos in 13. Bicycle:  67%|██████▋   | 12/18 [01:43<00:53,  8.91s/it]"
     ]
    },
    {
     "name": "stdout",
     "output_type": "stream",
     "text": [
      "Warning: Unexpected landmarks shape (132, 3) for video MVI_3183.MOV\n",
      "Warning: Unexpected landmarks shape (132, 3) for video MVI_3183.MOV\n"
     ]
    },
    {
     "name": "stderr",
     "output_type": "stream",
     "text": [
      "Processing videos in 13. Bicycle:  83%|████████▎ | 15/18 [02:13<00:29,  9.70s/it]"
     ]
    },
    {
     "name": "stdout",
     "output_type": "stream",
     "text": [
      "Warning: Unexpected landmarks shape (132, 3) for video MVI_3182.MOV\n",
      "Warning: Unexpected landmarks shape (132, 3) for video MVI_3182.MOV\n",
      "Warning: Unexpected landmarks shape (132, 3) for video MVI_3182.MOV\n"
     ]
    },
    {
     "name": "stderr",
     "output_type": "stream",
     "text": [
      "Processing videos in 13. Bicycle:  89%|████████▉ | 16/18 [02:22<00:19,  9.62s/it]"
     ]
    },
    {
     "name": "stdout",
     "output_type": "stream",
     "text": [
      "Warning: Unexpected landmarks shape (132, 3) for video MVI_3245.MOV\n"
     ]
    },
    {
     "name": "stderr",
     "output_type": "stream",
     "text": [
      "Processing videos in 13. Bicycle:  94%|█████████▍| 17/18 [02:31<00:09,  9.40s/it]"
     ]
    },
    {
     "name": "stdout",
     "output_type": "stream",
     "text": [
      "Warning: Unexpected landmarks shape (132, 3) for video MVI_3122.MOV\n"
     ]
    },
    {
     "name": "stderr",
     "output_type": "stream",
     "text": [
      "Processing videos in 13. Bicycle: 100%|██████████| 18/18 [02:43<00:00,  9.06s/it]\n",
      "Processing videos in 9. Train: 100%|██████████| 19/19 [02:46<00:00,  8.77s/it]\n",
      "Processing videos in 12. Truck:   0%|          | 0/19 [00:00<?, ?it/s]"
     ]
    },
    {
     "name": "stdout",
     "output_type": "stream",
     "text": [
      "Warning: Unexpected landmarks shape (132, 3) for video MVI_3212.MOV\n"
     ]
    },
    {
     "name": "stderr",
     "output_type": "stream",
     "text": [
      "Processing videos in 12. Truck:   5%|▌         | 1/19 [00:09<02:43,  9.10s/it]"
     ]
    },
    {
     "name": "stdout",
     "output_type": "stream",
     "text": [
      "Warning: Unexpected landmarks shape (132, 3) for video MVI_4181.MOV\n"
     ]
    },
    {
     "name": "stderr",
     "output_type": "stream",
     "text": [
      "Processing videos in 12. Truck:  21%|██        | 4/19 [00:37<02:27,  9.85s/it]"
     ]
    },
    {
     "name": "stdout",
     "output_type": "stream",
     "text": [
      "Warning: Unexpected landmarks shape (132, 3) for video MVI_3213.MOV\n",
      "Warning: Unexpected landmarks shape (132, 3) for video MVI_3213.MOV\n"
     ]
    },
    {
     "name": "stderr",
     "output_type": "stream",
     "text": [
      "Processing videos in 12. Truck:  32%|███▏      | 6/19 [00:55<02:01,  9.35s/it]"
     ]
    },
    {
     "name": "stdout",
     "output_type": "stream",
     "text": [
      "Warning: Unexpected landmarks shape (132, 3) for video MVI_3120.MOV\n"
     ]
    },
    {
     "name": "stderr",
     "output_type": "stream",
     "text": [
      "Processing videos in 12. Truck:  53%|█████▎    | 10/19 [01:41<01:37, 10.88s/it]"
     ]
    },
    {
     "name": "stdout",
     "output_type": "stream",
     "text": [
      "Warning: Unexpected landmarks shape (132, 3) for video MVI_3177.MOV\n"
     ]
    },
    {
     "name": "stderr",
     "output_type": "stream",
     "text": [
      "Processing videos in 12. Truck:  58%|█████▊    | 11/19 [01:50<01:23, 10.41s/it]"
     ]
    },
    {
     "name": "stdout",
     "output_type": "stream",
     "text": [
      "Warning: Unexpected landmarks shape (132, 3) for video MVI_3214.MOV\n"
     ]
    },
    {
     "name": "stderr",
     "output_type": "stream",
     "text": [
      "Processing videos in 12. Truck:  79%|███████▉  | 15/19 [02:33<00:44, 11.14s/it]"
     ]
    },
    {
     "name": "stdout",
     "output_type": "stream",
     "text": [
      "Warning: Unexpected landmarks shape (132, 3) for video MVI_4179.MOV\n"
     ]
    },
    {
     "name": "stderr",
     "output_type": "stream",
     "text": [
      "Processing videos in 12. Truck:  89%|████████▉ | 17/19 [02:48<00:18,  9.42s/it]"
     ]
    },
    {
     "name": "stdout",
     "output_type": "stream",
     "text": [
      "Warning: Unexpected landmarks shape (132, 3) for video MVI_3243.MOV\n"
     ]
    },
    {
     "name": "stderr",
     "output_type": "stream",
     "text": [
      "Processing videos in 12. Truck: 100%|██████████| 19/19 [03:09<00:00,  9.97s/it]\n",
      "Processing videos in 11. Car:   0%|          | 0/18 [00:00<?, ?it/s]"
     ]
    },
    {
     "name": "stdout",
     "output_type": "stream",
     "text": [
      "Warning: Unexpected landmarks shape (132, 3) for video MVI_3240.MOV\n"
     ]
    },
    {
     "name": "stderr",
     "output_type": "stream",
     "text": [
      "Processing videos in 11. Car:   6%|▌         | 1/18 [00:11<03:07, 11.05s/it]"
     ]
    },
    {
     "name": "stdout",
     "output_type": "stream",
     "text": [
      "Warning: Unexpected landmarks shape (132, 3) for video MVI_3209.MOV\n"
     ]
    },
    {
     "name": "stderr",
     "output_type": "stream",
     "text": [
      "Processing videos in 11. Car:  28%|██▊       | 5/18 [01:07<03:10, 14.64s/it]"
     ]
    },
    {
     "name": "stdout",
     "output_type": "stream",
     "text": [
      "Warning: Unexpected landmarks shape (132, 3) for video MVI_3118.MOV\n"
     ]
    },
    {
     "name": "stderr",
     "output_type": "stream",
     "text": [
      "Processing videos in 11. Car:  67%|██████▋   | 12/18 [02:24<01:01, 10.29s/it]"
     ]
    },
    {
     "name": "stdout",
     "output_type": "stream",
     "text": [
      "Warning: Unexpected landmarks shape (132, 3) for video MVI_3238.MOV\n"
     ]
    },
    {
     "name": "stderr",
     "output_type": "stream",
     "text": [
      "Processing videos in 11. Car:  94%|█████████▍| 17/18 [03:20<00:10, 10.80s/it]"
     ]
    },
    {
     "name": "stdout",
     "output_type": "stream",
     "text": [
      "Warning: Unexpected landmarks shape (132, 3) for video MVI_3145.MOV\n"
     ]
    },
    {
     "name": "stderr",
     "output_type": "stream",
     "text": [
      "Processing videos in 11. Car: 100%|██████████| 18/18 [03:35<00:00, 11.97s/it]\n",
      "Processing videos in 14. Bus:  22%|██▏       | 4/18 [00:38<02:12,  9.49s/it]"
     ]
    },
    {
     "name": "stdout",
     "output_type": "stream",
     "text": [
      "Warning: Unexpected landmarks shape (132, 3) for video MVI_3184.MOV\n",
      "Warning: Unexpected landmarks shape (132, 3) for video MVI_3184.MOV\n"
     ]
    },
    {
     "name": "stderr",
     "output_type": "stream",
     "text": [
      "Processing videos in 14. Bus:  33%|███▎      | 6/18 [00:58<02:01, 10.09s/it]"
     ]
    },
    {
     "name": "stdout",
     "output_type": "stream",
     "text": [
      "Warning: Unexpected landmarks shape (132, 3) for video MVI_4185.MOV\n"
     ]
    },
    {
     "name": "stderr",
     "output_type": "stream",
     "text": [
      "Processing videos in 14. Bus:  39%|███▉      | 7/18 [01:07<01:44,  9.47s/it]"
     ]
    },
    {
     "name": "stdout",
     "output_type": "stream",
     "text": [
      "Warning: Unexpected landmarks shape (132, 3) for video MVI_4187.MOV\n"
     ]
    },
    {
     "name": "stderr",
     "output_type": "stream",
     "text": [
      "Processing videos in 14. Bus:  44%|████▍     | 8/18 [01:13<01:25,  8.56s/it]"
     ]
    },
    {
     "name": "stdout",
     "output_type": "stream",
     "text": [
      "Warning: Unexpected landmarks shape (132, 3) for video MVI_3156.MOV\n"
     ]
    },
    {
     "name": "stderr",
     "output_type": "stream",
     "text": [
      "Processing videos in 14. Bus:  56%|█████▌    | 10/18 [01:34<01:15,  9.45s/it]"
     ]
    },
    {
     "name": "stdout",
     "output_type": "stream",
     "text": [
      "Warning: Unexpected landmarks shape (132, 3) for video MVI_3185.MOV\n"
     ]
    },
    {
     "name": "stderr",
     "output_type": "stream",
     "text": [
      "Processing videos in 14. Bus:  94%|█████████▍| 17/18 [02:44<00:09,  9.59s/it]"
     ]
    },
    {
     "name": "stdout",
     "output_type": "stream",
     "text": [
      "Warning: Unexpected landmarks shape (132, 3) for video MVI_4186.MOV\n"
     ]
    },
    {
     "name": "stderr",
     "output_type": "stream",
     "text": [
      "Processing videos in 14. Bus: 100%|██████████| 18/18 [02:52<00:00,  9.60s/it]\n",
      "Processing videos in 16. train ticket:  11%|█         | 2/19 [00:23<03:14, 11.45s/it]"
     ]
    },
    {
     "name": "stdout",
     "output_type": "stream",
     "text": [
      "Warning: Unexpected landmarks shape (132, 3) for video MVI_4191.MOV\n"
     ]
    },
    {
     "name": "stderr",
     "output_type": "stream",
     "text": [
      "Processing videos in 16. train ticket:  21%|██        | 4/19 [00:40<02:22,  9.47s/it]"
     ]
    },
    {
     "name": "stdout",
     "output_type": "stream",
     "text": [
      "Warning: Unexpected landmarks shape (132, 3) for video MVI_3253.MOV\n"
     ]
    },
    {
     "name": "stderr",
     "output_type": "stream",
     "text": [
      "Processing videos in 16. train ticket:  89%|████████▉ | 17/19 [02:58<00:20, 10.38s/it]"
     ]
    },
    {
     "name": "stdout",
     "output_type": "stream",
     "text": [
      "Warning: Unexpected landmarks shape (132, 3) for video MVI_4193.MOV\n"
     ]
    },
    {
     "name": "stderr",
     "output_type": "stream",
     "text": [
      "Processing videos in 16. train ticket: 100%|██████████| 19/19 [03:16<00:00, 10.35s/it]\n",
      "Processing videos in 17. Transportation:   0%|          | 0/19 [00:00<?, ?it/s]"
     ]
    },
    {
     "name": "stdout",
     "output_type": "stream",
     "text": [
      "Warning: Unexpected landmarks shape (132, 3) for video MVI_3257.MOV\n"
     ]
    },
    {
     "name": "stderr",
     "output_type": "stream",
     "text": [
      "Processing videos in 17. Transportation:   5%|▌         | 1/19 [00:08<02:37,  8.75s/it]"
     ]
    },
    {
     "name": "stdout",
     "output_type": "stream",
     "text": [
      "Warning: Unexpected landmarks shape (132, 3) for video MVI_3199.MOV\n"
     ]
    },
    {
     "name": "stderr",
     "output_type": "stream",
     "text": [
      "Processing videos in 17. Transportation:  11%|█         | 2/19 [00:18<02:40,  9.47s/it]"
     ]
    },
    {
     "name": "stdout",
     "output_type": "stream",
     "text": [
      "Warning: Unexpected landmarks shape (132, 3) for video MVI_3198.MOV\n",
      "Warning: Unexpected landmarks shape (132, 3) for video MVI_3198.MOV\n"
     ]
    },
    {
     "name": "stderr",
     "output_type": "stream",
     "text": [
      "Processing videos in 17. Transportation:  21%|██        | 4/19 [00:41<02:42, 10.84s/it]"
     ]
    },
    {
     "name": "stdout",
     "output_type": "stream",
     "text": [
      "Warning: Unexpected landmarks shape (132, 3) for video MVI_3228.MOV\n"
     ]
    },
    {
     "name": "stderr",
     "output_type": "stream",
     "text": [
      "Processing videos in 17. Transportation:  37%|███▋      | 7/19 [01:07<01:54,  9.53s/it]"
     ]
    },
    {
     "name": "stdout",
     "output_type": "stream",
     "text": [
      "Warning: Unexpected landmarks shape (132, 3) for video MVI_3229.MOV\n"
     ]
    },
    {
     "name": "stderr",
     "output_type": "stream",
     "text": [
      "Processing videos in 17. Transportation:  42%|████▏     | 8/19 [01:15<01:39,  9.02s/it]"
     ]
    },
    {
     "name": "stdout",
     "output_type": "stream",
     "text": [
      "Warning: Unexpected landmarks shape (132, 3) for video MVI_3136.MOV\n"
     ]
    },
    {
     "name": "stderr",
     "output_type": "stream",
     "text": [
      "Processing videos in 17. Transportation:  47%|████▋     | 9/19 [01:27<01:40, 10.05s/it]"
     ]
    },
    {
     "name": "stdout",
     "output_type": "stream",
     "text": [
      "Warning: Unexpected landmarks shape (132, 3) for video MVI_3258.MOV\n",
      "Warning: Unexpected landmarks shape (132, 3) for video MVI_3258.MOV\n",
      "Warning: Unexpected landmarks shape (132, 3) for video MVI_3258.MOV\n"
     ]
    },
    {
     "name": "stderr",
     "output_type": "stream",
     "text": [
      "Processing videos in 17. Transportation:  53%|█████▎    | 10/19 [01:36<01:27,  9.77s/it]"
     ]
    },
    {
     "name": "stdout",
     "output_type": "stream",
     "text": [
      "Warning: Unexpected landmarks shape (132, 3) for video MVI_4194.MOV\n",
      "Warning: Unexpected landmarks shape (132, 3) for video MVI_4194.MOV\n",
      "Warning: Unexpected landmarks shape (132, 3) for video MVI_4194.MOV\n"
     ]
    },
    {
     "name": "stderr",
     "output_type": "stream",
     "text": [
      "Processing videos in 17. Transportation:  58%|█████▊    | 11/19 [01:44<01:13,  9.18s/it]"
     ]
    },
    {
     "name": "stdout",
     "output_type": "stream",
     "text": [
      "Warning: Unexpected landmarks shape (132, 3) for video MVI_3200.MOV\n",
      "Warning: Unexpected landmarks shape (132, 3) for video MVI_3200.MOV\n",
      "Warning: Unexpected landmarks shape (132, 3) for video MVI_3200.MOV\n"
     ]
    },
    {
     "name": "stderr",
     "output_type": "stream",
     "text": [
      "Processing videos in 17. Transportation:  63%|██████▎   | 12/19 [01:55<01:07,  9.60s/it]"
     ]
    },
    {
     "name": "stdout",
     "output_type": "stream",
     "text": [
      "Warning: Unexpected landmarks shape (132, 3) for video MVI_3201.MOV\n"
     ]
    },
    {
     "name": "stderr",
     "output_type": "stream",
     "text": [
      "Processing videos in 17. Transportation:  95%|█████████▍| 18/19 [02:50<00:09,  9.55s/it]"
     ]
    },
    {
     "name": "stdout",
     "output_type": "stream",
     "text": [
      "Warning: Unexpected landmarks shape (132, 3) for video MVI_4195.MOV\n"
     ]
    },
    {
     "name": "stderr",
     "output_type": "stream",
     "text": [
      "Processing videos in 17. Transportation: 100%|██████████| 19/19 [02:58<00:00,  9.38s/it]\n",
      "Processing videos in 15. Boat:   0%|          | 0/19 [00:00<?, ?it/s]"
     ]
    },
    {
     "name": "stdout",
     "output_type": "stream",
     "text": [
      "Warning: Unexpected landmarks shape (132, 3) for video MVI_3222.MOV\n",
      "Warning: Unexpected landmarks shape (132, 3) for video MVI_3222.MOV\n"
     ]
    },
    {
     "name": "stderr",
     "output_type": "stream",
     "text": [
      "Processing videos in 15. Boat:   5%|▌         | 1/19 [00:13<04:03, 13.54s/it]"
     ]
    },
    {
     "name": "stdout",
     "output_type": "stream",
     "text": [
      "Warning: Unexpected landmarks shape (132, 3) for video MVI_3187.MOV\n"
     ]
    },
    {
     "name": "stderr",
     "output_type": "stream",
     "text": [
      "Processing videos in 15. Boat:  11%|█         | 2/19 [00:26<03:42, 13.06s/it]"
     ]
    },
    {
     "name": "stdout",
     "output_type": "stream",
     "text": [
      "Warning: Unexpected landmarks shape (132, 3) for video MVI_3221.MOV\n",
      "Warning: Unexpected landmarks shape (132, 3) for video MVI_3221.MOV\n",
      "Warning: Unexpected landmarks shape (132, 3) for video MVI_3221.MOV\n",
      "Warning: Unexpected landmarks shape (132, 3) for video MVI_3221.MOV\n",
      "Warning: Unexpected landmarks shape (132, 3) for video MVI_3221.MOV\n"
     ]
    },
    {
     "name": "stderr",
     "output_type": "stream",
     "text": [
      "Processing videos in 15. Boat:  16%|█▌        | 3/19 [00:39<03:33, 13.32s/it]"
     ]
    },
    {
     "name": "stdout",
     "output_type": "stream",
     "text": [
      "Warning: Unexpected landmarks shape (132, 3) for video MVI_3131.MOV\n"
     ]
    },
    {
     "name": "stderr",
     "output_type": "stream",
     "text": [
      "Processing videos in 15. Boat:  21%|██        | 4/19 [00:53<03:22, 13.48s/it]"
     ]
    },
    {
     "name": "stdout",
     "output_type": "stream",
     "text": [
      "Warning: Unexpected landmarks shape (132, 3) for video MVI_3191.MOV\n",
      "Warning: Unexpected landmarks shape (132, 3) for video MVI_3191.MOV\n",
      "Warning: Unexpected landmarks shape (132, 3) for video MVI_3191.MOV\n",
      "Warning: Unexpected landmarks shape (132, 3) for video MVI_3191.MOV\n"
     ]
    },
    {
     "name": "stderr",
     "output_type": "stream",
     "text": [
      "Processing videos in 15. Boat:  26%|██▋       | 5/19 [01:05<03:02, 13.06s/it]"
     ]
    },
    {
     "name": "stdout",
     "output_type": "stream",
     "text": [
      "Warning: Unexpected landmarks shape (132, 3) for video MVI_3130.MOV\n"
     ]
    },
    {
     "name": "stderr",
     "output_type": "stream",
     "text": [
      "Processing videos in 15. Boat:  32%|███▏      | 6/19 [01:19<02:52, 13.24s/it]"
     ]
    },
    {
     "name": "stdout",
     "output_type": "stream",
     "text": [
      "Warning: Unexpected landmarks shape (132, 3) for video MVI_3189.MOV\n",
      "Warning: Unexpected landmarks shape (132, 3) for video MVI_3189.MOV\n"
     ]
    },
    {
     "name": "stderr",
     "output_type": "stream",
     "text": [
      "Processing videos in 15. Boat:  42%|████▏     | 8/19 [01:40<02:10, 11.86s/it]"
     ]
    },
    {
     "name": "stdout",
     "output_type": "stream",
     "text": [
      "Warning: Unexpected landmarks shape (132, 3) for video MVI_3250.MOV\n"
     ]
    },
    {
     "name": "stderr",
     "output_type": "stream",
     "text": [
      "Processing videos in 15. Boat:  47%|████▋     | 9/19 [01:52<01:58, 11.82s/it]"
     ]
    },
    {
     "name": "stdout",
     "output_type": "stream",
     "text": [
      "Warning: Unexpected landmarks shape (132, 3) for video MVI_3190.MOV\n"
     ]
    },
    {
     "name": "stderr",
     "output_type": "stream",
     "text": [
      "Processing videos in 15. Boat:  53%|█████▎    | 10/19 [02:03<01:45, 11.68s/it]"
     ]
    },
    {
     "name": "stdout",
     "output_type": "stream",
     "text": [
      "Warning: Unexpected landmarks shape (132, 3) for video MVI_3252.MOV\n"
     ]
    },
    {
     "name": "stderr",
     "output_type": "stream",
     "text": [
      "Processing videos in 15. Boat:  58%|█████▊    | 11/19 [02:14<01:31, 11.45s/it]"
     ]
    },
    {
     "name": "stdout",
     "output_type": "stream",
     "text": [
      "Warning: Unexpected landmarks shape (132, 3) for video MVI_4190.MOV\n"
     ]
    },
    {
     "name": "stderr",
     "output_type": "stream",
     "text": [
      "Processing videos in 15. Boat:  68%|██████▊   | 13/19 [02:35<01:05, 10.93s/it]"
     ]
    },
    {
     "name": "stdout",
     "output_type": "stream",
     "text": [
      "Warning: Unexpected landmarks shape (132, 3) for video MVI_3159.MOV\n"
     ]
    },
    {
     "name": "stderr",
     "output_type": "stream",
     "text": [
      "Processing videos in 15. Boat:  84%|████████▍ | 16/19 [03:08<00:32, 10.85s/it]"
     ]
    },
    {
     "name": "stdout",
     "output_type": "stream",
     "text": [
      "Warning: Unexpected landmarks shape (132, 3) for video MVI_4188.MOV\n",
      "Warning: Unexpected landmarks shape (132, 3) for video MVI_4188.MOV\n",
      "Warning: Unexpected landmarks shape (132, 3) for video MVI_4188.MOV\n",
      "Warning: Unexpected landmarks shape (132, 3) for video MVI_4188.MOV\n"
     ]
    },
    {
     "name": "stderr",
     "output_type": "stream",
     "text": [
      "Processing videos in 15. Boat:  89%|████████▉ | 17/19 [03:18<00:21, 10.83s/it]"
     ]
    },
    {
     "name": "stdout",
     "output_type": "stream",
     "text": [
      "Warning: Unexpected landmarks shape (132, 3) for video MVI_3223.MOV\n",
      "Warning: Unexpected landmarks shape (132, 3) for video MVI_3223.MOV\n"
     ]
    },
    {
     "name": "stderr",
     "output_type": "stream",
     "text": [
      "Processing videos in 15. Boat:  95%|█████████▍| 18/19 [03:31<00:11, 11.42s/it]"
     ]
    },
    {
     "name": "stdout",
     "output_type": "stream",
     "text": [
      "Warning: Unexpected landmarks shape (132, 3) for video MVI_3251.MOV\n",
      "Warning: Unexpected landmarks shape (132, 3) for video MVI_3251.MOV\n"
     ]
    },
    {
     "name": "stderr",
     "output_type": "stream",
     "text": [
      "Processing videos in 15. Boat: 100%|██████████| 19/19 [03:43<00:00, 11.75s/it]\n",
      "Processing videos in 33. Pencil: 100%|██████████| 7/7 [00:42<00:00,  6.08s/it]\n",
      "Processing videos in 34. Pen: 100%|██████████| 7/7 [00:44<00:00,  6.29s/it]\n",
      "Processing videos in 32. Bathroom:  29%|██▊       | 2/7 [00:13<00:33,  6.62s/it]"
     ]
    },
    {
     "name": "stdout",
     "output_type": "stream",
     "text": [
      "Warning: Unexpected landmarks shape (132, 3) for video MVI_4381.MOV\n"
     ]
    },
    {
     "name": "stderr",
     "output_type": "stream",
     "text": [
      "Processing videos in 32. Bathroom: 100%|██████████| 7/7 [00:47<00:00,  6.82s/it]\n",
      "Processing videos in 31. Kitchen:  57%|█████▋    | 4/7 [00:30<00:23,  7.67s/it]"
     ]
    },
    {
     "name": "stdout",
     "output_type": "stream",
     "text": [
      "Warning: Unexpected landmarks shape (132, 3) for video MVI_4898.MOV\n"
     ]
    },
    {
     "name": "stderr",
     "output_type": "stream",
     "text": [
      "Processing videos in 31. Kitchen: 100%|██████████| 7/7 [00:52<00:00,  7.45s/it]\n",
      "Processing videos in 38. Page:   0%|          | 0/7 [00:00<?, ?it/s]"
     ]
    },
    {
     "name": "stdout",
     "output_type": "stream",
     "text": [
      "Warning: Unexpected landmarks shape (132, 3) for video MVI_4405.MOV\n"
     ]
    },
    {
     "name": "stderr",
     "output_type": "stream",
     "text": [
      "Processing videos in 38. Page: 100%|██████████| 7/7 [00:54<00:00,  7.84s/it]\n",
      "Processing videos in 37. Book:  57%|█████▋    | 4/7 [00:25<00:19,  6.57s/it]"
     ]
    },
    {
     "name": "stdout",
     "output_type": "stream",
     "text": [
      "Warning: Unexpected landmarks shape (132, 3) for video MVI_4402.MOV\n"
     ]
    },
    {
     "name": "stderr",
     "output_type": "stream",
     "text": [
      "Processing videos in 37. Book: 100%|██████████| 7/7 [00:44<00:00,  6.32s/it]\n",
      "Processing videos in 36. Soap:  14%|█▍        | 1/7 [00:06<00:37,  6.24s/it]"
     ]
    },
    {
     "name": "stdout",
     "output_type": "stream",
     "text": [
      "Warning: Unexpected landmarks shape (132, 3) for video MVI_4397.MOV\n"
     ]
    },
    {
     "name": "stderr",
     "output_type": "stream",
     "text": [
      "Processing videos in 36. Soap:  57%|█████▋    | 4/7 [00:25<00:19,  6.50s/it]"
     ]
    },
    {
     "name": "stdout",
     "output_type": "stream",
     "text": [
      "Warning: Unexpected landmarks shape (132, 3) for video MVI_4395.MOV\n"
     ]
    },
    {
     "name": "stderr",
     "output_type": "stream",
     "text": [
      "Processing videos in 36. Soap: 100%|██████████| 7/7 [00:43<00:00,  6.21s/it]\n",
      "Processing videos in 35. Photograph:  29%|██▊       | 2/7 [00:14<00:35,  7.01s/it]"
     ]
    },
    {
     "name": "stdout",
     "output_type": "stream",
     "text": [
      "Warning: Unexpected landmarks shape (132, 3) for video MVI_4393.MOV\n"
     ]
    },
    {
     "name": "stderr",
     "output_type": "stream",
     "text": [
      "Processing videos in 35. Photograph: 100%|██████████| 7/7 [00:49<00:00,  7.03s/it]\n",
      "Processing videos in 80. Minute: 100%|██████████| 11/11 [01:00<00:00,  5.54s/it]\n",
      "Processing videos in 78. Year: 100%|██████████| 11/11 [00:59<00:00,  5.41s/it]\n",
      "Processing videos in 79. Hour:   9%|▉         | 1/11 [00:05<00:59,  5.99s/it]"
     ]
    },
    {
     "name": "stdout",
     "output_type": "stream",
     "text": [
      "Warning: Unexpected landmarks shape (132, 3) for video MVI_5495.MOV\n"
     ]
    },
    {
     "name": "stderr",
     "output_type": "stream",
     "text": [
      "Processing videos in 79. Hour:  55%|█████▍    | 6/11 [00:38<00:33,  6.63s/it]"
     ]
    },
    {
     "name": "stdout",
     "output_type": "stream",
     "text": [
      "Warning: Unexpected landmarks shape (132, 3) for video MVI_5496.MOV\n"
     ]
    },
    {
     "name": "stderr",
     "output_type": "stream",
     "text": [
      "Processing videos in 79. Hour:  64%|██████▎   | 7/11 [00:44<00:25,  6.31s/it]"
     ]
    },
    {
     "name": "stdout",
     "output_type": "stream",
     "text": [
      "Warning: Unexpected landmarks shape (132, 3) for video MVI_5497.MOV\n",
      "Warning: Unexpected landmarks shape (132, 3) for video MVI_5497.MOV\n"
     ]
    },
    {
     "name": "stderr",
     "output_type": "stream",
     "text": [
      "Processing videos in 79. Hour:  82%|████████▏ | 9/11 [00:57<00:13,  6.66s/it]"
     ]
    },
    {
     "name": "stdout",
     "output_type": "stream",
     "text": [
      "Warning: Unexpected landmarks shape (132, 3) for video MVI_5498.MOV\n"
     ]
    },
    {
     "name": "stderr",
     "output_type": "stream",
     "text": [
      "Processing videos in 79. Hour:  91%|█████████ | 10/11 [01:02<00:06,  6.25s/it]"
     ]
    },
    {
     "name": "stdout",
     "output_type": "stream",
     "text": [
      "Warning: Unexpected landmarks shape (132, 3) for video MVI_4641.MOV\n"
     ]
    },
    {
     "name": "stderr",
     "output_type": "stream",
     "text": [
      "Processing videos in 79. Hour: 100%|██████████| 11/11 [01:09<00:00,  6.34s/it]\n",
      "Processing videos in 77. Month:  55%|█████▍    | 6/11 [00:34<00:29,  5.81s/it]"
     ]
    },
    {
     "name": "stdout",
     "output_type": "stream",
     "text": [
      "Warning: Unexpected landmarks shape (132, 3) for video MVI_5489.MOV\n"
     ]
    },
    {
     "name": "stderr",
     "output_type": "stream",
     "text": [
      "Processing videos in 77. Month:  82%|████████▏ | 9/11 [00:52<00:11,  5.97s/it]"
     ]
    },
    {
     "name": "stdout",
     "output_type": "stream",
     "text": [
      "Warning: Unexpected landmarks shape (132, 3) for video MVI_5490.MOV\n"
     ]
    },
    {
     "name": "stderr",
     "output_type": "stream",
     "text": [
      "Processing videos in 77. Month: 100%|██████████| 11/11 [01:01<00:00,  5.61s/it]\n",
      "Processing videos in 75. Yesterday: 100%|██████████| 11/11 [00:59<00:00,  5.37s/it]\n",
      "Processing videos in 74. Tomorrow: 100%|██████████| 11/11 [01:00<00:00,  5.46s/it]\n",
      "Processing videos in 76. Week:  45%|████▌     | 5/11 [00:31<00:37,  6.28s/it]"
     ]
    },
    {
     "name": "stdout",
     "output_type": "stream",
     "text": [
      "Warning: Unexpected landmarks shape (132, 3) for video MVI_5485.MOV\n"
     ]
    },
    {
     "name": "stderr",
     "output_type": "stream",
     "text": [
      "Processing videos in 76. Week: 100%|██████████| 11/11 [01:07<00:00,  6.17s/it]\n",
      "Processing videos in 83. Afternoon:  45%|████▌     | 5/11 [00:25<00:32,  5.38s/it]"
     ]
    },
    {
     "name": "stdout",
     "output_type": "stream",
     "text": [
      "Warning: Unexpected landmarks shape (132, 3) for video MVI_5513.MOV\n"
     ]
    },
    {
     "name": "stderr",
     "output_type": "stream",
     "text": [
      "Processing videos in 83. Afternoon: 100%|██████████| 11/11 [00:58<00:00,  5.33s/it]\n",
      "Processing videos in 86. Time:  18%|█▊        | 2/11 [00:12<00:52,  5.86s/it]"
     ]
    },
    {
     "name": "stdout",
     "output_type": "stream",
     "text": [
      "Warning: Unexpected landmarks shape (132, 3) for video MVI_4667.MOV\n",
      "Warning: Unexpected landmarks shape (132, 3) for video MVI_4667.MOV\n"
     ]
    },
    {
     "name": "stderr",
     "output_type": "stream",
     "text": [
      "Processing videos in 86. Time:  36%|███▋      | 4/11 [00:23<00:40,  5.74s/it]"
     ]
    },
    {
     "name": "stdout",
     "output_type": "stream",
     "text": [
      "Warning: Unexpected landmarks shape (132, 3) for video MVI_4668.MOV\n"
     ]
    },
    {
     "name": "stderr",
     "output_type": "stream",
     "text": [
      "Processing videos in 86. Time:  55%|█████▍    | 6/11 [00:35<00:28,  5.76s/it]"
     ]
    },
    {
     "name": "stdout",
     "output_type": "stream",
     "text": [
      "Warning: Unexpected landmarks shape (132, 3) for video MVI_4669.MOV\n"
     ]
    },
    {
     "name": "stderr",
     "output_type": "stream",
     "text": [
      "Processing videos in 86. Time: 100%|██████████| 11/11 [01:03<00:00,  5.81s/it]\n",
      "Processing videos in 81. Second: 100%|██████████| 3/3 [00:15<00:00,  5.04s/it]\n",
      "Processing videos in 84. Evening:  18%|█▊        | 2/11 [00:08<00:39,  4.37s/it]"
     ]
    },
    {
     "name": "stdout",
     "output_type": "stream",
     "text": [
      "Warning: Unexpected landmarks shape (132, 3) for video MVI_4662.MOV\n"
     ]
    },
    {
     "name": "stderr",
     "output_type": "stream",
     "text": [
      "Processing videos in 84. Evening: 100%|██████████| 11/11 [00:54<00:00,  4.98s/it]\n",
      "Processing videos in 82. Morning: 100%|██████████| 11/11 [00:56<00:00,  5.17s/it]\n",
      "Processing videos in 85. Night: 100%|██████████| 11/11 [00:57<00:00,  5.20s/it]\n",
      "Processing videos in 12. Peace:  29%|██▊       | 2/7 [00:14<00:36,  7.38s/it]"
     ]
    },
    {
     "name": "stdout",
     "output_type": "stream",
     "text": [
      "Warning: Unexpected landmarks shape (132, 3) for video MVI_4295.MOV\n"
     ]
    },
    {
     "name": "stderr",
     "output_type": "stream",
     "text": [
      "Processing videos in 12. Peace:  43%|████▎     | 3/7 [00:21<00:28,  7.20s/it]"
     ]
    },
    {
     "name": "stdout",
     "output_type": "stream",
     "text": [
      "Warning: Unexpected landmarks shape (132, 3) for video MVI_4835.MOV\n"
     ]
    },
    {
     "name": "stderr",
     "output_type": "stream",
     "text": [
      "Processing videos in 12. Peace:  57%|█████▋    | 4/7 [00:28<00:21,  7.14s/it]"
     ]
    },
    {
     "name": "stdout",
     "output_type": "stream",
     "text": [
      "Warning: Unexpected landmarks shape (132, 3) for video MVI_4296.MOV\n"
     ]
    },
    {
     "name": "stderr",
     "output_type": "stream",
     "text": [
      "Processing videos in 12. Peace: 100%|██████████| 7/7 [00:50<00:00,  7.16s/it]\n",
      "Processing videos in 9. Technology:  14%|█▍        | 1/7 [00:06<00:40,  6.75s/it]"
     ]
    },
    {
     "name": "stdout",
     "output_type": "stream",
     "text": [
      "Warning: Unexpected landmarks shape (132, 3) for video MVI_4285.MOV\n"
     ]
    },
    {
     "name": "stderr",
     "output_type": "stream",
     "text": [
      "Processing videos in 9. Technology:  43%|████▎     | 3/7 [00:18<00:23,  5.89s/it]"
     ]
    },
    {
     "name": "stdout",
     "output_type": "stream",
     "text": [
      "Warning: Unexpected landmarks shape (132, 3) for video MVI_4284.MOV\n"
     ]
    },
    {
     "name": "stderr",
     "output_type": "stream",
     "text": [
      "Processing videos in 9. Technology: 100%|██████████| 7/7 [00:42<00:00,  6.12s/it]\n",
      "Processing videos in 11. War:  14%|█▍        | 1/7 [00:05<00:31,  5.31s/it]"
     ]
    },
    {
     "name": "stdout",
     "output_type": "stream",
     "text": [
      "Warning: Unexpected landmarks shape (132, 3) for video MVI_4294.MOV\n",
      "Warning: Unexpected landmarks shape (132, 3) for video MVI_4294.MOV\n"
     ]
    },
    {
     "name": "stderr",
     "output_type": "stream",
     "text": [
      "Processing videos in 11. War:  29%|██▊       | 2/7 [00:11<00:29,  5.91s/it]"
     ]
    },
    {
     "name": "stdout",
     "output_type": "stream",
     "text": [
      "Warning: Unexpected landmarks shape (132, 3) for video MVI_4832.MOV\n"
     ]
    },
    {
     "name": "stderr",
     "output_type": "stream",
     "text": [
      "Processing videos in 11. War:  86%|████████▌ | 6/7 [00:36<00:06,  6.14s/it]"
     ]
    },
    {
     "name": "stdout",
     "output_type": "stream",
     "text": [
      "Warning: Unexpected landmarks shape (132, 3) for video MVI_4292.MOV\n"
     ]
    },
    {
     "name": "stderr",
     "output_type": "stream",
     "text": [
      "Processing videos in 11. War: 100%|██████████| 7/7 [00:42<00:00,  6.07s/it]\n",
      "Processing videos in 14. Election:   0%|          | 0/7 [00:00<?, ?it/s]"
     ]
    },
    {
     "name": "stdout",
     "output_type": "stream",
     "text": [
      "Warning: Unexpected landmarks shape (132, 3) for video MVI_4304.MOV\n",
      "Warning: Unexpected landmarks shape (132, 3) for video MVI_4304.MOV\n",
      "Warning: Unexpected landmarks shape (132, 3) for video MVI_4304.MOV\n"
     ]
    },
    {
     "name": "stderr",
     "output_type": "stream",
     "text": [
      "Processing videos in 14. Election:  43%|████▎     | 3/7 [00:23<00:31,  7.96s/it]"
     ]
    },
    {
     "name": "stdout",
     "output_type": "stream",
     "text": [
      "Warning: Unexpected landmarks shape (132, 3) for video MVI_4305.MOV\n",
      "Warning: Unexpected landmarks shape (132, 3) for video MVI_4305.MOV\n"
     ]
    },
    {
     "name": "stderr",
     "output_type": "stream",
     "text": [
      "Processing videos in 14. Election:  71%|███████▏  | 5/7 [00:39<00:15,  7.91s/it]"
     ]
    },
    {
     "name": "stdout",
     "output_type": "stream",
     "text": [
      "Warning: Unexpected landmarks shape (132, 3) for video MVI_4839.MOV\n"
     ]
    },
    {
     "name": "stderr",
     "output_type": "stream",
     "text": [
      "Processing videos in 14. Election:  86%|████████▌ | 6/7 [00:48<00:08,  8.14s/it]"
     ]
    },
    {
     "name": "stdout",
     "output_type": "stream",
     "text": [
      "Warning: Unexpected landmarks shape (132, 3) for video MVI_4306.MOV\n",
      "Warning: Unexpected landmarks shape (132, 3) for video MVI_4306.MOV\n",
      "Warning: Unexpected landmarks shape (132, 3) for video MVI_4306.MOV\n"
     ]
    },
    {
     "name": "stderr",
     "output_type": "stream",
     "text": [
      "Processing videos in 14. Election: 100%|██████████| 7/7 [00:56<00:00,  8.12s/it]\n",
      "Processing videos in 13. Attack:   0%|          | 0/8 [00:00<?, ?it/s]"
     ]
    },
    {
     "name": "stdout",
     "output_type": "stream",
     "text": [
      "Warning: Unexpected landmarks shape (132, 3) for video MVI_4836.MOV\n"
     ]
    },
    {
     "name": "stderr",
     "output_type": "stream",
     "text": [
      "Processing videos in 13. Attack: 100%|██████████| 8/8 [01:05<00:00,  8.16s/it]\n",
      "Processing videos in 10. Energy:  29%|██▊       | 2/7 [00:12<00:31,  6.26s/it]"
     ]
    },
    {
     "name": "stdout",
     "output_type": "stream",
     "text": [
      "Warning: Unexpected landmarks shape (132, 3) for video MVI_4287.MOV\n",
      "Warning: Unexpected landmarks shape (132, 3) for video MVI_4287.MOV\n"
     ]
    },
    {
     "name": "stderr",
     "output_type": "stream",
     "text": [
      "Processing videos in 10. Energy:  43%|████▎     | 3/7 [00:17<00:23,  5.83s/it]"
     ]
    },
    {
     "name": "stdout",
     "output_type": "stream",
     "text": [
      "Warning: Unexpected landmarks shape (132, 3) for video MVI_4289.MOV\n"
     ]
    },
    {
     "name": "stderr",
     "output_type": "stream",
     "text": [
      "Processing videos in 10. Energy:  86%|████████▌ | 6/7 [00:34<00:05,  5.63s/it]"
     ]
    },
    {
     "name": "stdout",
     "output_type": "stream",
     "text": [
      "Warning: Unexpected landmarks shape (132, 3) for video MVI_4290.MOV\n",
      "Warning: Unexpected landmarks shape (132, 3) for video MVI_4290.MOV\n"
     ]
    },
    {
     "name": "stderr",
     "output_type": "stream",
     "text": [
      "Processing videos in 10. Energy: 100%|██████████| 7/7 [00:39<00:00,  5.59s/it]\n",
      "Processing videos in 15. Newspaper:  71%|███████▏  | 5/7 [00:37<00:14,  7.32s/it]"
     ]
    },
    {
     "name": "stdout",
     "output_type": "stream",
     "text": [
      "Warning: Unexpected landmarks shape (132, 3) for video MVI_4844.MOV\n"
     ]
    },
    {
     "name": "stderr",
     "output_type": "stream",
     "text": [
      "Processing videos in 15. Newspaper: 100%|██████████| 7/7 [00:50<00:00,  7.26s/it]\n",
      "Processing videos in 16. Gun: 100%|██████████| 7/7 [00:42<00:00,  6.07s/it]\n",
      "Processing videos in 52. Lamp: 100%|██████████| 11/11 [01:17<00:00,  7.08s/it]\n",
      "Processing videos in 51. Clock:  20%|██        | 2/10 [00:21<01:26, 10.79s/it]"
     ]
    },
    {
     "name": "stdout",
     "output_type": "stream",
     "text": [
      "Warning: Unexpected landmarks shape (132, 3) for video MVI_5382.MOV\n"
     ]
    },
    {
     "name": "stderr",
     "output_type": "stream",
     "text": [
      "Processing videos in 51. Clock:  90%|█████████ | 9/10 [01:22<00:07,  7.84s/it]"
     ]
    },
    {
     "name": "stdout",
     "output_type": "stream",
     "text": [
      "Warning: Unexpected landmarks shape (132, 3) for video MVI_5379.MOV\n"
     ]
    },
    {
     "name": "stderr",
     "output_type": "stream",
     "text": [
      "Processing videos in 51. Clock: 100%|██████████| 10/10 [01:29<00:00,  8.95s/it]\n",
      "Processing videos in 53. Fan: 100%|██████████| 12/12 [01:22<00:00,  6.88s/it]\n",
      "Processing videos in 55. Computer:   9%|▉         | 1/11 [00:09<01:36,  9.63s/it]"
     ]
    },
    {
     "name": "stdout",
     "output_type": "stream",
     "text": [
      "Warning: Unexpected landmarks shape (132, 3) for video MVI_5397.MOV\n"
     ]
    },
    {
     "name": "stderr",
     "output_type": "stream",
     "text": [
      "Processing videos in 55. Computer:  91%|█████████ | 10/11 [01:20<00:07,  7.89s/it]"
     ]
    },
    {
     "name": "stdout",
     "output_type": "stream",
     "text": [
      "Warning: Unexpected landmarks shape (132, 3) for video MVI_5398.MOV\n",
      "Warning: Unexpected landmarks shape (132, 3) for video MVI_5398.MOV\n"
     ]
    },
    {
     "name": "stderr",
     "output_type": "stream",
     "text": [
      "Processing videos in 55. Computer: 100%|██████████| 11/11 [01:28<00:00,  8.03s/it]\n",
      "Processing videos in 54. Cell phone: 100%|██████████| 11/11 [01:06<00:00,  6.05s/it]\n",
      "Processing videos in 43. Lock:  43%|████▎     | 3/7 [00:17<00:24,  6.04s/it]"
     ]
    },
    {
     "name": "stdout",
     "output_type": "stream",
     "text": [
      "Warning: Unexpected landmarks shape (132, 3) for video MVI_4427.MOV\n"
     ]
    },
    {
     "name": "stderr",
     "output_type": "stream",
     "text": [
      "Processing videos in 43. Lock:  71%|███████▏  | 5/7 [00:29<00:11,  5.83s/it]"
     ]
    },
    {
     "name": "stdout",
     "output_type": "stream",
     "text": [
      "Warning: Unexpected landmarks shape (132, 3) for video MVI_4425.MOV\n"
     ]
    },
    {
     "name": "stderr",
     "output_type": "stream",
     "text": [
      "Processing videos in 43. Lock: 100%|██████████| 7/7 [00:40<00:00,  5.74s/it]\n",
      "Processing videos in 42. Paper:  43%|████▎     | 3/7 [00:19<00:25,  6.41s/it]"
     ]
    },
    {
     "name": "stdout",
     "output_type": "stream",
     "text": [
      "Warning: Unexpected landmarks shape (132, 3) for video MVI_4421.MOV\n"
     ]
    },
    {
     "name": "stderr",
     "output_type": "stream",
     "text": [
      "Processing videos in 42. Paper: 100%|██████████| 7/7 [00:46<00:00,  6.69s/it]\n",
      "Processing videos in 39. Key: 100%|██████████| 7/7 [00:40<00:00,  5.71s/it]\n",
      "Processing videos in 45. Bag:  43%|████▎     | 3/7 [00:16<00:21,  5.46s/it]"
     ]
    },
    {
     "name": "stdout",
     "output_type": "stream",
     "text": [
      "Warning: Unexpected landmarks shape (132, 3) for video MVI_4943.MOV\n"
     ]
    },
    {
     "name": "stderr",
     "output_type": "stream",
     "text": [
      "Processing videos in 45. Bag: 100%|██████████| 7/7 [00:41<00:00,  5.98s/it]\n",
      "Processing videos in 40. Paint: 100%|██████████| 7/7 [00:49<00:00,  7.01s/it]\n",
      "Processing videos in 41. Letter:  86%|████████▌ | 6/7 [00:41<00:07,  7.08s/it]"
     ]
    },
    {
     "name": "stdout",
     "output_type": "stream",
     "text": [
      "Warning: Unexpected landmarks shape (132, 3) for video MVI_4419.MOV\n"
     ]
    },
    {
     "name": "stderr",
     "output_type": "stream",
     "text": [
      "Processing videos in 41. Letter: 100%|██████████| 7/7 [00:47<00:00,  6.76s/it]\n",
      "Processing videos in 44. Telephone: 100%|██████████| 7/7 [00:38<00:00,  5.54s/it]\n",
      "Processing videos in 22. Restaurant: 100%|██████████| 20/20 [02:15<00:00,  6.79s/it]\n",
      "Processing videos in 20. Street or Road:   5%|▌         | 1/20 [00:06<02:11,  6.94s/it]"
     ]
    },
    {
     "name": "stdout",
     "output_type": "stream",
     "text": [
      "Warning: Unexpected landmarks shape (132, 3) for video MVI_3600.MOV\n"
     ]
    },
    {
     "name": "stderr",
     "output_type": "stream",
     "text": [
      "Processing videos in 20. Street or Road:  20%|██        | 4/20 [00:25<01:42,  6.42s/it]"
     ]
    },
    {
     "name": "stdout",
     "output_type": "stream",
     "text": [
      "Warning: Unexpected landmarks shape (132, 3) for video MVI_3598.MOV\n"
     ]
    },
    {
     "name": "stderr",
     "output_type": "stream",
     "text": [
      "Processing videos in 20. Street or Road:  25%|██▌       | 5/20 [00:31<01:32,  6.19s/it]"
     ]
    },
    {
     "name": "stdout",
     "output_type": "stream",
     "text": [
      "Warning: Unexpected landmarks shape (132, 3) for video MVI_3272.MOV\n"
     ]
    },
    {
     "name": "stderr",
     "output_type": "stream",
     "text": [
      "Processing videos in 20. Street or Road:  45%|████▌     | 9/20 [00:59<01:14,  6.81s/it]"
     ]
    },
    {
     "name": "stdout",
     "output_type": "stream",
     "text": [
      "Warning: Unexpected landmarks shape (132, 3) for video MVI_3440.MOV\n",
      "Warning: Unexpected landmarks shape (132, 3) for video MVI_3440.MOV\n"
     ]
    },
    {
     "name": "stderr",
     "output_type": "stream",
     "text": [
      "Processing videos in 20. Street or Road:  55%|█████▌    | 11/20 [01:13<01:00,  6.74s/it]"
     ]
    },
    {
     "name": "stdout",
     "output_type": "stream",
     "text": [
      "Warning: Unexpected landmarks shape (132, 3) for video MVI_3274.MOV\n"
     ]
    },
    {
     "name": "stderr",
     "output_type": "stream",
     "text": [
      "Processing videos in 20. Street or Road:  60%|██████    | 12/20 [01:21<00:57,  7.16s/it]"
     ]
    },
    {
     "name": "stdout",
     "output_type": "stream",
     "text": [
      "Warning: Unexpected landmarks shape (132, 3) for video MVI_3354.MOV\n"
     ]
    },
    {
     "name": "stderr",
     "output_type": "stream",
     "text": [
      "Processing videos in 20. Street or Road:  65%|██████▌   | 13/20 [01:28<00:50,  7.23s/it]"
     ]
    },
    {
     "name": "stdout",
     "output_type": "stream",
     "text": [
      "Warning: Unexpected landmarks shape (132, 3) for video MVI_3597.MOV\n"
     ]
    },
    {
     "name": "stderr",
     "output_type": "stream",
     "text": [
      "Processing videos in 20. Street or Road:  75%|███████▌  | 15/20 [01:40<00:32,  6.54s/it]"
     ]
    },
    {
     "name": "stdout",
     "output_type": "stream",
     "text": [
      "Warning: Unexpected landmarks shape (132, 3) for video MVI_3442.MOV\n",
      "Warning: Unexpected landmarks shape (132, 3) for video MVI_3442.MOV\n"
     ]
    },
    {
     "name": "stderr",
     "output_type": "stream",
     "text": [
      "Processing videos in 20. Street or Road:  85%|████████▌ | 17/20 [01:52<00:18,  6.15s/it]"
     ]
    },
    {
     "name": "stdout",
     "output_type": "stream",
     "text": [
      "Warning: Unexpected landmarks shape (132, 3) for video MVI_3517.MOV\n"
     ]
    },
    {
     "name": "stderr",
     "output_type": "stream",
     "text": [
      "Processing videos in 20. Street or Road: 100%|██████████| 20/20 [02:12<00:00,  6.63s/it]\n",
      "Processing videos in 18. City:   5%|▌         | 1/20 [00:07<02:14,  7.10s/it]"
     ]
    },
    {
     "name": "stdout",
     "output_type": "stream",
     "text": [
      "Warning: Unexpected landmarks shape (132, 3) for video MVI_3431.MOV\n"
     ]
    },
    {
     "name": "stderr",
     "output_type": "stream",
     "text": [
      "Processing videos in 18. City:  10%|█         | 2/20 [00:14<02:15,  7.53s/it]"
     ]
    },
    {
     "name": "stdout",
     "output_type": "stream",
     "text": [
      "Warning: Unexpected landmarks shape (132, 3) for video MVI_3430.MOV\n"
     ]
    },
    {
     "name": "stderr",
     "output_type": "stream",
     "text": [
      "Processing videos in 18. City:  20%|██        | 4/20 [00:30<02:04,  7.81s/it]"
     ]
    },
    {
     "name": "stdout",
     "output_type": "stream",
     "text": [
      "Warning: Unexpected landmarks shape (132, 3) for video MVI_3348.MOV\n"
     ]
    },
    {
     "name": "stderr",
     "output_type": "stream",
     "text": [
      "Processing videos in 18. City:  75%|███████▌  | 15/20 [02:01<00:42,  8.46s/it]"
     ]
    },
    {
     "name": "stdout",
     "output_type": "stream",
     "text": [
      "Warning: Unexpected landmarks shape (132, 3) for video MVI_3432.MOV\n",
      "Warning: Unexpected landmarks shape (132, 3) for video MVI_3432.MOV\n"
     ]
    },
    {
     "name": "stderr",
     "output_type": "stream",
     "text": [
      "Processing videos in 18. City:  80%|████████  | 16/20 [02:08<00:32,  8.14s/it]"
     ]
    },
    {
     "name": "stdout",
     "output_type": "stream",
     "text": [
      "Warning: Unexpected landmarks shape (132, 3) for video MVI_3591.MOV\n"
     ]
    },
    {
     "name": "stderr",
     "output_type": "stream",
     "text": [
      "Processing videos in 18. City:  85%|████████▌ | 17/20 [02:15<00:23,  7.78s/it]"
     ]
    },
    {
     "name": "stdout",
     "output_type": "stream",
     "text": [
      "Warning: Unexpected landmarks shape (132, 3) for video MVI_3509.MOV\n"
     ]
    },
    {
     "name": "stderr",
     "output_type": "stream",
     "text": [
      "Processing videos in 18. City: 100%|██████████| 20/20 [02:37<00:00,  7.85s/it]\n",
      "Processing videos in 21. Train Station:   5%|▌         | 1/20 [00:06<02:04,  6.54s/it]"
     ]
    },
    {
     "name": "stdout",
     "output_type": "stream",
     "text": [
      "Warning: Unexpected landmarks shape (132, 3) for video MVI_3447.MOV\n",
      "Warning: Unexpected landmarks shape (132, 3) for video MVI_3447.MOV\n"
     ]
    },
    {
     "name": "stderr",
     "output_type": "stream",
     "text": [
      "Processing videos in 21. Train Station:  25%|██▌       | 5/20 [00:35<01:45,  7.06s/it]"
     ]
    },
    {
     "name": "stdout",
     "output_type": "stream",
     "text": [
      "Warning: Unexpected landmarks shape (132, 3) for video MVI_3278.MOV\n"
     ]
    },
    {
     "name": "stderr",
     "output_type": "stream",
     "text": [
      "Processing videos in 21. Train Station:  30%|███       | 6/20 [00:44<01:46,  7.62s/it]"
     ]
    },
    {
     "name": "stdout",
     "output_type": "stream",
     "text": [
      "Warning: Unexpected landmarks shape (132, 3) for video MVI_3357.MOV\n"
     ]
    },
    {
     "name": "stderr",
     "output_type": "stream",
     "text": [
      "Processing videos in 21. Train Station:  40%|████      | 8/20 [00:59<01:30,  7.57s/it]"
     ]
    },
    {
     "name": "stdout",
     "output_type": "stream",
     "text": [
      "Warning: Unexpected landmarks shape (132, 3) for video MVI_3445.MOV\n"
     ]
    },
    {
     "name": "stderr",
     "output_type": "stream",
     "text": [
      "Processing videos in 21. Train Station:  45%|████▌     | 9/20 [01:05<01:19,  7.25s/it]"
     ]
    },
    {
     "name": "stdout",
     "output_type": "stream",
     "text": [
      "Warning: Unexpected landmarks shape (132, 3) for video MVI_3444.MOV\n",
      "Warning: Unexpected landmarks shape (132, 3) for video MVI_3444.MOV\n"
     ]
    },
    {
     "name": "stderr",
     "output_type": "stream",
     "text": [
      "Processing videos in 21. Train Station:  85%|████████▌ | 17/20 [02:06<00:23,  7.79s/it]"
     ]
    },
    {
     "name": "stdout",
     "output_type": "stream",
     "text": [
      "Warning: Unexpected landmarks shape (132, 3) for video MVI_3601.MOV\n"
     ]
    },
    {
     "name": "stderr",
     "output_type": "stream",
     "text": [
      "Processing videos in 21. Train Station: 100%|██████████| 20/20 [02:27<00:00,  7.39s/it]\n",
      "Processing videos in 19. House:   0%|          | 0/20 [00:00<?, ?it/s]"
     ]
    },
    {
     "name": "stdout",
     "output_type": "stream",
     "text": [
      "Warning: Unexpected landmarks shape (132, 3) for video MVI_3350.MOV\n"
     ]
    },
    {
     "name": "stderr",
     "output_type": "stream",
     "text": [
      "Processing videos in 19. House:  35%|███▌      | 7/20 [00:44<01:24,  6.52s/it]"
     ]
    },
    {
     "name": "stdout",
     "output_type": "stream",
     "text": [
      "Warning: Unexpected landmarks shape (132, 3) for video MVI_3349.MOV\n"
     ]
    },
    {
     "name": "stderr",
     "output_type": "stream",
     "text": [
      "Processing videos in 19. House:  40%|████      | 8/20 [00:52<01:22,  6.85s/it]"
     ]
    },
    {
     "name": "stdout",
     "output_type": "stream",
     "text": [
      "Warning: Unexpected landmarks shape (132, 3) for video MVI_3514.MOV\n"
     ]
    },
    {
     "name": "stderr",
     "output_type": "stream",
     "text": [
      "Processing videos in 19. House:  50%|█████     | 10/20 [01:06<01:11,  7.13s/it]"
     ]
    },
    {
     "name": "stdout",
     "output_type": "stream",
     "text": [
      "Warning: Unexpected landmarks shape (132, 3) for video MVI_3436.MOV\n",
      "Warning: Unexpected landmarks shape (132, 3) for video MVI_3436.MOV\n"
     ]
    },
    {
     "name": "stderr",
     "output_type": "stream",
     "text": [
      "Processing videos in 19. House:  90%|█████████ | 18/20 [02:05<00:14,  7.42s/it]"
     ]
    },
    {
     "name": "stdout",
     "output_type": "stream",
     "text": [
      "Warning: Unexpected landmarks shape (132, 3) for video MVI_3516.MOV\n"
     ]
    },
    {
     "name": "stderr",
     "output_type": "stream",
     "text": [
      "Processing videos in 19. House: 100%|██████████| 20/20 [02:18<00:00,  6.92s/it]\n",
      "Processing videos in 97. dry:  24%|██▍       | 5/21 [00:39<02:03,  7.71s/it]"
     ]
    },
    {
     "name": "stdout",
     "output_type": "stream",
     "text": [
      "Warning: Unexpected landmarks shape (132, 3) for video MVI_9278.MOV\n"
     ]
    },
    {
     "name": "stderr",
     "output_type": "stream",
     "text": [
      "Processing videos in 97. dry:  29%|██▊       | 6/21 [00:47<01:53,  7.59s/it]"
     ]
    },
    {
     "name": "stdout",
     "output_type": "stream",
     "text": [
      "Warning: Unexpected landmarks shape (132, 3) for video MVI_9439.MOV\n",
      "Warning: Unexpected landmarks shape (132, 3) for video MVI_9439.MOV\n",
      "Warning: Unexpected landmarks shape (132, 3) for video MVI_9439.MOV\n",
      "Warning: Unexpected landmarks shape (132, 3) for video MVI_9439.MOV\n",
      "Warning: Unexpected landmarks shape (132, 3) for video MVI_9439.MOV\n",
      "Warning: Unexpected landmarks shape (132, 3) for video MVI_9439.MOV\n",
      "Warning: Unexpected landmarks shape (132, 3) for video MVI_9439.MOV\n"
     ]
    },
    {
     "name": "stderr",
     "output_type": "stream",
     "text": [
      "Processing videos in 97. dry:  38%|███▊      | 8/21 [01:00<01:32,  7.13s/it]"
     ]
    },
    {
     "name": "stdout",
     "output_type": "stream",
     "text": [
      "Warning: Unexpected landmarks shape (132, 3) for video MVI_9279.MOV\n",
      "Warning: Unexpected landmarks shape (132, 3) for video MVI_9279.MOV\n"
     ]
    },
    {
     "name": "stderr",
     "output_type": "stream",
     "text": [
      "Processing videos in 97. dry:  62%|██████▏   | 13/21 [01:36<00:57,  7.22s/it]"
     ]
    },
    {
     "name": "stdout",
     "output_type": "stream",
     "text": [
      "Warning: Unexpected landmarks shape (132, 3) for video MVI_9277.MOV\n"
     ]
    },
    {
     "name": "stderr",
     "output_type": "stream",
     "text": [
      "Processing videos in 97. dry:  90%|█████████ | 19/21 [02:16<00:13,  6.70s/it]"
     ]
    },
    {
     "name": "stdout",
     "output_type": "stream",
     "text": [
      "Warning: Unexpected landmarks shape (132, 3) for video MVI_5250.MOV\n"
     ]
    },
    {
     "name": "stderr",
     "output_type": "stream",
     "text": [
      "Processing videos in 97. dry: 100%|██████████| 21/21 [02:30<00:00,  7.19s/it]\n",
      "Processing videos in 98. sick:   0%|          | 0/21 [00:00<?, ?it/s]"
     ]
    },
    {
     "name": "stdout",
     "output_type": "stream",
     "text": [
      "Warning: Unexpected landmarks shape (132, 3) for video MVI_5251.MOV\n"
     ]
    },
    {
     "name": "stderr",
     "output_type": "stream",
     "text": [
      "Processing videos in 98. sick:  48%|████▊     | 10/21 [01:06<01:14,  6.82s/it]"
     ]
    },
    {
     "name": "stdout",
     "output_type": "stream",
     "text": [
      "Warning: Unexpected landmarks shape (132, 3) for video MVI_9282.MOV\n"
     ]
    },
    {
     "name": "stderr",
     "output_type": "stream",
     "text": [
      "Processing videos in 98. sick:  62%|██████▏   | 13/21 [01:27<00:55,  6.96s/it]"
     ]
    },
    {
     "name": "stdout",
     "output_type": "stream",
     "text": [
      "Warning: Unexpected landmarks shape (132, 3) for video MVI_9443.MOV\n"
     ]
    },
    {
     "name": "stderr",
     "output_type": "stream",
     "text": [
      "Processing videos in 98. sick: 100%|██████████| 21/21 [02:28<00:00,  7.06s/it]\n",
      "Processing videos in 99. healthy:  10%|▉         | 2/21 [00:16<02:28,  7.84s/it]"
     ]
    },
    {
     "name": "stdout",
     "output_type": "stream",
     "text": [
      "Warning: Unexpected landmarks shape (132, 3) for video MVI_9532.MOV\n",
      "Warning: Unexpected landmarks shape (132, 3) for video MVI_5334.MOV\n"
     ]
    },
    {
     "name": "stderr",
     "output_type": "stream",
     "text": [
      "Processing videos in 99. healthy:  24%|██▍       | 5/21 [00:38<02:01,  7.56s/it]"
     ]
    },
    {
     "name": "stdout",
     "output_type": "stream",
     "text": [
      "Warning: Unexpected landmarks shape (132, 3) for video MVI_5256.MOV\n",
      "Warning: Unexpected landmarks shape (132, 3) for video MVI_5256.MOV\n"
     ]
    },
    {
     "name": "stderr",
     "output_type": "stream",
     "text": [
      "Processing videos in 99. healthy:  33%|███▎      | 7/21 [00:54<01:46,  7.63s/it]"
     ]
    },
    {
     "name": "stdout",
     "output_type": "stream",
     "text": [
      "Warning: Unexpected landmarks shape (132, 3) for video MVI_5332.MOV\n",
      "Warning: Unexpected landmarks shape (132, 3) for video MVI_5332.MOV\n"
     ]
    },
    {
     "name": "stderr",
     "output_type": "stream",
     "text": [
      "Processing videos in 99. healthy:  52%|█████▏    | 11/21 [01:20<01:08,  6.81s/it]"
     ]
    },
    {
     "name": "stdout",
     "output_type": "stream",
     "text": [
      "Warning: Unexpected landmarks shape (132, 3) for video MVI_9365.MOV\n"
     ]
    },
    {
     "name": "stderr",
     "output_type": "stream",
     "text": [
      "Processing videos in 99. healthy:  57%|█████▋    | 12/21 [01:27<01:00,  6.68s/it]"
     ]
    },
    {
     "name": "stdout",
     "output_type": "stream",
     "text": [
      "Warning: Unexpected landmarks shape (132, 3) for video MVI_9531.MOV\n"
     ]
    },
    {
     "name": "stderr",
     "output_type": "stream",
     "text": [
      "Processing videos in 99. healthy:  76%|███████▌  | 16/21 [01:54<00:34,  6.81s/it]"
     ]
    },
    {
     "name": "stdout",
     "output_type": "stream",
     "text": [
      "Warning: Unexpected landmarks shape (132, 3) for video MVI_5254.MOV\n"
     ]
    },
    {
     "name": "stderr",
     "output_type": "stream",
     "text": [
      "Processing videos in 99. healthy:  90%|█████████ | 19/21 [02:15<00:14,  7.02s/it]"
     ]
    },
    {
     "name": "stdout",
     "output_type": "stream",
     "text": [
      "Warning: Unexpected landmarks shape (132, 3) for video MVI_5255.MOV\n"
     ]
    },
    {
     "name": "stderr",
     "output_type": "stream",
     "text": [
      "Processing videos in 99. healthy: 100%|██████████| 21/21 [02:31<00:00,  7.20s/it]\n",
      "Processing videos in 6. Mouse: 100%|██████████| 18/18 [02:29<00:00,  8.29s/it]\n",
      "Processing videos in 8. Animal:  28%|██▊       | 5/18 [00:53<02:18, 10.65s/it]"
     ]
    },
    {
     "name": "stdout",
     "output_type": "stream",
     "text": [
      "Warning: Unexpected landmarks shape (132, 3) for video MVI_3057.MOV\n"
     ]
    },
    {
     "name": "stderr",
     "output_type": "stream",
     "text": [
      "Processing videos in 8. Animal:  50%|█████     | 9/18 [01:38<01:41, 11.26s/it]"
     ]
    },
    {
     "name": "stdout",
     "output_type": "stream",
     "text": [
      "Warning: Unexpected landmarks shape (132, 3) for video MVI_3084.MOV\n",
      "Warning: Unexpected landmarks shape (132, 3) for video MVI_3084.MOV\n"
     ]
    },
    {
     "name": "stderr",
     "output_type": "stream",
     "text": [
      "Processing videos in 8. Animal:  56%|█████▌    | 10/18 [01:50<01:32, 11.54s/it]"
     ]
    },
    {
     "name": "stdout",
     "output_type": "stream",
     "text": [
      "Warning: Unexpected landmarks shape (132, 3) for video MVI_4167.MOV\n"
     ]
    },
    {
     "name": "stderr",
     "output_type": "stream",
     "text": [
      "Processing videos in 8. Animal:  61%|██████    | 11/18 [01:59<01:15, 10.77s/it]"
     ]
    },
    {
     "name": "stdout",
     "output_type": "stream",
     "text": [
      "Warning: Unexpected landmarks shape (132, 3) for video MVI_3026.MOV\n"
     ]
    },
    {
     "name": "stderr",
     "output_type": "stream",
     "text": [
      "Processing videos in 8. Animal:  67%|██████▋   | 12/18 [02:13<01:10, 11.79s/it]"
     ]
    },
    {
     "name": "stdout",
     "output_type": "stream",
     "text": [
      "Warning: Unexpected landmarks shape (132, 3) for video MVI_3027.MOV\n"
     ]
    },
    {
     "name": "stderr",
     "output_type": "stream",
     "text": [
      "Processing videos in 8. Animal:  78%|███████▊  | 14/18 [02:40<00:50, 12.64s/it]"
     ]
    },
    {
     "name": "stdout",
     "output_type": "stream",
     "text": [
      "Warning: Unexpected landmarks shape (132, 3) for video MVI_3082.MOV\n",
      "Warning: Unexpected landmarks shape (132, 3) for video MVI_3082.MOV\n"
     ]
    },
    {
     "name": "stderr",
     "output_type": "stream",
     "text": [
      "Processing videos in 8. Animal:  89%|████████▉ | 16/18 [03:03<00:24, 12.28s/it]"
     ]
    },
    {
     "name": "stdout",
     "output_type": "stream",
     "text": [
      "Warning: Unexpected landmarks shape (132, 3) for video MVI_3083.MOV\n",
      "Warning: Unexpected landmarks shape (132, 3) for video MVI_3083.MOV\n"
     ]
    },
    {
     "name": "stderr",
     "output_type": "stream",
     "text": [
      "Processing videos in 8. Animal: 100%|██████████| 18/18 [03:27<00:00, 11.53s/it]\n",
      "Processing videos in 7. Horse:  39%|███▉      | 7/18 [01:06<01:48,  9.85s/it]"
     ]
    },
    {
     "name": "stdout",
     "output_type": "stream",
     "text": [
      "Warning: Unexpected landmarks shape (132, 3) for video MVI_4164.MOV\n"
     ]
    },
    {
     "name": "stderr",
     "output_type": "stream",
     "text": [
      "Processing videos in 7. Horse: 100%|██████████| 18/18 [02:33<00:00,  8.54s/it]\n",
      "Processing videos in 70. Grandmother: 100%|██████████| 16/16 [02:23<00:00,  8.96s/it]\n",
      "Processing videos in 72. Wife: 100%|██████████| 19/19 [02:11<00:00,  6.94s/it]\n",
      "Processing videos in 69. Grandfather:  19%|█▉        | 3/16 [00:30<02:08,  9.89s/it]"
     ]
    },
    {
     "name": "stdout",
     "output_type": "stream",
     "text": [
      "Warning: Unexpected landmarks shape (132, 3) for video MVI_3791.MOV\n"
     ]
    },
    {
     "name": "stderr",
     "output_type": "stream",
     "text": [
      "Processing videos in 69. Grandfather:  31%|███▏      | 5/16 [00:49<01:47,  9.78s/it]"
     ]
    },
    {
     "name": "stdout",
     "output_type": "stream",
     "text": [
      "Warning: Unexpected landmarks shape (132, 3) for video MVI_5252.MOV\n"
     ]
    },
    {
     "name": "stderr",
     "output_type": "stream",
     "text": [
      "Processing videos in 69. Grandfather:  38%|███▊      | 6/16 [00:59<01:36,  9.65s/it]"
     ]
    },
    {
     "name": "stdout",
     "output_type": "stream",
     "text": [
      "Warning: Unexpected landmarks shape (132, 3) for video MVI_5256.MOV\n"
     ]
    },
    {
     "name": "stderr",
     "output_type": "stream",
     "text": [
      "Processing videos in 69. Grandfather:  94%|█████████▍| 15/16 [02:26<00:09,  9.83s/it]"
     ]
    },
    {
     "name": "stdout",
     "output_type": "stream",
     "text": [
      "Warning: Unexpected landmarks shape (132, 3) for video MVI_5255.MOV\n"
     ]
    },
    {
     "name": "stderr",
     "output_type": "stream",
     "text": [
      "Processing videos in 69. Grandfather: 100%|██████████| 16/16 [02:36<00:00,  9.79s/it]\n",
      "Processing videos in 73. King:  21%|██        | 4/19 [00:25<01:40,  6.68s/it]"
     ]
    },
    {
     "name": "stdout",
     "output_type": "stream",
     "text": [
      "Warning: Unexpected landmarks shape (132, 3) for video MVI_4096.MOV\n"
     ]
    },
    {
     "name": "stderr",
     "output_type": "stream",
     "text": [
      "Processing videos in 73. King: 100%|██████████| 19/19 [02:16<00:00,  7.19s/it]\n",
      "Processing videos in 71. Husband:   5%|▌         | 1/19 [00:07<02:11,  7.33s/it]"
     ]
    },
    {
     "name": "stdout",
     "output_type": "stream",
     "text": [
      "Warning: Unexpected landmarks shape (132, 3) for video MVI_4236.MOV\n"
     ]
    },
    {
     "name": "stderr",
     "output_type": "stream",
     "text": [
      "Processing videos in 71. Husband:  95%|█████████▍| 18/19 [02:10<00:06,  6.66s/it]"
     ]
    },
    {
     "name": "stdout",
     "output_type": "stream",
     "text": [
      "Warning: Unexpected landmarks shape (132, 3) for video MVI_4091.MOV\n"
     ]
    },
    {
     "name": "stderr",
     "output_type": "stream",
     "text": [
      "Processing videos in 71. Husband: 100%|██████████| 19/19 [02:17<00:00,  7.26s/it]\n",
      "Processing videos in 68. Family:   0%|          | 0/16 [00:00<?, ?it/s]"
     ]
    },
    {
     "name": "stdout",
     "output_type": "stream",
     "text": [
      "Warning: Unexpected landmarks shape (132, 3) for video MVI_5251.MOV\n"
     ]
    },
    {
     "name": "stderr",
     "output_type": "stream",
     "text": [
      "Processing videos in 68. Family:   6%|▋         | 1/16 [00:06<01:32,  6.19s/it]"
     ]
    },
    {
     "name": "stdout",
     "output_type": "stream",
     "text": [
      "Warning: Unexpected landmarks shape (132, 3) for video MVI_3935.MOV\n",
      "Warning: Unexpected landmarks shape (132, 3) for video MVI_3935.MOV\n"
     ]
    },
    {
     "name": "stderr",
     "output_type": "stream",
     "text": [
      "Processing videos in 68. Family:  12%|█▎        | 2/16 [00:13<01:36,  6.89s/it]"
     ]
    },
    {
     "name": "stdout",
     "output_type": "stream",
     "text": [
      "Warning: Unexpected landmarks shape (132, 3) for video MVI_4232.MOV\n",
      "Warning: Unexpected landmarks shape (132, 3) for video MVI_4232.MOV\n"
     ]
    },
    {
     "name": "stderr",
     "output_type": "stream",
     "text": [
      "Processing videos in 68. Family:  25%|██▌       | 4/16 [00:26<01:20,  6.72s/it]"
     ]
    },
    {
     "name": "stdout",
     "output_type": "stream",
     "text": [
      "Warning: Unexpected landmarks shape (132, 3) for video MVI_3934.MOV\n"
     ]
    },
    {
     "name": "stderr",
     "output_type": "stream",
     "text": [
      "Processing videos in 68. Family:  44%|████▍     | 7/16 [00:47<01:01,  6.82s/it]"
     ]
    },
    {
     "name": "stdout",
     "output_type": "stream",
     "text": [
      "Warning: Unexpected landmarks shape (132, 3) for video MVI_5103.MOV\n"
     ]
    },
    {
     "name": "stderr",
     "output_type": "stream",
     "text": [
      "Processing videos in 68. Family:  56%|█████▋    | 9/16 [01:01<00:49,  7.07s/it]"
     ]
    },
    {
     "name": "stdout",
     "output_type": "stream",
     "text": [
      "Warning: Unexpected landmarks shape (132, 3) for video MVI_4081.MOV\n",
      "Warning: Unexpected landmarks shape (132, 3) for video MVI_4081.MOV\n"
     ]
    },
    {
     "name": "stderr",
     "output_type": "stream",
     "text": [
      "Processing videos in 68. Family:  75%|███████▌  | 12/16 [01:22<00:27,  6.80s/it]"
     ]
    },
    {
     "name": "stdout",
     "output_type": "stream",
     "text": [
      "Warning: Unexpected landmarks shape (132, 3) for video MVI_3787.MOV\n"
     ]
    },
    {
     "name": "stderr",
     "output_type": "stream",
     "text": [
      "Processing videos in 68. Family: 100%|██████████| 16/16 [01:49<00:00,  6.82s/it]\n",
      "Processing videos in 5. Cow:   0%|          | 0/19 [00:00<?, ?it/s]"
     ]
    },
    {
     "name": "stdout",
     "output_type": "stream",
     "text": [
      "Warning: Unexpected landmarks shape (132, 3) for video MVI_3075.MOV\n"
     ]
    },
    {
     "name": "stderr",
     "output_type": "stream",
     "text": [
      "Processing videos in 5. Cow:  37%|███▋      | 7/19 [01:02<01:37,  8.16s/it]"
     ]
    },
    {
     "name": "stdout",
     "output_type": "stream",
     "text": [
      "Warning: Unexpected landmarks shape (132, 3) for video MVI_3015.MOV\n"
     ]
    },
    {
     "name": "stderr",
     "output_type": "stream",
     "text": [
      "Processing videos in 5. Cow:  47%|████▋     | 9/19 [01:21<01:28,  8.84s/it]"
     ]
    },
    {
     "name": "stdout",
     "output_type": "stream",
     "text": [
      "Warning: Unexpected landmarks shape (132, 3) for video MVI_3048.MOV\n",
      "Warning: Unexpected landmarks shape (132, 3) for video MVI_3048.MOV\n"
     ]
    },
    {
     "name": "stderr",
     "output_type": "stream",
     "text": [
      "Processing videos in 5. Cow:  63%|██████▎   | 12/19 [01:52<01:08,  9.84s/it]"
     ]
    },
    {
     "name": "stdout",
     "output_type": "stream",
     "text": [
      "Warning: Unexpected landmarks shape (132, 3) for video MVI_3097.MOV\n",
      "Warning: Unexpected landmarks shape (132, 3) for video MVI_3097.MOV\n"
     ]
    },
    {
     "name": "stderr",
     "output_type": "stream",
     "text": [
      "Processing videos in 5. Cow:  79%|███████▉  | 15/19 [02:16<00:34,  8.75s/it]"
     ]
    },
    {
     "name": "stdout",
     "output_type": "stream",
     "text": [
      "Warning: Unexpected landmarks shape (132, 3) for video MVI_3099.MOV\n",
      "Warning: Unexpected landmarks shape (132, 3) for video MVI_3099.MOV\n"
     ]
    },
    {
     "name": "stderr",
     "output_type": "stream",
     "text": [
      "Processing videos in 5. Cow:  84%|████████▍ | 16/19 [02:24<00:25,  8.54s/it]"
     ]
    },
    {
     "name": "stdout",
     "output_type": "stream",
     "text": [
      "Warning: Unexpected landmarks shape (132, 3) for video MVI_3098.MOV\n",
      "Warning: Unexpected landmarks shape (132, 3) for video MVI_3098.MOV\n"
     ]
    },
    {
     "name": "stderr",
     "output_type": "stream",
     "text": [
      "Processing videos in 5. Cow:  95%|█████████▍| 18/19 [02:42<00:08,  8.82s/it]"
     ]
    },
    {
     "name": "stdout",
     "output_type": "stream",
     "text": [
      "Warning: Unexpected landmarks shape (132, 3) for video MVI_3016.MOV\n"
     ]
    },
    {
     "name": "stderr",
     "output_type": "stream",
     "text": [
      "Processing videos in 5. Cow: 100%|██████████| 19/19 [02:53<00:00,  9.13s/it]\n",
      "Processing videos in 3. Fish:  22%|██▏       | 4/18 [00:34<01:56,  8.33s/it]"
     ]
    },
    {
     "name": "stdout",
     "output_type": "stream",
     "text": [
      "Warning: Unexpected landmarks shape (132, 3) for video MVI_3069.MOV\n"
     ]
    },
    {
     "name": "stderr",
     "output_type": "stream",
     "text": [
      "Processing videos in 3. Fish:  28%|██▊       | 5/18 [00:41<01:45,  8.12s/it]"
     ]
    },
    {
     "name": "stdout",
     "output_type": "stream",
     "text": [
      "Warning: Unexpected landmarks shape (132, 3) for video MVI_3034.MOV\n"
     ]
    },
    {
     "name": "stderr",
     "output_type": "stream",
     "text": [
      "Processing videos in 3. Fish:  33%|███▎      | 6/18 [00:50<01:38,  8.24s/it]"
     ]
    },
    {
     "name": "stdout",
     "output_type": "stream",
     "text": [
      "Warning: Unexpected landmarks shape (132, 3) for video MVI_4154.MOV\n"
     ]
    },
    {
     "name": "stderr",
     "output_type": "stream",
     "text": [
      "Processing videos in 3. Fish:  56%|█████▌    | 10/18 [01:23<01:08,  8.53s/it]"
     ]
    },
    {
     "name": "stdout",
     "output_type": "stream",
     "text": [
      "Warning: Unexpected landmarks shape (132, 3) for video MVI_4152.MOV\n"
     ]
    },
    {
     "name": "stderr",
     "output_type": "stream",
     "text": [
      "Processing videos in 3. Fish:  72%|███████▏  | 13/18 [01:51<00:46,  9.29s/it]"
     ]
    },
    {
     "name": "stdout",
     "output_type": "stream",
     "text": [
      "Warning: Unexpected landmarks shape (132, 3) for video MVI_3093.MOV\n"
     ]
    },
    {
     "name": "stderr",
     "output_type": "stream",
     "text": [
      "Processing videos in 3. Fish: 100%|██████████| 18/18 [02:38<00:00,  8.80s/it]\n",
      "Processing videos in 2. Cat:  50%|█████     | 9/18 [01:13<01:17,  8.59s/it]"
     ]
    },
    {
     "name": "stdout",
     "output_type": "stream",
     "text": [
      "Warning: Unexpected landmarks shape (132, 3) for video MVI_3007.MOV\n"
     ]
    },
    {
     "name": "stderr",
     "output_type": "stream",
     "text": [
      "Processing videos in 2. Cat:  56%|█████▌    | 10/18 [01:21<01:07,  8.39s/it]"
     ]
    },
    {
     "name": "stdout",
     "output_type": "stream",
     "text": [
      "Warning: Unexpected landmarks shape (132, 3) for video MVI_3063.MOV\n"
     ]
    },
    {
     "name": "stderr",
     "output_type": "stream",
     "text": [
      "Processing videos in 2. Cat:  78%|███████▊  | 14/18 [01:55<00:33,  8.44s/it]"
     ]
    },
    {
     "name": "stdout",
     "output_type": "stream",
     "text": [
      "Warning: Unexpected landmarks shape (132, 3) for video MVI_4151.MOV\n"
     ]
    },
    {
     "name": "stderr",
     "output_type": "stream",
     "text": [
      "Processing videos in 2. Cat:  83%|████████▎ | 15/18 [02:00<00:22,  7.57s/it]"
     ]
    },
    {
     "name": "stdout",
     "output_type": "stream",
     "text": [
      "Warning: Unexpected landmarks shape (132, 3) for video MVI_4149.MOV\n"
     ]
    },
    {
     "name": "stderr",
     "output_type": "stream",
     "text": [
      "Processing videos in 2. Cat: 100%|██████████| 18/18 [02:27<00:00,  8.19s/it]\n",
      "Processing videos in 1. Dog:  33%|███▎      | 6/18 [00:58<01:58,  9.85s/it]"
     ]
    },
    {
     "name": "stdout",
     "output_type": "stream",
     "text": [
      "Warning: Unexpected landmarks shape (132, 3) for video MVI_3029.MOV\n",
      "Warning: Unexpected landmarks shape (132, 3) for video MVI_3029.MOV\n"
     ]
    },
    {
     "name": "stderr",
     "output_type": "stream",
     "text": [
      "Processing videos in 1. Dog:  56%|█████▌    | 10/18 [01:36<01:14,  9.27s/it]"
     ]
    },
    {
     "name": "stdout",
     "output_type": "stream",
     "text": [
      "Warning: Unexpected landmarks shape (132, 3) for video MVI_3002.MOV\n",
      "Warning: Unexpected landmarks shape (132, 3) for video MVI_3002.MOV\n"
     ]
    },
    {
     "name": "stderr",
     "output_type": "stream",
     "text": [
      "Processing videos in 1. Dog: 100%|██████████| 18/18 [02:52<00:00,  9.59s/it]\n",
      "Processing videos in 4. Bird:   0%|          | 0/18 [00:00<?, ?it/s]"
     ]
    },
    {
     "name": "stdout",
     "output_type": "stream",
     "text": [
      "Warning: Unexpected landmarks shape (132, 3) for video MVI_3040.MOV\n",
      "Warning: Unexpected landmarks shape (132, 3) for video MVI_3040.MOV\n"
     ]
    },
    {
     "name": "stderr",
     "output_type": "stream",
     "text": [
      "Processing videos in 4. Bird:   6%|▌         | 1/18 [00:09<02:43,  9.61s/it]"
     ]
    },
    {
     "name": "stdout",
     "output_type": "stream",
     "text": [
      "Warning: Unexpected landmarks shape (132, 3) for video MVI_3070.MOV\n"
     ]
    },
    {
     "name": "stderr",
     "output_type": "stream",
     "text": [
      "Processing videos in 4. Bird:  11%|█         | 2/18 [00:18<02:28,  9.29s/it]"
     ]
    },
    {
     "name": "stdout",
     "output_type": "stream",
     "text": [
      "Warning: Unexpected landmarks shape (132, 3) for video MVI_3011.MOV\n",
      "Warning: Unexpected landmarks shape (132, 3) for video MVI_3011.MOV\n"
     ]
    },
    {
     "name": "stderr",
     "output_type": "stream",
     "text": [
      "Processing videos in 4. Bird:  17%|█▋        | 3/18 [00:26<02:09,  8.67s/it]"
     ]
    },
    {
     "name": "stdout",
     "output_type": "stream",
     "text": [
      "Warning: Unexpected landmarks shape (132, 3) for video MVI_2989.MOV\n",
      "Warning: Unexpected landmarks shape (132, 3) for video MVI_2989.MOV\n",
      "Warning: Unexpected landmarks shape (132, 3) for video MVI_2989.MOV\n"
     ]
    },
    {
     "name": "stderr",
     "output_type": "stream",
     "text": [
      "Processing videos in 4. Bird:  22%|██▏       | 4/18 [00:34<01:55,  8.23s/it]"
     ]
    },
    {
     "name": "stdout",
     "output_type": "stream",
     "text": [
      "Warning: Unexpected landmarks shape (132, 3) for video MVI_3038.MOV\n",
      "Warning: Unexpected landmarks shape (132, 3) for video MVI_3038.MOV\n"
     ]
    },
    {
     "name": "stderr",
     "output_type": "stream",
     "text": [
      "Processing videos in 4. Bird:  28%|██▊       | 5/18 [00:44<01:58,  9.09s/it]"
     ]
    },
    {
     "name": "stdout",
     "output_type": "stream",
     "text": [
      "Warning: Unexpected landmarks shape (132, 3) for video MVI_3072.MOV\n",
      "Warning: Unexpected landmarks shape (132, 3) for video MVI_3072.MOV\n"
     ]
    },
    {
     "name": "stderr",
     "output_type": "stream",
     "text": [
      "Processing videos in 4. Bird:  33%|███▎      | 6/18 [00:55<01:54,  9.58s/it]"
     ]
    },
    {
     "name": "stdout",
     "output_type": "stream",
     "text": [
      "Warning: Unexpected landmarks shape (132, 3) for video MVI_3094.MOV\n"
     ]
    },
    {
     "name": "stderr",
     "output_type": "stream",
     "text": [
      "Processing videos in 4. Bird:  44%|████▍     | 8/18 [01:14<01:34,  9.45s/it]"
     ]
    },
    {
     "name": "stdout",
     "output_type": "stream",
     "text": [
      "Warning: Unexpected landmarks shape (132, 3) for video MVI_4157.MOV\n"
     ]
    },
    {
     "name": "stderr",
     "output_type": "stream",
     "text": [
      "Processing videos in 4. Bird:  50%|█████     | 9/18 [01:20<01:15,  8.44s/it]"
     ]
    },
    {
     "name": "stdout",
     "output_type": "stream",
     "text": [
      "Warning: Unexpected landmarks shape (132, 3) for video MVI_2987.MOV\n"
     ]
    },
    {
     "name": "stderr",
     "output_type": "stream",
     "text": [
      "Processing videos in 4. Bird:  56%|█████▌    | 10/18 [01:30<01:10,  8.76s/it]"
     ]
    },
    {
     "name": "stdout",
     "output_type": "stream",
     "text": [
      "Warning: Unexpected landmarks shape (132, 3) for video MVI_4155.MOV\n",
      "Warning: Unexpected landmarks shape (132, 3) for video MVI_4155.MOV\n"
     ]
    },
    {
     "name": "stderr",
     "output_type": "stream",
     "text": [
      "Processing videos in 4. Bird:  61%|██████    | 11/18 [01:37<00:58,  8.32s/it]"
     ]
    },
    {
     "name": "stdout",
     "output_type": "stream",
     "text": [
      "Warning: Unexpected landmarks shape (132, 3) for video MVI_2988.MOV\n"
     ]
    },
    {
     "name": "stderr",
     "output_type": "stream",
     "text": [
      "Processing videos in 4. Bird:  67%|██████▋   | 12/18 [01:47<00:52,  8.83s/it]"
     ]
    },
    {
     "name": "stdout",
     "output_type": "stream",
     "text": [
      "Warning: Unexpected landmarks shape (132, 3) for video MVI_4156.MOV\n"
     ]
    },
    {
     "name": "stderr",
     "output_type": "stream",
     "text": [
      "Processing videos in 4. Bird:  83%|████████▎ | 15/18 [02:13<00:26,  8.81s/it]"
     ]
    },
    {
     "name": "stdout",
     "output_type": "stream",
     "text": [
      "Warning: Unexpected landmarks shape (132, 3) for video MVI_3013.MOV\n",
      "Warning: Unexpected landmarks shape (132, 3) for video MVI_3013.MOV\n"
     ]
    },
    {
     "name": "stderr",
     "output_type": "stream",
     "text": [
      "Processing videos in 4. Bird:  89%|████████▉ | 16/18 [02:22<00:17,  8.86s/it]"
     ]
    },
    {
     "name": "stdout",
     "output_type": "stream",
     "text": [
      "Warning: Unexpected landmarks shape (132, 3) for video MVI_3071.MOV\n",
      "Warning: Unexpected landmarks shape (132, 3) for video MVI_3071.MOV\n"
     ]
    },
    {
     "name": "stderr",
     "output_type": "stream",
     "text": [
      "Processing videos in 4. Bird:  94%|█████████▍| 17/18 [02:31<00:09,  9.03s/it]"
     ]
    },
    {
     "name": "stdout",
     "output_type": "stream",
     "text": [
      "Warning: Unexpected landmarks shape (132, 3) for video MVI_3037.MOV\n",
      "Warning: Unexpected landmarks shape (132, 3) for video MVI_3037.MOV\n"
     ]
    },
    {
     "name": "stderr",
     "output_type": "stream",
     "text": [
      "Processing videos in 4. Bird: 100%|██████████| 18/18 [02:41<00:00,  8.95s/it]\n",
      "Processing videos in 79. Child:  74%|███████▎  | 14/19 [01:33<00:33,  6.79s/it]"
     ]
    },
    {
     "name": "stdout",
     "output_type": "stream",
     "text": [
      "Warning: Unexpected landmarks shape (132, 3) for video MVI_4991.MOV\n"
     ]
    },
    {
     "name": "stderr",
     "output_type": "stream",
     "text": [
      "Processing videos in 79. Child: 100%|██████████| 19/19 [01:59<00:00,  6.28s/it]\n",
      "Processing videos in 80. Adult: 100%|██████████| 19/19 [02:42<00:00,  8.53s/it]\n",
      "Processing videos in 83. Crowd:   5%|▌         | 1/19 [00:08<02:26,  8.13s/it]"
     ]
    },
    {
     "name": "stdout",
     "output_type": "stream",
     "text": [
      "Warning: Unexpected landmarks shape (132, 3) for video MVI_5308.MOV\n"
     ]
    },
    {
     "name": "stderr",
     "output_type": "stream",
     "text": [
      "Processing videos in 83. Crowd:  16%|█▌        | 3/19 [00:20<01:43,  6.47s/it]"
     ]
    },
    {
     "name": "stdout",
     "output_type": "stream",
     "text": [
      "Warning: Unexpected landmarks shape (132, 3) for video MVI_4128.MOV\n"
     ]
    },
    {
     "name": "stderr",
     "output_type": "stream",
     "text": [
      "Processing videos in 83. Crowd:  26%|██▋       | 5/19 [00:33<01:31,  6.53s/it]"
     ]
    },
    {
     "name": "stdout",
     "output_type": "stream",
     "text": [
      "Warning: Unexpected landmarks shape (132, 3) for video MVI_5004.MOV\n"
     ]
    },
    {
     "name": "stderr",
     "output_type": "stream",
     "text": [
      "Processing videos in 83. Crowd:  37%|███▋      | 7/19 [00:44<01:13,  6.14s/it]"
     ]
    },
    {
     "name": "stdout",
     "output_type": "stream",
     "text": [
      "Warning: Unexpected landmarks shape (132, 3) for video MVI_3834.MOV\n"
     ]
    },
    {
     "name": "stderr",
     "output_type": "stream",
     "text": [
      "Processing videos in 83. Crowd:  42%|████▏     | 8/19 [00:51<01:09,  6.33s/it]"
     ]
    },
    {
     "name": "stdout",
     "output_type": "stream",
     "text": [
      "Warning: Unexpected landmarks shape (132, 3) for video MVI_4130.MOV\n"
     ]
    },
    {
     "name": "stderr",
     "output_type": "stream",
     "text": [
      "Processing videos in 83. Crowd:  74%|███████▎  | 14/19 [01:30<00:34,  6.81s/it]"
     ]
    },
    {
     "name": "stdout",
     "output_type": "stream",
     "text": [
      "Warning: Unexpected landmarks shape (132, 3) for video MVI_3983.MOV\n"
     ]
    },
    {
     "name": "stderr",
     "output_type": "stream",
     "text": [
      "Processing videos in 83. Crowd: 100%|██████████| 19/19 [02:02<00:00,  6.45s/it]\n",
      "Processing videos in 82. Player:  11%|█         | 2/19 [00:14<01:58,  6.98s/it]"
     ]
    },
    {
     "name": "stdout",
     "output_type": "stream",
     "text": [
      "Warning: Unexpected landmarks shape (132, 3) for video MVI_4247.MOV\n",
      "Warning: Unexpected landmarks shape (132, 3) for video MVI_4247.MOV\n"
     ]
    },
    {
     "name": "stderr",
     "output_type": "stream",
     "text": [
      "Processing videos in 82. Player:  21%|██        | 4/19 [00:29<01:51,  7.47s/it]"
     ]
    },
    {
     "name": "stdout",
     "output_type": "stream",
     "text": [
      "Warning: Unexpected landmarks shape (132, 3) for video MVI_5303.MOV\n"
     ]
    },
    {
     "name": "stderr",
     "output_type": "stream",
     "text": [
      "Processing videos in 82. Player:  37%|███▋      | 7/19 [00:51<01:30,  7.55s/it]"
     ]
    },
    {
     "name": "stdout",
     "output_type": "stream",
     "text": [
      "Warning: Unexpected landmarks shape (132, 3) for video MVI_5002.MOV\n",
      "Warning: Unexpected landmarks shape (132, 3) for video MVI_5002.MOV\n"
     ]
    },
    {
     "name": "stderr",
     "output_type": "stream",
     "text": [
      "Processing videos in 82. Player:  58%|█████▊    | 11/19 [01:19<00:57,  7.20s/it]"
     ]
    },
    {
     "name": "stdout",
     "output_type": "stream",
     "text": [
      "Warning: Unexpected landmarks shape (132, 3) for video MVI_5001.MOV\n"
     ]
    },
    {
     "name": "stderr",
     "output_type": "stream",
     "text": [
      "Processing videos in 82. Player:  74%|███████▎  | 14/19 [01:41<00:35,  7.11s/it]"
     ]
    },
    {
     "name": "stdout",
     "output_type": "stream",
     "text": [
      "Warning: Unexpected landmarks shape (132, 3) for video MVI_3978.MOV\n"
     ]
    },
    {
     "name": "stderr",
     "output_type": "stream",
     "text": [
      "Processing videos in 82. Player:  84%|████████▍ | 16/19 [01:58<00:23,  7.96s/it]"
     ]
    },
    {
     "name": "stdout",
     "output_type": "stream",
     "text": [
      "Warning: Unexpected landmarks shape (132, 3) for video MVI_4125.MOV\n"
     ]
    },
    {
     "name": "stderr",
     "output_type": "stream",
     "text": [
      "Processing videos in 82. Player: 100%|██████████| 19/19 [02:20<00:00,  7.37s/it]\n",
      "Processing videos in 81. Friend:  58%|█████▊    | 11/19 [01:10<00:51,  6.47s/it]"
     ]
    },
    {
     "name": "stdout",
     "output_type": "stream",
     "text": [
      "Warning: Unexpected landmarks shape (132, 3) for video MVI_3826.MOV\n"
     ]
    },
    {
     "name": "stderr",
     "output_type": "stream",
     "text": [
      "Processing videos in 81. Friend: 100%|██████████| 19/19 [02:06<00:00,  6.64s/it]\n",
      "Processing videos in 24. School:   5%|▌         | 1/20 [00:06<02:10,  6.89s/it]"
     ]
    },
    {
     "name": "stdout",
     "output_type": "stream",
     "text": [
      "Warning: Unexpected landmarks shape (132, 3) for video MVI_3457.MOV\n"
     ]
    },
    {
     "name": "stderr",
     "output_type": "stream",
     "text": [
      "Processing videos in 24. School:  40%|████      | 8/20 [00:55<01:23,  6.97s/it]"
     ]
    },
    {
     "name": "stdout",
     "output_type": "stream",
     "text": [
      "Warning: Unexpected landmarks shape (132, 3) for video MVI_3456.MOV\n",
      "Warning: Unexpected landmarks shape (132, 3) for video MVI_3456.MOV\n"
     ]
    },
    {
     "name": "stderr",
     "output_type": "stream",
     "text": [
      "Processing videos in 24. School:  55%|█████▌    | 11/20 [01:14<00:57,  6.41s/it]"
     ]
    },
    {
     "name": "stdout",
     "output_type": "stream",
     "text": [
      "Warning: Unexpected landmarks shape (132, 3) for video MVI_3290.MOV\n"
     ]
    },
    {
     "name": "stderr",
     "output_type": "stream",
     "text": [
      "Processing videos in 24. School:  65%|██████▌   | 13/20 [01:27<00:45,  6.48s/it]"
     ]
    },
    {
     "name": "stdout",
     "output_type": "stream",
     "text": [
      "Warning: Unexpected landmarks shape (132, 3) for video MVI_3615.MOV\n"
     ]
    },
    {
     "name": "stderr",
     "output_type": "stream",
     "text": [
      "Processing videos in 24. School:  75%|███████▌  | 15/20 [01:41<00:32,  6.58s/it]"
     ]
    },
    {
     "name": "stdout",
     "output_type": "stream",
     "text": [
      "Warning: Unexpected landmarks shape (132, 3) for video MVI_3537.MOV\n"
     ]
    },
    {
     "name": "stderr",
     "output_type": "stream",
     "text": [
      "Processing videos in 24. School:  95%|█████████▌| 19/20 [02:07<00:06,  6.72s/it]"
     ]
    },
    {
     "name": "stdout",
     "output_type": "stream",
     "text": [
      "Warning: Unexpected landmarks shape (132, 3) for video MVI_3536.MOV\n"
     ]
    },
    {
     "name": "stderr",
     "output_type": "stream",
     "text": [
      "Processing videos in 24. School: 100%|██████████| 20/20 [02:13<00:00,  6.69s/it]\n",
      "Processing videos in 27. Park:   0%|          | 0/20 [00:00<?, ?it/s]"
     ]
    },
    {
     "name": "stdout",
     "output_type": "stream",
     "text": [
      "Warning: Unexpected landmarks shape (132, 3) for video MVI_3629.MOV\n"
     ]
    },
    {
     "name": "stderr",
     "output_type": "stream",
     "text": [
      "Processing videos in 27. Park:  35%|███▌      | 7/20 [00:50<01:32,  7.12s/it]"
     ]
    },
    {
     "name": "stdout",
     "output_type": "stream",
     "text": [
      "Warning: Unexpected landmarks shape (132, 3) for video MVI_3468.MOV\n"
     ]
    },
    {
     "name": "stderr",
     "output_type": "stream",
     "text": [
      "Processing videos in 27. Park: 100%|██████████| 20/20 [02:22<00:00,  7.10s/it]\n",
      "Processing videos in 25. Office: 100%|██████████| 20/20 [02:05<00:00,  6.26s/it]\n",
      "Processing videos in 26. University: 100%|██████████| 20/20 [01:59<00:00,  5.98s/it]\n",
      "Processing videos in 23. Court:  10%|█         | 2/20 [00:13<02:04,  6.90s/it]"
     ]
    },
    {
     "name": "stdout",
     "output_type": "stream",
     "text": [
      "Warning: Unexpected landmarks shape (132, 3) for video MVI_3452.MOV\n"
     ]
    },
    {
     "name": "stderr",
     "output_type": "stream",
     "text": [
      "Processing videos in 23. Court:  30%|███       | 6/20 [00:48<01:56,  8.35s/it]"
     ]
    },
    {
     "name": "stdout",
     "output_type": "stream",
     "text": [
      "Warning: Unexpected landmarks shape (132, 3) for video MVI_3454.MOV\n"
     ]
    },
    {
     "name": "stderr",
     "output_type": "stream",
     "text": [
      "Processing videos in 23. Court:  80%|████████  | 16/20 [02:06<00:31,  7.84s/it]"
     ]
    },
    {
     "name": "stdout",
     "output_type": "stream",
     "text": [
      "Warning: Unexpected landmarks shape (132, 3) for video MVI_3453.MOV\n"
     ]
    },
    {
     "name": "stderr",
     "output_type": "stream",
     "text": [
      "Processing videos in 23. Court: 100%|██████████| 20/20 [02:34<00:00,  7.74s/it]\n",
      "Processing videos in 60. Radio:   0%|          | 0/11 [00:00<?, ?it/s]"
     ]
    },
    {
     "name": "stdout",
     "output_type": "stream",
     "text": [
      "Warning: Unexpected landmarks shape (132, 3) for video MVI_5419.MOV\n"
     ]
    },
    {
     "name": "stderr",
     "output_type": "stream",
     "text": [
      "Processing videos in 60. Radio:  18%|█▊        | 2/11 [00:10<00:48,  5.39s/it]"
     ]
    },
    {
     "name": "stdout",
     "output_type": "stream",
     "text": [
      "Warning: Unexpected landmarks shape (132, 3) for video MVI_5417.MOV\n"
     ]
    },
    {
     "name": "stderr",
     "output_type": "stream",
     "text": [
      "Processing videos in 60. Radio:  27%|██▋       | 3/11 [00:17<00:47,  5.88s/it]"
     ]
    },
    {
     "name": "stdout",
     "output_type": "stream",
     "text": [
      "Warning: Unexpected landmarks shape (132, 3) for video MVI_4561.MOV\n"
     ]
    },
    {
     "name": "stderr",
     "output_type": "stream",
     "text": [
      "Processing videos in 60. Radio:  36%|███▋      | 4/11 [00:25<00:45,  6.57s/it]"
     ]
    },
    {
     "name": "stdout",
     "output_type": "stream",
     "text": [
      "Warning: Unexpected landmarks shape (132, 3) for video MVI_4987.MOV\n"
     ]
    },
    {
     "name": "stderr",
     "output_type": "stream",
     "text": [
      "Processing videos in 60. Radio:  73%|███████▎  | 8/11 [00:48<00:18,  6.03s/it]"
     ]
    },
    {
     "name": "stdout",
     "output_type": "stream",
     "text": [
      "Warning: Unexpected landmarks shape (132, 3) for video MVI_5418.MOV\n"
     ]
    },
    {
     "name": "stderr",
     "output_type": "stream",
     "text": [
      "Processing videos in 60. Radio: 100%|██████████| 11/11 [01:07<00:00,  6.09s/it]\n",
      "Processing videos in 57. Screen:   0%|          | 0/11 [00:00<?, ?it/s]"
     ]
    },
    {
     "name": "stdout",
     "output_type": "stream",
     "text": [
      "Warning: Unexpected landmarks shape (132, 3) for video MVI_5405.MOV\n"
     ]
    },
    {
     "name": "stderr",
     "output_type": "stream",
     "text": [
      "Processing videos in 57. Screen:   9%|▉         | 1/11 [00:07<01:11,  7.15s/it]"
     ]
    },
    {
     "name": "stdout",
     "output_type": "stream",
     "text": [
      "Warning: Unexpected landmarks shape (132, 3) for video MVI_5406.MOV\n"
     ]
    },
    {
     "name": "stderr",
     "output_type": "stream",
     "text": [
      "Processing videos in 57. Screen:  64%|██████▎   | 7/11 [00:51<00:30,  7.52s/it]"
     ]
    },
    {
     "name": "stdout",
     "output_type": "stream",
     "text": [
      "Warning: Unexpected landmarks shape (132, 3) for video MVI_5403.MOV\n",
      "Warning: Unexpected landmarks shape (132, 3) for video MVI_5403.MOV\n"
     ]
    },
    {
     "name": "stderr",
     "output_type": "stream",
     "text": [
      "Processing videos in 57. Screen: 100%|██████████| 11/11 [01:22<00:00,  7.49s/it]\n",
      "Processing videos in 58. Camera:  27%|██▋       | 3/11 [00:18<00:47,  5.90s/it]"
     ]
    },
    {
     "name": "stdout",
     "output_type": "stream",
     "text": [
      "Warning: Unexpected landmarks shape (132, 3) for video MVI_4979.MOV\n"
     ]
    },
    {
     "name": "stderr",
     "output_type": "stream",
     "text": [
      "Processing videos in 58. Camera: 100%|██████████| 11/11 [01:04<00:00,  5.84s/it]\n",
      "Processing videos in 59. Television:   9%|▉         | 1/11 [00:05<00:57,  5.76s/it]"
     ]
    },
    {
     "name": "stdout",
     "output_type": "stream",
     "text": [
      "Warning: Unexpected landmarks shape (132, 3) for video MVI_4560.MOV\n"
     ]
    },
    {
     "name": "stderr",
     "output_type": "stream",
     "text": [
      "Processing videos in 59. Television:  36%|███▋      | 4/11 [00:25<00:42,  6.13s/it]"
     ]
    },
    {
     "name": "stdout",
     "output_type": "stream",
     "text": [
      "Warning: Unexpected landmarks shape (132, 3) for video MVI_5414.MOV\n"
     ]
    },
    {
     "name": "stderr",
     "output_type": "stream",
     "text": [
      "Processing videos in 59. Television:  64%|██████▎   | 7/11 [00:41<00:22,  5.66s/it]"
     ]
    },
    {
     "name": "stdout",
     "output_type": "stream",
     "text": [
      "Warning: Unexpected landmarks shape (132, 3) for video MVI_5413.MOV\n"
     ]
    },
    {
     "name": "stderr",
     "output_type": "stream",
     "text": [
      "Processing videos in 59. Television: 100%|██████████| 11/11 [01:08<00:00,  6.19s/it]\n",
      "Processing videos in 56. Laptop:   9%|▉         | 1/11 [00:08<01:28,  8.89s/it]"
     ]
    },
    {
     "name": "stdout",
     "output_type": "stream",
     "text": [
      "Warning: Unexpected landmarks shape (132, 3) for video MVI_5399.MOV\n"
     ]
    },
    {
     "name": "stderr",
     "output_type": "stream",
     "text": [
      "Processing videos in 56. Laptop:  45%|████▌     | 5/11 [00:35<00:40,  6.71s/it]"
     ]
    },
    {
     "name": "stdout",
     "output_type": "stream",
     "text": [
      "Warning: Unexpected landmarks shape (132, 3) for video MVI_4545.MOV\n"
     ]
    },
    {
     "name": "stderr",
     "output_type": "stream",
     "text": [
      "Processing videos in 56. Laptop: 100%|██████████| 11/11 [01:21<00:00,  7.38s/it]\n",
      "Processing videos in 51. Good Morning:  33%|███▎      | 7/21 [00:46<01:40,  7.16s/it]"
     ]
    },
    {
     "name": "stdout",
     "output_type": "stream",
     "text": [
      "Warning: Unexpected landmarks shape (132, 3) for video MVI_0045.MOV\n"
     ]
    },
    {
     "name": "stderr",
     "output_type": "stream",
     "text": [
      "Processing videos in 51. Good Morning: 100%|██████████| 21/21 [02:36<00:00,  7.44s/it]\n",
      "Processing videos in 50. Alright:   0%|          | 0/21 [00:00<?, ?it/s]"
     ]
    },
    {
     "name": "stdout",
     "output_type": "stream",
     "text": [
      "Warning: Unexpected landmarks shape (132, 3) for video MVI_9988.MOV\n"
     ]
    },
    {
     "name": "stderr",
     "output_type": "stream",
     "text": [
      "Processing videos in 50. Alright:  10%|▉         | 2/21 [00:16<02:42,  8.58s/it]"
     ]
    },
    {
     "name": "stdout",
     "output_type": "stream",
     "text": [
      "Warning: Unexpected landmarks shape (132, 3) for video MVI_9990.MOV\n",
      "Warning: Unexpected landmarks shape (132, 3) for video MVI_9990.MOV\n"
     ]
    },
    {
     "name": "stderr",
     "output_type": "stream",
     "text": [
      "Processing videos in 50. Alright:  14%|█▍        | 3/21 [00:22<02:14,  7.45s/it]"
     ]
    },
    {
     "name": "stdout",
     "output_type": "stream",
     "text": [
      "Warning: Unexpected landmarks shape (132, 3) for video MVI_0037.MOV\n"
     ]
    },
    {
     "name": "stderr",
     "output_type": "stream",
     "text": [
      "Processing videos in 50. Alright:  24%|██▍       | 5/21 [00:40<02:14,  8.39s/it]"
     ]
    },
    {
     "name": "stdout",
     "output_type": "stream",
     "text": [
      "Warning: Unexpected landmarks shape (132, 3) for video MVI_0040.MOV\n"
     ]
    },
    {
     "name": "stderr",
     "output_type": "stream",
     "text": [
      "Processing videos in 50. Alright:  71%|███████▏  | 15/21 [01:54<00:46,  7.82s/it]"
     ]
    },
    {
     "name": "stdout",
     "output_type": "stream",
     "text": [
      "Warning: Unexpected landmarks shape (132, 3) for video MVI_9966.MOV\n"
     ]
    },
    {
     "name": "stderr",
     "output_type": "stream",
     "text": [
      "Processing videos in 50. Alright:  86%|████████▌ | 18/21 [02:15<00:21,  7.07s/it]"
     ]
    },
    {
     "name": "stdout",
     "output_type": "stream",
     "text": [
      "Warning: Unexpected landmarks shape (132, 3) for video MVI_0039.MOV\n"
     ]
    },
    {
     "name": "stderr",
     "output_type": "stream",
     "text": [
      "Processing videos in 50. Alright:  95%|█████████▌| 20/21 [02:30<00:07,  7.19s/it]"
     ]
    },
    {
     "name": "stdout",
     "output_type": "stream",
     "text": [
      "Warning: Unexpected landmarks shape (132, 3) for video MVI_9964.MOV\n"
     ]
    },
    {
     "name": "stderr",
     "output_type": "stream",
     "text": [
      "Processing videos in 50. Alright: 100%|██████████| 21/21 [02:39<00:00,  7.61s/it]\n",
      "Processing videos in 52. Good afternoon:  73%|███████▎  | 16/22 [02:04<00:45,  7.59s/it]"
     ]
    },
    {
     "name": "stdout",
     "output_type": "stream",
     "text": [
      "Warning: Unexpected landmarks shape (132, 3) for video MVI_9994.MOV\n"
     ]
    },
    {
     "name": "stderr",
     "output_type": "stream",
     "text": [
      "Processing videos in 52. Good afternoon: 100%|██████████| 22/22 [02:44<00:00,  7.49s/it]\n",
      "Processing videos in 49. How are you:   5%|▍         | 1/21 [00:08<02:46,  8.35s/it]"
     ]
    },
    {
     "name": "stdout",
     "output_type": "stream",
     "text": [
      "Warning: Unexpected landmarks shape (132, 3) for video MVI_9986.MOV\n"
     ]
    },
    {
     "name": "stderr",
     "output_type": "stream",
     "text": [
      "Processing videos in 49. How are you:  10%|▉         | 2/21 [00:15<02:28,  7.82s/it]"
     ]
    },
    {
     "name": "stdout",
     "output_type": "stream",
     "text": [
      "Warning: Unexpected landmarks shape (132, 3) for video MVI_0033.MOV\n",
      "Warning: Unexpected landmarks shape (132, 3) for video MVI_0033.MOV\n"
     ]
    },
    {
     "name": "stderr",
     "output_type": "stream",
     "text": [
      "Processing videos in 49. How are you:  38%|███▊      | 8/21 [01:07<01:46,  8.18s/it]"
     ]
    },
    {
     "name": "stdout",
     "output_type": "stream",
     "text": [
      "Warning: Unexpected landmarks shape (132, 3) for video MVI_9919.MOV\n",
      "Warning: Unexpected landmarks shape (132, 3) for video MVI_9919.MOV\n"
     ]
    },
    {
     "name": "stderr",
     "output_type": "stream",
     "text": [
      "Processing videos in 49. How are you:  48%|████▊     | 10/21 [01:23<01:27,  7.98s/it]"
     ]
    },
    {
     "name": "stdout",
     "output_type": "stream",
     "text": [
      "Warning: Unexpected landmarks shape (132, 3) for video MVI_0034.MOV\n",
      "Warning: Unexpected landmarks shape (132, 3) for video MVI_0034.MOV\n"
     ]
    },
    {
     "name": "stderr",
     "output_type": "stream",
     "text": [
      "Processing videos in 49. How are you:  52%|█████▏    | 11/21 [01:33<01:27,  8.78s/it]"
     ]
    },
    {
     "name": "stdout",
     "output_type": "stream",
     "text": [
      "Warning: Unexpected landmarks shape (132, 3) for video MVI_9959.MOV\n"
     ]
    },
    {
     "name": "stderr",
     "output_type": "stream",
     "text": [
      "Processing videos in 49. How are you:  57%|█████▋    | 12/21 [01:43<01:22,  9.18s/it]"
     ]
    },
    {
     "name": "stdout",
     "output_type": "stream",
     "text": [
      "Warning: Unexpected landmarks shape (132, 3) for video MVI_0035.MOV\n"
     ]
    },
    {
     "name": "stderr",
     "output_type": "stream",
     "text": [
      "Processing videos in 49. How are you:  81%|████████  | 17/21 [02:32<00:37,  9.26s/it]"
     ]
    },
    {
     "name": "stdout",
     "output_type": "stream",
     "text": [
      "Warning: Unexpected landmarks shape (132, 3) for video MVI_0092.MOV\n"
     ]
    },
    {
     "name": "stderr",
     "output_type": "stream",
     "text": [
      "Processing videos in 49. How are you:  90%|█████████ | 19/21 [02:49<00:17,  8.98s/it]"
     ]
    },
    {
     "name": "stdout",
     "output_type": "stream",
     "text": [
      "Warning: Unexpected landmarks shape (132, 3) for video MVI_9961.MOV\n"
     ]
    },
    {
     "name": "stderr",
     "output_type": "stream",
     "text": [
      "Processing videos in 49. How are you: 100%|██████████| 21/21 [03:10<00:00,  9.09s/it]\n",
      "Processing videos in 48. Hello: 100%|██████████| 21/21 [02:25<00:00,  6.92s/it]\n",
      "Processing videos in 59. Daughter:  47%|████▋     | 9/19 [01:00<01:07,  6.70s/it]"
     ]
    },
    {
     "name": "stdout",
     "output_type": "stream",
     "text": [
      "Warning: Unexpected landmarks shape (132, 3) for video MVI_3904.MOV\n"
     ]
    },
    {
     "name": "stderr",
     "output_type": "stream",
     "text": [
      "Processing videos in 59. Daughter: 100%|██████████| 19/19 [02:16<00:00,  7.18s/it]\n",
      "Processing videos in 61. Father:  37%|███▋      | 7/19 [00:46<01:21,  6.83s/it]"
     ]
    },
    {
     "name": "stdout",
     "output_type": "stream",
     "text": [
      "Warning: Unexpected landmarks shape (132, 3) for video MVI_5227.MOV\n"
     ]
    },
    {
     "name": "stderr",
     "output_type": "stream",
     "text": [
      "Processing videos in 61. Father:  47%|████▋     | 9/19 [00:58<01:02,  6.29s/it]"
     ]
    },
    {
     "name": "stdout",
     "output_type": "stream",
     "text": [
      "Warning: Unexpected landmarks shape (132, 3) for video MVI_4062.MOV\n"
     ]
    },
    {
     "name": "stderr",
     "output_type": "stream",
     "text": [
      "Processing videos in 61. Father: 100%|██████████| 19/19 [02:11<00:00,  6.92s/it]\n",
      "Processing videos in 60. Mother: 100%|██████████| 19/19 [02:01<00:00,  6.41s/it]\n",
      "Processing videos in 62. Parent:   0%|          | 0/19 [00:00<?, ?it/s]"
     ]
    },
    {
     "name": "stdout",
     "output_type": "stream",
     "text": [
      "Warning: Unexpected landmarks shape (132, 3) for video MVI_4945.MOV\n"
     ]
    },
    {
     "name": "stderr",
     "output_type": "stream",
     "text": [
      "Processing videos in 62. Parent:  16%|█▌        | 3/19 [00:25<02:12,  8.31s/it]"
     ]
    },
    {
     "name": "stdout",
     "output_type": "stream",
     "text": [
      "Warning: Unexpected landmarks shape (132, 3) for video MVI_5233.MOV\n"
     ]
    },
    {
     "name": "stderr",
     "output_type": "stream",
     "text": [
      "Processing videos in 62. Parent:  21%|██        | 4/19 [00:33<02:02,  8.20s/it]"
     ]
    },
    {
     "name": "stdout",
     "output_type": "stream",
     "text": [
      "Warning: Unexpected landmarks shape (132, 3) for video MVI_4065.MOV\n"
     ]
    },
    {
     "name": "stderr",
     "output_type": "stream",
     "text": [
      "Processing videos in 62. Parent:  42%|████▏     | 8/19 [01:06<01:31,  8.33s/it]"
     ]
    },
    {
     "name": "stdout",
     "output_type": "stream",
     "text": [
      "Warning: Unexpected landmarks shape (132, 3) for video MVI_5232.MOV\n",
      "Warning: Unexpected landmarks shape (132, 3) for video MVI_5232.MOV\n"
     ]
    },
    {
     "name": "stderr",
     "output_type": "stream",
     "text": [
      "Processing videos in 62. Parent:  58%|█████▊    | 11/19 [01:30<01:05,  8.14s/it]"
     ]
    },
    {
     "name": "stdout",
     "output_type": "stream",
     "text": [
      "Warning: Unexpected landmarks shape (132, 3) for video MVI_5085.MOV\n"
     ]
    },
    {
     "name": "stderr",
     "output_type": "stream",
     "text": [
      "Processing videos in 62. Parent:  79%|███████▉  | 15/19 [02:03<00:32,  8.19s/it]"
     ]
    },
    {
     "name": "stdout",
     "output_type": "stream",
     "text": [
      "Warning: Unexpected landmarks shape (132, 3) for video MVI_5231.MOV\n"
     ]
    },
    {
     "name": "stderr",
     "output_type": "stream",
     "text": [
      "Processing videos in 62. Parent: 100%|██████████| 19/19 [02:37<00:00,  8.31s/it]\n",
      "Processing videos in 58. Son: 100%|██████████| 19/19 [02:19<00:00,  7.37s/it]\n",
      "Processing videos in 80. tall: 100%|██████████| 21/21 [02:15<00:00,  6.46s/it]\n",
      "Processing videos in 39. famous: 100%|██████████| 8/8 [00:48<00:00,  6.03s/it]\n",
      "Processing videos in 81. wide:  10%|▉         | 2/21 [00:12<02:00,  6.36s/it]"
     ]
    },
    {
     "name": "stdout",
     "output_type": "stream",
     "text": [
      "Warning: Unexpected landmarks shape (132, 3) for video MVI_9310.MOV\n",
      "Warning: Unexpected landmarks shape (132, 3) for video MVI_9310.MOV\n"
     ]
    },
    {
     "name": "stderr",
     "output_type": "stream",
     "text": [
      "Processing videos in 81. wide:  19%|█▉        | 4/21 [00:25<01:47,  6.31s/it]"
     ]
    },
    {
     "name": "stdout",
     "output_type": "stream",
     "text": [
      "Warning: Unexpected landmarks shape (132, 3) for video MVI_5278.MOV\n"
     ]
    },
    {
     "name": "stderr",
     "output_type": "stream",
     "text": [
      "Processing videos in 81. wide:  33%|███▎      | 7/21 [00:43<01:21,  5.84s/it]"
     ]
    },
    {
     "name": "stdout",
     "output_type": "stream",
     "text": [
      "Warning: Unexpected landmarks shape (132, 3) for video MVI_5277.MOV\n",
      "Warning: Unexpected landmarks shape (132, 3) for video MVI_5277.MOV\n"
     ]
    },
    {
     "name": "stderr",
     "output_type": "stream",
     "text": [
      "Processing videos in 81. wide:  38%|███▊      | 8/21 [00:49<01:17,  5.97s/it]"
     ]
    },
    {
     "name": "stdout",
     "output_type": "stream",
     "text": [
      "Warning: Unexpected landmarks shape (132, 3) for video MVI_9229.MOV\n"
     ]
    },
    {
     "name": "stderr",
     "output_type": "stream",
     "text": [
      "Processing videos in 81. wide:  48%|████▊     | 10/21 [01:01<01:06,  6.07s/it]"
     ]
    },
    {
     "name": "stdout",
     "output_type": "stream",
     "text": [
      "Warning: Unexpected landmarks shape (132, 3) for video MVI_5197.MOV\n"
     ]
    },
    {
     "name": "stderr",
     "output_type": "stream",
     "text": [
      "Processing videos in 81. wide:  52%|█████▏    | 11/21 [01:09<01:05,  6.58s/it]"
     ]
    },
    {
     "name": "stdout",
     "output_type": "stream",
     "text": [
      "Warning: Unexpected landmarks shape (132, 3) for video MVI_5117.MOV\n"
     ]
    },
    {
     "name": "stderr",
     "output_type": "stream",
     "text": [
      "Processing videos in 81. wide:  67%|██████▋   | 14/21 [01:31<00:50,  7.18s/it]"
     ]
    },
    {
     "name": "stdout",
     "output_type": "stream",
     "text": [
      "Warning: Unexpected landmarks shape (132, 3) for video MVI_5279.MOV\n"
     ]
    },
    {
     "name": "stderr",
     "output_type": "stream",
     "text": [
      "Processing videos in 81. wide:  81%|████████  | 17/21 [01:50<00:26,  6.61s/it]"
     ]
    },
    {
     "name": "stdout",
     "output_type": "stream",
     "text": [
      "Warning: Unexpected landmarks shape (132, 3) for video MVI_9312.MOV\n"
     ]
    },
    {
     "name": "stderr",
     "output_type": "stream",
     "text": [
      "Processing videos in 81. wide:  95%|█████████▌| 20/21 [02:10<00:06,  6.40s/it]"
     ]
    },
    {
     "name": "stdout",
     "output_type": "stream",
     "text": [
      "Warning: Unexpected landmarks shape (132, 3) for video MVI_5119.MOV\n"
     ]
    },
    {
     "name": "stderr",
     "output_type": "stream",
     "text": [
      "Processing videos in 81. wide: 100%|██████████| 21/21 [02:18<00:00,  6.58s/it]\n",
      "Processing videos in 78. long:  10%|▉         | 2/21 [00:14<02:21,  7.46s/it]"
     ]
    },
    {
     "name": "stdout",
     "output_type": "stream",
     "text": [
      "Warning: Unexpected landmarks shape (132, 3) for video MVI_9377.MOV\n"
     ]
    },
    {
     "name": "stderr",
     "output_type": "stream",
     "text": [
      "Processing videos in 78. long:  67%|██████▋   | 14/21 [01:33<00:44,  6.32s/it]"
     ]
    },
    {
     "name": "stdout",
     "output_type": "stream",
     "text": [
      "Warning: Unexpected landmarks shape (132, 3) for video MVI_5187.MOV\n"
     ]
    },
    {
     "name": "stderr",
     "output_type": "stream",
     "text": [
      "Processing videos in 78. long:  76%|███████▌  | 16/21 [01:47<00:32,  6.48s/it]"
     ]
    },
    {
     "name": "stdout",
     "output_type": "stream",
     "text": [
      "Warning: Unexpected landmarks shape (132, 3) for video MVI_9460.MOV\n"
     ]
    },
    {
     "name": "stderr",
     "output_type": "stream",
     "text": [
      "Processing videos in 78. long:  81%|████████  | 17/21 [01:53<00:25,  6.36s/it]"
     ]
    },
    {
     "name": "stdout",
     "output_type": "stream",
     "text": [
      "Warning: Unexpected landmarks shape (132, 3) for video MVI_9458.MOV\n"
     ]
    },
    {
     "name": "stderr",
     "output_type": "stream",
     "text": [
      "Processing videos in 78. long: 100%|██████████| 21/21 [02:20<00:00,  6.71s/it]\n",
      "Processing videos in 36. light:  50%|█████     | 4/8 [00:28<00:27,  6.90s/it]"
     ]
    },
    {
     "name": "stdout",
     "output_type": "stream",
     "text": [
      "Warning: Unexpected landmarks shape (132, 3) for video MVI_9837.MOV\n"
     ]
    },
    {
     "name": "stderr",
     "output_type": "stream",
     "text": [
      "Processing videos in 36. light:  75%|███████▌  | 6/8 [00:42<00:14,  7.09s/it]"
     ]
    },
    {
     "name": "stdout",
     "output_type": "stream",
     "text": [
      "Warning: Unexpected landmarks shape (132, 3) for video MVI_9714.MOV\n",
      "Warning: Unexpected landmarks shape (132, 3) for video MVI_9714.MOV\n"
     ]
    },
    {
     "name": "stderr",
     "output_type": "stream",
     "text": [
      "Processing videos in 36. light: 100%|██████████| 8/8 [00:57<00:00,  7.20s/it]\n",
      "Processing videos in 79. short:   5%|▍         | 1/21 [00:05<01:41,  5.09s/it]"
     ]
    },
    {
     "name": "stdout",
     "output_type": "stream",
     "text": [
      "Warning: Unexpected landmarks shape (132, 3) for video MVI_5110.MOV\n"
     ]
    },
    {
     "name": "stderr",
     "output_type": "stream",
     "text": [
      "Processing videos in 79. short:  10%|▉         | 2/21 [00:12<01:59,  6.30s/it]"
     ]
    },
    {
     "name": "stdout",
     "output_type": "stream",
     "text": [
      "Warning: Unexpected landmarks shape (132, 3) for video MVI_9462.MOV\n"
     ]
    },
    {
     "name": "stderr",
     "output_type": "stream",
     "text": [
      "Processing videos in 79. short:  24%|██▍       | 5/21 [00:29<01:34,  5.89s/it]"
     ]
    },
    {
     "name": "stdout",
     "output_type": "stream",
     "text": [
      "Warning: Unexpected landmarks shape (132, 3) for video MVI_9380.MOV\n"
     ]
    },
    {
     "name": "stderr",
     "output_type": "stream",
     "text": [
      "Processing videos in 79. short:  29%|██▊       | 6/21 [00:36<01:30,  6.00s/it]"
     ]
    },
    {
     "name": "stdout",
     "output_type": "stream",
     "text": [
      "Warning: Unexpected landmarks shape (132, 3) for video MVI_5191.MOV\n"
     ]
    },
    {
     "name": "stderr",
     "output_type": "stream",
     "text": [
      "Processing videos in 79. short:  52%|█████▏    | 11/21 [01:06<00:59,  5.99s/it]"
     ]
    },
    {
     "name": "stdout",
     "output_type": "stream",
     "text": [
      "Warning: Unexpected landmarks shape (132, 3) for video MVI_5111.MOV\n"
     ]
    },
    {
     "name": "stderr",
     "output_type": "stream",
     "text": [
      "Processing videos in 79. short:  71%|███████▏  | 15/21 [01:31<00:36,  6.16s/it]"
     ]
    },
    {
     "name": "stdout",
     "output_type": "stream",
     "text": [
      "Warning: Unexpected landmarks shape (132, 3) for video MVI_5190.MOV\n"
     ]
    },
    {
     "name": "stderr",
     "output_type": "stream",
     "text": [
      "Processing videos in 79. short:  76%|███████▌  | 16/21 [01:37<00:30,  6.16s/it]"
     ]
    },
    {
     "name": "stdout",
     "output_type": "stream",
     "text": [
      "Warning: Unexpected landmarks shape (132, 3) for video MVI_5270.MOV\n"
     ]
    },
    {
     "name": "stderr",
     "output_type": "stream",
     "text": [
      "Processing videos in 79. short:  86%|████████▌ | 18/21 [01:49<00:18,  6.01s/it]"
     ]
    },
    {
     "name": "stdout",
     "output_type": "stream",
     "text": [
      "Warning: Unexpected landmarks shape (132, 3) for video MVI_5112.MOV\n"
     ]
    },
    {
     "name": "stderr",
     "output_type": "stream",
     "text": [
      "Processing videos in 79. short:  95%|█████████▌| 20/21 [02:03<00:06,  6.36s/it]"
     ]
    },
    {
     "name": "stdout",
     "output_type": "stream",
     "text": [
      "Warning: Unexpected landmarks shape (132, 3) for video MVI_9463.MOV\n"
     ]
    },
    {
     "name": "stderr",
     "output_type": "stream",
     "text": [
      "Processing videos in 79. short: 100%|██████████| 21/21 [02:09<00:00,  6.17s/it]\n",
      "Processing videos in 3. Medicine:  14%|█▍        | 1/7 [00:07<00:43,  7.27s/it]"
     ]
    },
    {
     "name": "stdout",
     "output_type": "stream",
     "text": [
      "Warning: Unexpected landmarks shape (132, 3) for video MVI_4262.MOV\n"
     ]
    },
    {
     "name": "stderr",
     "output_type": "stream",
     "text": [
      "Processing videos in 3. Medicine:  86%|████████▌ | 6/7 [00:45<00:07,  7.61s/it]"
     ]
    },
    {
     "name": "stdout",
     "output_type": "stream",
     "text": [
      "Warning: Unexpected landmarks shape (132, 3) for video MVI_4803.MOV\n"
     ]
    },
    {
     "name": "stderr",
     "output_type": "stream",
     "text": [
      "Processing videos in 3. Medicine: 100%|██████████| 7/7 [00:53<00:00,  7.63s/it]\n",
      "Processing videos in 4. Money: 100%|██████████| 7/7 [00:41<00:00,  5.86s/it]\n",
      "Processing videos in 6. Marriage: 100%|██████████| 7/7 [00:46<00:00,  6.58s/it]\n",
      "Processing videos in 2. Death:  86%|████████▌ | 6/7 [00:49<00:08,  8.15s/it]"
     ]
    },
    {
     "name": "stdout",
     "output_type": "stream",
     "text": [
      "Warning: Unexpected landmarks shape (132, 3) for video MVI_4256.MOV\n"
     ]
    },
    {
     "name": "stderr",
     "output_type": "stream",
     "text": [
      "Processing videos in 2. Death: 100%|██████████| 7/7 [00:56<00:00,  8.10s/it]\n",
      "Processing videos in 7. Team:   0%|          | 0/7 [00:00<?, ?it/s]"
     ]
    },
    {
     "name": "stdout",
     "output_type": "stream",
     "text": [
      "Warning: Unexpected landmarks shape (132, 3) for video MVI_4277.MOV\n"
     ]
    },
    {
     "name": "stderr",
     "output_type": "stream",
     "text": [
      "Processing videos in 7. Team:  29%|██▊       | 2/7 [00:12<00:32,  6.46s/it]"
     ]
    },
    {
     "name": "stdout",
     "output_type": "stream",
     "text": [
      "Warning: Unexpected landmarks shape (132, 3) for video MVI_4275.MOV\n"
     ]
    },
    {
     "name": "stderr",
     "output_type": "stream",
     "text": [
      "Processing videos in 7. Team:  71%|███████▏  | 5/7 [00:32<00:12,  6.39s/it]"
     ]
    },
    {
     "name": "stdout",
     "output_type": "stream",
     "text": [
      "Warning: Unexpected landmarks shape (132, 3) for video MVI_4278.MOV\n"
     ]
    },
    {
     "name": "stderr",
     "output_type": "stream",
     "text": [
      "Processing videos in 7. Team: 100%|██████████| 7/7 [00:42<00:00,  6.08s/it]\n",
      "Processing videos in 5. Bill:  14%|█▍        | 1/7 [00:07<00:42,  7.12s/it]"
     ]
    },
    {
     "name": "stdout",
     "output_type": "stream",
     "text": [
      "Warning: Unexpected landmarks shape (132, 3) for video MVI_4270.MOV\n"
     ]
    },
    {
     "name": "stderr",
     "output_type": "stream",
     "text": [
      "Processing videos in 5. Bill:  71%|███████▏  | 5/7 [00:31<00:12,  6.18s/it]"
     ]
    },
    {
     "name": "stdout",
     "output_type": "stream",
     "text": [
      "Warning: Unexpected landmarks shape (132, 3) for video MVI_4268.MOV\n"
     ]
    },
    {
     "name": "stderr",
     "output_type": "stream",
     "text": [
      "Processing videos in 5. Bill:  86%|████████▌ | 6/7 [00:37<00:06,  6.15s/it]"
     ]
    },
    {
     "name": "stdout",
     "output_type": "stream",
     "text": [
      "Warning: Unexpected landmarks shape (132, 3) for video MVI_4269.MOV\n"
     ]
    },
    {
     "name": "stderr",
     "output_type": "stream",
     "text": [
      "Processing videos in 5. Bill: 100%|██████████| 7/7 [00:42<00:00,  6.06s/it]\n",
      "Processing videos in 8. Race (ethnicity):  14%|█▍        | 1/7 [00:06<00:41,  6.99s/it]"
     ]
    },
    {
     "name": "stdout",
     "output_type": "stream",
     "text": [
      "Warning: Unexpected landmarks shape (132, 3) for video MVI_4822.MOV\n"
     ]
    },
    {
     "name": "stderr",
     "output_type": "stream",
     "text": [
      "Processing videos in 8. Race (ethnicity): 100%|██████████| 7/7 [00:47<00:00,  6.82s/it]\n",
      "Processing videos in 1. Religion:   0%|          | 0/7 [00:00<?, ?it/s]"
     ]
    },
    {
     "name": "stdout",
     "output_type": "stream",
     "text": [
      "Warning: Unexpected landmarks shape (132, 3) for video MVI_4254.MOV\n"
     ]
    },
    {
     "name": "stderr",
     "output_type": "stream",
     "text": [
      "Processing videos in 1. Religion:  14%|█▍        | 1/7 [00:13<01:23, 13.90s/it]"
     ]
    },
    {
     "name": "stdout",
     "output_type": "stream",
     "text": [
      "Warning: Unexpected landmarks shape (132, 3) for video MVI_4251.MOV\n"
     ]
    },
    {
     "name": "stderr",
     "output_type": "stream",
     "text": [
      "Processing videos in 1. Religion:  29%|██▊       | 2/7 [00:25<01:04, 12.81s/it]"
     ]
    },
    {
     "name": "stdout",
     "output_type": "stream",
     "text": [
      "Warning: Unexpected landmarks shape (132, 3) for video MVI_4799.MOV\n"
     ]
    },
    {
     "name": "stderr",
     "output_type": "stream",
     "text": [
      "Processing videos in 1. Religion:  43%|████▎     | 3/7 [00:39<00:52, 13.15s/it]"
     ]
    },
    {
     "name": "stdout",
     "output_type": "stream",
     "text": [
      "Warning: Unexpected landmarks shape (132, 3) for video MVI_4797.MOV\n"
     ]
    },
    {
     "name": "stderr",
     "output_type": "stream",
     "text": [
      "Processing videos in 1. Religion:  57%|█████▋    | 4/7 [00:52<00:38, 12.96s/it]"
     ]
    },
    {
     "name": "stdout",
     "output_type": "stream",
     "text": [
      "Warning: Unexpected landmarks shape (132, 3) for video MVI_4798.MOV\n"
     ]
    },
    {
     "name": "stderr",
     "output_type": "stream",
     "text": [
      "Processing videos in 1. Religion:  86%|████████▌ | 6/7 [01:18<00:13, 13.13s/it]"
     ]
    },
    {
     "name": "stdout",
     "output_type": "stream",
     "text": [
      "Warning: Unexpected landmarks shape (132, 3) for video MVI_4253.MOV\n",
      "Warning: Unexpected landmarks shape (132, 3) for video MVI_4253.MOV\n",
      "Warning: Unexpected landmarks shape (132, 3) for video MVI_4253.MOV\n"
     ]
    },
    {
     "name": "stderr",
     "output_type": "stream",
     "text": [
      "Processing videos in 1. Religion: 100%|██████████| 7/7 [01:31<00:00, 13.13s/it]\n"
     ]
    },
    {
     "name": "stdout",
     "output_type": "stream",
     "text": [
      "Warning: Unexpected landmarks shape (132, 3) for video MVI_4253.MOV\n"
     ]
    },
    {
     "name": "stderr",
     "output_type": "stream",
     "text": [
      "Processing videos in 25. Chair:   0%|          | 0/7 [00:00<?, ?it/s]"
     ]
    },
    {
     "name": "stdout",
     "output_type": "stream",
     "text": [
      "Warning: Unexpected landmarks shape (132, 3) for video MVI_4348.MOV\n",
      "Warning: Unexpected landmarks shape (132, 3) for video MVI_4348.MOV\n",
      "Warning: Unexpected landmarks shape (132, 3) for video MVI_4348.MOV\n"
     ]
    },
    {
     "name": "stderr",
     "output_type": "stream",
     "text": [
      "Processing videos in 25. Chair: 100%|██████████| 7/7 [00:40<00:00,  5.78s/it]\n",
      "Processing videos in 27. Dream:  57%|█████▋    | 4/7 [00:35<00:26,  8.97s/it]"
     ]
    },
    {
     "name": "stdout",
     "output_type": "stream",
     "text": [
      "Warning: Unexpected landmarks shape (132, 3) for video MVI_4357.MOV\n"
     ]
    },
    {
     "name": "stderr",
     "output_type": "stream",
     "text": [
      "Processing videos in 27. Dream: 100%|██████████| 7/7 [01:00<00:00,  8.62s/it]\n",
      "Processing videos in 26. Bed: 100%|██████████| 7/7 [00:54<00:00,  7.79s/it]\n",
      "Processing videos in 30. Bedroom:   0%|          | 0/7 [00:00<?, ?it/s]"
     ]
    },
    {
     "name": "stdout",
     "output_type": "stream",
     "text": [
      "Warning: Unexpected landmarks shape (132, 3) for video MVI_4370.MOV\n"
     ]
    },
    {
     "name": "stderr",
     "output_type": "stream",
     "text": [
      "Processing videos in 30. Bedroom:  29%|██▊       | 2/7 [00:17<00:44,  8.92s/it]"
     ]
    },
    {
     "name": "stdout",
     "output_type": "stream",
     "text": [
      "Warning: Unexpected landmarks shape (132, 3) for video MVI_4373.MOV\n"
     ]
    },
    {
     "name": "stderr",
     "output_type": "stream",
     "text": [
      "Processing videos in 30. Bedroom: 100%|██████████| 7/7 [01:04<00:00,  9.21s/it]\n",
      "Processing videos in 28. Window:  14%|█▍        | 1/7 [00:07<00:46,  7.73s/it]"
     ]
    },
    {
     "name": "stdout",
     "output_type": "stream",
     "text": [
      "Warning: Unexpected landmarks shape (132, 3) for video MVI_4364.MOV\n"
     ]
    },
    {
     "name": "stderr",
     "output_type": "stream",
     "text": [
      "Processing videos in 28. Window:  29%|██▊       | 2/7 [00:17<00:45,  9.17s/it]"
     ]
    },
    {
     "name": "stdout",
     "output_type": "stream",
     "text": [
      "Warning: Unexpected landmarks shape (132, 3) for video MVI_4362.MOV\n",
      "Warning: Unexpected landmarks shape (132, 3) for video MVI_4362.MOV\n"
     ]
    },
    {
     "name": "stderr",
     "output_type": "stream",
     "text": [
      "Processing videos in 28. Window:  57%|█████▋    | 4/7 [00:36<00:27,  9.03s/it]"
     ]
    },
    {
     "name": "stdout",
     "output_type": "stream",
     "text": [
      "Warning: Unexpected landmarks shape (132, 3) for video MVI_4363.MOV\n"
     ]
    },
    {
     "name": "stderr",
     "output_type": "stream",
     "text": [
      "Processing videos in 28. Window:  71%|███████▏  | 5/7 [00:44<00:17,  8.78s/it]"
     ]
    },
    {
     "name": "stdout",
     "output_type": "stream",
     "text": [
      "Warning: Unexpected landmarks shape (132, 3) for video MVI_4883.MOV\n",
      "Warning: Unexpected landmarks shape (132, 3) for video MVI_4883.MOV\n",
      "Warning: Unexpected landmarks shape (132, 3) for video MVI_4883.MOV\n",
      "Warning: Unexpected landmarks shape (132, 3) for video MVI_4883.MOV\n"
     ]
    },
    {
     "name": "stderr",
     "output_type": "stream",
     "text": [
      "Processing videos in 28. Window:  86%|████████▌ | 6/7 [00:51<00:08,  8.30s/it]"
     ]
    },
    {
     "name": "stdout",
     "output_type": "stream",
     "text": [
      "Warning: Unexpected landmarks shape (132, 3) for video MVI_4365.MOV\n"
     ]
    },
    {
     "name": "stderr",
     "output_type": "stream",
     "text": [
      "Processing videos in 28. Window: 100%|██████████| 7/7 [01:01<00:00,  8.76s/it]\n",
      "Processing videos in 29. Door: 100%|██████████| 7/7 [00:40<00:00,  5.76s/it]\n",
      "Processing videos in 24. Table:  14%|█▍        | 1/7 [00:06<00:38,  6.48s/it]"
     ]
    },
    {
     "name": "stdout",
     "output_type": "stream",
     "text": [
      "Warning: Unexpected landmarks shape (132, 3) for video MVI_4869.MOV\n"
     ]
    },
    {
     "name": "stderr",
     "output_type": "stream",
     "text": [
      "Processing videos in 24. Table:  43%|████▎     | 3/7 [00:17<00:23,  5.92s/it]"
     ]
    },
    {
     "name": "stdout",
     "output_type": "stream",
     "text": [
      "Warning: Unexpected landmarks shape (132, 3) for video MVI_4346.MOV\n",
      "Warning: Unexpected landmarks shape (132, 3) for video MVI_4346.MOV\n"
     ]
    },
    {
     "name": "stderr",
     "output_type": "stream",
     "text": [
      "Processing videos in 24. Table:  71%|███████▏  | 5/7 [00:29<00:11,  5.77s/it]"
     ]
    },
    {
     "name": "stdout",
     "output_type": "stream",
     "text": [
      "Warning: Unexpected landmarks shape (132, 3) for video MVI_4870.MOV\n"
     ]
    },
    {
     "name": "stderr",
     "output_type": "stream",
     "text": [
      "Processing videos in 24. Table:  86%|████████▌ | 6/7 [00:35<00:05,  5.94s/it]"
     ]
    },
    {
     "name": "stdout",
     "output_type": "stream",
     "text": [
      "Warning: Unexpected landmarks shape (132, 3) for video MVI_4347.MOV\n",
      "Warning: Unexpected landmarks shape (132, 3) for video MVI_4347.MOV\n"
     ]
    },
    {
     "name": "stderr",
     "output_type": "stream",
     "text": [
      "Processing videos in 24. Table: 100%|██████████| 7/7 [00:41<00:00,  5.86s/it]\n",
      "Processing videos in 41. you:  67%|██████▋   | 14/21 [01:35<00:54,  7.77s/it]"
     ]
    },
    {
     "name": "stdout",
     "output_type": "stream",
     "text": [
      "Warning: Unexpected landmarks shape (132, 3) for video MVI_0015.MOV\n"
     ]
    },
    {
     "name": "stderr",
     "output_type": "stream",
     "text": [
      "Processing videos in 41. you: 100%|██████████| 21/21 [02:24<00:00,  6.89s/it]\n",
      "Processing videos in 43. she: 100%|██████████| 21/21 [02:37<00:00,  7.51s/it]\n",
      "Processing videos in 40. I:  14%|█▍        | 3/21 [00:22<02:25,  8.08s/it]"
     ]
    },
    {
     "name": "stdout",
     "output_type": "stream",
     "text": [
      "Warning: Unexpected landmarks shape (132, 3) for video MVI_0065.MOV\n"
     ]
    },
    {
     "name": "stderr",
     "output_type": "stream",
     "text": [
      "Processing videos in 40. I: 100%|██████████| 21/21 [02:29<00:00,  7.10s/it]\n",
      "Processing videos in 44. it: 100%|██████████| 21/21 [02:18<00:00,  6.58s/it]\n",
      "Processing videos in 42. he:  57%|█████▋    | 12/21 [01:23<00:57,  6.37s/it]"
     ]
    },
    {
     "name": "stdout",
     "output_type": "stream",
     "text": [
      "Warning: Unexpected landmarks shape (132, 3) for video MVI_0007.MOV\n"
     ]
    },
    {
     "name": "stderr",
     "output_type": "stream",
     "text": [
      "Processing videos in 42. he:  76%|███████▌  | 16/21 [01:57<00:40,  8.15s/it]"
     ]
    },
    {
     "name": "stdout",
     "output_type": "stream",
     "text": [
      "Warning: Unexpected landmarks shape (132, 3) for video MVI_0071.MOV\n"
     ]
    },
    {
     "name": "stderr",
     "output_type": "stream",
     "text": [
      "Processing videos in 42. he: 100%|██████████| 21/21 [02:38<00:00,  7.53s/it]\n",
      "Processing videos in 21. tight:  38%|███▊      | 3/8 [00:23<00:40,  8.01s/it]"
     ]
    },
    {
     "name": "stdout",
     "output_type": "stream",
     "text": [
      "Warning: Unexpected landmarks shape (132, 3) for video MVI_9771.MOV\n"
     ]
    },
    {
     "name": "stderr",
     "output_type": "stream",
     "text": [
      "Processing videos in 21. tight: 100%|██████████| 8/8 [00:58<00:00,  7.31s/it]\n",
      "Processing videos in 11. rich:  38%|███▊      | 3/8 [00:19<00:32,  6.44s/it]"
     ]
    },
    {
     "name": "stdout",
     "output_type": "stream",
     "text": [
      "Warning: Unexpected landmarks shape (132, 3) for video MVI_9735.MOV\n"
     ]
    },
    {
     "name": "stderr",
     "output_type": "stream",
     "text": [
      "Processing videos in 11. rich:  50%|█████     | 4/8 [00:26<00:26,  6.58s/it]"
     ]
    },
    {
     "name": "stdout",
     "output_type": "stream",
     "text": [
      "Warning: Unexpected landmarks shape (132, 3) for video MVI_9736.MOV\n"
     ]
    },
    {
     "name": "stderr",
     "output_type": "stream",
     "text": [
      "Processing videos in 11. rich: 100%|██████████| 8/8 [00:55<00:00,  6.99s/it]\n",
      "Processing videos in 20. female: 100%|██████████| 8/8 [00:47<00:00,  5.88s/it]\n",
      "Processing videos in 15. expensive: 100%|██████████| 8/8 [01:00<00:00,  7.57s/it]\n",
      "Processing videos in 19. male: 100%|██████████| 8/8 [00:56<00:00,  7.05s/it]\n",
      "Processing videos in 13. thick: 100%|██████████| 8/8 [01:02<00:00,  7.78s/it]\n",
      "Processing videos in 16. cheap: 100%|██████████| 8/8 [00:56<00:00,  7.07s/it]\n",
      "Processing videos in 12. poor:  38%|███▊      | 3/8 [00:21<00:36,  7.32s/it]"
     ]
    },
    {
     "name": "stdout",
     "output_type": "stream",
     "text": [
      "Warning: Unexpected landmarks shape (132, 3) for video MVI_9600.MOV\n"
     ]
    },
    {
     "name": "stderr",
     "output_type": "stream",
     "text": [
      "Processing videos in 12. poor: 100%|██████████| 8/8 [01:00<00:00,  7.55s/it]\n",
      "Processing videos in 22. loose:  38%|███▊      | 3/8 [00:24<00:40,  8.03s/it]"
     ]
    },
    {
     "name": "stdout",
     "output_type": "stream",
     "text": [
      "Warning: Unexpected landmarks shape (132, 3) for video MVI_9651.MOV\n"
     ]
    },
    {
     "name": "stderr",
     "output_type": "stream",
     "text": [
      "Processing videos in 22. loose:  75%|███████▌  | 6/8 [00:47<00:15,  7.90s/it]"
     ]
    },
    {
     "name": "stdout",
     "output_type": "stream",
     "text": [
      "Warning: Unexpected landmarks shape (132, 3) for video MVI_9776.MOV\n"
     ]
    },
    {
     "name": "stderr",
     "output_type": "stream",
     "text": [
      "Processing videos in 22. loose: 100%|██████████| 8/8 [01:04<00:00,  8.08s/it]\n",
      "Processing videos in 18. curved: 100%|██████████| 8/8 [01:07<00:00,  8.48s/it]\n",
      "Processing videos in 14. thin: 100%|██████████| 4/4 [00:30<00:00,  7.54s/it]\n",
      "Processing videos in 9. Nice: 100%|██████████| 4/4 [00:25<00:00,  6.35s/it]\n",
      "Processing videos in 10. Mean: 100%|██████████| 8/8 [00:51<00:00,  6.40s/it]\n",
      "Processing videos in 17. flat:  25%|██▌       | 2/8 [00:14<00:44,  7.41s/it]"
     ]
    },
    {
     "name": "stdout",
     "output_type": "stream",
     "text": [
      "Warning: Unexpected landmarks shape (132, 3) for video MVI_9623.MOV\n"
     ]
    },
    {
     "name": "stderr",
     "output_type": "stream",
     "text": [
      "Processing videos in 17. flat:  75%|███████▌  | 6/8 [00:47<00:15,  7.73s/it]"
     ]
    },
    {
     "name": "stdout",
     "output_type": "stream",
     "text": [
      "Warning: Unexpected landmarks shape (132, 3) for video MVI_9757.MOV\n",
      "Warning: Unexpected landmarks shape (132, 3) for video MVI_9757.MOV\n",
      "Warning: Unexpected landmarks shape (132, 3) for video MVI_9757.MOV\n",
      "Warning: Unexpected landmarks shape (132, 3) for video MVI_9757.MOV\n",
      "Warning: Unexpected landmarks shape (132, 3) for video MVI_9757.MOV\n"
     ]
    },
    {
     "name": "stderr",
     "output_type": "stream",
     "text": [
      "Processing videos in 17. flat:  88%|████████▊ | 7/8 [00:54<00:07,  7.66s/it]"
     ]
    },
    {
     "name": "stdout",
     "output_type": "stream",
     "text": [
      "Warning: Unexpected landmarks shape (132, 3) for video MVI_9758.MOV\n"
     ]
    },
    {
     "name": "stderr",
     "output_type": "stream",
     "text": [
      "Processing videos in 17. flat: 100%|██████████| 8/8 [01:01<00:00,  7.72s/it]\n",
      "Processing videos in 46. Box:  29%|██▊       | 2/7 [00:16<00:41,  8.34s/it]"
     ]
    },
    {
     "name": "stdout",
     "output_type": "stream",
     "text": [
      "Warning: Unexpected landmarks shape (132, 3) for video MVI_4440.MOV\n"
     ]
    },
    {
     "name": "stderr",
     "output_type": "stream",
     "text": [
      "Processing videos in 46. Box:  71%|███████▏  | 5/7 [00:38<00:14,  7.35s/it]"
     ]
    },
    {
     "name": "stdout",
     "output_type": "stream",
     "text": [
      "Warning: Unexpected landmarks shape (132, 3) for video MVI_4437.MOV\n"
     ]
    },
    {
     "name": "stderr",
     "output_type": "stream",
     "text": [
      "Processing videos in 46. Box: 100%|██████████| 7/7 [00:53<00:00,  7.65s/it]\n",
      "Processing videos in 47. Gift:  57%|█████▋    | 4/7 [00:23<00:17,  5.91s/it]"
     ]
    },
    {
     "name": "stdout",
     "output_type": "stream",
     "text": [
      "Warning: Unexpected landmarks shape (132, 3) for video MVI_4444.MOV\n"
     ]
    },
    {
     "name": "stderr",
     "output_type": "stream",
     "text": [
      "Processing videos in 47. Gift: 100%|██████████| 7/7 [00:42<00:00,  6.09s/it]\n",
      "Processing videos in 48. Card: 100%|██████████| 7/7 [00:49<00:00,  7.08s/it]\n",
      "Processing videos in 49. Ring:  14%|█▍        | 1/7 [00:05<00:34,  5.81s/it]"
     ]
    },
    {
     "name": "stdout",
     "output_type": "stream",
     "text": [
      "Warning: Unexpected landmarks shape (132, 3) for video MVI_4450.MOV\n"
     ]
    },
    {
     "name": "stderr",
     "output_type": "stream",
     "text": [
      "Processing videos in 49. Ring:  43%|████▎     | 3/7 [00:18<00:24,  6.16s/it]"
     ]
    },
    {
     "name": "stdout",
     "output_type": "stream",
     "text": [
      "Warning: Unexpected landmarks shape (132, 3) for video MVI_4451.MOV\n",
      "Warning: Unexpected landmarks shape (132, 3) for video MVI_4451.MOV\n"
     ]
    },
    {
     "name": "stderr",
     "output_type": "stream",
     "text": [
      "Processing videos in 49. Ring:  86%|████████▌ | 6/7 [00:37<00:06,  6.18s/it]"
     ]
    },
    {
     "name": "stdout",
     "output_type": "stream",
     "text": [
      "Warning: Unexpected landmarks shape (132, 3) for video MVI_4953.MOV\n"
     ]
    },
    {
     "name": "stderr",
     "output_type": "stream",
     "text": [
      "Processing videos in 49. Ring: 100%|██████████| 7/7 [00:43<00:00,  6.19s/it]\n",
      "Processing videos in 50. Tool:   0%|          | 0/7 [00:00<?, ?it/s]"
     ]
    },
    {
     "name": "stdout",
     "output_type": "stream",
     "text": [
      "Warning: Unexpected landmarks shape (132, 3) for video MVI_4455.MOV\n"
     ]
    },
    {
     "name": "stderr",
     "output_type": "stream",
     "text": [
      "Processing videos in 50. Tool:  29%|██▊       | 2/7 [00:16<00:40,  8.11s/it]"
     ]
    },
    {
     "name": "stdout",
     "output_type": "stream",
     "text": [
      "Warning: Unexpected landmarks shape (132, 3) for video MVI_4956.MOV\n",
      "Warning: Unexpected landmarks shape (132, 3) for video MVI_4956.MOV\n",
      "Warning: Unexpected landmarks shape (132, 3) for video MVI_4956.MOV\n",
      "Warning: Unexpected landmarks shape (132, 3) for video MVI_4956.MOV\n"
     ]
    },
    {
     "name": "stderr",
     "output_type": "stream",
     "text": [
      "Processing videos in 50. Tool:  43%|████▎     | 3/7 [00:23<00:31,  7.80s/it]"
     ]
    },
    {
     "name": "stdout",
     "output_type": "stream",
     "text": [
      "Warning: Unexpected landmarks shape (132, 3) for video MVI_4453.MOV\n"
     ]
    },
    {
     "name": "stderr",
     "output_type": "stream",
     "text": [
      "Processing videos in 50. Tool:  71%|███████▏  | 5/7 [00:39<00:15,  7.89s/it]"
     ]
    },
    {
     "name": "stdout",
     "output_type": "stream",
     "text": [
      "Warning: Unexpected landmarks shape (132, 3) for video MVI_4456.MOV\n"
     ]
    },
    {
     "name": "stderr",
     "output_type": "stream",
     "text": [
      "Processing videos in 50. Tool: 100%|██████████| 7/7 [00:53<00:00,  7.69s/it]\n",
      "Processing videos in 18. Exercise:   0%|          | 0/7 [00:00<?, ?it/s]"
     ]
    },
    {
     "name": "stdout",
     "output_type": "stream",
     "text": [
      "Warning: Unexpected landmarks shape (132, 3) for video MVI_4321.MOV\n",
      "Warning: Unexpected landmarks shape (132, 3) for video MVI_4321.MOV\n"
     ]
    },
    {
     "name": "stderr",
     "output_type": "stream",
     "text": [
      "Processing videos in 18. Exercise:  14%|█▍        | 1/7 [00:06<00:41,  6.95s/it]"
     ]
    },
    {
     "name": "stdout",
     "output_type": "stream",
     "text": [
      "Warning: Unexpected landmarks shape (132, 3) for video MVI_4323.MOV\n",
      "Warning: Unexpected landmarks shape (132, 3) for video MVI_4323.MOV\n"
     ]
    },
    {
     "name": "stderr",
     "output_type": "stream",
     "text": [
      "Processing videos in 18. Exercise:  29%|██▊       | 2/7 [00:14<00:35,  7.10s/it]"
     ]
    },
    {
     "name": "stdout",
     "output_type": "stream",
     "text": [
      "Warning: Unexpected landmarks shape (132, 3) for video MVI_4320.MOV\n"
     ]
    },
    {
     "name": "stderr",
     "output_type": "stream",
     "text": [
      "Processing videos in 18. Exercise:  43%|████▎     | 3/7 [00:20<00:27,  6.80s/it]"
     ]
    },
    {
     "name": "stdout",
     "output_type": "stream",
     "text": [
      "Warning: Unexpected landmarks shape (132, 3) for video MVI_4322.MOV\n",
      "Warning: Unexpected landmarks shape (132, 3) for video MVI_4322.MOV\n"
     ]
    },
    {
     "name": "stderr",
     "output_type": "stream",
     "text": [
      "Processing videos in 18. Exercise:  57%|█████▋    | 4/7 [00:28<00:21,  7.19s/it]"
     ]
    },
    {
     "name": "stdout",
     "output_type": "stream",
     "text": [
      "Warning: Unexpected landmarks shape (132, 3) for video MVI_4852.MOV\n"
     ]
    },
    {
     "name": "stderr",
     "output_type": "stream",
     "text": [
      "Processing videos in 18. Exercise:  71%|███████▏  | 5/7 [00:34<00:13,  6.87s/it]"
     ]
    },
    {
     "name": "stdout",
     "output_type": "stream",
     "text": [
      "Warning: Unexpected landmarks shape (132, 3) for video MVI_4853.MOV\n"
     ]
    },
    {
     "name": "stderr",
     "output_type": "stream",
     "text": [
      "Processing videos in 18. Exercise: 100%|██████████| 7/7 [00:47<00:00,  6.78s/it]\n",
      "Processing videos in 19. Ball: 100%|██████████| 7/7 [00:36<00:00,  5.27s/it]\n",
      "Processing videos in 23. God:  29%|██▊       | 2/7 [00:14<00:37,  7.48s/it]"
     ]
    },
    {
     "name": "stdout",
     "output_type": "stream",
     "text": [
      "Warning: Unexpected landmarks shape (132, 3) for video MVI_4340.MOV\n"
     ]
    },
    {
     "name": "stderr",
     "output_type": "stream",
     "text": [
      "Processing videos in 23. God:  43%|████▎     | 3/7 [00:22<00:29,  7.39s/it]"
     ]
    },
    {
     "name": "stdout",
     "output_type": "stream",
     "text": [
      "Warning: Unexpected landmarks shape (132, 3) for video MVI_4342.MOV\n"
     ]
    },
    {
     "name": "stderr",
     "output_type": "stream",
     "text": [
      "Processing videos in 23. God: 100%|██████████| 7/7 [00:47<00:00,  6.82s/it]\n",
      "Processing videos in 22. Science:   0%|          | 0/7 [00:00<?, ?it/s]"
     ]
    },
    {
     "name": "stdout",
     "output_type": "stream",
     "text": [
      "Warning: Unexpected landmarks shape (132, 3) for video MVI_4338.MOV\n"
     ]
    },
    {
     "name": "stderr",
     "output_type": "stream",
     "text": [
      "Processing videos in 22. Science:  14%|█▍        | 1/7 [00:06<00:36,  6.12s/it]"
     ]
    },
    {
     "name": "stdout",
     "output_type": "stream",
     "text": [
      "Warning: Unexpected landmarks shape (132, 3) for video MVI_4338.MOV\n"
     ]
    },
    {
     "name": "stderr",
     "output_type": "stream",
     "text": [
      "Processing videos in 22. Science:  29%|██▊       | 2/7 [00:13<00:34,  6.91s/it]"
     ]
    },
    {
     "name": "stdout",
     "output_type": "stream",
     "text": [
      "Warning: Unexpected landmarks shape (132, 3) for video MVI_4336.MOV\n"
     ]
    },
    {
     "name": "stderr",
     "output_type": "stream",
     "text": [
      "Processing videos in 22. Science:  43%|████▎     | 3/7 [00:19<00:25,  6.35s/it]"
     ]
    },
    {
     "name": "stdout",
     "output_type": "stream",
     "text": [
      "Warning: Unexpected landmarks shape (132, 3) for video MVI_4337.MOV\n"
     ]
    },
    {
     "name": "stderr",
     "output_type": "stream",
     "text": [
      "Processing videos in 22. Science:  57%|█████▋    | 4/7 [00:25<00:19,  6.35s/it]"
     ]
    },
    {
     "name": "stdout",
     "output_type": "stream",
     "text": [
      "Warning: Unexpected landmarks shape (132, 3) for video MVI_4865.MOV\n",
      "Warning: Unexpected landmarks shape (132, 3) for video MVI_4865.MOV\n"
     ]
    },
    {
     "name": "stderr",
     "output_type": "stream",
     "text": [
      "Processing videos in 22. Science: 100%|██████████| 7/7 [00:46<00:00,  6.59s/it]\n",
      "Processing videos in 21. Sign: 100%|██████████| 7/7 [00:40<00:00,  5.76s/it]\n",
      "Processing videos in 20. Price:   0%|          | 0/7 [00:00<?, ?it/s]"
     ]
    },
    {
     "name": "stdout",
     "output_type": "stream",
     "text": [
      "Warning: Unexpected landmarks shape (132, 3) for video MVI_4330.MOV\n"
     ]
    },
    {
     "name": "stderr",
     "output_type": "stream",
     "text": [
      "Processing videos in 20. Price:  71%|███████▏  | 5/7 [00:32<00:13,  6.59s/it]"
     ]
    },
    {
     "name": "stdout",
     "output_type": "stream",
     "text": [
      "Warning: Unexpected landmarks shape (132, 3) for video MVI_4329.MOV\n"
     ]
    },
    {
     "name": "stderr",
     "output_type": "stream",
     "text": [
      "Processing videos in 20. Price: 100%|██████████| 7/7 [00:46<00:00,  6.60s/it]\n",
      "Processing videos in 17. Sport:   0%|          | 0/7 [00:00<?, ?it/s]"
     ]
    },
    {
     "name": "stdout",
     "output_type": "stream",
     "text": [
      "Warning: Unexpected landmarks shape (132, 3) for video MVI_4316.MOV\n"
     ]
    },
    {
     "name": "stderr",
     "output_type": "stream",
     "text": [
      "Processing videos in 17. Sport:  14%|█▍        | 1/7 [00:06<00:38,  6.49s/it]"
     ]
    },
    {
     "name": "stdout",
     "output_type": "stream",
     "text": [
      "Warning: Unexpected landmarks shape (132, 3) for video MVI_4849.MOV\n"
     ]
    },
    {
     "name": "stderr",
     "output_type": "stream",
     "text": [
      "Processing videos in 17. Sport:  43%|████▎     | 3/7 [00:20<00:27,  6.86s/it]"
     ]
    },
    {
     "name": "stdout",
     "output_type": "stream",
     "text": [
      "Warning: Unexpected landmarks shape (132, 3) for video MVI_4317.MOV\n",
      "Warning: Unexpected landmarks shape (132, 3) for video MVI_4317.MOV\n"
     ]
    },
    {
     "name": "stderr",
     "output_type": "stream",
     "text": [
      "Processing videos in 17. Sport:  57%|█████▋    | 4/7 [00:28<00:21,  7.20s/it]"
     ]
    },
    {
     "name": "stdout",
     "output_type": "stream",
     "text": [
      "Warning: Unexpected landmarks shape (132, 3) for video MVI_4318.MOV\n",
      "Warning: Unexpected landmarks shape (132, 3) for video MVI_4318.MOV\n"
     ]
    },
    {
     "name": "stderr",
     "output_type": "stream",
     "text": [
      "Processing videos in 17. Sport:  86%|████████▌ | 6/7 [00:43<00:07,  7.53s/it]"
     ]
    },
    {
     "name": "stdout",
     "output_type": "stream",
     "text": [
      "Warning: Unexpected landmarks shape (132, 3) for video MVI_4319.MOV\n"
     ]
    },
    {
     "name": "stderr",
     "output_type": "stream",
     "text": [
      "Processing videos in 17. Sport: 100%|██████████| 7/7 [00:51<00:00,  7.35s/it]\n",
      "Processing videos in 86. fast: 100%|██████████| 21/21 [02:14<00:00,  6.40s/it]\n",
      "Processing videos in 82. narrow:   0%|          | 0/21 [00:00<?, ?it/s]"
     ]
    },
    {
     "name": "stdout",
     "output_type": "stream",
     "text": [
      "Warning: Unexpected landmarks shape (132, 3) for video MVI_9393.MOV\n"
     ]
    },
    {
     "name": "stderr",
     "output_type": "stream",
     "text": [
      "Processing videos in 82. narrow:  10%|▉         | 2/21 [00:11<01:51,  5.85s/it]"
     ]
    },
    {
     "name": "stdout",
     "output_type": "stream",
     "text": [
      "Warning: Unexpected landmarks shape (132, 3) for video MVI_9472.MOV\n"
     ]
    },
    {
     "name": "stderr",
     "output_type": "stream",
     "text": [
      "Processing videos in 82. narrow:  19%|█▉        | 4/21 [00:27<02:04,  7.34s/it]"
     ]
    },
    {
     "name": "stdout",
     "output_type": "stream",
     "text": [
      "Warning: Unexpected landmarks shape (132, 3) for video MVI_5121.MOV\n"
     ]
    },
    {
     "name": "stderr",
     "output_type": "stream",
     "text": [
      "Processing videos in 82. narrow:  29%|██▊       | 6/21 [00:41<01:47,  7.16s/it]"
     ]
    },
    {
     "name": "stdout",
     "output_type": "stream",
     "text": [
      "Warning: Unexpected landmarks shape (132, 3) for video MVI_9232.MOV\n"
     ]
    },
    {
     "name": "stderr",
     "output_type": "stream",
     "text": [
      "Processing videos in 82. narrow:  38%|███▊      | 8/21 [00:56<01:35,  7.36s/it]"
     ]
    },
    {
     "name": "stdout",
     "output_type": "stream",
     "text": [
      "Warning: Unexpected landmarks shape (132, 3) for video MVI_9392.MOV\n"
     ]
    },
    {
     "name": "stderr",
     "output_type": "stream",
     "text": [
      "Processing videos in 82. narrow:  43%|████▎     | 9/21 [01:02<01:24,  7.05s/it]"
     ]
    },
    {
     "name": "stdout",
     "output_type": "stream",
     "text": [
      "Warning: Unexpected landmarks shape (132, 3) for video MVI_5122.MOV\n"
     ]
    },
    {
     "name": "stderr",
     "output_type": "stream",
     "text": [
      "Processing videos in 82. narrow:  48%|████▊     | 10/21 [01:09<01:16,  6.99s/it]"
     ]
    },
    {
     "name": "stdout",
     "output_type": "stream",
     "text": [
      "Warning: Unexpected landmarks shape (132, 3) for video MVI_5280.MOV\n"
     ]
    },
    {
     "name": "stderr",
     "output_type": "stream",
     "text": [
      "Processing videos in 82. narrow:  86%|████████▌ | 18/21 [02:08<00:21,  7.11s/it]"
     ]
    },
    {
     "name": "stdout",
     "output_type": "stream",
     "text": [
      "Warning: Unexpected landmarks shape (132, 3) for video MVI_9474.MOV\n"
     ]
    },
    {
     "name": "stderr",
     "output_type": "stream",
     "text": [
      "Processing videos in 82. narrow: 100%|██████████| 21/21 [02:27<00:00,  7.01s/it]\n",
      "Processing videos in 85. slow:   5%|▍         | 1/21 [00:05<01:54,  5.72s/it]"
     ]
    },
    {
     "name": "stdout",
     "output_type": "stream",
     "text": [
      "Warning: Unexpected landmarks shape (132, 3) for video MVI_9483.MOV\n",
      "Warning: Unexpected landmarks shape (132, 3) for video MVI_9483.MOV\n"
     ]
    },
    {
     "name": "stderr",
     "output_type": "stream",
     "text": [
      "Processing videos in 85. slow:  24%|██▍       | 5/21 [00:33<01:48,  6.81s/it]"
     ]
    },
    {
     "name": "stdout",
     "output_type": "stream",
     "text": [
      "Warning: Unexpected landmarks shape (132, 3) for video MVI_9482.MOV\n"
     ]
    },
    {
     "name": "stderr",
     "output_type": "stream",
     "text": [
      "Processing videos in 85. slow:  48%|████▊     | 10/21 [01:08<01:15,  6.86s/it]"
     ]
    },
    {
     "name": "stdout",
     "output_type": "stream",
     "text": [
      "Warning: Unexpected landmarks shape (132, 3) for video MVI_5131.MOV\n"
     ]
    },
    {
     "name": "stderr",
     "output_type": "stream",
     "text": [
      "Processing videos in 85. slow: 100%|██████████| 21/21 [02:31<00:00,  7.22s/it]\n",
      "Processing videos in 84. small little:   5%|▍         | 1/21 [00:07<02:23,  7.20s/it]"
     ]
    },
    {
     "name": "stdout",
     "output_type": "stream",
     "text": [
      "Warning: Unexpected landmarks shape (132, 3) for video MVI_5208.MOV\n"
     ]
    },
    {
     "name": "stderr",
     "output_type": "stream",
     "text": [
      "Processing videos in 84. small little:  19%|█▉        | 4/21 [00:28<01:57,  6.90s/it]"
     ]
    },
    {
     "name": "stdout",
     "output_type": "stream",
     "text": [
      "Warning: Unexpected landmarks shape (132, 3) for video MVI_5206.MOV\n"
     ]
    },
    {
     "name": "stderr",
     "output_type": "stream",
     "text": [
      "Processing videos in 84. small little:  24%|██▍       | 5/21 [00:34<01:45,  6.61s/it]"
     ]
    },
    {
     "name": "stdout",
     "output_type": "stream",
     "text": [
      "Warning: Unexpected landmarks shape (132, 3) for video MVI_9397.MOV\n"
     ]
    },
    {
     "name": "stderr",
     "output_type": "stream",
     "text": [
      "Processing videos in 84. small little:  38%|███▊      | 8/21 [00:52<01:19,  6.14s/it]"
     ]
    },
    {
     "name": "stdout",
     "output_type": "stream",
     "text": [
      "Warning: Unexpected landmarks shape (132, 3) for video MVI_5288.MOV\n"
     ]
    },
    {
     "name": "stderr",
     "output_type": "stream",
     "text": [
      "Processing videos in 84. small little:  48%|████▊     | 10/21 [01:02<01:03,  5.73s/it]"
     ]
    },
    {
     "name": "stdout",
     "output_type": "stream",
     "text": [
      "Warning: Unexpected landmarks shape (132, 3) for video MVI_9237.MOV\n"
     ]
    },
    {
     "name": "stderr",
     "output_type": "stream",
     "text": [
      "Processing videos in 84. small little:  57%|█████▋    | 12/21 [01:15<00:53,  5.96s/it]"
     ]
    },
    {
     "name": "stdout",
     "output_type": "stream",
     "text": [
      "Warning: Unexpected landmarks shape (132, 3) for video MVI_5207.MOV\n",
      "Warning: Unexpected landmarks shape (132, 3) for video MVI_5207.MOV\n"
     ]
    },
    {
     "name": "stderr",
     "output_type": "stream",
     "text": [
      "Processing videos in 84. small little:  71%|███████▏  | 15/21 [01:33<00:36,  6.03s/it]"
     ]
    },
    {
     "name": "stdout",
     "output_type": "stream",
     "text": [
      "Warning: Unexpected landmarks shape (132, 3) for video MVI_9478.MOV\n",
      "Warning: Unexpected landmarks shape (132, 3) for video MVI_9478.MOV\n",
      "Warning: Unexpected landmarks shape (132, 3) for video MVI_9478.MOV\n",
      "Warning: Unexpected landmarks shape (132, 3) for video MVI_9478.MOV\n",
      "Warning: Unexpected landmarks shape (132, 3) for video MVI_9478.MOV\n"
     ]
    },
    {
     "name": "stderr",
     "output_type": "stream",
     "text": [
      "Processing videos in 84. small little:  95%|█████████▌| 20/21 [02:11<00:08,  8.04s/it]"
     ]
    },
    {
     "name": "stdout",
     "output_type": "stream",
     "text": [
      "Warning: Unexpected landmarks shape (132, 3) for video MVI_5287.MOV\n"
     ]
    },
    {
     "name": "stderr",
     "output_type": "stream",
     "text": [
      "Processing videos in 84. small little: 100%|██████████| 21/21 [02:18<00:00,  6.57s/it]\n",
      "Processing videos in 83. big large:   5%|▍         | 1/21 [00:06<02:06,  6.33s/it]"
     ]
    },
    {
     "name": "stdout",
     "output_type": "stream",
     "text": [
      "Warning: Unexpected landmarks shape (132, 3) for video MVI_5125.MOV\n"
     ]
    },
    {
     "name": "stderr",
     "output_type": "stream",
     "text": [
      "Processing videos in 83. big large:  10%|▉         | 2/21 [00:14<02:20,  7.42s/it]"
     ]
    },
    {
     "name": "stdout",
     "output_type": "stream",
     "text": [
      "Warning: Unexpected landmarks shape (132, 3) for video MVI_5205.MOV\n"
     ]
    },
    {
     "name": "stderr",
     "output_type": "stream",
     "text": [
      "Processing videos in 83. big large:  24%|██▍       | 5/21 [00:35<01:50,  6.89s/it]"
     ]
    },
    {
     "name": "stdout",
     "output_type": "stream",
     "text": [
      "Warning: Unexpected landmarks shape (132, 3) for video MVI_9395.MOV\n"
     ]
    },
    {
     "name": "stderr",
     "output_type": "stream",
     "text": [
      "Processing videos in 83. big large:  90%|█████████ | 19/21 [02:05<00:13,  6.52s/it]"
     ]
    },
    {
     "name": "stdout",
     "output_type": "stream",
     "text": [
      "Warning: Unexpected landmarks shape (132, 3) for video MVI_9234.MOV\n"
     ]
    },
    {
     "name": "stderr",
     "output_type": "stream",
     "text": [
      "Processing videos in 83. big large: 100%|██████████| 21/21 [02:19<00:00,  6.65s/it]\n",
      "Processing videos in 34. Ground:  10%|█         | 2/20 [00:14<02:06,  7.03s/it]"
     ]
    },
    {
     "name": "stdout",
     "output_type": "stream",
     "text": [
      "Warning: Unexpected landmarks shape (132, 3) for video MVI_3578.MOV\n"
     ]
    },
    {
     "name": "stderr",
     "output_type": "stream",
     "text": [
      "Processing videos in 34. Ground:  75%|███████▌  | 15/20 [01:40<00:35,  7.03s/it]"
     ]
    },
    {
     "name": "stdout",
     "output_type": "stream",
     "text": [
      "Warning: Unexpected landmarks shape (132, 3) for video MVI_3656.MOV\n"
     ]
    },
    {
     "name": "stderr",
     "output_type": "stream",
     "text": [
      "Processing videos in 34. Ground: 100%|██████████| 20/20 [02:15<00:00,  6.76s/it]\n",
      "Processing videos in 35. Bank:  10%|█         | 2/20 [00:13<01:58,  6.56s/it]"
     ]
    },
    {
     "name": "stdout",
     "output_type": "stream",
     "text": [
      "Warning: Unexpected landmarks shape (132, 3) for video MVI_3423.MOV\n"
     ]
    },
    {
     "name": "stderr",
     "output_type": "stream",
     "text": [
      "Processing videos in 35. Bank:  15%|█▌        | 3/20 [00:21<02:01,  7.12s/it]"
     ]
    },
    {
     "name": "stdout",
     "output_type": "stream",
     "text": [
      "Warning: Unexpected landmarks shape (132, 3) for video MVI_3501.MOV\n"
     ]
    },
    {
     "name": "stderr",
     "output_type": "stream",
     "text": [
      "Processing videos in 35. Bank:  20%|██        | 4/20 [00:26<01:39,  6.24s/it]"
     ]
    },
    {
     "name": "stdout",
     "output_type": "stream",
     "text": [
      "Warning: Unexpected landmarks shape (132, 3) for video MVI_3503.MOV\n"
     ]
    },
    {
     "name": "stderr",
     "output_type": "stream",
     "text": [
      "Processing videos in 35. Bank:  25%|██▌       | 5/20 [00:31<01:27,  5.86s/it]"
     ]
    },
    {
     "name": "stdout",
     "output_type": "stream",
     "text": [
      "Warning: Unexpected landmarks shape (132, 3) for video MVI_3502.MOV\n",
      "Warning: Unexpected landmarks shape (132, 3) for video MVI_3502.MOV\n"
     ]
    },
    {
     "name": "stderr",
     "output_type": "stream",
     "text": [
      "Processing videos in 35. Bank: 100%|██████████| 20/20 [02:06<00:00,  6.34s/it]\n",
      "Processing videos in 36. Location:   0%|          | 0/20 [00:00<?, ?it/s]"
     ]
    },
    {
     "name": "stdout",
     "output_type": "stream",
     "text": [
      "Warning: Unexpected landmarks shape (132, 3) for video MVI_3673.MOV\n"
     ]
    },
    {
     "name": "stderr",
     "output_type": "stream",
     "text": [
      "Processing videos in 36. Location:   5%|▌         | 1/20 [00:08<02:44,  8.66s/it]"
     ]
    },
    {
     "name": "stdout",
     "output_type": "stream",
     "text": [
      "Warning: Unexpected landmarks shape (132, 3) for video MVI_3669.MOV\n"
     ]
    },
    {
     "name": "stderr",
     "output_type": "stream",
     "text": [
      "Processing videos in 36. Location:  10%|█         | 2/20 [00:17<02:34,  8.60s/it]"
     ]
    },
    {
     "name": "stdout",
     "output_type": "stream",
     "text": [
      "Warning: Unexpected landmarks shape (132, 3) for video MVI_3672.MOV\n",
      "Warning: Unexpected landmarks shape (132, 3) for video MVI_3672.MOV\n"
     ]
    },
    {
     "name": "stderr",
     "output_type": "stream",
     "text": [
      "Processing videos in 36. Location:  35%|███▌      | 7/20 [00:57<01:43,  7.93s/it]"
     ]
    },
    {
     "name": "stdout",
     "output_type": "stream",
     "text": [
      "Warning: Unexpected landmarks shape (132, 3) for video MVI_3505.MOV\n",
      "Warning: Unexpected landmarks shape (132, 3) for video MVI_3505.MOV\n",
      "Warning: Unexpected landmarks shape (132, 3) for video MVI_3505.MOV\n"
     ]
    },
    {
     "name": "stderr",
     "output_type": "stream",
     "text": [
      "Processing videos in 36. Location:  40%|████      | 8/20 [01:02<01:24,  7.06s/it]"
     ]
    },
    {
     "name": "stdout",
     "output_type": "stream",
     "text": [
      "Warning: Unexpected landmarks shape (132, 3) for video MVI_3505.MOV\n"
     ]
    },
    {
     "name": "stderr",
     "output_type": "stream",
     "text": [
      "Processing videos in 36. Location:  50%|█████     | 10/20 [01:15<01:08,  6.82s/it]"
     ]
    },
    {
     "name": "stdout",
     "output_type": "stream",
     "text": [
      "Warning: Unexpected landmarks shape (132, 3) for video MVI_3507.MOV\n",
      "Warning: Unexpected landmarks shape (132, 3) for video MVI_3507.MOV\n"
     ]
    },
    {
     "name": "stderr",
     "output_type": "stream",
     "text": [
      "Processing videos in 36. Location:  80%|████████  | 16/20 [01:55<00:27,  6.87s/it]"
     ]
    },
    {
     "name": "stdout",
     "output_type": "stream",
     "text": [
      "Warning: Unexpected landmarks shape (132, 3) for video MVI_3506.MOV\n"
     ]
    },
    {
     "name": "stderr",
     "output_type": "stream",
     "text": [
      "Processing videos in 36. Location:  95%|█████████▌| 19/20 [02:12<00:05,  5.92s/it]"
     ]
    },
    {
     "name": "stdout",
     "output_type": "stream",
     "text": [
      "Warning: Unexpected landmarks shape (132, 3) for video MVI_3504.MOV\n",
      "Warning: Unexpected landmarks shape (132, 3) for video MVI_3504.MOV\n"
     ]
    },
    {
     "name": "stderr",
     "output_type": "stream",
     "text": [
      "Processing videos in 36. Location: 100%|██████████| 20/20 [02:17<00:00,  6.90s/it]\n",
      "Processing videos in 33. India: 100%|██████████| 20/20 [02:03<00:00,  6.18s/it]\n",
      "Processing videos in 47. they:  19%|█▉        | 4/21 [00:29<01:56,  6.87s/it]"
     ]
    },
    {
     "name": "stdout",
     "output_type": "stream",
     "text": [
      "Warning: Unexpected landmarks shape (132, 3) for video MVI_0025.MOV\n"
     ]
    },
    {
     "name": "stderr",
     "output_type": "stream",
     "text": [
      "Processing videos in 47. they:  90%|█████████ | 19/21 [02:32<00:17,  8.52s/it]"
     ]
    },
    {
     "name": "stdout",
     "output_type": "stream",
     "text": [
      "Warning: Unexpected landmarks shape (132, 3) for video MVI_9981.MOV\n"
     ]
    },
    {
     "name": "stderr",
     "output_type": "stream",
     "text": [
      "Processing videos in 47. they: 100%|██████████| 21/21 [02:47<00:00,  7.97s/it]\n",
      "Processing videos in 45. we:  14%|█▍        | 3/21 [00:26<02:45,  9.19s/it]"
     ]
    },
    {
     "name": "stdout",
     "output_type": "stream",
     "text": [
      "Warning: Unexpected landmarks shape (132, 3) for video MVI_9940.MOV\n",
      "Warning: Unexpected landmarks shape (132, 3) for video MVI_9940.MOV\n"
     ]
    },
    {
     "name": "stderr",
     "output_type": "stream",
     "text": [
      "Processing videos in 45. we:  38%|███▊      | 8/21 [01:05<01:38,  7.56s/it]"
     ]
    },
    {
     "name": "stdout",
     "output_type": "stream",
     "text": [
      "Warning: Unexpected landmarks shape (132, 3) for video MVI_9942.MOV\n"
     ]
    },
    {
     "name": "stderr",
     "output_type": "stream",
     "text": [
      "Processing videos in 45. we:  52%|█████▏    | 11/21 [01:30<01:20,  8.05s/it]"
     ]
    },
    {
     "name": "stdout",
     "output_type": "stream",
     "text": [
      "Warning: Unexpected landmarks shape (132, 3) for video MVI_0027.MOV\n"
     ]
    },
    {
     "name": "stderr",
     "output_type": "stream",
     "text": [
      "Processing videos in 45. we:  57%|█████▋    | 12/21 [01:36<01:07,  7.52s/it]"
     ]
    },
    {
     "name": "stdout",
     "output_type": "stream",
     "text": [
      "Warning: Unexpected landmarks shape (132, 3) for video MVI_9974.MOV\n",
      "Warning: Unexpected landmarks shape (132, 3) for video MVI_9974.MOV\n"
     ]
    },
    {
     "name": "stderr",
     "output_type": "stream",
     "text": [
      "Processing videos in 45. we:  71%|███████▏  | 15/21 [01:56<00:41,  6.89s/it]"
     ]
    },
    {
     "name": "stdout",
     "output_type": "stream",
     "text": [
      "Warning: Unexpected landmarks shape (132, 3) for video MVI_0080.MOV\n"
     ]
    },
    {
     "name": "stderr",
     "output_type": "stream",
     "text": [
      "Processing videos in 45. we:  90%|█████████ | 19/21 [02:31<00:16,  8.17s/it]"
     ]
    },
    {
     "name": "stdout",
     "output_type": "stream",
     "text": [
      "Warning: Unexpected landmarks shape (132, 3) for video MVI_9972.MOV\n"
     ]
    },
    {
     "name": "stderr",
     "output_type": "stream",
     "text": [
      "Processing videos in 45. we: 100%|██████████| 21/21 [02:48<00:00,  8.03s/it]\n",
      "Processing videos in 46. you (plural): 100%|██████████| 21/21 [02:55<00:00,  8.38s/it]\n",
      "Processing videos in 54. Good night:  71%|███████▏  | 15/21 [02:11<00:52,  8.70s/it]"
     ]
    },
    {
     "name": "stdout",
     "output_type": "stream",
     "text": [
      "Warning: Unexpected landmarks shape (132, 3) for video MVI_0003.MOV\n"
     ]
    },
    {
     "name": "stderr",
     "output_type": "stream",
     "text": [
      "Processing videos in 54. Good night: 100%|██████████| 21/21 [02:53<00:00,  8.26s/it]\n",
      "Processing videos in 56. Pleased:   0%|          | 0/21 [00:00<?, ?it/s]"
     ]
    },
    {
     "name": "stdout",
     "output_type": "stream",
     "text": [
      "Warning: Unexpected landmarks shape (132, 3) for video MVI_9954.MOV\n"
     ]
    },
    {
     "name": "stderr",
     "output_type": "stream",
     "text": [
      "Processing videos in 56. Pleased: 100%|██████████| 21/21 [02:30<00:00,  7.16s/it]\n",
      "Processing videos in 53. Good evening:  33%|███▎      | 7/21 [00:56<01:51,  7.93s/it]"
     ]
    },
    {
     "name": "stdout",
     "output_type": "stream",
     "text": [
      "Warning: Unexpected landmarks shape (132, 3) for video MVI_9999.MOV\n"
     ]
    },
    {
     "name": "stderr",
     "output_type": "stream",
     "text": [
      "Processing videos in 53. Good evening:  43%|████▎     | 9/21 [01:11<01:33,  7.81s/it]"
     ]
    },
    {
     "name": "stdout",
     "output_type": "stream",
     "text": [
      "Warning: Unexpected landmarks shape (132, 3) for video MVI_0001.MOV\n"
     ]
    },
    {
     "name": "stderr",
     "output_type": "stream",
     "text": [
      "Processing videos in 53. Good evening: 100%|██████████| 21/21 [02:47<00:00,  7.99s/it]\n",
      "Processing videos in 55. Thank you:  24%|██▍       | 5/21 [00:33<01:50,  6.92s/it]"
     ]
    },
    {
     "name": "stdout",
     "output_type": "stream",
     "text": [
      "Warning: Unexpected landmarks shape (132, 3) for video MVI_0007.MOV\n"
     ]
    },
    {
     "name": "stderr",
     "output_type": "stream",
     "text": [
      "Processing videos in 55. Thank you:  33%|███▎      | 7/21 [00:46<01:31,  6.53s/it]"
     ]
    },
    {
     "name": "stdout",
     "output_type": "stream",
     "text": [
      "Warning: Unexpected landmarks shape (132, 3) for video MVI_9985.MOV\n"
     ]
    },
    {
     "name": "stderr",
     "output_type": "stream",
     "text": [
      "Processing videos in 55. Thank you:  43%|████▎     | 9/21 [00:59<01:18,  6.57s/it]"
     ]
    },
    {
     "name": "stdout",
     "output_type": "stream",
     "text": [
      "Warning: Unexpected landmarks shape (132, 3) for video MVI_0113.MOV\n"
     ]
    },
    {
     "name": "stderr",
     "output_type": "stream",
     "text": [
      "Processing videos in 55. Thank you:  48%|████▊     | 10/21 [01:08<01:20,  7.34s/it]"
     ]
    },
    {
     "name": "stdout",
     "output_type": "stream",
     "text": [
      "Warning: Unexpected landmarks shape (132, 3) for video MVI_0113.MOV\n",
      "Warning: Unexpected landmarks shape (132, 3) for video MVI_0060_.MOV\n"
     ]
    },
    {
     "name": "stderr",
     "output_type": "stream",
     "text": [
      "Processing videos in 55. Thank you:  57%|█████▋    | 12/21 [01:24<01:07,  7.48s/it]"
     ]
    },
    {
     "name": "stdout",
     "output_type": "stream",
     "text": [
      "Warning: Unexpected landmarks shape (132, 3) for video MVI_9987.MOV\n"
     ]
    },
    {
     "name": "stderr",
     "output_type": "stream",
     "text": [
      "Processing videos in 55. Thank you:  71%|███████▏  | 15/21 [01:43<00:40,  6.68s/it]"
     ]
    },
    {
     "name": "stdout",
     "output_type": "stream",
     "text": [
      "Warning: Unexpected landmarks shape (132, 3) for video MVI_0062.MOV\n"
     ]
    },
    {
     "name": "stderr",
     "output_type": "stream",
     "text": [
      "Processing videos in 55. Thank you:  76%|███████▌  | 16/21 [01:52<00:36,  7.36s/it]"
     ]
    },
    {
     "name": "stdout",
     "output_type": "stream",
     "text": [
      "Warning: Unexpected landmarks shape (132, 3) for video MVI_0061.MOV\n"
     ]
    },
    {
     "name": "stderr",
     "output_type": "stream",
     "text": [
      "Processing videos in 55. Thank you: 100%|██████████| 21/21 [02:31<00:00,  7.21s/it]\n",
      "Processing videos in 50. Yellow: 100%|██████████| 19/19 [02:06<00:00,  6.65s/it]\n",
      "Processing videos in 51. Brown:  10%|█         | 2/20 [00:14<02:13,  7.40s/it]"
     ]
    },
    {
     "name": "stdout",
     "output_type": "stream",
     "text": [
      "Warning: Unexpected landmarks shape (132, 3) for video MVI_4910.MOV\n",
      "Warning: Unexpected landmarks shape (132, 3) for video MVI_4910.MOV\n"
     ]
    },
    {
     "name": "stderr",
     "output_type": "stream",
     "text": [
      "Processing videos in 51. Brown:  55%|█████▌    | 11/20 [01:17<01:03,  7.09s/it]"
     ]
    },
    {
     "name": "stdout",
     "output_type": "stream",
     "text": [
      "Warning: Unexpected landmarks shape (132, 3) for video MVI_4911.MOV\n"
     ]
    },
    {
     "name": "stderr",
     "output_type": "stream",
     "text": [
      "Processing videos in 51. Brown:  60%|██████    | 12/20 [01:24<00:56,  7.05s/it]"
     ]
    },
    {
     "name": "stdout",
     "output_type": "stream",
     "text": [
      "Warning: Unexpected landmarks shape (132, 3) for video MVI_5197.MOV\n"
     ]
    },
    {
     "name": "stderr",
     "output_type": "stream",
     "text": [
      "Processing videos in 51. Brown:  85%|████████▌ | 17/20 [01:55<00:19,  6.34s/it]"
     ]
    },
    {
     "name": "stdout",
     "output_type": "stream",
     "text": [
      "Warning: Unexpected landmarks shape (132, 3) for video MVI_5049.MOV\n"
     ]
    },
    {
     "name": "stderr",
     "output_type": "stream",
     "text": [
      "Processing videos in 51. Brown: 100%|██████████| 20/20 [02:15<00:00,  6.76s/it]\n",
      "Processing videos in 47. Red: 100%|██████████| 19/19 [02:07<00:00,  6.72s/it]\n",
      "Processing videos in 49. Blue: 100%|██████████| 19/19 [02:03<00:00,  6.50s/it]\n",
      "Processing videos in 48. Green: 100%|██████████| 19/19 [02:11<00:00,  6.92s/it]\n"
     ]
    }
   ],
   "source": [
    "process_videos('/kaggle/input/include/')"
   ]
  }
 ],
 "metadata": {
  "kaggle": {
   "accelerator": "none",
   "dataSources": [
    {
     "datasetId": 3852662,
     "sourceId": 6677809,
     "sourceType": "datasetVersion"
    }
   ],
   "dockerImageVersionId": 30786,
   "isGpuEnabled": false,
   "isInternetEnabled": true,
   "language": "python",
   "sourceType": "notebook"
  },
  "kernelspec": {
   "display_name": "Python 3",
   "language": "python",
   "name": "python3"
  },
  "language_info": {
   "codemirror_mode": {
    "name": "ipython",
    "version": 3
   },
   "file_extension": ".py",
   "mimetype": "text/x-python",
   "name": "python",
   "nbconvert_exporter": "python",
   "pygments_lexer": "ipython3",
   "version": "3.10.14"
  },
  "papermill": {
   "default_parameters": {},
   "duration": 26387.914802,
   "end_time": "2024-11-02T15:46:06.213357",
   "environment_variables": {},
   "exception": null,
   "input_path": "__notebook__.ipynb",
   "output_path": "__notebook__.ipynb",
   "parameters": {},
   "start_time": "2024-11-02T08:26:18.298555",
   "version": "2.6.0"
  }
 },
 "nbformat": 4,
 "nbformat_minor": 5
}
